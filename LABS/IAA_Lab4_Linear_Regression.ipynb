{
 "cells": [
  {
   "cell_type": "markdown",
   "metadata": {},
   "source": [
    "## IAA Laboratori 4 - Linear Regression\n"
   ]
  },
  {
   "cell_type": "code",
   "execution_count": 42,
   "metadata": {},
   "outputs": [
    {
     "name": "stdout",
     "output_type": "stream",
     "text": [
      "Requirement already satisfied: mlxtend in /Users/jordi/.pyenv/versions/3.11.4/envs/IAA/lib/python3.11/site-packages (0.23.0)\n",
      "Requirement already satisfied: scipy>=1.2.1 in /Users/jordi/.pyenv/versions/3.11.4/envs/IAA/lib/python3.11/site-packages (from mlxtend) (1.11.3)\n",
      "Requirement already satisfied: numpy>=1.16.2 in /Users/jordi/.pyenv/versions/3.11.4/envs/IAA/lib/python3.11/site-packages (from mlxtend) (1.25.0)\n",
      "Requirement already satisfied: pandas>=0.24.2 in /Users/jordi/.pyenv/versions/3.11.4/envs/IAA/lib/python3.11/site-packages (from mlxtend) (2.1.1)\n",
      "Requirement already satisfied: scikit-learn>=1.0.2 in /Users/jordi/.pyenv/versions/3.11.4/envs/IAA/lib/python3.11/site-packages (from mlxtend) (1.3.1)\n",
      "Requirement already satisfied: matplotlib>=3.0.0 in /Users/jordi/.pyenv/versions/3.11.4/envs/IAA/lib/python3.11/site-packages (from mlxtend) (3.8.0)\n",
      "Requirement already satisfied: joblib>=0.13.2 in /Users/jordi/.pyenv/versions/3.11.4/envs/IAA/lib/python3.11/site-packages (from mlxtend) (1.3.2)\n",
      "Requirement already satisfied: contourpy>=1.0.1 in /Users/jordi/.pyenv/versions/3.11.4/envs/IAA/lib/python3.11/site-packages (from matplotlib>=3.0.0->mlxtend) (1.1.0)\n",
      "Requirement already satisfied: cycler>=0.10 in /Users/jordi/.pyenv/versions/3.11.4/envs/IAA/lib/python3.11/site-packages (from matplotlib>=3.0.0->mlxtend) (0.11.0)\n",
      "Requirement already satisfied: fonttools>=4.22.0 in /Users/jordi/.pyenv/versions/3.11.4/envs/IAA/lib/python3.11/site-packages (from matplotlib>=3.0.0->mlxtend) (4.42.1)\n",
      "Requirement already satisfied: kiwisolver>=1.0.1 in /Users/jordi/.pyenv/versions/3.11.4/envs/IAA/lib/python3.11/site-packages (from matplotlib>=3.0.0->mlxtend) (1.4.5)\n",
      "Requirement already satisfied: packaging>=20.0 in /Users/jordi/.pyenv/versions/3.11.4/envs/IAA/lib/python3.11/site-packages (from matplotlib>=3.0.0->mlxtend) (23.1)\n",
      "Requirement already satisfied: pillow>=6.2.0 in /Users/jordi/.pyenv/versions/3.11.4/envs/IAA/lib/python3.11/site-packages (from matplotlib>=3.0.0->mlxtend) (10.0.0)\n",
      "Requirement already satisfied: pyparsing>=2.3.1 in /Users/jordi/.pyenv/versions/3.11.4/envs/IAA/lib/python3.11/site-packages (from matplotlib>=3.0.0->mlxtend) (3.0.9)\n",
      "Requirement already satisfied: python-dateutil>=2.7 in /Users/jordi/.pyenv/versions/3.11.4/envs/IAA/lib/python3.11/site-packages (from matplotlib>=3.0.0->mlxtend) (2.8.2)\n",
      "Requirement already satisfied: pytz>=2020.1 in /Users/jordi/.pyenv/versions/3.11.4/envs/IAA/lib/python3.11/site-packages (from pandas>=0.24.2->mlxtend) (2023.3)\n",
      "Requirement already satisfied: tzdata>=2022.1 in /Users/jordi/.pyenv/versions/3.11.4/envs/IAA/lib/python3.11/site-packages (from pandas>=0.24.2->mlxtend) (2023.3)\n",
      "Requirement already satisfied: threadpoolctl>=2.0.0 in /Users/jordi/.pyenv/versions/3.11.4/envs/IAA/lib/python3.11/site-packages (from scikit-learn>=1.0.2->mlxtend) (3.2.0)\n",
      "Requirement already satisfied: six>=1.5 in /Users/jordi/.pyenv/versions/3.11.4/envs/IAA/lib/python3.11/site-packages (from python-dateutil>=2.7->matplotlib>=3.0.0->mlxtend) (1.16.0)\n",
      "Note: you may need to restart the kernel to use updated packages.\n"
     ]
    }
   ],
   "source": [
    "%pip install mlxtend"
   ]
  },
  {
   "cell_type": "code",
   "execution_count": 2,
   "metadata": {},
   "outputs": [
    {
     "data": {
      "text/html": [
       "        <script type=\"text/javascript\">\n",
       "        window.PlotlyConfig = {MathJaxConfig: 'local'};\n",
       "        if (window.MathJax && window.MathJax.Hub && window.MathJax.Hub.Config) {window.MathJax.Hub.Config({SVG: {font: \"STIX-Web\"}});}\n",
       "        if (typeof require !== 'undefined') {\n",
       "        require.undef(\"plotly\");\n",
       "        requirejs.config({\n",
       "            paths: {\n",
       "                'plotly': ['https://cdn.plot.ly/plotly-2.26.0.min']\n",
       "            }\n",
       "        });\n",
       "        require(['plotly'], function(Plotly) {\n",
       "            window._Plotly = Plotly;\n",
       "        });\n",
       "        }\n",
       "        </script>\n",
       "        "
      ]
     },
     "metadata": {},
     "output_type": "display_data"
    }
   ],
   "source": [
    "# Loading libraries\n",
    "\n",
    "# Basic libraries \n",
    "import pandas as pd\n",
    "import numpy as np\n",
    "from numpy.linalg import inv\n",
    "from scipy import stats\n",
    "\n",
    "# Data Visualization\n",
    "import plotly.express as px\n",
    "import plotly.graph_objs as go\n",
    "import plotly.subplots as sp\n",
    "from plotly.subplots import make_subplots\n",
    "import plotly.figure_factory as ff\n",
    "import plotly.io as pio\n",
    "from IPython.display import display\n",
    "from plotly.offline import init_notebook_mode\n",
    "init_notebook_mode(connected=True)\n",
    "import matplotlib.pyplot as plt\n",
    "from mlxtend.plotting import scatterplotmatrix\n",
    "import seaborn as sns\n",
    "%matplotlib inline\n",
    "\n",
    "# Diabetes dataset\n",
    "from sklearn.datasets import load_diabetes\n",
    "\n",
    "# For splitting the dataset into training and testing sets\n",
    "from sklearn.model_selection import train_test_split\n",
    "\n",
    "# Metric for evaluation\n",
    "from sklearn.metrics import mean_squared_error\n",
    "\n",
    "# Statsmodels for Linear Regression\n",
    "import statsmodels.api as sm\n",
    "import statsmodels.formula.api as smf\n",
    "\n",
    "# Display images \n",
    "from IPython.display import Image\n",
    "\n",
    "# Hiding warnings \n",
    "import warnings\n",
    "warnings.filterwarnings(\"ignore\")"
   ]
  },
  {
   "cell_type": "markdown",
   "metadata": {},
   "source": [
    "# Introducing linear regression"
   ]
  },
  {
   "cell_type": "markdown",
   "metadata": {},
   "source": [
    "Linear Regression is a statistical method widely used in various fields, including economics, biology, engineering, and many more for <mark><b>predictive modeling</b></mark> and <mark><b>hypothesis testing</b></mark>.</p>\n",
    "\n",
    "It is based on modeling the <mark><b>relationship</b></mark> between and dependent variable and one or more independent variable by fitting a linear equation to the observed data. The primary objective of a linear regression is finding the <mark><b>best-fitting line</b></mark> that can accurately predict the output of the dependent variable given the values of the independent variable(s).</p>\n",
    "The line is given by the following equation:\n",
    "\n",
    "\n",
    "\\begin{equation}\n",
    "Y = \\beta_0 + \\beta_1X_1 + \\beta_2X_2 + \\beta_3X_3 + \\ldots + \\epsilon\n",
    "\\end{equation}\n",
    "\n",
    "\n",
    "\n",
    "Where:\n",
    "$Y$ is the dependent variable.\n",
    "$\\beta_0$ is the intercept.\n",
    "\n",
    "$\\beta_1$, $\\beta_2$, $\\beta_3$, $\\ldots$ are the coefficients for each independent variable.\n",
    "\n",
    "$X_1$, $X_2$, $X_3$, $\\ldots$ represent each one independent variable.\n",
    "$\\epsilon$ is the error term, which captures the <mark><b>random noise</b></mark> in the dependent variable. It is the <mark><b>stochastic</b></mark> component.\n",
    "In this equation, each component serves a specific purpose. The $Intercept(\\beta_0)$, for instance, is the <mark><b>constant term</b></mark> that represents the value of $Y$ (the dependent variable) when all the independent variables $X_1$, $X_2$, $\\ldots$  are equal to <mark><b>zero</b></mark>. It locates the line up or down the y-axis on the <b>Cartesian coordinate system</b>, as you can see in the image below. When\n",
    "\\begin{equation}\n",
    "X = 0, Y = \\beta_0\n",
    "\\end{equation}\n",
    "<center>\n",
    "    <img src = \"https://www.mathplanet.com/Oldsite/media/27468/coordinateplane06.png\">\n",
    "</center>\n",
    "\n",
    "In the case of <mark><b>one single</b></mark> independent variable, the intercept is calculated as the following:\n",
    "\n",
    "\\begin{equation}\n",
    "\\beta_0 = \\bar{Y} - \\beta \\bar{X}\n",
    "\\end{equation}\n",
    "\n",
    "Where:\n",
    "$\\bar{Y}$ is the <mark><b>mean</b></mark> value of the dependent variable $Y$.\n",
    "$\\bar{X}$ is the <mark><b>mean</b></mark> value of the independent variable $X$.\n",
    "\n",
    "The $Coefficients(\\beta_1, \\beta_2, \\beta_3, \\ldots)$ are the values that measure the <mark><b>magnitude of impact</b></mark> of each independent variable on the dependent variable. A one-unit change in $X_1$, for instance, will result in a $\\beta_1$ change in $Y$ if all the other $X_s$ are <mark><b>constant</b></mark>.\n",
    "\n",
    "The equation for finding the value of $\\beta_1$ in a simple linear regression model with only <mark><b>one single</b></mark> independent variable is given by the following:\n",
    "\n",
    "\\begin{equation}\n",
    "\\beta_1 = \\frac{\\sum_{i=1}^{n} (X_i - \\bar{X})(Y_i - \\bar{Y})}{\\sum_{i=1}^{n} (X_i - \\bar{X})^2}\n",
    "\\end{equation}\n",
    "\n",
    "Where:\n",
    "$X_i$ and $Y_i$ represent the $i^{th}$ sample of both $X$ and $Y$.\n",
    ">$\\bar{X}$ and $\\bar{Y}$ represent the mean values for both $X$ and $Y$.\n",
    "$\\sum_{i=1}^{n}$ represent the sum starting from the first element of the series up until the $n^{th}$ element of the series.\n",
    "In this equation, the coefficient $\\beta_1$ is the result of the ratio of the <mark><b>covariance</b></mark> between $X$ and $Y$, represented by the product of the deviations between each $X$ and $Y$ from their respective means, and the variance of $X$, given by the sum of the squares of the deviations of each $X$ from its mean. The effect of the independent variable on the dependent variable can be summed up as the following:\n",
    "• $\\beta_1$ $>$ 0:</b> $Y$ <mark>increases</mark> as $X$ <mark>increases</mark>.\n",
    "• $\\beta_1$ $<$ 0:</b> $Y$ <mark>decreases</mark> as $X$ <mark>increases</mark>.\n",
    "• $\\beta_1$ = 0:</b> $X$ has <mark>no effect</mark> on $Y$.\n",
    "In the case of a linear regression with <mark><b>multiple</b></mark> independent variables, the coefficients and the intercept are obtained through <mark><b>matrix algebra</b></mark>:\n",
    "\n",
    "\n",
    "\\begin{equation}\n",
    "\\beta = (X^TX)^{-1}X^TY\n",
    "\\end{equation}\n",
    "Where:\n",
    "$\\beta$ is a <mark><b>vector</b></mark> containing the intercept and coefficients.\n",
    "$X$ is a <mark><b>matrix</b></mark> where the first column is all $1_s$ and the other columns each represent a different independent variable.\n",
    "$X^T$ is the <mark><b>transpose</b></mark> of the $X$ matrix.\n",
    "$(X^TX)^{-1}$ is the <mark><b>inverse</b></mark> of the product of the $X$ matrix and its transpose.\n",
    "$Y$ is a <mark><b>vector</b></mark> of values of the dependent variable.\n",
    "The goal of this operation is to obtain estimates of the parameters in the $\\beta$ vector, which are the coefficients and the intercept.</p>\n",
    "The linear regression with multiple independent variables can be then given by the following equation:\n",
    "\n",
    "\\begin{equation}\n",
    "Y = X\\beta + \\epsilon\n",
    "\\end{equation}\n",
    "\n",
    "The image below can correctly display the matrix form of the equation above.\n",
    "<center>\n",
    "    <img src = \"https://miro.medium.com/v2/resize:fit:640/format:webp/1*S-ElAv4JjLSOqM2jDtUtlQ.png\">\n",
    "</center>\n",
    "\n",
    "The first column of the $X$ matrix is populated by $1_s$ for the intercept, which is represented by the $\\beta_1$ in the $\\beta$ vector."
   ]
  },
  {
   "cell_type": "markdown",
   "metadata": {},
   "source": [
    "## Loading the Housing dataset into a data frame\n",
    "\n",
    "As I understand, there are 2 problems in the data:\n",
    "\n",
    "    Racism: There is a great article, which was also cited in the Scikit-Learn documentation by M. Carlisle. It focuses on the main issues of the Boston Housing dataset, which he found that house prices effected by neighbourhood race.\n",
    "    No suitable goal: \"the goal of the research that led to the creation of this dataset was to study the impact of air quality but it did not give adequate demonstration of the validity of this assumption.\""
   ]
  },
  {
   "cell_type": "markdown",
   "metadata": {},
   "source": [
    "### Some ethic comments"
   ]
  },
  {
   "cell_type": "markdown",
   "metadata": {},
   "source": [
    "`load_boston` has been removed from scikit-learn since version 1.2.\n",
    "\n",
    "The Boston housing prices dataset has an ethical problem: as\n",
    "investigated in [1], the authors of this dataset engineered a\n",
    "non-invertible variable \"B\" assuming that racial self-segregation had a\n",
    "positive impact on house prices [2]. Furthermore the goal of the\n",
    "research that led to the creation of this dataset was to study the\n",
    "impact of air quality but it did not give adequate demonstration of the\n",
    "validity of this assumption.\n",
    "\n",
    "The scikit-learn maintainers therefore strongly discourage the use of\n",
    "this dataset unless the purpose of the code is to study and educate\n",
    "about ethical issues in data science and machine learning.\n",
    "\n",
    "In this special case, you can fetch the dataset from the original\n",
    "source::\n",
    "\n",
    "    import pandas as pd\n",
    "    import numpy as np\n",
    "\n",
    "    data_url = \"http://lib.stat.cmu.edu/datasets/boston\"\n",
    "    raw_df = pd.read_csv(data_url, sep=\"\\s+\", skiprows=22, header=None)\n",
    "    data = np.hstack([raw_df.values[::2, :], raw_df.values[1::2, :2]])\n",
    "    target = raw_df.values[1::2, 2]\n",
    "\n",
    "Alternative datasets include the California housing dataset and the\n",
    "Ames housing dataset. You can load the datasets as follows::\n",
    "\n",
    "    from sklearn.datasets import fetch_california_housing\n",
    "    housing = fetch_california_housing()\n",
    "\n",
    "for the California housing dataset and::\n",
    "\n",
    "    from sklearn.datasets import fetch_openml\n",
    "    housing = fetch_openml(name=\"house_prices\", as_frame=True)\n",
    "\n",
    "for the Ames housing dataset.\n",
    "\n",
    "[1] M Carlisle.\n",
    "\"Racist data destruction?\"\n",
    "<https://medium.com/@docintangible/racist-data-destruction-113e3eff54a8>\n",
    "\n",
    "[2] Harrison Jr, David, and Daniel L. Rubinfeld.\n",
    "\"Hedonic housing prices and the demand for clean air.\"\n",
    "Journal of environmental economics and management 5.1 (1978): 81-102.\n",
    "<https://www.researchgate.net/publication/4974606_Hedonic_housing_prices_and_the_demand_for_clean_air>"
   ]
  },
  {
   "cell_type": "markdown",
   "metadata": {},
   "source": [
    "Attributes:\n",
    "    \n",
    "<pre>\n",
    "1. CRIM      per capita crime rate by town\n",
    "2. ZN        proportion of residential land zoned for lots over \n",
    "                 25,000 sq.ft.\n",
    "3. INDUS     proportion of non-retail business acres per town\n",
    "4. CHAS      Charles River dummy variable (= 1 if tract bounds \n",
    "                 river; 0 otherwise)\n",
    "5. NOX       nitric oxides concentration (parts per 10 million)\n",
    "6. RM        average number of rooms per dwelling\n",
    "7. AGE       proportion of owner-occupied units built prior to 1940\n",
    "8. DIS       weighted distances to five Boston employment centres\n",
    "9. RAD       index of accessibility to radial highways\n",
    "10. TAX      full-value property-tax rate per $10,000\n",
    "11. PTRATIO  pupil-teacher ratio by town\n",
    "12. B        1000(Bk - 0.63)^2 where Bk is the proportion of blacks \n",
    "                 by town\n",
    "13. LSTAT    % lower status of the population\n",
    "14. MEDV     Median value of owner-occupied homes in $1000s\n",
    "</pre>"
   ]
  },
  {
   "cell_type": "code",
   "execution_count": 3,
   "metadata": {},
   "outputs": [
    {
     "data": {
      "text/html": [
       "<div>\n",
       "<style scoped>\n",
       "    .dataframe tbody tr th:only-of-type {\n",
       "        vertical-align: middle;\n",
       "    }\n",
       "\n",
       "    .dataframe tbody tr th {\n",
       "        vertical-align: top;\n",
       "    }\n",
       "\n",
       "    .dataframe thead th {\n",
       "        text-align: right;\n",
       "    }\n",
       "</style>\n",
       "<table border=\"1\" class=\"dataframe\">\n",
       "  <thead>\n",
       "    <tr style=\"text-align: right;\">\n",
       "      <th></th>\n",
       "      <th>CRIM</th>\n",
       "      <th>ZN</th>\n",
       "      <th>INDUS</th>\n",
       "      <th>CHAS</th>\n",
       "      <th>NOX</th>\n",
       "      <th>RM</th>\n",
       "      <th>AGE</th>\n",
       "      <th>DIS</th>\n",
       "      <th>RAD</th>\n",
       "      <th>TAX</th>\n",
       "      <th>PTRATIO</th>\n",
       "      <th>B</th>\n",
       "      <th>LSTAT</th>\n",
       "      <th>MEDV</th>\n",
       "    </tr>\n",
       "  </thead>\n",
       "  <tbody>\n",
       "    <tr>\n",
       "      <th>0</th>\n",
       "      <td>0.00632</td>\n",
       "      <td>18.0</td>\n",
       "      <td>2.31</td>\n",
       "      <td>0</td>\n",
       "      <td>0.538</td>\n",
       "      <td>6.575</td>\n",
       "      <td>65.2</td>\n",
       "      <td>4.0900</td>\n",
       "      <td>1</td>\n",
       "      <td>296.0</td>\n",
       "      <td>15.3</td>\n",
       "      <td>396.90</td>\n",
       "      <td>4.98</td>\n",
       "      <td>24.0</td>\n",
       "    </tr>\n",
       "    <tr>\n",
       "      <th>1</th>\n",
       "      <td>0.02731</td>\n",
       "      <td>0.0</td>\n",
       "      <td>7.07</td>\n",
       "      <td>0</td>\n",
       "      <td>0.469</td>\n",
       "      <td>6.421</td>\n",
       "      <td>78.9</td>\n",
       "      <td>4.9671</td>\n",
       "      <td>2</td>\n",
       "      <td>242.0</td>\n",
       "      <td>17.8</td>\n",
       "      <td>396.90</td>\n",
       "      <td>9.14</td>\n",
       "      <td>21.6</td>\n",
       "    </tr>\n",
       "    <tr>\n",
       "      <th>2</th>\n",
       "      <td>0.02729</td>\n",
       "      <td>0.0</td>\n",
       "      <td>7.07</td>\n",
       "      <td>0</td>\n",
       "      <td>0.469</td>\n",
       "      <td>7.185</td>\n",
       "      <td>61.1</td>\n",
       "      <td>4.9671</td>\n",
       "      <td>2</td>\n",
       "      <td>242.0</td>\n",
       "      <td>17.8</td>\n",
       "      <td>392.83</td>\n",
       "      <td>4.03</td>\n",
       "      <td>34.7</td>\n",
       "    </tr>\n",
       "    <tr>\n",
       "      <th>3</th>\n",
       "      <td>0.03237</td>\n",
       "      <td>0.0</td>\n",
       "      <td>2.18</td>\n",
       "      <td>0</td>\n",
       "      <td>0.458</td>\n",
       "      <td>6.998</td>\n",
       "      <td>45.8</td>\n",
       "      <td>6.0622</td>\n",
       "      <td>3</td>\n",
       "      <td>222.0</td>\n",
       "      <td>18.7</td>\n",
       "      <td>394.63</td>\n",
       "      <td>2.94</td>\n",
       "      <td>33.4</td>\n",
       "    </tr>\n",
       "    <tr>\n",
       "      <th>4</th>\n",
       "      <td>0.06905</td>\n",
       "      <td>0.0</td>\n",
       "      <td>2.18</td>\n",
       "      <td>0</td>\n",
       "      <td>0.458</td>\n",
       "      <td>7.147</td>\n",
       "      <td>54.2</td>\n",
       "      <td>6.0622</td>\n",
       "      <td>3</td>\n",
       "      <td>222.0</td>\n",
       "      <td>18.7</td>\n",
       "      <td>396.90</td>\n",
       "      <td>5.33</td>\n",
       "      <td>36.2</td>\n",
       "    </tr>\n",
       "  </tbody>\n",
       "</table>\n",
       "</div>"
      ],
      "text/plain": [
       "      CRIM    ZN  INDUS  CHAS    NOX     RM   AGE     DIS  RAD    TAX  \\\n",
       "0  0.00632  18.0   2.31     0  0.538  6.575  65.2  4.0900    1  296.0   \n",
       "1  0.02731   0.0   7.07     0  0.469  6.421  78.9  4.9671    2  242.0   \n",
       "2  0.02729   0.0   7.07     0  0.469  7.185  61.1  4.9671    2  242.0   \n",
       "3  0.03237   0.0   2.18     0  0.458  6.998  45.8  6.0622    3  222.0   \n",
       "4  0.06905   0.0   2.18     0  0.458  7.147  54.2  6.0622    3  222.0   \n",
       "\n",
       "   PTRATIO       B  LSTAT  MEDV  \n",
       "0     15.3  396.90   4.98  24.0  \n",
       "1     17.8  396.90   9.14  21.6  \n",
       "2     17.8  392.83   4.03  34.7  \n",
       "3     18.7  394.63   2.94  33.4  \n",
       "4     18.7  396.90   5.33  36.2  "
      ]
     },
     "execution_count": 3,
     "metadata": {},
     "output_type": "execute_result"
    }
   ],
   "source": [
    "import pandas as pd\n",
    "\n",
    "df = pd.read_csv('../../data/housing.data.txt',\n",
    "                 header=None,\n",
    "                 sep='\\s+')\n",
    "\n",
    "df.columns = ['CRIM', 'ZN', 'INDUS', 'CHAS', \n",
    "              'NOX', 'RM', 'AGE', 'DIS', 'RAD', \n",
    "              'TAX', 'PTRATIO', 'B', 'LSTAT', 'MEDV']\n",
    "df.head()"
   ]
  },
  {
   "cell_type": "markdown",
   "metadata": {},
   "source": [
    "For a linear regression model to be considered significant and efficient, there are some <mark><b>key assumptions</b></mark> that need to be met. These are:</p>\n",
    "$1.$ There must be a <mark>linear relationship</mark> between the independent variable and the dependent variable.</p>\n",
    "$2.$ There should be little to no <mark>multicollinearity</mark> in the data. That is, the independent variables should not be too highly correlated with each other.</p>\n",
    "$3.$ The observations should be <mark>independent</mark> of each other.</p>\n",
    "$4.$ The residuals - errors between the predicted values and the true values - should be <mark>normally distributed</mark>.</p>\n",
    "$5.$ The variance of residuals should be constant across all levels of the dependent variable, this is described as <mark>homoscedasticity</mark>.</p>\n",
    "Failing to meet the assumptions listed above can have many implications, among them is having a model with <mark><b>poor predictive</b></mark> power, unstable coefficient estimates, inaccurate hypothesis tests, and biased errors.</p>"
   ]
  },
  {
   "cell_type": "code",
   "execution_count": 4,
   "metadata": {},
   "outputs": [
    {
     "data": {
      "image/png": "[encoded data removed]",
      "text/plain": [
       "<Figure size 1000x800 with 25 Axes>"
      ]
     },
     "metadata": {},
     "output_type": "display_data"
    }
   ],
   "source": [
    "cols = ['LSTAT', 'INDUS', 'NOX', 'RM', 'MEDV']\n",
    "\n",
    "scatterplotmatrix(df[cols].values, figsize=(10, 8), \n",
    "                  names=cols, alpha=0.5)\n",
    "plt.tight_layout()\n",
    "#plt.savefig('images/10_03.png', dpi=300)\n",
    "plt.show()"
   ]
  },
  {
   "cell_type": "markdown",
   "metadata": {},
   "source": [
    "<div class=\"alert alert-success\">\n",
    "PLAYTIME: Which features seem to have a linear relathionship? \n",
    "</div>\n"
   ]
  },
  {
   "cell_type": "code",
   "execution_count": 5,
   "metadata": {},
   "outputs": [
    {
     "data": {
      "application/vnd.plotly.v1+json": {
       "config": {
        "plotlyServerURL": "https://plot.ly"
       },
       "data": [
        {
         "colorscale": [
          [
           0,
           "rgb(243, 203, 211)"
          ],
          [
           0.16666666666666666,
           "rgb(234, 169, 189)"
          ],
          [
           0.3333333333333333,
           "rgb(221, 136, 172)"
          ],
          [
           0.5,
           "rgb(202, 105, 157)"
          ],
          [
           0.6666666666666666,
           "rgb(177, 77, 142)"
          ],
          [
           0.8333333333333334,
           "rgb(145, 53, 125)"
          ],
          [
           1,
           "rgb(108, 33, 103)"
          ]
         ],
         "reversescale": false,
         "showscale": false,
         "type": "heatmap",
         "x": [
          "CRIM",
          "ZN",
          "INDUS",
          "CHAS",
          "NOX",
          "RM",
          "AGE",
          "DIS",
          "RAD",
          "TAX",
          "PTRATIO",
          "B",
          "LSTAT"
         ],
         "y": [
          "MEDV"
         ],
         "z": [
          [
           -0.39,
           0.36,
           -0.48,
           0.18,
           -0.43,
           0.7,
           -0.38,
           0.25,
           -0.38,
           -0.47,
           -0.51,
           0.33,
           -0.74
          ]
         ]
        }
       ],
       "layout": {
        "annotations": [
         {
          "font": {
           "color": "#000000",
           "size": 14
          },
          "showarrow": false,
          "text": "-0.39",
          "x": "CRIM",
          "xref": "x",
          "y": "MEDV",
          "yref": "y"
         },
         {
          "font": {
           "color": "#FFFFFF",
           "size": 14
          },
          "showarrow": false,
          "text": "0.36",
          "x": "ZN",
          "xref": "x",
          "y": "MEDV",
          "yref": "y"
         },
         {
          "font": {
           "color": "#000000",
           "size": 14
          },
          "showarrow": false,
          "text": "-0.48",
          "x": "INDUS",
          "xref": "x",
          "y": "MEDV",
          "yref": "y"
         },
         {
          "font": {
           "color": "#FFFFFF",
           "size": 14
          },
          "showarrow": false,
          "text": "0.18",
          "x": "CHAS",
          "xref": "x",
          "y": "MEDV",
          "yref": "y"
         },
         {
          "font": {
           "color": "#000000",
           "size": 14
          },
          "showarrow": false,
          "text": "-0.43",
          "x": "NOX",
          "xref": "x",
          "y": "MEDV",
          "yref": "y"
         },
         {
          "font": {
           "color": "#FFFFFF",
           "size": 14
          },
          "showarrow": false,
          "text": "0.7",
          "x": "RM",
          "xref": "x",
          "y": "MEDV",
          "yref": "y"
         },
         {
          "font": {
           "color": "#000000",
           "size": 14
          },
          "showarrow": false,
          "text": "-0.38",
          "x": "AGE",
          "xref": "x",
          "y": "MEDV",
          "yref": "y"
         },
         {
          "font": {
           "color": "#FFFFFF",
           "size": 14
          },
          "showarrow": false,
          "text": "0.25",
          "x": "DIS",
          "xref": "x",
          "y": "MEDV",
          "yref": "y"
         },
         {
          "font": {
           "color": "#000000",
           "size": 14
          },
          "showarrow": false,
          "text": "-0.38",
          "x": "RAD",
          "xref": "x",
          "y": "MEDV",
          "yref": "y"
         },
         {
          "font": {
           "color": "#000000",
           "size": 14
          },
          "showarrow": false,
          "text": "-0.47",
          "x": "TAX",
          "xref": "x",
          "y": "MEDV",
          "yref": "y"
         },
         {
          "font": {
           "color": "#000000",
           "size": 14
          },
          "showarrow": false,
          "text": "-0.51",
          "x": "PTRATIO",
          "xref": "x",
          "y": "MEDV",
          "yref": "y"
         },
         {
          "font": {
           "color": "#FFFFFF",
           "size": 14
          },
          "showarrow": false,
          "text": "0.33",
          "x": "B",
          "xref": "x",
          "y": "MEDV",
          "yref": "y"
         },
         {
          "font": {
           "color": "#000000",
           "size": 14
          },
          "showarrow": false,
          "text": "-0.74",
          "x": "LSTAT",
          "xref": "x",
          "y": "MEDV",
          "yref": "y"
         }
        ],
        "height": 300,
        "margin": {
         "l": 110,
         "t": 210
        },
        "paper_bgcolor": "#F6F5F5",
        "plot_bgcolor": "#F6F5F5",
        "template": {
         "data": {
          "bar": [
           {
            "error_x": {
             "color": "#2a3f5f"
            },
            "error_y": {
             "color": "#2a3f5f"
            },
            "marker": {
             "line": {
              "color": "#E5ECF6",
              "width": 0.5
             },
             "pattern": {
              "fillmode": "overlay",
              "size": 10,
              "solidity": 0.2
             }
            },
            "type": "bar"
           }
          ],
          "barpolar": [
           {
            "marker": {
             "line": {
              "color": "#E5ECF6",
              "width": 0.5
             },
             "pattern": {
              "fillmode": "overlay",
              "size": 10,
              "solidity": 0.2
             }
            },
            "type": "barpolar"
           }
          ],
          "carpet": [
           {
            "aaxis": {
             "endlinecolor": "#2a3f5f",
             "gridcolor": "white",
             "linecolor": "white",
             "minorgridcolor": "white",
             "startlinecolor": "#2a3f5f"
            },
            "baxis": {
             "endlinecolor": "#2a3f5f",
             "gridcolor": "white",
             "linecolor": "white",
             "minorgridcolor": "white",
             "startlinecolor": "#2a3f5f"
            },
            "type": "carpet"
           }
          ],
          "choropleth": [
           {
            "colorbar": {
             "outlinewidth": 0,
             "ticks": ""
            },
            "type": "choropleth"
           }
          ],
          "contour": [
           {
            "colorbar": {
             "outlinewidth": 0,
             "ticks": ""
            },
            "colorscale": [
             [
              0,
              "#0d0887"
             ],
             [
              0.1111111111111111,
              "#46039f"
             ],
             [
              0.2222222222222222,
              "#7201a8"
             ],
             [
              0.3333333333333333,
              "#9c179e"
             ],
             [
              0.4444444444444444,
              "#bd3786"
             ],
             [
              0.5555555555555556,
              "#d8576b"
             ],
             [
              0.6666666666666666,
              "#ed7953"
             ],
             [
              0.7777777777777778,
              "#fb9f3a"
             ],
             [
              0.8888888888888888,
              "#fdca26"
             ],
             [
              1,
              "#f0f921"
             ]
            ],
            "type": "contour"
           }
          ],
          "contourcarpet": [
           {
            "colorbar": {
             "outlinewidth": 0,
             "ticks": ""
            },
            "type": "contourcarpet"
           }
          ],
          "heatmap": [
           {
            "colorbar": {
             "outlinewidth": 0,
             "ticks": ""
            },
            "colorscale": [
             [
              0,
              "#0d0887"
             ],
             [
              0.1111111111111111,
              "#46039f"
             ],
             [
              0.2222222222222222,
              "#7201a8"
             ],
             [
              0.3333333333333333,
              "#9c179e"
             ],
             [
              0.4444444444444444,
              "#bd3786"
             ],
             [
              0.5555555555555556,
              "#d8576b"
             ],
             [
              0.6666666666666666,
              "#ed7953"
             ],
             [
              0.7777777777777778,
              "#fb9f3a"
             ],
             [
              0.8888888888888888,
              "#fdca26"
             ],
             [
              1,
              "#f0f921"
             ]
            ],
            "type": "heatmap"
           }
          ],
          "heatmapgl": [
           {
            "colorbar": {
             "outlinewidth": 0,
             "ticks": ""
            },
            "colorscale": [
             [
              0,
              "#0d0887"
             ],
             [
              0.1111111111111111,
              "#46039f"
             ],
             [
              0.2222222222222222,
              "#7201a8"
             ],
             [
              0.3333333333333333,
              "#9c179e"
             ],
             [
              0.4444444444444444,
              "#bd3786"
             ],
             [
              0.5555555555555556,
              "#d8576b"
             ],
             [
              0.6666666666666666,
              "#ed7953"
             ],
             [
              0.7777777777777778,
              "#fb9f3a"
             ],
             [
              0.8888888888888888,
              "#fdca26"
             ],
             [
              1,
              "#f0f921"
             ]
            ],
            "type": "heatmapgl"
           }
          ],
          "histogram": [
           {
            "marker": {
             "pattern": {
              "fillmode": "overlay",
              "size": 10,
              "solidity": 0.2
             }
            },
            "type": "histogram"
           }
          ],
          "histogram2d": [
           {
            "colorbar": {
             "outlinewidth": 0,
             "ticks": ""
            },
            "colorscale": [
             [
              0,
              "#0d0887"
             ],
             [
              0.1111111111111111,
              "#46039f"
             ],
             [
              0.2222222222222222,
              "#7201a8"
             ],
             [
              0.3333333333333333,
              "#9c179e"
             ],
             [
              0.4444444444444444,
              "#bd3786"
             ],
             [
              0.5555555555555556,
              "#d8576b"
             ],
             [
              0.6666666666666666,
              "#ed7953"
             ],
             [
              0.7777777777777778,
              "#fb9f3a"
             ],
             [
              0.8888888888888888,
              "#fdca26"
             ],
             [
              1,
              "#f0f921"
             ]
            ],
            "type": "histogram2d"
           }
          ],
          "histogram2dcontour": [
           {
            "colorbar": {
             "outlinewidth": 0,
             "ticks": ""
            },
            "colorscale": [
             [
              0,
              "#0d0887"
             ],
             [
              0.1111111111111111,
              "#46039f"
             ],
             [
              0.2222222222222222,
              "#7201a8"
             ],
             [
              0.3333333333333333,
              "#9c179e"
             ],
             [
              0.4444444444444444,
              "#bd3786"
             ],
             [
              0.5555555555555556,
              "#d8576b"
             ],
             [
              0.6666666666666666,
              "#ed7953"
             ],
             [
              0.7777777777777778,
              "#fb9f3a"
             ],
             [
              0.8888888888888888,
              "#fdca26"
             ],
             [
              1,
              "#f0f921"
             ]
            ],
            "type": "histogram2dcontour"
           }
          ],
          "mesh3d": [
           {
            "colorbar": {
             "outlinewidth": 0,
             "ticks": ""
            },
            "type": "mesh3d"
           }
          ],
          "parcoords": [
           {
            "line": {
             "colorbar": {
              "outlinewidth": 0,
              "ticks": ""
             }
            },
            "type": "parcoords"
           }
          ],
          "pie": [
           {
            "automargin": true,
            "type": "pie"
           }
          ],
          "scatter": [
           {
            "fillpattern": {
             "fillmode": "overlay",
             "size": 10,
             "solidity": 0.2
            },
            "type": "scatter"
           }
          ],
          "scatter3d": [
           {
            "line": {
             "colorbar": {
              "outlinewidth": 0,
              "ticks": ""
             }
            },
            "marker": {
             "colorbar": {
              "outlinewidth": 0,
              "ticks": ""
             }
            },
            "type": "scatter3d"
           }
          ],
          "scattercarpet": [
           {
            "marker": {
             "colorbar": {
              "outlinewidth": 0,
              "ticks": ""
             }
            },
            "type": "scattercarpet"
           }
          ],
          "scattergeo": [
           {
            "marker": {
             "colorbar": {
              "outlinewidth": 0,
              "ticks": ""
             }
            },
            "type": "scattergeo"
           }
          ],
          "scattergl": [
           {
            "marker": {
             "colorbar": {
              "outlinewidth": 0,
              "ticks": ""
             }
            },
            "type": "scattergl"
           }
          ],
          "scattermapbox": [
           {
            "marker": {
             "colorbar": {
              "outlinewidth": 0,
              "ticks": ""
             }
            },
            "type": "scattermapbox"
           }
          ],
          "scatterpolar": [
           {
            "marker": {
             "colorbar": {
              "outlinewidth": 0,
              "ticks": ""
             }
            },
            "type": "scatterpolar"
           }
          ],
          "scatterpolargl": [
           {
            "marker": {
             "colorbar": {
              "outlinewidth": 0,
              "ticks": ""
             }
            },
            "type": "scatterpolargl"
           }
          ],
          "scatterternary": [
           {
            "marker": {
             "colorbar": {
              "outlinewidth": 0,
              "ticks": ""
             }
            },
            "type": "scatterternary"
           }
          ],
          "surface": [
           {
            "colorbar": {
             "outlinewidth": 0,
             "ticks": ""
            },
            "colorscale": [
             [
              0,
              "#0d0887"
             ],
             [
              0.1111111111111111,
              "#46039f"
             ],
             [
              0.2222222222222222,
              "#7201a8"
             ],
             [
              0.3333333333333333,
              "#9c179e"
             ],
             [
              0.4444444444444444,
              "#bd3786"
             ],
             [
              0.5555555555555556,
              "#d8576b"
             ],
             [
              0.6666666666666666,
              "#ed7953"
             ],
             [
              0.7777777777777778,
              "#fb9f3a"
             ],
             [
              0.8888888888888888,
              "#fdca26"
             ],
             [
              1,
              "#f0f921"
             ]
            ],
            "type": "surface"
           }
          ],
          "table": [
           {
            "cells": {
             "fill": {
              "color": "#EBF0F8"
             },
             "line": {
              "color": "white"
             }
            },
            "header": {
             "fill": {
              "color": "#C8D4E3"
             },
             "line": {
              "color": "white"
             }
            },
            "type": "table"
           }
          ]
         },
         "layout": {
          "annotationdefaults": {
           "arrowcolor": "#2a3f5f",
           "arrowhead": 0,
           "arrowwidth": 1
          },
          "autotypenumbers": "strict",
          "coloraxis": {
           "colorbar": {
            "outlinewidth": 0,
            "ticks": ""
           }
          },
          "colorscale": {
           "diverging": [
            [
             0,
             "#8e0152"
            ],
            [
             0.1,
             "#c51b7d"
            ],
            [
             0.2,
             "#de77ae"
            ],
            [
             0.3,
             "#f1b6da"
            ],
            [
             0.4,
             "#fde0ef"
            ],
            [
             0.5,
             "#f7f7f7"
            ],
            [
             0.6,
             "#e6f5d0"
            ],
            [
             0.7,
             "#b8e186"
            ],
            [
             0.8,
             "#7fbc41"
            ],
            [
             0.9,
             "#4d9221"
            ],
            [
             1,
             "#276419"
            ]
           ],
           "sequential": [
            [
             0,
             "#0d0887"
            ],
            [
             0.1111111111111111,
             "#46039f"
            ],
            [
             0.2222222222222222,
             "#7201a8"
            ],
            [
             0.3333333333333333,
             "#9c179e"
            ],
            [
             0.4444444444444444,
             "#bd3786"
            ],
            [
             0.5555555555555556,
             "#d8576b"
            ],
            [
             0.6666666666666666,
             "#ed7953"
            ],
            [
             0.7777777777777778,
             "#fb9f3a"
            ],
            [
             0.8888888888888888,
             "#fdca26"
            ],
            [
             1,
             "#f0f921"
            ]
           ],
           "sequentialminus": [
            [
             0,
             "#0d0887"
            ],
            [
             0.1111111111111111,
             "#46039f"
            ],
            [
             0.2222222222222222,
             "#7201a8"
            ],
            [
             0.3333333333333333,
             "#9c179e"
            ],
            [
             0.4444444444444444,
             "#bd3786"
            ],
            [
             0.5555555555555556,
             "#d8576b"
            ],
            [
             0.6666666666666666,
             "#ed7953"
            ],
            [
             0.7777777777777778,
             "#fb9f3a"
            ],
            [
             0.8888888888888888,
             "#fdca26"
            ],
            [
             1,
             "#f0f921"
            ]
           ]
          },
          "colorway": [
           "#636efa",
           "#EF553B",
           "#00cc96",
           "#ab63fa",
           "#FFA15A",
           "#19d3f3",
           "#FF6692",
           "#B6E880",
           "#FF97FF",
           "#FECB52"
          ],
          "font": {
           "color": "#2a3f5f"
          },
          "geo": {
           "bgcolor": "white",
           "lakecolor": "white",
           "landcolor": "#E5ECF6",
           "showlakes": true,
           "showland": true,
           "subunitcolor": "white"
          },
          "hoverlabel": {
           "align": "left"
          },
          "hovermode": "closest",
          "mapbox": {
           "style": "light"
          },
          "paper_bgcolor": "white",
          "plot_bgcolor": "#E5ECF6",
          "polar": {
           "angularaxis": {
            "gridcolor": "white",
            "linecolor": "white",
            "ticks": ""
           },
           "bgcolor": "#E5ECF6",
           "radialaxis": {
            "gridcolor": "white",
            "linecolor": "white",
            "ticks": ""
           }
          },
          "scene": {
           "xaxis": {
            "backgroundcolor": "#E5ECF6",
            "gridcolor": "white",
            "gridwidth": 2,
            "linecolor": "white",
            "showbackground": true,
            "ticks": "",
            "zerolinecolor": "white"
           },
           "yaxis": {
            "backgroundcolor": "#E5ECF6",
            "gridcolor": "white",
            "gridwidth": 2,
            "linecolor": "white",
            "showbackground": true,
            "ticks": "",
            "zerolinecolor": "white"
           },
           "zaxis": {
            "backgroundcolor": "#E5ECF6",
            "gridcolor": "white",
            "gridwidth": 2,
            "linecolor": "white",
            "showbackground": true,
            "ticks": "",
            "zerolinecolor": "white"
           }
          },
          "shapedefaults": {
           "line": {
            "color": "#2a3f5f"
           }
          },
          "ternary": {
           "aaxis": {
            "gridcolor": "white",
            "linecolor": "white",
            "ticks": ""
           },
           "baxis": {
            "gridcolor": "white",
            "linecolor": "white",
            "ticks": ""
           },
           "bgcolor": "#E5ECF6",
           "caxis": {
            "gridcolor": "white",
            "linecolor": "white",
            "ticks": ""
           }
          },
          "title": {
           "x": 0.05
          },
          "xaxis": {
           "automargin": true,
           "gridcolor": "white",
           "linecolor": "white",
           "ticks": "",
           "title": {
            "standoff": 15
           },
           "zerolinecolor": "white",
           "zerolinewidth": 2
          },
          "yaxis": {
           "automargin": true,
           "gridcolor": "white",
           "linecolor": "white",
           "ticks": "",
           "title": {
            "standoff": 15
           },
           "zerolinecolor": "white",
           "zerolinewidth": 2
          }
         }
        },
        "title": {
         "text": "<b>Correlation Between MEDV (Target) and Independent Variables</b>",
         "x": 0.05,
         "xanchor": "left"
        },
        "width": 950,
        "xaxis": {
         "dtick": 1,
         "gridcolor": "rgb(0, 0, 0)",
         "showgrid": false,
         "side": "top",
         "ticks": ""
        },
        "yaxis": {
         "dtick": 1,
         "showgrid": false,
         "ticks": "",
         "ticksuffix": "  "
        }
       }
      },
      "text/html": [
       "<div>                            <div id=\"60d8cc52-0847-4bf5-9914-eed345c13af5\" class=\"plotly-graph-div\" style=\"height:300px; width:950px;\"></div>            <script type=\"text/javascript\">                require([\"plotly\"], function(Plotly) {                    window.PLOTLYENV=window.PLOTLYENV || {};                                    if (document.getElementById(\"60d8cc52-0847-4bf5-9914-eed345c13af5\")) {                    Plotly.newPlot(                        \"60d8cc52-0847-4bf5-9914-eed345c13af5\",                        [{\"colorscale\":[[0.0,\"rgb(243, 203, 211)\"],[0.16666666666666666,\"rgb(234, 169, 189)\"],[0.3333333333333333,\"rgb(221, 136, 172)\"],[0.5,\"rgb(202, 105, 157)\"],[0.6666666666666666,\"rgb(177, 77, 142)\"],[0.8333333333333334,\"rgb(145, 53, 125)\"],[1.0,\"rgb(108, 33, 103)\"]],\"reversescale\":false,\"showscale\":false,\"x\":[\"CRIM\",\"ZN\",\"INDUS\",\"CHAS\",\"NOX\",\"RM\",\"AGE\",\"DIS\",\"RAD\",\"TAX\",\"PTRATIO\",\"B\",\"LSTAT\"],\"y\":[\"MEDV\"],\"z\":[[-0.39,0.36,-0.48,0.18,-0.43,0.7,-0.38,0.25,-0.38,-0.47,-0.51,0.33,-0.74]],\"type\":\"heatmap\"}],                        {\"annotations\":[{\"font\":{\"color\":\"#000000\",\"size\":14},\"showarrow\":false,\"text\":\"-0.39\",\"x\":\"CRIM\",\"xref\":\"x\",\"y\":\"MEDV\",\"yref\":\"y\"},{\"font\":{\"color\":\"#FFFFFF\",\"size\":14},\"showarrow\":false,\"text\":\"0.36\",\"x\":\"ZN\",\"xref\":\"x\",\"y\":\"MEDV\",\"yref\":\"y\"},{\"font\":{\"color\":\"#000000\",\"size\":14},\"showarrow\":false,\"text\":\"-0.48\",\"x\":\"INDUS\",\"xref\":\"x\",\"y\":\"MEDV\",\"yref\":\"y\"},{\"font\":{\"color\":\"#FFFFFF\",\"size\":14},\"showarrow\":false,\"text\":\"0.18\",\"x\":\"CHAS\",\"xref\":\"x\",\"y\":\"MEDV\",\"yref\":\"y\"},{\"font\":{\"color\":\"#000000\",\"size\":14},\"showarrow\":false,\"text\":\"-0.43\",\"x\":\"NOX\",\"xref\":\"x\",\"y\":\"MEDV\",\"yref\":\"y\"},{\"font\":{\"color\":\"#FFFFFF\",\"size\":14},\"showarrow\":false,\"text\":\"0.7\",\"x\":\"RM\",\"xref\":\"x\",\"y\":\"MEDV\",\"yref\":\"y\"},{\"font\":{\"color\":\"#000000\",\"size\":14},\"showarrow\":false,\"text\":\"-0.38\",\"x\":\"AGE\",\"xref\":\"x\",\"y\":\"MEDV\",\"yref\":\"y\"},{\"font\":{\"color\":\"#FFFFFF\",\"size\":14},\"showarrow\":false,\"text\":\"0.25\",\"x\":\"DIS\",\"xref\":\"x\",\"y\":\"MEDV\",\"yref\":\"y\"},{\"font\":{\"color\":\"#000000\",\"size\":14},\"showarrow\":false,\"text\":\"-0.38\",\"x\":\"RAD\",\"xref\":\"x\",\"y\":\"MEDV\",\"yref\":\"y\"},{\"font\":{\"color\":\"#000000\",\"size\":14},\"showarrow\":false,\"text\":\"-0.47\",\"x\":\"TAX\",\"xref\":\"x\",\"y\":\"MEDV\",\"yref\":\"y\"},{\"font\":{\"color\":\"#000000\",\"size\":14},\"showarrow\":false,\"text\":\"-0.51\",\"x\":\"PTRATIO\",\"xref\":\"x\",\"y\":\"MEDV\",\"yref\":\"y\"},{\"font\":{\"color\":\"#FFFFFF\",\"size\":14},\"showarrow\":false,\"text\":\"0.33\",\"x\":\"B\",\"xref\":\"x\",\"y\":\"MEDV\",\"yref\":\"y\"},{\"font\":{\"color\":\"#000000\",\"size\":14},\"showarrow\":false,\"text\":\"-0.74\",\"x\":\"LSTAT\",\"xref\":\"x\",\"y\":\"MEDV\",\"yref\":\"y\"}],\"xaxis\":{\"dtick\":1,\"gridcolor\":\"rgb(0, 0, 0)\",\"side\":\"top\",\"ticks\":\"\",\"showgrid\":false},\"yaxis\":{\"dtick\":1,\"ticks\":\"\",\"ticksuffix\":\"  \",\"showgrid\":false},\"template\":{\"data\":{\"histogram2dcontour\":[{\"type\":\"histogram2dcontour\",\"colorbar\":{\"outlinewidth\":0,\"ticks\":\"\"},\"colorscale\":[[0.0,\"#0d0887\"],[0.1111111111111111,\"#46039f\"],[0.2222222222222222,\"#7201a8\"],[0.3333333333333333,\"#9c179e\"],[0.4444444444444444,\"#bd3786\"],[0.5555555555555556,\"#d8576b\"],[0.6666666666666666,\"#ed7953\"],[0.7777777777777778,\"#fb9f3a\"],[0.8888888888888888,\"#fdca26\"],[1.0,\"#f0f921\"]]}],\"choropleth\":[{\"type\":\"choropleth\",\"colorbar\":{\"outlinewidth\":0,\"ticks\":\"\"}}],\"histogram2d\":[{\"type\":\"histogram2d\",\"colorbar\":{\"outlinewidth\":0,\"ticks\":\"\"},\"colorscale\":[[0.0,\"#0d0887\"],[0.1111111111111111,\"#46039f\"],[0.2222222222222222,\"#7201a8\"],[0.3333333333333333,\"#9c179e\"],[0.4444444444444444,\"#bd3786\"],[0.5555555555555556,\"#d8576b\"],[0.6666666666666666,\"#ed7953\"],[0.7777777777777778,\"#fb9f3a\"],[0.8888888888888888,\"#fdca26\"],[1.0,\"#f0f921\"]]}],\"heatmap\":[{\"type\":\"heatmap\",\"colorbar\":{\"outlinewidth\":0,\"ticks\":\"\"},\"colorscale\":[[0.0,\"#0d0887\"],[0.1111111111111111,\"#46039f\"],[0.2222222222222222,\"#7201a8\"],[0.3333333333333333,\"#9c179e\"],[0.4444444444444444,\"#bd3786\"],[0.5555555555555556,\"#d8576b\"],[0.6666666666666666,\"#ed7953\"],[0.7777777777777778,\"#fb9f3a\"],[0.8888888888888888,\"#fdca26\"],[1.0,\"#f0f921\"]]}],\"heatmapgl\":[{\"type\":\"heatmapgl\",\"colorbar\":{\"outlinewidth\":0,\"ticks\":\"\"},\"colorscale\":[[0.0,\"#0d0887\"],[0.1111111111111111,\"#46039f\"],[0.2222222222222222,\"#7201a8\"],[0.3333333333333333,\"#9c179e\"],[0.4444444444444444,\"#bd3786\"],[0.5555555555555556,\"#d8576b\"],[0.6666666666666666,\"#ed7953\"],[0.7777777777777778,\"#fb9f3a\"],[0.8888888888888888,\"#fdca26\"],[1.0,\"#f0f921\"]]}],\"contourcarpet\":[{\"type\":\"contourcarpet\",\"colorbar\":{\"outlinewidth\":0,\"ticks\":\"\"}}],\"contour\":[{\"type\":\"contour\",\"colorbar\":{\"outlinewidth\":0,\"ticks\":\"\"},\"colorscale\":[[0.0,\"#0d0887\"],[0.1111111111111111,\"#46039f\"],[0.2222222222222222,\"#7201a8\"],[0.3333333333333333,\"#9c179e\"],[0.4444444444444444,\"#bd3786\"],[0.5555555555555556,\"#d8576b\"],[0.6666666666666666,\"#ed7953\"],[0.7777777777777778,\"#fb9f3a\"],[0.8888888888888888,\"#fdca26\"],[1.0,\"#f0f921\"]]}],\"surface\":[{\"type\":\"surface\",\"colorbar\":{\"outlinewidth\":0,\"ticks\":\"\"},\"colorscale\":[[0.0,\"#0d0887\"],[0.1111111111111111,\"#46039f\"],[0.2222222222222222,\"#7201a8\"],[0.3333333333333333,\"#9c179e\"],[0.4444444444444444,\"#bd3786\"],[0.5555555555555556,\"#d8576b\"],[0.6666666666666666,\"#ed7953\"],[0.7777777777777778,\"#fb9f3a\"],[0.8888888888888888,\"#fdca26\"],[1.0,\"#f0f921\"]]}],\"mesh3d\":[{\"type\":\"mesh3d\",\"colorbar\":{\"outlinewidth\":0,\"ticks\":\"\"}}],\"scatter\":[{\"fillpattern\":{\"fillmode\":\"overlay\",\"size\":10,\"solidity\":0.2},\"type\":\"scatter\"}],\"parcoords\":[{\"type\":\"parcoords\",\"line\":{\"colorbar\":{\"outlinewidth\":0,\"ticks\":\"\"}}}],\"scatterpolargl\":[{\"type\":\"scatterpolargl\",\"marker\":{\"colorbar\":{\"outlinewidth\":0,\"ticks\":\"\"}}}],\"bar\":[{\"error_x\":{\"color\":\"#2a3f5f\"},\"error_y\":{\"color\":\"#2a3f5f\"},\"marker\":{\"line\":{\"color\":\"#E5ECF6\",\"width\":0.5},\"pattern\":{\"fillmode\":\"overlay\",\"size\":10,\"solidity\":0.2}},\"type\":\"bar\"}],\"scattergeo\":[{\"type\":\"scattergeo\",\"marker\":{\"colorbar\":{\"outlinewidth\":0,\"ticks\":\"\"}}}],\"scatterpolar\":[{\"type\":\"scatterpolar\",\"marker\":{\"colorbar\":{\"outlinewidth\":0,\"ticks\":\"\"}}}],\"histogram\":[{\"marker\":{\"pattern\":{\"fillmode\":\"overlay\",\"size\":10,\"solidity\":0.2}},\"type\":\"histogram\"}],\"scattergl\":[{\"type\":\"scattergl\",\"marker\":{\"colorbar\":{\"outlinewidth\":0,\"ticks\":\"\"}}}],\"scatter3d\":[{\"type\":\"scatter3d\",\"line\":{\"colorbar\":{\"outlinewidth\":0,\"ticks\":\"\"}},\"marker\":{\"colorbar\":{\"outlinewidth\":0,\"ticks\":\"\"}}}],\"scattermapbox\":[{\"type\":\"scattermapbox\",\"marker\":{\"colorbar\":{\"outlinewidth\":0,\"ticks\":\"\"}}}],\"scatterternary\":[{\"type\":\"scatterternary\",\"marker\":{\"colorbar\":{\"outlinewidth\":0,\"ticks\":\"\"}}}],\"scattercarpet\":[{\"type\":\"scattercarpet\",\"marker\":{\"colorbar\":{\"outlinewidth\":0,\"ticks\":\"\"}}}],\"carpet\":[{\"aaxis\":{\"endlinecolor\":\"#2a3f5f\",\"gridcolor\":\"white\",\"linecolor\":\"white\",\"minorgridcolor\":\"white\",\"startlinecolor\":\"#2a3f5f\"},\"baxis\":{\"endlinecolor\":\"#2a3f5f\",\"gridcolor\":\"white\",\"linecolor\":\"white\",\"minorgridcolor\":\"white\",\"startlinecolor\":\"#2a3f5f\"},\"type\":\"carpet\"}],\"table\":[{\"cells\":{\"fill\":{\"color\":\"#EBF0F8\"},\"line\":{\"color\":\"white\"}},\"header\":{\"fill\":{\"color\":\"#C8D4E3\"},\"line\":{\"color\":\"white\"}},\"type\":\"table\"}],\"barpolar\":[{\"marker\":{\"line\":{\"color\":\"#E5ECF6\",\"width\":0.5},\"pattern\":{\"fillmode\":\"overlay\",\"size\":10,\"solidity\":0.2}},\"type\":\"barpolar\"}],\"pie\":[{\"automargin\":true,\"type\":\"pie\"}]},\"layout\":{\"autotypenumbers\":\"strict\",\"colorway\":[\"#636efa\",\"#EF553B\",\"#00cc96\",\"#ab63fa\",\"#FFA15A\",\"#19d3f3\",\"#FF6692\",\"#B6E880\",\"#FF97FF\",\"#FECB52\"],\"font\":{\"color\":\"#2a3f5f\"},\"hovermode\":\"closest\",\"hoverlabel\":{\"align\":\"left\"},\"paper_bgcolor\":\"white\",\"plot_bgcolor\":\"#E5ECF6\",\"polar\":{\"bgcolor\":\"#E5ECF6\",\"angularaxis\":{\"gridcolor\":\"white\",\"linecolor\":\"white\",\"ticks\":\"\"},\"radialaxis\":{\"gridcolor\":\"white\",\"linecolor\":\"white\",\"ticks\":\"\"}},\"ternary\":{\"bgcolor\":\"#E5ECF6\",\"aaxis\":{\"gridcolor\":\"white\",\"linecolor\":\"white\",\"ticks\":\"\"},\"baxis\":{\"gridcolor\":\"white\",\"linecolor\":\"white\",\"ticks\":\"\"},\"caxis\":{\"gridcolor\":\"white\",\"linecolor\":\"white\",\"ticks\":\"\"}},\"coloraxis\":{\"colorbar\":{\"outlinewidth\":0,\"ticks\":\"\"}},\"colorscale\":{\"sequential\":[[0.0,\"#0d0887\"],[0.1111111111111111,\"#46039f\"],[0.2222222222222222,\"#7201a8\"],[0.3333333333333333,\"#9c179e\"],[0.4444444444444444,\"#bd3786\"],[0.5555555555555556,\"#d8576b\"],[0.6666666666666666,\"#ed7953\"],[0.7777777777777778,\"#fb9f3a\"],[0.8888888888888888,\"#fdca26\"],[1.0,\"#f0f921\"]],\"sequentialminus\":[[0.0,\"#0d0887\"],[0.1111111111111111,\"#46039f\"],[0.2222222222222222,\"#7201a8\"],[0.3333333333333333,\"#9c179e\"],[0.4444444444444444,\"#bd3786\"],[0.5555555555555556,\"#d8576b\"],[0.6666666666666666,\"#ed7953\"],[0.7777777777777778,\"#fb9f3a\"],[0.8888888888888888,\"#fdca26\"],[1.0,\"#f0f921\"]],\"diverging\":[[0,\"#8e0152\"],[0.1,\"#c51b7d\"],[0.2,\"#de77ae\"],[0.3,\"#f1b6da\"],[0.4,\"#fde0ef\"],[0.5,\"#f7f7f7\"],[0.6,\"#e6f5d0\"],[0.7,\"#b8e186\"],[0.8,\"#7fbc41\"],[0.9,\"#4d9221\"],[1,\"#276419\"]]},\"xaxis\":{\"gridcolor\":\"white\",\"linecolor\":\"white\",\"ticks\":\"\",\"title\":{\"standoff\":15},\"zerolinecolor\":\"white\",\"automargin\":true,\"zerolinewidth\":2},\"yaxis\":{\"gridcolor\":\"white\",\"linecolor\":\"white\",\"ticks\":\"\",\"title\":{\"standoff\":15},\"zerolinecolor\":\"white\",\"automargin\":true,\"zerolinewidth\":2},\"scene\":{\"xaxis\":{\"backgroundcolor\":\"#E5ECF6\",\"gridcolor\":\"white\",\"linecolor\":\"white\",\"showbackground\":true,\"ticks\":\"\",\"zerolinecolor\":\"white\",\"gridwidth\":2},\"yaxis\":{\"backgroundcolor\":\"#E5ECF6\",\"gridcolor\":\"white\",\"linecolor\":\"white\",\"showbackground\":true,\"ticks\":\"\",\"zerolinecolor\":\"white\",\"gridwidth\":2},\"zaxis\":{\"backgroundcolor\":\"#E5ECF6\",\"gridcolor\":\"white\",\"linecolor\":\"white\",\"showbackground\":true,\"ticks\":\"\",\"zerolinecolor\":\"white\",\"gridwidth\":2}},\"shapedefaults\":{\"line\":{\"color\":\"#2a3f5f\"}},\"annotationdefaults\":{\"arrowcolor\":\"#2a3f5f\",\"arrowhead\":0,\"arrowwidth\":1},\"geo\":{\"bgcolor\":\"white\",\"landcolor\":\"#E5ECF6\",\"subunitcolor\":\"white\",\"showland\":true,\"showlakes\":true,\"lakecolor\":\"white\"},\"title\":{\"x\":0.05},\"mapbox\":{\"style\":\"light\"}}},\"title\":{\"text\":\"\\u003cb\\u003eCorrelation Between MEDV (Target) and Independent Variables\\u003c\\u002fb\\u003e\",\"x\":0.05,\"xanchor\":\"left\"},\"margin\":{\"t\":210,\"l\":110},\"plot_bgcolor\":\"#F6F5F5\",\"paper_bgcolor\":\"#F6F5F5\",\"height\":300,\"width\":950},                        {\"responsive\": true}                    ).then(function(){\n",
       "                            \n",
       "var gd = document.getElementById('60d8cc52-0847-4bf5-9914-eed345c13af5');\n",
       "var x = new MutationObserver(function (mutations, observer) {{\n",
       "        var display = window.getComputedStyle(gd).display;\n",
       "        if (!display || display === 'none') {{\n",
       "            console.log([gd, 'removed!']);\n",
       "            Plotly.purge(gd);\n",
       "            observer.disconnect();\n",
       "        }}\n",
       "}});\n",
       "\n",
       "// Listen for the removal of the full notebook cells\n",
       "var notebookContainer = gd.closest('#notebook-container');\n",
       "if (notebookContainer) {{\n",
       "    x.observe(notebookContainer, {childList: true});\n",
       "}}\n",
       "\n",
       "// Listen for the clearing of the current output cell\n",
       "var outputEl = gd.closest('.output');\n",
       "if (outputEl) {{\n",
       "    x.observe(outputEl, {childList: true});\n",
       "}}\n",
       "\n",
       "                        })                };                });            </script>        </div>"
      ]
     },
     "metadata": {},
     "output_type": "display_data"
    }
   ],
   "source": [
    "corr = np.round(df.corr(), 2) # Computing correlation\n",
    "target_corr = corr.loc[['MEDV'], :].drop(columns=['MEDV']) # Filtering for the Target variable\n",
    "\n",
    "# Creating annotated heatmap\n",
    "fig = ff.create_annotated_heatmap(z=target_corr.values,\n",
    "                                  x=target_corr.columns.tolist(),\n",
    "                                  y=['MEDV'],\n",
    "                                  colorscale='Magenta')\n",
    "\n",
    "# Updating layout\n",
    "fig.update_layout(title={'text': '<b>Correlation Between MEDV (Target) and Independent Variables</b>',\n",
    "                        'x': 0.05, 'xanchor': 'left'},\n",
    "                  margin=dict(t=210, l=110),\n",
    "                  yaxis=dict(showgrid=False),\n",
    "                  xaxis=dict(showgrid=False),\n",
    "                  plot_bgcolor='#F6F5F5',\n",
    "                  paper_bgcolor='#F6F5F5',\n",
    "                  height=300, width=950) \n",
    "\n",
    "# Configuring font size \n",
    "for i in range(len(fig.layout.annotations)):\n",
    "    fig.layout.annotations[i].font.size = 14\n",
    "\n",
    "fig.show()"
   ]
  },
  {
   "cell_type": "code",
   "execution_count": 6,
   "metadata": {},
   "outputs": [
    {
     "data": {
      "application/vnd.plotly.v1+json": {
       "config": {
        "plotlyServerURL": "https://plot.ly"
       },
       "data": [
        {
         "colorscale": [
          [
           0,
           "rgb(243, 203, 211)"
          ],
          [
           0.16666666666666666,
           "rgb(234, 169, 189)"
          ],
          [
           0.3333333333333333,
           "rgb(221, 136, 172)"
          ],
          [
           0.5,
           "rgb(202, 105, 157)"
          ],
          [
           0.6666666666666666,
           "rgb(177, 77, 142)"
          ],
          [
           0.8333333333333334,
           "rgb(145, 53, 125)"
          ],
          [
           1,
           "rgb(108, 33, 103)"
          ]
         ],
         "reversescale": false,
         "showscale": false,
         "type": "heatmap",
         "x": [
          "CRIM",
          "ZN",
          "INDUS",
          "CHAS",
          "NOX",
          "RM",
          "AGE",
          "DIS",
          "RAD",
          "TAX",
          "PTRATIO",
          "B",
          "LSTAT"
         ],
         "y": [
          "MEDV",
          "LSTAT",
          "B",
          "PTRATIO",
          "TAX",
          "RAD",
          "DIS",
          "AGE",
          "RM",
          "NOX",
          "CHAS",
          "INDUS",
          "ZN"
         ],
         "z": [
          [
           -0.39,
           0.36,
           -0.48,
           0.18,
           -0.43,
           0.7,
           -0.38,
           0.25,
           -0.38,
           -0.47,
           -0.51,
           0.33,
           -0.74
          ],
          [
           0.46,
           -0.41,
           0.6,
           -0.05,
           0.59,
           -0.61,
           0.6,
           -0.5,
           0.49,
           0.54,
           0.37,
           -0.37
          ],
          [
           -0.39,
           0.18,
           -0.36,
           0.05,
           -0.38,
           0.13,
           -0.27,
           0.29,
           -0.44,
           -0.44,
           -0.18
          ],
          [
           0.29,
           -0.39,
           0.38,
           -0.12,
           0.19,
           -0.36,
           0.26,
           -0.23,
           0.46,
           0.46
          ],
          [
           0.58,
           -0.31,
           0.72,
           -0.04,
           0.67,
           -0.29,
           0.51,
           -0.53,
           0.91
          ],
          [
           0.63,
           -0.31,
           0.6,
           -0.01,
           0.61,
           -0.21,
           0.46,
           -0.49
          ],
          [
           -0.38,
           0.66,
           -0.71,
           -0.1,
           -0.77,
           0.21,
           -0.75
          ],
          [
           0.35,
           -0.57,
           0.64,
           0.09,
           0.73,
           -0.24
          ],
          [
           -0.22,
           0.31,
           -0.39,
           0.09,
           -0.3
          ],
          [
           0.42,
           -0.52,
           0.76,
           0.09
          ],
          [
           -0.06,
           -0.04,
           0.06
          ],
          [
           0.41,
           -0.53
          ],
          [
           -0.2
          ]
         ]
        },
        {
         "colorscale": [
          [
           0,
           "rgb(243, 203, 211)"
          ],
          [
           0.16666666666666666,
           "rgb(234, 169, 189)"
          ],
          [
           0.3333333333333333,
           "rgb(221, 136, 172)"
          ],
          [
           0.5,
           "rgb(202, 105, 157)"
          ],
          [
           0.6666666666666666,
           "rgb(177, 77, 142)"
          ],
          [
           0.8333333333333334,
           "rgb(145, 53, 125)"
          ],
          [
           1,
           "rgb(108, 33, 103)"
          ]
         ],
         "showscale": true,
         "type": "heatmap",
         "visible": true,
         "z": [
          [
           -0.39,
           0.36,
           -0.48,
           0.18,
           -0.43,
           0.7,
           -0.38,
           0.25,
           -0.38,
           -0.47,
           -0.51,
           0.33,
           -0.74
          ],
          [
           0.46,
           -0.41,
           0.6,
           -0.05,
           0.59,
           -0.61,
           0.6,
           -0.5,
           0.49,
           0.54,
           0.37,
           -0.37
          ],
          [
           -0.39,
           0.18,
           -0.36,
           0.05,
           -0.38,
           0.13,
           -0.27,
           0.29,
           -0.44,
           -0.44,
           -0.18
          ],
          [
           0.29,
           -0.39,
           0.38,
           -0.12,
           0.19,
           -0.36,
           0.26,
           -0.23,
           0.46,
           0.46
          ],
          [
           0.58,
           -0.31,
           0.72,
           -0.04,
           0.67,
           -0.29,
           0.51,
           -0.53,
           0.91
          ],
          [
           0.63,
           -0.31,
           0.6,
           -0.01,
           0.61,
           -0.21,
           0.46,
           -0.49
          ],
          [
           -0.38,
           0.66,
           -0.71,
           -0.1,
           -0.77,
           0.21,
           -0.75
          ],
          [
           0.35,
           -0.57,
           0.64,
           0.09,
           0.73,
           -0.24
          ],
          [
           -0.22,
           0.31,
           -0.39,
           0.09,
           -0.3
          ],
          [
           0.42,
           -0.52,
           0.76,
           0.09
          ],
          [
           -0.06,
           -0.04,
           0.06
          ],
          [
           0.41,
           -0.53
          ],
          [
           -0.2
          ]
         ]
        }
       ],
       "layout": {
        "annotations": [
         {
          "font": {
           "color": "#000000",
           "size": 12
          },
          "showarrow": false,
          "text": "-0.39",
          "x": "CRIM",
          "xref": "x",
          "y": "MEDV",
          "yref": "y"
         },
         {
          "font": {
           "color": "#FFFFFF",
           "size": 12
          },
          "showarrow": false,
          "text": "0.36",
          "x": "ZN",
          "xref": "x",
          "y": "MEDV",
          "yref": "y"
         },
         {
          "font": {
           "color": "#000000",
           "size": 12
          },
          "showarrow": false,
          "text": "-0.48",
          "x": "INDUS",
          "xref": "x",
          "y": "MEDV",
          "yref": "y"
         },
         {
          "font": {
           "color": "#FFFFFF",
           "size": 12
          },
          "showarrow": false,
          "text": "0.18",
          "x": "CHAS",
          "xref": "x",
          "y": "MEDV",
          "yref": "y"
         },
         {
          "font": {
           "color": "#000000",
           "size": 12
          },
          "showarrow": false,
          "text": "-0.43",
          "x": "NOX",
          "xref": "x",
          "y": "MEDV",
          "yref": "y"
         },
         {
          "font": {
           "color": "#FFFFFF",
           "size": 12
          },
          "showarrow": false,
          "text": "0.7",
          "x": "RM",
          "xref": "x",
          "y": "MEDV",
          "yref": "y"
         },
         {
          "font": {
           "color": "#000000",
           "size": 12
          },
          "showarrow": false,
          "text": "-0.38",
          "x": "AGE",
          "xref": "x",
          "y": "MEDV",
          "yref": "y"
         },
         {
          "font": {
           "color": "#FFFFFF",
           "size": 12
          },
          "showarrow": false,
          "text": "0.25",
          "x": "DIS",
          "xref": "x",
          "y": "MEDV",
          "yref": "y"
         },
         {
          "font": {
           "color": "#000000",
           "size": 12
          },
          "showarrow": false,
          "text": "-0.38",
          "x": "RAD",
          "xref": "x",
          "y": "MEDV",
          "yref": "y"
         },
         {
          "font": {
           "color": "#000000",
           "size": 12
          },
          "showarrow": false,
          "text": "-0.47",
          "x": "TAX",
          "xref": "x",
          "y": "MEDV",
          "yref": "y"
         },
         {
          "font": {
           "color": "#000000",
           "size": 12
          },
          "showarrow": false,
          "text": "-0.51",
          "x": "PTRATIO",
          "xref": "x",
          "y": "MEDV",
          "yref": "y"
         },
         {
          "font": {
           "color": "#FFFFFF",
           "size": 12
          },
          "showarrow": false,
          "text": "0.33",
          "x": "B",
          "xref": "x",
          "y": "MEDV",
          "yref": "y"
         },
         {
          "font": {
           "color": "#000000",
           "size": 12
          },
          "showarrow": false,
          "text": "-0.74",
          "x": "LSTAT",
          "xref": "x",
          "y": "MEDV",
          "yref": "y"
         },
         {
          "font": {
           "color": "#FFFFFF",
           "size": 12
          },
          "showarrow": false,
          "text": "0.46",
          "x": "CRIM",
          "xref": "x",
          "y": "LSTAT",
          "yref": "y"
         },
         {
          "font": {
           "color": "#000000",
           "size": 12
          },
          "showarrow": false,
          "text": "-0.41",
          "x": "ZN",
          "xref": "x",
          "y": "LSTAT",
          "yref": "y"
         },
         {
          "font": {
           "color": "#FFFFFF",
           "size": 12
          },
          "showarrow": false,
          "text": "0.6",
          "x": "INDUS",
          "xref": "x",
          "y": "LSTAT",
          "yref": "y"
         },
         {
          "font": {
           "color": "#000000",
           "size": 12
          },
          "showarrow": false,
          "text": "-0.05",
          "x": "CHAS",
          "xref": "x",
          "y": "LSTAT",
          "yref": "y"
         },
         {
          "font": {
           "color": "#FFFFFF",
           "size": 12
          },
          "showarrow": false,
          "text": "0.59",
          "x": "NOX",
          "xref": "x",
          "y": "LSTAT",
          "yref": "y"
         },
         {
          "font": {
           "color": "#000000",
           "size": 12
          },
          "showarrow": false,
          "text": "-0.61",
          "x": "RM",
          "xref": "x",
          "y": "LSTAT",
          "yref": "y"
         },
         {
          "font": {
           "color": "#FFFFFF",
           "size": 12
          },
          "showarrow": false,
          "text": "0.6",
          "x": "AGE",
          "xref": "x",
          "y": "LSTAT",
          "yref": "y"
         },
         {
          "font": {
           "color": "#000000",
           "size": 12
          },
          "showarrow": false,
          "text": "-0.5",
          "x": "DIS",
          "xref": "x",
          "y": "LSTAT",
          "yref": "y"
         },
         {
          "font": {
           "color": "#FFFFFF",
           "size": 12
          },
          "showarrow": false,
          "text": "0.49",
          "x": "RAD",
          "xref": "x",
          "y": "LSTAT",
          "yref": "y"
         },
         {
          "font": {
           "color": "#FFFFFF",
           "size": 12
          },
          "showarrow": false,
          "text": "0.54",
          "x": "TAX",
          "xref": "x",
          "y": "LSTAT",
          "yref": "y"
         },
         {
          "font": {
           "color": "#FFFFFF",
           "size": 12
          },
          "showarrow": false,
          "text": "0.37",
          "x": "PTRATIO",
          "xref": "x",
          "y": "LSTAT",
          "yref": "y"
         },
         {
          "font": {
           "color": "#000000",
           "size": 12
          },
          "showarrow": false,
          "text": "-0.37",
          "x": "B",
          "xref": "x",
          "y": "LSTAT",
          "yref": "y"
         },
         {
          "font": {
           "color": "#000000",
           "size": 12
          },
          "showarrow": false,
          "text": "-0.39",
          "x": "CRIM",
          "xref": "x",
          "y": "B",
          "yref": "y"
         },
         {
          "font": {
           "color": "#FFFFFF",
           "size": 12
          },
          "showarrow": false,
          "text": "0.18",
          "x": "ZN",
          "xref": "x",
          "y": "B",
          "yref": "y"
         },
         {
          "font": {
           "color": "#000000",
           "size": 12
          },
          "showarrow": false,
          "text": "-0.36",
          "x": "INDUS",
          "xref": "x",
          "y": "B",
          "yref": "y"
         },
         {
          "font": {
           "color": "#000000",
           "size": 12
          },
          "showarrow": false,
          "text": "0.05",
          "x": "CHAS",
          "xref": "x",
          "y": "B",
          "yref": "y"
         },
         {
          "font": {
           "color": "#000000",
           "size": 12
          },
          "showarrow": false,
          "text": "-0.38",
          "x": "NOX",
          "xref": "x",
          "y": "B",
          "yref": "y"
         },
         {
          "font": {
           "color": "#FFFFFF",
           "size": 12
          },
          "showarrow": false,
          "text": "0.13",
          "x": "RM",
          "xref": "x",
          "y": "B",
          "yref": "y"
         },
         {
          "font": {
           "color": "#000000",
           "size": 12
          },
          "showarrow": false,
          "text": "-0.27",
          "x": "AGE",
          "xref": "x",
          "y": "B",
          "yref": "y"
         },
         {
          "font": {
           "color": "#FFFFFF",
           "size": 12
          },
          "showarrow": false,
          "text": "0.29",
          "x": "DIS",
          "xref": "x",
          "y": "B",
          "yref": "y"
         },
         {
          "font": {
           "color": "#000000",
           "size": 12
          },
          "showarrow": false,
          "text": "-0.44",
          "x": "RAD",
          "xref": "x",
          "y": "B",
          "yref": "y"
         },
         {
          "font": {
           "color": "#000000",
           "size": 12
          },
          "showarrow": false,
          "text": "-0.44",
          "x": "TAX",
          "xref": "x",
          "y": "B",
          "yref": "y"
         },
         {
          "font": {
           "color": "#000000",
           "size": 12
          },
          "showarrow": false,
          "text": "-0.18",
          "x": "PTRATIO",
          "xref": "x",
          "y": "B",
          "yref": "y"
         },
         {
          "font": {
           "color": "#FFFFFF",
           "size": 12
          },
          "showarrow": false,
          "text": "0.29",
          "x": "CRIM",
          "xref": "x",
          "y": "PTRATIO",
          "yref": "y"
         },
         {
          "font": {
           "color": "#000000",
           "size": 12
          },
          "showarrow": false,
          "text": "-0.39",
          "x": "ZN",
          "xref": "x",
          "y": "PTRATIO",
          "yref": "y"
         },
         {
          "font": {
           "color": "#FFFFFF",
           "size": 12
          },
          "showarrow": false,
          "text": "0.38",
          "x": "INDUS",
          "xref": "x",
          "y": "PTRATIO",
          "yref": "y"
         },
         {
          "font": {
           "color": "#000000",
           "size": 12
          },
          "showarrow": false,
          "text": "-0.12",
          "x": "CHAS",
          "xref": "x",
          "y": "PTRATIO",
          "yref": "y"
         },
         {
          "font": {
           "color": "#FFFFFF",
           "size": 12
          },
          "showarrow": false,
          "text": "0.19",
          "x": "NOX",
          "xref": "x",
          "y": "PTRATIO",
          "yref": "y"
         },
         {
          "font": {
           "color": "#000000",
           "size": 12
          },
          "showarrow": false,
          "text": "-0.36",
          "x": "RM",
          "xref": "x",
          "y": "PTRATIO",
          "yref": "y"
         },
         {
          "font": {
           "color": "#FFFFFF",
           "size": 12
          },
          "showarrow": false,
          "text": "0.26",
          "x": "AGE",
          "xref": "x",
          "y": "PTRATIO",
          "yref": "y"
         },
         {
          "font": {
           "color": "#000000",
           "size": 12
          },
          "showarrow": false,
          "text": "-0.23",
          "x": "DIS",
          "xref": "x",
          "y": "PTRATIO",
          "yref": "y"
         },
         {
          "font": {
           "color": "#FFFFFF",
           "size": 12
          },
          "showarrow": false,
          "text": "0.46",
          "x": "RAD",
          "xref": "x",
          "y": "PTRATIO",
          "yref": "y"
         },
         {
          "font": {
           "color": "#FFFFFF",
           "size": 12
          },
          "showarrow": false,
          "text": "0.46",
          "x": "TAX",
          "xref": "x",
          "y": "PTRATIO",
          "yref": "y"
         },
         {
          "font": {
           "color": "#FFFFFF",
           "size": 12
          },
          "showarrow": false,
          "text": "0.58",
          "x": "CRIM",
          "xref": "x",
          "y": "TAX",
          "yref": "y"
         },
         {
          "font": {
           "color": "#000000",
           "size": 12
          },
          "showarrow": false,
          "text": "-0.31",
          "x": "ZN",
          "xref": "x",
          "y": "TAX",
          "yref": "y"
         },
         {
          "font": {
           "color": "#FFFFFF",
           "size": 12
          },
          "showarrow": false,
          "text": "0.72",
          "x": "INDUS",
          "xref": "x",
          "y": "TAX",
          "yref": "y"
         },
         {
          "font": {
           "color": "#000000",
           "size": 12
          },
          "showarrow": false,
          "text": "-0.04",
          "x": "CHAS",
          "xref": "x",
          "y": "TAX",
          "yref": "y"
         },
         {
          "font": {
           "color": "#FFFFFF",
           "size": 12
          },
          "showarrow": false,
          "text": "0.67",
          "x": "NOX",
          "xref": "x",
          "y": "TAX",
          "yref": "y"
         },
         {
          "font": {
           "color": "#000000",
           "size": 12
          },
          "showarrow": false,
          "text": "-0.29",
          "x": "RM",
          "xref": "x",
          "y": "TAX",
          "yref": "y"
         },
         {
          "font": {
           "color": "#FFFFFF",
           "size": 12
          },
          "showarrow": false,
          "text": "0.51",
          "x": "AGE",
          "xref": "x",
          "y": "TAX",
          "yref": "y"
         },
         {
          "font": {
           "color": "#000000",
           "size": 12
          },
          "showarrow": false,
          "text": "-0.53",
          "x": "DIS",
          "xref": "x",
          "y": "TAX",
          "yref": "y"
         },
         {
          "font": {
           "color": "#FFFFFF",
           "size": 12
          },
          "showarrow": false,
          "text": "0.91",
          "x": "RAD",
          "xref": "x",
          "y": "TAX",
          "yref": "y"
         },
         {
          "font": {
           "color": "#FFFFFF",
           "size": 12
          },
          "showarrow": false,
          "text": "0.63",
          "x": "CRIM",
          "xref": "x",
          "y": "RAD",
          "yref": "y"
         },
         {
          "font": {
           "color": "#000000",
           "size": 12
          },
          "showarrow": false,
          "text": "-0.31",
          "x": "ZN",
          "xref": "x",
          "y": "RAD",
          "yref": "y"
         },
         {
          "font": {
           "color": "#FFFFFF",
           "size": 12
          },
          "showarrow": false,
          "text": "0.6",
          "x": "INDUS",
          "xref": "x",
          "y": "RAD",
          "yref": "y"
         },
         {
          "font": {
           "color": "#000000",
           "size": 12
          },
          "showarrow": false,
          "text": "-0.01",
          "x": "CHAS",
          "xref": "x",
          "y": "RAD",
          "yref": "y"
         },
         {
          "font": {
           "color": "#FFFFFF",
           "size": 12
          },
          "showarrow": false,
          "text": "0.61",
          "x": "NOX",
          "xref": "x",
          "y": "RAD",
          "yref": "y"
         },
         {
          "font": {
           "color": "#000000",
           "size": 12
          },
          "showarrow": false,
          "text": "-0.21",
          "x": "RM",
          "xref": "x",
          "y": "RAD",
          "yref": "y"
         },
         {
          "font": {
           "color": "#FFFFFF",
           "size": 12
          },
          "showarrow": false,
          "text": "0.46",
          "x": "AGE",
          "xref": "x",
          "y": "RAD",
          "yref": "y"
         },
         {
          "font": {
           "color": "#000000",
           "size": 12
          },
          "showarrow": false,
          "text": "-0.49",
          "x": "DIS",
          "xref": "x",
          "y": "RAD",
          "yref": "y"
         },
         {
          "font": {
           "color": "#000000",
           "size": 12
          },
          "showarrow": false,
          "text": "-0.38",
          "x": "CRIM",
          "xref": "x",
          "y": "DIS",
          "yref": "y"
         },
         {
          "font": {
           "color": "#FFFFFF",
           "size": 12
          },
          "showarrow": false,
          "text": "0.66",
          "x": "ZN",
          "xref": "x",
          "y": "DIS",
          "yref": "y"
         },
         {
          "font": {
           "color": "#000000",
           "size": 12
          },
          "showarrow": false,
          "text": "-0.71",
          "x": "INDUS",
          "xref": "x",
          "y": "DIS",
          "yref": "y"
         },
         {
          "font": {
           "color": "#000000",
           "size": 12
          },
          "showarrow": false,
          "text": "-0.1",
          "x": "CHAS",
          "xref": "x",
          "y": "DIS",
          "yref": "y"
         },
         {
          "font": {
           "color": "#000000",
           "size": 12
          },
          "showarrow": false,
          "text": "-0.77",
          "x": "NOX",
          "xref": "x",
          "y": "DIS",
          "yref": "y"
         },
         {
          "font": {
           "color": "#FFFFFF",
           "size": 12
          },
          "showarrow": false,
          "text": "0.21",
          "x": "RM",
          "xref": "x",
          "y": "DIS",
          "yref": "y"
         },
         {
          "font": {
           "color": "#000000",
           "size": 12
          },
          "showarrow": false,
          "text": "-0.75",
          "x": "AGE",
          "xref": "x",
          "y": "DIS",
          "yref": "y"
         },
         {
          "font": {
           "color": "#FFFFFF",
           "size": 12
          },
          "showarrow": false,
          "text": "0.35",
          "x": "CRIM",
          "xref": "x",
          "y": "AGE",
          "yref": "y"
         },
         {
          "font": {
           "color": "#000000",
           "size": 12
          },
          "showarrow": false,
          "text": "-0.57",
          "x": "ZN",
          "xref": "x",
          "y": "AGE",
          "yref": "y"
         },
         {
          "font": {
           "color": "#FFFFFF",
           "size": 12
          },
          "showarrow": false,
          "text": "0.64",
          "x": "INDUS",
          "xref": "x",
          "y": "AGE",
          "yref": "y"
         },
         {
          "font": {
           "color": "#FFFFFF",
           "size": 12
          },
          "showarrow": false,
          "text": "0.09",
          "x": "CHAS",
          "xref": "x",
          "y": "AGE",
          "yref": "y"
         },
         {
          "font": {
           "color": "#FFFFFF",
           "size": 12
          },
          "showarrow": false,
          "text": "0.73",
          "x": "NOX",
          "xref": "x",
          "y": "AGE",
          "yref": "y"
         },
         {
          "font": {
           "color": "#000000",
           "size": 12
          },
          "showarrow": false,
          "text": "-0.24",
          "x": "RM",
          "xref": "x",
          "y": "AGE",
          "yref": "y"
         },
         {
          "font": {
           "color": "#000000",
           "size": 12
          },
          "showarrow": false,
          "text": "-0.22",
          "x": "CRIM",
          "xref": "x",
          "y": "RM",
          "yref": "y"
         },
         {
          "font": {
           "color": "#FFFFFF",
           "size": 12
          },
          "showarrow": false,
          "text": "0.31",
          "x": "ZN",
          "xref": "x",
          "y": "RM",
          "yref": "y"
         },
         {
          "font": {
           "color": "#000000",
           "size": 12
          },
          "showarrow": false,
          "text": "-0.39",
          "x": "INDUS",
          "xref": "x",
          "y": "RM",
          "yref": "y"
         },
         {
          "font": {
           "color": "#FFFFFF",
           "size": 12
          },
          "showarrow": false,
          "text": "0.09",
          "x": "CHAS",
          "xref": "x",
          "y": "RM",
          "yref": "y"
         },
         {
          "font": {
           "color": "#000000",
           "size": 12
          },
          "showarrow": false,
          "text": "-0.3",
          "x": "NOX",
          "xref": "x",
          "y": "RM",
          "yref": "y"
         },
         {
          "font": {
           "color": "#FFFFFF",
           "size": 12
          },
          "showarrow": false,
          "text": "0.42",
          "x": "CRIM",
          "xref": "x",
          "y": "NOX",
          "yref": "y"
         },
         {
          "font": {
           "color": "#000000",
           "size": 12
          },
          "showarrow": false,
          "text": "-0.52",
          "x": "ZN",
          "xref": "x",
          "y": "NOX",
          "yref": "y"
         },
         {
          "font": {
           "color": "#FFFFFF",
           "size": 12
          },
          "showarrow": false,
          "text": "0.76",
          "x": "INDUS",
          "xref": "x",
          "y": "NOX",
          "yref": "y"
         },
         {
          "font": {
           "color": "#FFFFFF",
           "size": 12
          },
          "showarrow": false,
          "text": "0.09",
          "x": "CHAS",
          "xref": "x",
          "y": "NOX",
          "yref": "y"
         },
         {
          "font": {
           "color": "#000000",
           "size": 12
          },
          "showarrow": false,
          "text": "-0.06",
          "x": "CRIM",
          "xref": "x",
          "y": "CHAS",
          "yref": "y"
         },
         {
          "font": {
           "color": "#000000",
           "size": 12
          },
          "showarrow": false,
          "text": "-0.04",
          "x": "ZN",
          "xref": "x",
          "y": "CHAS",
          "yref": "y"
         },
         {
          "font": {
           "color": "#000000",
           "size": 12
          },
          "showarrow": false,
          "text": "0.06",
          "x": "INDUS",
          "xref": "x",
          "y": "CHAS",
          "yref": "y"
         },
         {
          "font": {
           "color": "#FFFFFF",
           "size": 12
          },
          "showarrow": false,
          "text": "0.41",
          "x": "CRIM",
          "xref": "x",
          "y": "INDUS",
          "yref": "y"
         },
         {
          "font": {
           "color": "#000000",
           "size": 12
          },
          "showarrow": false,
          "text": "-0.53",
          "x": "ZN",
          "xref": "x",
          "y": "INDUS",
          "yref": "y"
         },
         {
          "font": {
           "color": "#000000",
           "size": 12
          },
          "showarrow": false,
          "text": "-0.2",
          "x": "CRIM",
          "xref": "x",
          "y": "ZN",
          "yref": "y"
         }
        ],
        "height": 950,
        "margin": {
         "l": 110,
         "t": 210
        },
        "paper_bgcolor": "#F6F5F5",
        "plot_bgcolor": "#F6F5F5",
        "template": {
         "data": {
          "bar": [
           {
            "error_x": {
             "color": "#2a3f5f"
            },
            "error_y": {
             "color": "#2a3f5f"
            },
            "marker": {
             "line": {
              "color": "#E5ECF6",
              "width": 0.5
             },
             "pattern": {
              "fillmode": "overlay",
              "size": 10,
              "solidity": 0.2
             }
            },
            "type": "bar"
           }
          ],
          "barpolar": [
           {
            "marker": {
             "line": {
              "color": "#E5ECF6",
              "width": 0.5
             },
             "pattern": {
              "fillmode": "overlay",
              "size": 10,
              "solidity": 0.2
             }
            },
            "type": "barpolar"
           }
          ],
          "carpet": [
           {
            "aaxis": {
             "endlinecolor": "#2a3f5f",
             "gridcolor": "white",
             "linecolor": "white",
             "minorgridcolor": "white",
             "startlinecolor": "#2a3f5f"
            },
            "baxis": {
             "endlinecolor": "#2a3f5f",
             "gridcolor": "white",
             "linecolor": "white",
             "minorgridcolor": "white",
             "startlinecolor": "#2a3f5f"
            },
            "type": "carpet"
           }
          ],
          "choropleth": [
           {
            "colorbar": {
             "outlinewidth": 0,
             "ticks": ""
            },
            "type": "choropleth"
           }
          ],
          "contour": [
           {
            "colorbar": {
             "outlinewidth": 0,
             "ticks": ""
            },
            "colorscale": [
             [
              0,
              "#0d0887"
             ],
             [
              0.1111111111111111,
              "#46039f"
             ],
             [
              0.2222222222222222,
              "#7201a8"
             ],
             [
              0.3333333333333333,
              "#9c179e"
             ],
             [
              0.4444444444444444,
              "#bd3786"
             ],
             [
              0.5555555555555556,
              "#d8576b"
             ],
             [
              0.6666666666666666,
              "#ed7953"
             ],
             [
              0.7777777777777778,
              "#fb9f3a"
             ],
             [
              0.8888888888888888,
              "#fdca26"
             ],
             [
              1,
              "#f0f921"
             ]
            ],
            "type": "contour"
           }
          ],
          "contourcarpet": [
           {
            "colorbar": {
             "outlinewidth": 0,
             "ticks": ""
            },
            "type": "contourcarpet"
           }
          ],
          "heatmap": [
           {
            "colorbar": {
             "outlinewidth": 0,
             "ticks": ""
            },
            "colorscale": [
             [
              0,
              "#0d0887"
             ],
             [
              0.1111111111111111,
              "#46039f"
             ],
             [
              0.2222222222222222,
              "#7201a8"
             ],
             [
              0.3333333333333333,
              "#9c179e"
             ],
             [
              0.4444444444444444,
              "#bd3786"
             ],
             [
              0.5555555555555556,
              "#d8576b"
             ],
             [
              0.6666666666666666,
              "#ed7953"
             ],
             [
              0.7777777777777778,
              "#fb9f3a"
             ],
             [
              0.8888888888888888,
              "#fdca26"
             ],
             [
              1,
              "#f0f921"
             ]
            ],
            "type": "heatmap"
           }
          ],
          "heatmapgl": [
           {
            "colorbar": {
             "outlinewidth": 0,
             "ticks": ""
            },
            "colorscale": [
             [
              0,
              "#0d0887"
             ],
             [
              0.1111111111111111,
              "#46039f"
             ],
             [
              0.2222222222222222,
              "#7201a8"
             ],
             [
              0.3333333333333333,
              "#9c179e"
             ],
             [
              0.4444444444444444,
              "#bd3786"
             ],
             [
              0.5555555555555556,
              "#d8576b"
             ],
             [
              0.6666666666666666,
              "#ed7953"
             ],
             [
              0.7777777777777778,
              "#fb9f3a"
             ],
             [
              0.8888888888888888,
              "#fdca26"
             ],
             [
              1,
              "#f0f921"
             ]
            ],
            "type": "heatmapgl"
           }
          ],
          "histogram": [
           {
            "marker": {
             "pattern": {
              "fillmode": "overlay",
              "size": 10,
              "solidity": 0.2
             }
            },
            "type": "histogram"
           }
          ],
          "histogram2d": [
           {
            "colorbar": {
             "outlinewidth": 0,
             "ticks": ""
            },
            "colorscale": [
             [
              0,
              "#0d0887"
             ],
             [
              0.1111111111111111,
              "#46039f"
             ],
             [
              0.2222222222222222,
              "#7201a8"
             ],
             [
              0.3333333333333333,
              "#9c179e"
             ],
             [
              0.4444444444444444,
              "#bd3786"
             ],
             [
              0.5555555555555556,
              "#d8576b"
             ],
             [
              0.6666666666666666,
              "#ed7953"
             ],
             [
              0.7777777777777778,
              "#fb9f3a"
             ],
             [
              0.8888888888888888,
              "#fdca26"
             ],
             [
              1,
              "#f0f921"
             ]
            ],
            "type": "histogram2d"
           }
          ],
          "histogram2dcontour": [
           {
            "colorbar": {
             "outlinewidth": 0,
             "ticks": ""
            },
            "colorscale": [
             [
              0,
              "#0d0887"
             ],
             [
              0.1111111111111111,
              "#46039f"
             ],
             [
              0.2222222222222222,
              "#7201a8"
             ],
             [
              0.3333333333333333,
              "#9c179e"
             ],
             [
              0.4444444444444444,
              "#bd3786"
             ],
             [
              0.5555555555555556,
              "#d8576b"
             ],
             [
              0.6666666666666666,
              "#ed7953"
             ],
             [
              0.7777777777777778,
              "#fb9f3a"
             ],
             [
              0.8888888888888888,
              "#fdca26"
             ],
             [
              1,
              "#f0f921"
             ]
            ],
            "type": "histogram2dcontour"
           }
          ],
          "mesh3d": [
           {
            "colorbar": {
             "outlinewidth": 0,
             "ticks": ""
            },
            "type": "mesh3d"
           }
          ],
          "parcoords": [
           {
            "line": {
             "colorbar": {
              "outlinewidth": 0,
              "ticks": ""
             }
            },
            "type": "parcoords"
           }
          ],
          "pie": [
           {
            "automargin": true,
            "type": "pie"
           }
          ],
          "scatter": [
           {
            "fillpattern": {
             "fillmode": "overlay",
             "size": 10,
             "solidity": 0.2
            },
            "type": "scatter"
           }
          ],
          "scatter3d": [
           {
            "line": {
             "colorbar": {
              "outlinewidth": 0,
              "ticks": ""
             }
            },
            "marker": {
             "colorbar": {
              "outlinewidth": 0,
              "ticks": ""
             }
            },
            "type": "scatter3d"
           }
          ],
          "scattercarpet": [
           {
            "marker": {
             "colorbar": {
              "outlinewidth": 0,
              "ticks": ""
             }
            },
            "type": "scattercarpet"
           }
          ],
          "scattergeo": [
           {
            "marker": {
             "colorbar": {
              "outlinewidth": 0,
              "ticks": ""
             }
            },
            "type": "scattergeo"
           }
          ],
          "scattergl": [
           {
            "marker": {
             "colorbar": {
              "outlinewidth": 0,
              "ticks": ""
             }
            },
            "type": "scattergl"
           }
          ],
          "scattermapbox": [
           {
            "marker": {
             "colorbar": {
              "outlinewidth": 0,
              "ticks": ""
             }
            },
            "type": "scattermapbox"
           }
          ],
          "scatterpolar": [
           {
            "marker": {
             "colorbar": {
              "outlinewidth": 0,
              "ticks": ""
             }
            },
            "type": "scatterpolar"
           }
          ],
          "scatterpolargl": [
           {
            "marker": {
             "colorbar": {
              "outlinewidth": 0,
              "ticks": ""
             }
            },
            "type": "scatterpolargl"
           }
          ],
          "scatterternary": [
           {
            "marker": {
             "colorbar": {
              "outlinewidth": 0,
              "ticks": ""
             }
            },
            "type": "scatterternary"
           }
          ],
          "surface": [
           {
            "colorbar": {
             "outlinewidth": 0,
             "ticks": ""
            },
            "colorscale": [
             [
              0,
              "#0d0887"
             ],
             [
              0.1111111111111111,
              "#46039f"
             ],
             [
              0.2222222222222222,
              "#7201a8"
             ],
             [
              0.3333333333333333,
              "#9c179e"
             ],
             [
              0.4444444444444444,
              "#bd3786"
             ],
             [
              0.5555555555555556,
              "#d8576b"
             ],
             [
              0.6666666666666666,
              "#ed7953"
             ],
             [
              0.7777777777777778,
              "#fb9f3a"
             ],
             [
              0.8888888888888888,
              "#fdca26"
             ],
             [
              1,
              "#f0f921"
             ]
            ],
            "type": "surface"
           }
          ],
          "table": [
           {
            "cells": {
             "fill": {
              "color": "#EBF0F8"
             },
             "line": {
              "color": "white"
             }
            },
            "header": {
             "fill": {
              "color": "#C8D4E3"
             },
             "line": {
              "color": "white"
             }
            },
            "type": "table"
           }
          ]
         },
         "layout": {
          "annotationdefaults": {
           "arrowcolor": "#2a3f5f",
           "arrowhead": 0,
           "arrowwidth": 1
          },
          "autotypenumbers": "strict",
          "coloraxis": {
           "colorbar": {
            "outlinewidth": 0,
            "ticks": ""
           }
          },
          "colorscale": {
           "diverging": [
            [
             0,
             "#8e0152"
            ],
            [
             0.1,
             "#c51b7d"
            ],
            [
             0.2,
             "#de77ae"
            ],
            [
             0.3,
             "#f1b6da"
            ],
            [
             0.4,
             "#fde0ef"
            ],
            [
             0.5,
             "#f7f7f7"
            ],
            [
             0.6,
             "#e6f5d0"
            ],
            [
             0.7,
             "#b8e186"
            ],
            [
             0.8,
             "#7fbc41"
            ],
            [
             0.9,
             "#4d9221"
            ],
            [
             1,
             "#276419"
            ]
           ],
           "sequential": [
            [
             0,
             "#0d0887"
            ],
            [
             0.1111111111111111,
             "#46039f"
            ],
            [
             0.2222222222222222,
             "#7201a8"
            ],
            [
             0.3333333333333333,
             "#9c179e"
            ],
            [
             0.4444444444444444,
             "#bd3786"
            ],
            [
             0.5555555555555556,
             "#d8576b"
            ],
            [
             0.6666666666666666,
             "#ed7953"
            ],
            [
             0.7777777777777778,
             "#fb9f3a"
            ],
            [
             0.8888888888888888,
             "#fdca26"
            ],
            [
             1,
             "#f0f921"
            ]
           ],
           "sequentialminus": [
            [
             0,
             "#0d0887"
            ],
            [
             0.1111111111111111,
             "#46039f"
            ],
            [
             0.2222222222222222,
             "#7201a8"
            ],
            [
             0.3333333333333333,
             "#9c179e"
            ],
            [
             0.4444444444444444,
             "#bd3786"
            ],
            [
             0.5555555555555556,
             "#d8576b"
            ],
            [
             0.6666666666666666,
             "#ed7953"
            ],
            [
             0.7777777777777778,
             "#fb9f3a"
            ],
            [
             0.8888888888888888,
             "#fdca26"
            ],
            [
             1,
             "#f0f921"
            ]
           ]
          },
          "colorway": [
           "#636efa",
           "#EF553B",
           "#00cc96",
           "#ab63fa",
           "#FFA15A",
           "#19d3f3",
           "#FF6692",
           "#B6E880",
           "#FF97FF",
           "#FECB52"
          ],
          "font": {
           "color": "#2a3f5f"
          },
          "geo": {
           "bgcolor": "white",
           "lakecolor": "white",
           "landcolor": "#E5ECF6",
           "showlakes": true,
           "showland": true,
           "subunitcolor": "white"
          },
          "hoverlabel": {
           "align": "left"
          },
          "hovermode": "closest",
          "mapbox": {
           "style": "light"
          },
          "paper_bgcolor": "white",
          "plot_bgcolor": "#E5ECF6",
          "polar": {
           "angularaxis": {
            "gridcolor": "white",
            "linecolor": "white",
            "ticks": ""
           },
           "bgcolor": "#E5ECF6",
           "radialaxis": {
            "gridcolor": "white",
            "linecolor": "white",
            "ticks": ""
           }
          },
          "scene": {
           "xaxis": {
            "backgroundcolor": "#E5ECF6",
            "gridcolor": "white",
            "gridwidth": 2,
            "linecolor": "white",
            "showbackground": true,
            "ticks": "",
            "zerolinecolor": "white"
           },
           "yaxis": {
            "backgroundcolor": "#E5ECF6",
            "gridcolor": "white",
            "gridwidth": 2,
            "linecolor": "white",
            "showbackground": true,
            "ticks": "",
            "zerolinecolor": "white"
           },
           "zaxis": {
            "backgroundcolor": "#E5ECF6",
            "gridcolor": "white",
            "gridwidth": 2,
            "linecolor": "white",
            "showbackground": true,
            "ticks": "",
            "zerolinecolor": "white"
           }
          },
          "shapedefaults": {
           "line": {
            "color": "#2a3f5f"
           }
          },
          "ternary": {
           "aaxis": {
            "gridcolor": "white",
            "linecolor": "white",
            "ticks": ""
           },
           "baxis": {
            "gridcolor": "white",
            "linecolor": "white",
            "ticks": ""
           },
           "bgcolor": "#E5ECF6",
           "caxis": {
            "gridcolor": "white",
            "linecolor": "white",
            "ticks": ""
           }
          },
          "title": {
           "x": 0.05
          },
          "xaxis": {
           "automargin": true,
           "gridcolor": "white",
           "linecolor": "white",
           "ticks": "",
           "title": {
            "standoff": 15
           },
           "zerolinecolor": "white",
           "zerolinewidth": 2
          },
          "yaxis": {
           "automargin": true,
           "gridcolor": "white",
           "linecolor": "white",
           "ticks": "",
           "title": {
            "standoff": 15
           },
           "zerolinecolor": "white",
           "zerolinewidth": 2
          }
         }
        },
        "title": {
         "text": "<b>Correlation Among Independent Features</b>",
         "x": 0.05,
         "xanchor": "left"
        },
        "width": 950,
        "xaxis": {
         "dtick": 1,
         "gridcolor": "rgb(0, 0, 0)",
         "showgrid": false,
         "side": "top",
         "ticks": ""
        },
        "yaxis": {
         "autorange": "reversed",
         "dtick": 1,
         "showgrid": false,
         "ticks": "",
         "ticksuffix": "  "
        }
       }
      },
      "text/html": [
       "<div>                            <div id=\"cb8f81b9-a418-48a4-91d4-2611deb7a937\" class=\"plotly-graph-div\" style=\"height:950px; width:950px;\"></div>            <script type=\"text/javascript\">                require([\"plotly\"], function(Plotly) {                    window.PLOTLYENV=window.PLOTLYENV || {};                                    if (document.getElementById(\"cb8f81b9-a418-48a4-91d4-2611deb7a937\")) {                    Plotly.newPlot(                        \"cb8f81b9-a418-48a4-91d4-2611deb7a937\",                        [{\"colorscale\":[[0.0,\"rgb(243, 203, 211)\"],[0.16666666666666666,\"rgb(234, 169, 189)\"],[0.3333333333333333,\"rgb(221, 136, 172)\"],[0.5,\"rgb(202, 105, 157)\"],[0.6666666666666666,\"rgb(177, 77, 142)\"],[0.8333333333333334,\"rgb(145, 53, 125)\"],[1.0,\"rgb(108, 33, 103)\"]],\"reversescale\":false,\"showscale\":false,\"x\":[\"CRIM\",\"ZN\",\"INDUS\",\"CHAS\",\"NOX\",\"RM\",\"AGE\",\"DIS\",\"RAD\",\"TAX\",\"PTRATIO\",\"B\",\"LSTAT\"],\"y\":[\"MEDV\",\"LSTAT\",\"B\",\"PTRATIO\",\"TAX\",\"RAD\",\"DIS\",\"AGE\",\"RM\",\"NOX\",\"CHAS\",\"INDUS\",\"ZN\"],\"z\":[[-0.39,0.36,-0.48,0.18,-0.43,0.7,-0.38,0.25,-0.38,-0.47,-0.51,0.33,-0.74],[0.46,-0.41,0.6,-0.05,0.59,-0.61,0.6,-0.5,0.49,0.54,0.37,-0.37],[-0.39,0.18,-0.36,0.05,-0.38,0.13,-0.27,0.29,-0.44,-0.44,-0.18],[0.29,-0.39,0.38,-0.12,0.19,-0.36,0.26,-0.23,0.46,0.46],[0.58,-0.31,0.72,-0.04,0.67,-0.29,0.51,-0.53,0.91],[0.63,-0.31,0.6,-0.01,0.61,-0.21,0.46,-0.49],[-0.38,0.66,-0.71,-0.1,-0.77,0.21,-0.75],[0.35,-0.57,0.64,0.09,0.73,-0.24],[-0.22,0.31,-0.39,0.09,-0.3],[0.42,-0.52,0.76,0.09],[-0.06,-0.04,0.06],[0.41,-0.53],[-0.2]],\"type\":\"heatmap\"},{\"colorscale\":[[0.0,\"rgb(243, 203, 211)\"],[0.16666666666666666,\"rgb(234, 169, 189)\"],[0.3333333333333333,\"rgb(221, 136, 172)\"],[0.5,\"rgb(202, 105, 157)\"],[0.6666666666666666,\"rgb(177, 77, 142)\"],[0.8333333333333334,\"rgb(145, 53, 125)\"],[1.0,\"rgb(108, 33, 103)\"]],\"showscale\":true,\"visible\":true,\"z\":[[-0.39,0.36,-0.48,0.18,-0.43,0.7,-0.38,0.25,-0.38,-0.47,-0.51,0.33,-0.74],[0.46,-0.41,0.6,-0.05,0.59,-0.61,0.6,-0.5,0.49,0.54,0.37,-0.37],[-0.39,0.18,-0.36,0.05,-0.38,0.13,-0.27,0.29,-0.44,-0.44,-0.18],[0.29,-0.39,0.38,-0.12,0.19,-0.36,0.26,-0.23,0.46,0.46],[0.58,-0.31,0.72,-0.04,0.67,-0.29,0.51,-0.53,0.91],[0.63,-0.31,0.6,-0.01,0.61,-0.21,0.46,-0.49],[-0.38,0.66,-0.71,-0.1,-0.77,0.21,-0.75],[0.35,-0.57,0.64,0.09,0.73,-0.24],[-0.22,0.31,-0.39,0.09,-0.3],[0.42,-0.52,0.76,0.09],[-0.06,-0.04,0.06],[0.41,-0.53],[-0.2]],\"type\":\"heatmap\"}],                        {\"annotations\":[{\"font\":{\"color\":\"#000000\",\"size\":12},\"showarrow\":false,\"text\":\"-0.39\",\"x\":\"CRIM\",\"xref\":\"x\",\"y\":\"MEDV\",\"yref\":\"y\"},{\"font\":{\"color\":\"#FFFFFF\",\"size\":12},\"showarrow\":false,\"text\":\"0.36\",\"x\":\"ZN\",\"xref\":\"x\",\"y\":\"MEDV\",\"yref\":\"y\"},{\"font\":{\"color\":\"#000000\",\"size\":12},\"showarrow\":false,\"text\":\"-0.48\",\"x\":\"INDUS\",\"xref\":\"x\",\"y\":\"MEDV\",\"yref\":\"y\"},{\"font\":{\"color\":\"#FFFFFF\",\"size\":12},\"showarrow\":false,\"text\":\"0.18\",\"x\":\"CHAS\",\"xref\":\"x\",\"y\":\"MEDV\",\"yref\":\"y\"},{\"font\":{\"color\":\"#000000\",\"size\":12},\"showarrow\":false,\"text\":\"-0.43\",\"x\":\"NOX\",\"xref\":\"x\",\"y\":\"MEDV\",\"yref\":\"y\"},{\"font\":{\"color\":\"#FFFFFF\",\"size\":12},\"showarrow\":false,\"text\":\"0.7\",\"x\":\"RM\",\"xref\":\"x\",\"y\":\"MEDV\",\"yref\":\"y\"},{\"font\":{\"color\":\"#000000\",\"size\":12},\"showarrow\":false,\"text\":\"-0.38\",\"x\":\"AGE\",\"xref\":\"x\",\"y\":\"MEDV\",\"yref\":\"y\"},{\"font\":{\"color\":\"#FFFFFF\",\"size\":12},\"showarrow\":false,\"text\":\"0.25\",\"x\":\"DIS\",\"xref\":\"x\",\"y\":\"MEDV\",\"yref\":\"y\"},{\"font\":{\"color\":\"#000000\",\"size\":12},\"showarrow\":false,\"text\":\"-0.38\",\"x\":\"RAD\",\"xref\":\"x\",\"y\":\"MEDV\",\"yref\":\"y\"},{\"font\":{\"color\":\"#000000\",\"size\":12},\"showarrow\":false,\"text\":\"-0.47\",\"x\":\"TAX\",\"xref\":\"x\",\"y\":\"MEDV\",\"yref\":\"y\"},{\"font\":{\"color\":\"#000000\",\"size\":12},\"showarrow\":false,\"text\":\"-0.51\",\"x\":\"PTRATIO\",\"xref\":\"x\",\"y\":\"MEDV\",\"yref\":\"y\"},{\"font\":{\"color\":\"#FFFFFF\",\"size\":12},\"showarrow\":false,\"text\":\"0.33\",\"x\":\"B\",\"xref\":\"x\",\"y\":\"MEDV\",\"yref\":\"y\"},{\"font\":{\"color\":\"#000000\",\"size\":12},\"showarrow\":false,\"text\":\"-0.74\",\"x\":\"LSTAT\",\"xref\":\"x\",\"y\":\"MEDV\",\"yref\":\"y\"},{\"font\":{\"color\":\"#FFFFFF\",\"size\":12},\"showarrow\":false,\"text\":\"0.46\",\"x\":\"CRIM\",\"xref\":\"x\",\"y\":\"LSTAT\",\"yref\":\"y\"},{\"font\":{\"color\":\"#000000\",\"size\":12},\"showarrow\":false,\"text\":\"-0.41\",\"x\":\"ZN\",\"xref\":\"x\",\"y\":\"LSTAT\",\"yref\":\"y\"},{\"font\":{\"color\":\"#FFFFFF\",\"size\":12},\"showarrow\":false,\"text\":\"0.6\",\"x\":\"INDUS\",\"xref\":\"x\",\"y\":\"LSTAT\",\"yref\":\"y\"},{\"font\":{\"color\":\"#000000\",\"size\":12},\"showarrow\":false,\"text\":\"-0.05\",\"x\":\"CHAS\",\"xref\":\"x\",\"y\":\"LSTAT\",\"yref\":\"y\"},{\"font\":{\"color\":\"#FFFFFF\",\"size\":12},\"showarrow\":false,\"text\":\"0.59\",\"x\":\"NOX\",\"xref\":\"x\",\"y\":\"LSTAT\",\"yref\":\"y\"},{\"font\":{\"color\":\"#000000\",\"size\":12},\"showarrow\":false,\"text\":\"-0.61\",\"x\":\"RM\",\"xref\":\"x\",\"y\":\"LSTAT\",\"yref\":\"y\"},{\"font\":{\"color\":\"#FFFFFF\",\"size\":12},\"showarrow\":false,\"text\":\"0.6\",\"x\":\"AGE\",\"xref\":\"x\",\"y\":\"LSTAT\",\"yref\":\"y\"},{\"font\":{\"color\":\"#000000\",\"size\":12},\"showarrow\":false,\"text\":\"-0.5\",\"x\":\"DIS\",\"xref\":\"x\",\"y\":\"LSTAT\",\"yref\":\"y\"},{\"font\":{\"color\":\"#FFFFFF\",\"size\":12},\"showarrow\":false,\"text\":\"0.49\",\"x\":\"RAD\",\"xref\":\"x\",\"y\":\"LSTAT\",\"yref\":\"y\"},{\"font\":{\"color\":\"#FFFFFF\",\"size\":12},\"showarrow\":false,\"text\":\"0.54\",\"x\":\"TAX\",\"xref\":\"x\",\"y\":\"LSTAT\",\"yref\":\"y\"},{\"font\":{\"color\":\"#FFFFFF\",\"size\":12},\"showarrow\":false,\"text\":\"0.37\",\"x\":\"PTRATIO\",\"xref\":\"x\",\"y\":\"LSTAT\",\"yref\":\"y\"},{\"font\":{\"color\":\"#000000\",\"size\":12},\"showarrow\":false,\"text\":\"-0.37\",\"x\":\"B\",\"xref\":\"x\",\"y\":\"LSTAT\",\"yref\":\"y\"},{\"font\":{\"color\":\"#000000\",\"size\":12},\"showarrow\":false,\"text\":\"-0.39\",\"x\":\"CRIM\",\"xref\":\"x\",\"y\":\"B\",\"yref\":\"y\"},{\"font\":{\"color\":\"#FFFFFF\",\"size\":12},\"showarrow\":false,\"text\":\"0.18\",\"x\":\"ZN\",\"xref\":\"x\",\"y\":\"B\",\"yref\":\"y\"},{\"font\":{\"color\":\"#000000\",\"size\":12},\"showarrow\":false,\"text\":\"-0.36\",\"x\":\"INDUS\",\"xref\":\"x\",\"y\":\"B\",\"yref\":\"y\"},{\"font\":{\"color\":\"#000000\",\"size\":12},\"showarrow\":false,\"text\":\"0.05\",\"x\":\"CHAS\",\"xref\":\"x\",\"y\":\"B\",\"yref\":\"y\"},{\"font\":{\"color\":\"#000000\",\"size\":12},\"showarrow\":false,\"text\":\"-0.38\",\"x\":\"NOX\",\"xref\":\"x\",\"y\":\"B\",\"yref\":\"y\"},{\"font\":{\"color\":\"#FFFFFF\",\"size\":12},\"showarrow\":false,\"text\":\"0.13\",\"x\":\"RM\",\"xref\":\"x\",\"y\":\"B\",\"yref\":\"y\"},{\"font\":{\"color\":\"#000000\",\"size\":12},\"showarrow\":false,\"text\":\"-0.27\",\"x\":\"AGE\",\"xref\":\"x\",\"y\":\"B\",\"yref\":\"y\"},{\"font\":{\"color\":\"#FFFFFF\",\"size\":12},\"showarrow\":false,\"text\":\"0.29\",\"x\":\"DIS\",\"xref\":\"x\",\"y\":\"B\",\"yref\":\"y\"},{\"font\":{\"color\":\"#000000\",\"size\":12},\"showarrow\":false,\"text\":\"-0.44\",\"x\":\"RAD\",\"xref\":\"x\",\"y\":\"B\",\"yref\":\"y\"},{\"font\":{\"color\":\"#000000\",\"size\":12},\"showarrow\":false,\"text\":\"-0.44\",\"x\":\"TAX\",\"xref\":\"x\",\"y\":\"B\",\"yref\":\"y\"},{\"font\":{\"color\":\"#000000\",\"size\":12},\"showarrow\":false,\"text\":\"-0.18\",\"x\":\"PTRATIO\",\"xref\":\"x\",\"y\":\"B\",\"yref\":\"y\"},{\"font\":{\"color\":\"#FFFFFF\",\"size\":12},\"showarrow\":false,\"text\":\"0.29\",\"x\":\"CRIM\",\"xref\":\"x\",\"y\":\"PTRATIO\",\"yref\":\"y\"},{\"font\":{\"color\":\"#000000\",\"size\":12},\"showarrow\":false,\"text\":\"-0.39\",\"x\":\"ZN\",\"xref\":\"x\",\"y\":\"PTRATIO\",\"yref\":\"y\"},{\"font\":{\"color\":\"#FFFFFF\",\"size\":12},\"showarrow\":false,\"text\":\"0.38\",\"x\":\"INDUS\",\"xref\":\"x\",\"y\":\"PTRATIO\",\"yref\":\"y\"},{\"font\":{\"color\":\"#000000\",\"size\":12},\"showarrow\":false,\"text\":\"-0.12\",\"x\":\"CHAS\",\"xref\":\"x\",\"y\":\"PTRATIO\",\"yref\":\"y\"},{\"font\":{\"color\":\"#FFFFFF\",\"size\":12},\"showarrow\":false,\"text\":\"0.19\",\"x\":\"NOX\",\"xref\":\"x\",\"y\":\"PTRATIO\",\"yref\":\"y\"},{\"font\":{\"color\":\"#000000\",\"size\":12},\"showarrow\":false,\"text\":\"-0.36\",\"x\":\"RM\",\"xref\":\"x\",\"y\":\"PTRATIO\",\"yref\":\"y\"},{\"font\":{\"color\":\"#FFFFFF\",\"size\":12},\"showarrow\":false,\"text\":\"0.26\",\"x\":\"AGE\",\"xref\":\"x\",\"y\":\"PTRATIO\",\"yref\":\"y\"},{\"font\":{\"color\":\"#000000\",\"size\":12},\"showarrow\":false,\"text\":\"-0.23\",\"x\":\"DIS\",\"xref\":\"x\",\"y\":\"PTRATIO\",\"yref\":\"y\"},{\"font\":{\"color\":\"#FFFFFF\",\"size\":12},\"showarrow\":false,\"text\":\"0.46\",\"x\":\"RAD\",\"xref\":\"x\",\"y\":\"PTRATIO\",\"yref\":\"y\"},{\"font\":{\"color\":\"#FFFFFF\",\"size\":12},\"showarrow\":false,\"text\":\"0.46\",\"x\":\"TAX\",\"xref\":\"x\",\"y\":\"PTRATIO\",\"yref\":\"y\"},{\"font\":{\"color\":\"#FFFFFF\",\"size\":12},\"showarrow\":false,\"text\":\"0.58\",\"x\":\"CRIM\",\"xref\":\"x\",\"y\":\"TAX\",\"yref\":\"y\"},{\"font\":{\"color\":\"#000000\",\"size\":12},\"showarrow\":false,\"text\":\"-0.31\",\"x\":\"ZN\",\"xref\":\"x\",\"y\":\"TAX\",\"yref\":\"y\"},{\"font\":{\"color\":\"#FFFFFF\",\"size\":12},\"showarrow\":false,\"text\":\"0.72\",\"x\":\"INDUS\",\"xref\":\"x\",\"y\":\"TAX\",\"yref\":\"y\"},{\"font\":{\"color\":\"#000000\",\"size\":12},\"showarrow\":false,\"text\":\"-0.04\",\"x\":\"CHAS\",\"xref\":\"x\",\"y\":\"TAX\",\"yref\":\"y\"},{\"font\":{\"color\":\"#FFFFFF\",\"size\":12},\"showarrow\":false,\"text\":\"0.67\",\"x\":\"NOX\",\"xref\":\"x\",\"y\":\"TAX\",\"yref\":\"y\"},{\"font\":{\"color\":\"#000000\",\"size\":12},\"showarrow\":false,\"text\":\"-0.29\",\"x\":\"RM\",\"xref\":\"x\",\"y\":\"TAX\",\"yref\":\"y\"},{\"font\":{\"color\":\"#FFFFFF\",\"size\":12},\"showarrow\":false,\"text\":\"0.51\",\"x\":\"AGE\",\"xref\":\"x\",\"y\":\"TAX\",\"yref\":\"y\"},{\"font\":{\"color\":\"#000000\",\"size\":12},\"showarrow\":false,\"text\":\"-0.53\",\"x\":\"DIS\",\"xref\":\"x\",\"y\":\"TAX\",\"yref\":\"y\"},{\"font\":{\"color\":\"#FFFFFF\",\"size\":12},\"showarrow\":false,\"text\":\"0.91\",\"x\":\"RAD\",\"xref\":\"x\",\"y\":\"TAX\",\"yref\":\"y\"},{\"font\":{\"color\":\"#FFFFFF\",\"size\":12},\"showarrow\":false,\"text\":\"0.63\",\"x\":\"CRIM\",\"xref\":\"x\",\"y\":\"RAD\",\"yref\":\"y\"},{\"font\":{\"color\":\"#000000\",\"size\":12},\"showarrow\":false,\"text\":\"-0.31\",\"x\":\"ZN\",\"xref\":\"x\",\"y\":\"RAD\",\"yref\":\"y\"},{\"font\":{\"color\":\"#FFFFFF\",\"size\":12},\"showarrow\":false,\"text\":\"0.6\",\"x\":\"INDUS\",\"xref\":\"x\",\"y\":\"RAD\",\"yref\":\"y\"},{\"font\":{\"color\":\"#000000\",\"size\":12},\"showarrow\":false,\"text\":\"-0.01\",\"x\":\"CHAS\",\"xref\":\"x\",\"y\":\"RAD\",\"yref\":\"y\"},{\"font\":{\"color\":\"#FFFFFF\",\"size\":12},\"showarrow\":false,\"text\":\"0.61\",\"x\":\"NOX\",\"xref\":\"x\",\"y\":\"RAD\",\"yref\":\"y\"},{\"font\":{\"color\":\"#000000\",\"size\":12},\"showarrow\":false,\"text\":\"-0.21\",\"x\":\"RM\",\"xref\":\"x\",\"y\":\"RAD\",\"yref\":\"y\"},{\"font\":{\"color\":\"#FFFFFF\",\"size\":12},\"showarrow\":false,\"text\":\"0.46\",\"x\":\"AGE\",\"xref\":\"x\",\"y\":\"RAD\",\"yref\":\"y\"},{\"font\":{\"color\":\"#000000\",\"size\":12},\"showarrow\":false,\"text\":\"-0.49\",\"x\":\"DIS\",\"xref\":\"x\",\"y\":\"RAD\",\"yref\":\"y\"},{\"font\":{\"color\":\"#000000\",\"size\":12},\"showarrow\":false,\"text\":\"-0.38\",\"x\":\"CRIM\",\"xref\":\"x\",\"y\":\"DIS\",\"yref\":\"y\"},{\"font\":{\"color\":\"#FFFFFF\",\"size\":12},\"showarrow\":false,\"text\":\"0.66\",\"x\":\"ZN\",\"xref\":\"x\",\"y\":\"DIS\",\"yref\":\"y\"},{\"font\":{\"color\":\"#000000\",\"size\":12},\"showarrow\":false,\"text\":\"-0.71\",\"x\":\"INDUS\",\"xref\":\"x\",\"y\":\"DIS\",\"yref\":\"y\"},{\"font\":{\"color\":\"#000000\",\"size\":12},\"showarrow\":false,\"text\":\"-0.1\",\"x\":\"CHAS\",\"xref\":\"x\",\"y\":\"DIS\",\"yref\":\"y\"},{\"font\":{\"color\":\"#000000\",\"size\":12},\"showarrow\":false,\"text\":\"-0.77\",\"x\":\"NOX\",\"xref\":\"x\",\"y\":\"DIS\",\"yref\":\"y\"},{\"font\":{\"color\":\"#FFFFFF\",\"size\":12},\"showarrow\":false,\"text\":\"0.21\",\"x\":\"RM\",\"xref\":\"x\",\"y\":\"DIS\",\"yref\":\"y\"},{\"font\":{\"color\":\"#000000\",\"size\":12},\"showarrow\":false,\"text\":\"-0.75\",\"x\":\"AGE\",\"xref\":\"x\",\"y\":\"DIS\",\"yref\":\"y\"},{\"font\":{\"color\":\"#FFFFFF\",\"size\":12},\"showarrow\":false,\"text\":\"0.35\",\"x\":\"CRIM\",\"xref\":\"x\",\"y\":\"AGE\",\"yref\":\"y\"},{\"font\":{\"color\":\"#000000\",\"size\":12},\"showarrow\":false,\"text\":\"-0.57\",\"x\":\"ZN\",\"xref\":\"x\",\"y\":\"AGE\",\"yref\":\"y\"},{\"font\":{\"color\":\"#FFFFFF\",\"size\":12},\"showarrow\":false,\"text\":\"0.64\",\"x\":\"INDUS\",\"xref\":\"x\",\"y\":\"AGE\",\"yref\":\"y\"},{\"font\":{\"color\":\"#FFFFFF\",\"size\":12},\"showarrow\":false,\"text\":\"0.09\",\"x\":\"CHAS\",\"xref\":\"x\",\"y\":\"AGE\",\"yref\":\"y\"},{\"font\":{\"color\":\"#FFFFFF\",\"size\":12},\"showarrow\":false,\"text\":\"0.73\",\"x\":\"NOX\",\"xref\":\"x\",\"y\":\"AGE\",\"yref\":\"y\"},{\"font\":{\"color\":\"#000000\",\"size\":12},\"showarrow\":false,\"text\":\"-0.24\",\"x\":\"RM\",\"xref\":\"x\",\"y\":\"AGE\",\"yref\":\"y\"},{\"font\":{\"color\":\"#000000\",\"size\":12},\"showarrow\":false,\"text\":\"-0.22\",\"x\":\"CRIM\",\"xref\":\"x\",\"y\":\"RM\",\"yref\":\"y\"},{\"font\":{\"color\":\"#FFFFFF\",\"size\":12},\"showarrow\":false,\"text\":\"0.31\",\"x\":\"ZN\",\"xref\":\"x\",\"y\":\"RM\",\"yref\":\"y\"},{\"font\":{\"color\":\"#000000\",\"size\":12},\"showarrow\":false,\"text\":\"-0.39\",\"x\":\"INDUS\",\"xref\":\"x\",\"y\":\"RM\",\"yref\":\"y\"},{\"font\":{\"color\":\"#FFFFFF\",\"size\":12},\"showarrow\":false,\"text\":\"0.09\",\"x\":\"CHAS\",\"xref\":\"x\",\"y\":\"RM\",\"yref\":\"y\"},{\"font\":{\"color\":\"#000000\",\"size\":12},\"showarrow\":false,\"text\":\"-0.3\",\"x\":\"NOX\",\"xref\":\"x\",\"y\":\"RM\",\"yref\":\"y\"},{\"font\":{\"color\":\"#FFFFFF\",\"size\":12},\"showarrow\":false,\"text\":\"0.42\",\"x\":\"CRIM\",\"xref\":\"x\",\"y\":\"NOX\",\"yref\":\"y\"},{\"font\":{\"color\":\"#000000\",\"size\":12},\"showarrow\":false,\"text\":\"-0.52\",\"x\":\"ZN\",\"xref\":\"x\",\"y\":\"NOX\",\"yref\":\"y\"},{\"font\":{\"color\":\"#FFFFFF\",\"size\":12},\"showarrow\":false,\"text\":\"0.76\",\"x\":\"INDUS\",\"xref\":\"x\",\"y\":\"NOX\",\"yref\":\"y\"},{\"font\":{\"color\":\"#FFFFFF\",\"size\":12},\"showarrow\":false,\"text\":\"0.09\",\"x\":\"CHAS\",\"xref\":\"x\",\"y\":\"NOX\",\"yref\":\"y\"},{\"font\":{\"color\":\"#000000\",\"size\":12},\"showarrow\":false,\"text\":\"-0.06\",\"x\":\"CRIM\",\"xref\":\"x\",\"y\":\"CHAS\",\"yref\":\"y\"},{\"font\":{\"color\":\"#000000\",\"size\":12},\"showarrow\":false,\"text\":\"-0.04\",\"x\":\"ZN\",\"xref\":\"x\",\"y\":\"CHAS\",\"yref\":\"y\"},{\"font\":{\"color\":\"#000000\",\"size\":12},\"showarrow\":false,\"text\":\"0.06\",\"x\":\"INDUS\",\"xref\":\"x\",\"y\":\"CHAS\",\"yref\":\"y\"},{\"font\":{\"color\":\"#FFFFFF\",\"size\":12},\"showarrow\":false,\"text\":\"0.41\",\"x\":\"CRIM\",\"xref\":\"x\",\"y\":\"INDUS\",\"yref\":\"y\"},{\"font\":{\"color\":\"#000000\",\"size\":12},\"showarrow\":false,\"text\":\"-0.53\",\"x\":\"ZN\",\"xref\":\"x\",\"y\":\"INDUS\",\"yref\":\"y\"},{\"font\":{\"color\":\"#000000\",\"size\":12},\"showarrow\":false,\"text\":\"-0.2\",\"x\":\"CRIM\",\"xref\":\"x\",\"y\":\"ZN\",\"yref\":\"y\"}],\"xaxis\":{\"dtick\":1,\"gridcolor\":\"rgb(0, 0, 0)\",\"side\":\"top\",\"ticks\":\"\",\"showgrid\":false},\"yaxis\":{\"dtick\":1,\"ticks\":\"\",\"ticksuffix\":\"  \",\"autorange\":\"reversed\",\"showgrid\":false},\"template\":{\"data\":{\"histogram2dcontour\":[{\"type\":\"histogram2dcontour\",\"colorbar\":{\"outlinewidth\":0,\"ticks\":\"\"},\"colorscale\":[[0.0,\"#0d0887\"],[0.1111111111111111,\"#46039f\"],[0.2222222222222222,\"#7201a8\"],[0.3333333333333333,\"#9c179e\"],[0.4444444444444444,\"#bd3786\"],[0.5555555555555556,\"#d8576b\"],[0.6666666666666666,\"#ed7953\"],[0.7777777777777778,\"#fb9f3a\"],[0.8888888888888888,\"#fdca26\"],[1.0,\"#f0f921\"]]}],\"choropleth\":[{\"type\":\"choropleth\",\"colorbar\":{\"outlinewidth\":0,\"ticks\":\"\"}}],\"histogram2d\":[{\"type\":\"histogram2d\",\"colorbar\":{\"outlinewidth\":0,\"ticks\":\"\"},\"colorscale\":[[0.0,\"#0d0887\"],[0.1111111111111111,\"#46039f\"],[0.2222222222222222,\"#7201a8\"],[0.3333333333333333,\"#9c179e\"],[0.4444444444444444,\"#bd3786\"],[0.5555555555555556,\"#d8576b\"],[0.6666666666666666,\"#ed7953\"],[0.7777777777777778,\"#fb9f3a\"],[0.8888888888888888,\"#fdca26\"],[1.0,\"#f0f921\"]]}],\"heatmap\":[{\"type\":\"heatmap\",\"colorbar\":{\"outlinewidth\":0,\"ticks\":\"\"},\"colorscale\":[[0.0,\"#0d0887\"],[0.1111111111111111,\"#46039f\"],[0.2222222222222222,\"#7201a8\"],[0.3333333333333333,\"#9c179e\"],[0.4444444444444444,\"#bd3786\"],[0.5555555555555556,\"#d8576b\"],[0.6666666666666666,\"#ed7953\"],[0.7777777777777778,\"#fb9f3a\"],[0.8888888888888888,\"#fdca26\"],[1.0,\"#f0f921\"]]}],\"heatmapgl\":[{\"type\":\"heatmapgl\",\"colorbar\":{\"outlinewidth\":0,\"ticks\":\"\"},\"colorscale\":[[0.0,\"#0d0887\"],[0.1111111111111111,\"#46039f\"],[0.2222222222222222,\"#7201a8\"],[0.3333333333333333,\"#9c179e\"],[0.4444444444444444,\"#bd3786\"],[0.5555555555555556,\"#d8576b\"],[0.6666666666666666,\"#ed7953\"],[0.7777777777777778,\"#fb9f3a\"],[0.8888888888888888,\"#fdca26\"],[1.0,\"#f0f921\"]]}],\"contourcarpet\":[{\"type\":\"contourcarpet\",\"colorbar\":{\"outlinewidth\":0,\"ticks\":\"\"}}],\"contour\":[{\"type\":\"contour\",\"colorbar\":{\"outlinewidth\":0,\"ticks\":\"\"},\"colorscale\":[[0.0,\"#0d0887\"],[0.1111111111111111,\"#46039f\"],[0.2222222222222222,\"#7201a8\"],[0.3333333333333333,\"#9c179e\"],[0.4444444444444444,\"#bd3786\"],[0.5555555555555556,\"#d8576b\"],[0.6666666666666666,\"#ed7953\"],[0.7777777777777778,\"#fb9f3a\"],[0.8888888888888888,\"#fdca26\"],[1.0,\"#f0f921\"]]}],\"surface\":[{\"type\":\"surface\",\"colorbar\":{\"outlinewidth\":0,\"ticks\":\"\"},\"colorscale\":[[0.0,\"#0d0887\"],[0.1111111111111111,\"#46039f\"],[0.2222222222222222,\"#7201a8\"],[0.3333333333333333,\"#9c179e\"],[0.4444444444444444,\"#bd3786\"],[0.5555555555555556,\"#d8576b\"],[0.6666666666666666,\"#ed7953\"],[0.7777777777777778,\"#fb9f3a\"],[0.8888888888888888,\"#fdca26\"],[1.0,\"#f0f921\"]]}],\"mesh3d\":[{\"type\":\"mesh3d\",\"colorbar\":{\"outlinewidth\":0,\"ticks\":\"\"}}],\"scatter\":[{\"fillpattern\":{\"fillmode\":\"overlay\",\"size\":10,\"solidity\":0.2},\"type\":\"scatter\"}],\"parcoords\":[{\"type\":\"parcoords\",\"line\":{\"colorbar\":{\"outlinewidth\":0,\"ticks\":\"\"}}}],\"scatterpolargl\":[{\"type\":\"scatterpolargl\",\"marker\":{\"colorbar\":{\"outlinewidth\":0,\"ticks\":\"\"}}}],\"bar\":[{\"error_x\":{\"color\":\"#2a3f5f\"},\"error_y\":{\"color\":\"#2a3f5f\"},\"marker\":{\"line\":{\"color\":\"#E5ECF6\",\"width\":0.5},\"pattern\":{\"fillmode\":\"overlay\",\"size\":10,\"solidity\":0.2}},\"type\":\"bar\"}],\"scattergeo\":[{\"type\":\"scattergeo\",\"marker\":{\"colorbar\":{\"outlinewidth\":0,\"ticks\":\"\"}}}],\"scatterpolar\":[{\"type\":\"scatterpolar\",\"marker\":{\"colorbar\":{\"outlinewidth\":0,\"ticks\":\"\"}}}],\"histogram\":[{\"marker\":{\"pattern\":{\"fillmode\":\"overlay\",\"size\":10,\"solidity\":0.2}},\"type\":\"histogram\"}],\"scattergl\":[{\"type\":\"scattergl\",\"marker\":{\"colorbar\":{\"outlinewidth\":0,\"ticks\":\"\"}}}],\"scatter3d\":[{\"type\":\"scatter3d\",\"line\":{\"colorbar\":{\"outlinewidth\":0,\"ticks\":\"\"}},\"marker\":{\"colorbar\":{\"outlinewidth\":0,\"ticks\":\"\"}}}],\"scattermapbox\":[{\"type\":\"scattermapbox\",\"marker\":{\"colorbar\":{\"outlinewidth\":0,\"ticks\":\"\"}}}],\"scatterternary\":[{\"type\":\"scatterternary\",\"marker\":{\"colorbar\":{\"outlinewidth\":0,\"ticks\":\"\"}}}],\"scattercarpet\":[{\"type\":\"scattercarpet\",\"marker\":{\"colorbar\":{\"outlinewidth\":0,\"ticks\":\"\"}}}],\"carpet\":[{\"aaxis\":{\"endlinecolor\":\"#2a3f5f\",\"gridcolor\":\"white\",\"linecolor\":\"white\",\"minorgridcolor\":\"white\",\"startlinecolor\":\"#2a3f5f\"},\"baxis\":{\"endlinecolor\":\"#2a3f5f\",\"gridcolor\":\"white\",\"linecolor\":\"white\",\"minorgridcolor\":\"white\",\"startlinecolor\":\"#2a3f5f\"},\"type\":\"carpet\"}],\"table\":[{\"cells\":{\"fill\":{\"color\":\"#EBF0F8\"},\"line\":{\"color\":\"white\"}},\"header\":{\"fill\":{\"color\":\"#C8D4E3\"},\"line\":{\"color\":\"white\"}},\"type\":\"table\"}],\"barpolar\":[{\"marker\":{\"line\":{\"color\":\"#E5ECF6\",\"width\":0.5},\"pattern\":{\"fillmode\":\"overlay\",\"size\":10,\"solidity\":0.2}},\"type\":\"barpolar\"}],\"pie\":[{\"automargin\":true,\"type\":\"pie\"}]},\"layout\":{\"autotypenumbers\":\"strict\",\"colorway\":[\"#636efa\",\"#EF553B\",\"#00cc96\",\"#ab63fa\",\"#FFA15A\",\"#19d3f3\",\"#FF6692\",\"#B6E880\",\"#FF97FF\",\"#FECB52\"],\"font\":{\"color\":\"#2a3f5f\"},\"hovermode\":\"closest\",\"hoverlabel\":{\"align\":\"left\"},\"paper_bgcolor\":\"white\",\"plot_bgcolor\":\"#E5ECF6\",\"polar\":{\"bgcolor\":\"#E5ECF6\",\"angularaxis\":{\"gridcolor\":\"white\",\"linecolor\":\"white\",\"ticks\":\"\"},\"radialaxis\":{\"gridcolor\":\"white\",\"linecolor\":\"white\",\"ticks\":\"\"}},\"ternary\":{\"bgcolor\":\"#E5ECF6\",\"aaxis\":{\"gridcolor\":\"white\",\"linecolor\":\"white\",\"ticks\":\"\"},\"baxis\":{\"gridcolor\":\"white\",\"linecolor\":\"white\",\"ticks\":\"\"},\"caxis\":{\"gridcolor\":\"white\",\"linecolor\":\"white\",\"ticks\":\"\"}},\"coloraxis\":{\"colorbar\":{\"outlinewidth\":0,\"ticks\":\"\"}},\"colorscale\":{\"sequential\":[[0.0,\"#0d0887\"],[0.1111111111111111,\"#46039f\"],[0.2222222222222222,\"#7201a8\"],[0.3333333333333333,\"#9c179e\"],[0.4444444444444444,\"#bd3786\"],[0.5555555555555556,\"#d8576b\"],[0.6666666666666666,\"#ed7953\"],[0.7777777777777778,\"#fb9f3a\"],[0.8888888888888888,\"#fdca26\"],[1.0,\"#f0f921\"]],\"sequentialminus\":[[0.0,\"#0d0887\"],[0.1111111111111111,\"#46039f\"],[0.2222222222222222,\"#7201a8\"],[0.3333333333333333,\"#9c179e\"],[0.4444444444444444,\"#bd3786\"],[0.5555555555555556,\"#d8576b\"],[0.6666666666666666,\"#ed7953\"],[0.7777777777777778,\"#fb9f3a\"],[0.8888888888888888,\"#fdca26\"],[1.0,\"#f0f921\"]],\"diverging\":[[0,\"#8e0152\"],[0.1,\"#c51b7d\"],[0.2,\"#de77ae\"],[0.3,\"#f1b6da\"],[0.4,\"#fde0ef\"],[0.5,\"#f7f7f7\"],[0.6,\"#e6f5d0\"],[0.7,\"#b8e186\"],[0.8,\"#7fbc41\"],[0.9,\"#4d9221\"],[1,\"#276419\"]]},\"xaxis\":{\"gridcolor\":\"white\",\"linecolor\":\"white\",\"ticks\":\"\",\"title\":{\"standoff\":15},\"zerolinecolor\":\"white\",\"automargin\":true,\"zerolinewidth\":2},\"yaxis\":{\"gridcolor\":\"white\",\"linecolor\":\"white\",\"ticks\":\"\",\"title\":{\"standoff\":15},\"zerolinecolor\":\"white\",\"automargin\":true,\"zerolinewidth\":2},\"scene\":{\"xaxis\":{\"backgroundcolor\":\"#E5ECF6\",\"gridcolor\":\"white\",\"linecolor\":\"white\",\"showbackground\":true,\"ticks\":\"\",\"zerolinecolor\":\"white\",\"gridwidth\":2},\"yaxis\":{\"backgroundcolor\":\"#E5ECF6\",\"gridcolor\":\"white\",\"linecolor\":\"white\",\"showbackground\":true,\"ticks\":\"\",\"zerolinecolor\":\"white\",\"gridwidth\":2},\"zaxis\":{\"backgroundcolor\":\"#E5ECF6\",\"gridcolor\":\"white\",\"linecolor\":\"white\",\"showbackground\":true,\"ticks\":\"\",\"zerolinecolor\":\"white\",\"gridwidth\":2}},\"shapedefaults\":{\"line\":{\"color\":\"#2a3f5f\"}},\"annotationdefaults\":{\"arrowcolor\":\"#2a3f5f\",\"arrowhead\":0,\"arrowwidth\":1},\"geo\":{\"bgcolor\":\"white\",\"landcolor\":\"#E5ECF6\",\"subunitcolor\":\"white\",\"showland\":true,\"showlakes\":true,\"lakecolor\":\"white\"},\"title\":{\"x\":0.05},\"mapbox\":{\"style\":\"light\"}}},\"title\":{\"text\":\"\\u003cb\\u003eCorrelation Among Independent Features\\u003c\\u002fb\\u003e\",\"x\":0.05,\"xanchor\":\"left\"},\"margin\":{\"t\":210,\"l\":110},\"plot_bgcolor\":\"#F6F5F5\",\"paper_bgcolor\":\"#F6F5F5\",\"height\":950,\"width\":950},                        {\"responsive\": true}                    ).then(function(){\n",
       "                            \n",
       "var gd = document.getElementById('cb8f81b9-a418-48a4-91d4-2611deb7a937');\n",
       "var x = new MutationObserver(function (mutations, observer) {{\n",
       "        var display = window.getComputedStyle(gd).display;\n",
       "        if (!display || display === 'none') {{\n",
       "            console.log([gd, 'removed!']);\n",
       "            Plotly.purge(gd);\n",
       "            observer.disconnect();\n",
       "        }}\n",
       "}});\n",
       "\n",
       "// Listen for the removal of the full notebook cells\n",
       "var notebookContainer = gd.closest('#notebook-container');\n",
       "if (notebookContainer) {{\n",
       "    x.observe(notebookContainer, {childList: true});\n",
       "}}\n",
       "\n",
       "// Listen for the clearing of the current output cell\n",
       "var outputEl = gd.closest('.output');\n",
       "if (outputEl) {{\n",
       "    x.observe(outputEl, {childList: true});\n",
       "}}\n",
       "\n",
       "                        })                };                });            </script>        </div>"
      ]
     },
     "metadata": {},
     "output_type": "display_data"
    }
   ],
   "source": [
    "# Measuring correlations\n",
    "corr = np.round(df.corr(), 2)\n",
    "#corr = corr.drop('Target', axis=0).drop('Target', axis=1) # Removing target variable\n",
    "\n",
    "# Filtering redundant values\n",
    "mask = np.triu(np.ones_like(corr, dtype = bool))\n",
    "c_mask = np.where(~mask, corr, 100)\n",
    "\n",
    "c = []\n",
    "for i in c_mask.tolist()[1:]:\n",
    "    c.append([x for x in i if x != 100])\n",
    "\n",
    "# Creating annotated heatmap\n",
    "fig = ff.create_annotated_heatmap(z=c[::-1],\n",
    "                                  x=corr.index.tolist()[:-1],\n",
    "                                  y=corr.columns.tolist()[1:][::-1],\n",
    "                                  colorscale = 'Magenta')\n",
    "\n",
    "fig.update_layout(title = {'text': '<b>Correlation Among Independent Features</b>',\n",
    "                           'x': 0.05, 'xanchor': 'left'},\n",
    "                  margin = dict(t=210, l = 110),\n",
    "                  yaxis = dict(autorange = 'reversed', showgrid = False),\n",
    "                  xaxis = dict(showgrid = False),\n",
    "                  plot_bgcolor = '#F6F5F5',\n",
    "                  paper_bgcolor = '#F6F5F5',\n",
    "                  height = 950, width = 950)\n",
    "                     \n",
    "\n",
    "fig.add_trace(go.Heatmap(z = c[::-1],\n",
    "                         colorscale = 'Magenta',\n",
    "                         showscale = True,\n",
    "                         visible = False))\n",
    "fig.data[1].visible = True\n",
    "for i in range(len(fig.layout.annotations)):\n",
    "    fig.layout.annotations[i].font.size = 12\n",
    "\n",
    "fig.show()"
   ]
  },
  {
   "cell_type": "markdown",
   "metadata": {},
   "source": [
    "<div class=\"alert alert-success\">\n",
    "PLAYTIME: Use the correlation plots to check for multicollinearity, to see if there is any strong correlation between the independent variables. \n",
    "</div>\n"
   ]
  },
  {
   "cell_type": "markdown",
   "metadata": {},
   "source": [
    "# Implementing an Ordinary Least Squares (OLS) linear regression model"
   ]
  },
  {
   "cell_type": "markdown",
   "metadata": {},
   "source": [
    "We are going to see the \"magic\" behind scikit-learn LinearRegression algorithm. We will use MEDV as the target variable and RM as the independent variable. We will see how to solve the find the parameter for a simple linear regression model with just one parameter by means of (1) an iterative algorithm named **Gradient Descent (GD)** and (2) by the deterministic **normal equations**."
   ]
  },
  {
   "cell_type": "markdown",
   "metadata": {},
   "source": [
    "## Solving regression for regression parameters with gradient descent"
   ]
  },
  {
   "cell_type": "code",
   "execution_count": 7,
   "metadata": {},
   "outputs": [],
   "source": [
    "class LinearRegressionGD(object):\n",
    "\n",
    "    def __init__(self, eta=0.001, n_iter=20):\n",
    "        self.eta = eta\n",
    "        self.n_iter = n_iter\n",
    "\n",
    "    def fit(self, X, y):\n",
    "        self.w_ = np.zeros(1 + X.shape[1])\n",
    "        self.cost_ = []\n",
    "\n",
    "        for i in range(self.n_iter):\n",
    "            output = self.net_input(X)\n",
    "            errors = (y - output)\n",
    "            self.w_[1:] += self.eta * X.T.dot(errors)\n",
    "            self.w_[0] += self.eta * errors.sum()\n",
    "            cost = (errors**2).sum() / 2.0\n",
    "            self.cost_.append(cost)\n",
    "        return self\n",
    "\n",
    "    def net_input(self, X):\n",
    "        return np.dot(X, self.w_[1:]) + self.w_[0]\n",
    "\n",
    "    def predict(self, X):\n",
    "        return self.net_input(X)"
   ]
  },
  {
   "cell_type": "markdown",
   "metadata": {},
   "source": [
    "<div class=\"alert alert-success\">\n",
    "PLAYTIME: Try to understand previous code and relate to the normal equations. How the parameters are updated? What is eta parameter? When the algortihm stops? Which is the loss function?\n",
    "</div>"
   ]
  },
  {
   "cell_type": "code",
   "execution_count": 8,
   "metadata": {},
   "outputs": [],
   "source": [
    "X = df[['RM']].values\n",
    "y = df['MEDV'].values"
   ]
  },
  {
   "cell_type": "code",
   "execution_count": 9,
   "metadata": {},
   "outputs": [],
   "source": [
    "from sklearn.preprocessing import StandardScaler\n",
    "\n",
    "sc_x = StandardScaler()\n",
    "sc_y = StandardScaler()\n",
    "X_std = sc_x.fit_transform(X)\n",
    "y_std = sc_y.fit_transform(y[:, np.newaxis]).flatten()"
   ]
  },
  {
   "cell_type": "code",
   "execution_count": 10,
   "metadata": {},
   "outputs": [
    {
     "data": {
      "text/plain": [
       "<__main__.LinearRegressionGD at 0x2970a7b10>"
      ]
     },
     "execution_count": 10,
     "metadata": {},
     "output_type": "execute_result"
    }
   ],
   "source": [
    "lr = LinearRegressionGD()\n",
    "lr.fit(X_std, y_std)"
   ]
  },
  {
   "cell_type": "code",
   "execution_count": 11,
   "metadata": {},
   "outputs": [
    {
     "data": {
      "image/png": "[encoded data removed]",
      "text/plain": [
       "<Figure size 640x480 with 1 Axes>"
      ]
     },
     "metadata": {},
     "output_type": "display_data"
    }
   ],
   "source": [
    "plt.plot(range(1, lr.n_iter+1), lr.cost_)\n",
    "plt.ylabel('SSE')\n",
    "plt.xlabel('Epoch')\n",
    "#plt.tight_layout()\n",
    "#plt.savefig('images/10_05.png', dpi=300)\n",
    "plt.show()"
   ]
  },
  {
   "cell_type": "markdown",
   "metadata": {},
   "source": [
    "<div class=\"alert alert-success\">\n",
    "PLAYTIME: Are 20 iterations necessary? Think on a method to stop previous algoritm (stopping criteria) to avoid unnecessary iterations.\n",
    "</div>"
   ]
  },
  {
   "cell_type": "code",
   "execution_count": 12,
   "metadata": {},
   "outputs": [],
   "source": [
    "def lin_regplot(X, y, model):\n",
    "    plt.scatter(X, y, c='steelblue', edgecolor='white', s=70)\n",
    "    plt.plot(X, model.predict(X), color='black', lw=2)    \n",
    "    return "
   ]
  },
  {
   "cell_type": "code",
   "execution_count": 13,
   "metadata": {},
   "outputs": [
    {
     "data": {
      "image/png": "[encoded data removed]",
      "text/plain": [
       "<Figure size 640x480 with 1 Axes>"
      ]
     },
     "metadata": {},
     "output_type": "display_data"
    }
   ],
   "source": [
    "lin_regplot(X_std, y_std, lr)\n",
    "plt.xlabel('Average number of rooms [RM] (standardized)')\n",
    "plt.ylabel('Price in $1000s [MEDV] (standardized)')\n",
    "\n",
    "#plt.savefig('images/10_06.png', dpi=300)\n",
    "plt.show()"
   ]
  },
  {
   "cell_type": "code",
   "execution_count": 14,
   "metadata": {},
   "outputs": [
    {
     "name": "stdout",
     "output_type": "stream",
     "text": [
      "Slope: 0.695\n",
      "Intercept: -0.000\n"
     ]
    }
   ],
   "source": [
    "print('Slope: %.3f' % lr.w_[1])\n",
    "print('Intercept: %.3f' % lr.w_[0])"
   ]
  },
  {
   "cell_type": "code",
   "execution_count": 15,
   "metadata": {},
   "outputs": [
    {
     "name": "stdout",
     "output_type": "stream",
     "text": [
      "Price in $1000s: 10.840\n"
     ]
    }
   ],
   "source": [
    "from distutils.version import LooseVersion\n",
    "import sklearn\n",
    "\n",
    "\n",
    "num_rooms_std = sc_x.transform(np.array([[5.0]]))\n",
    "price_std = lr.predict(num_rooms_std)\n",
    "\n",
    "if LooseVersion(sklearn.__version__) >= LooseVersion('0.23.0'):\n",
    "    print(\"Price in $1000s: %.3f\" % sc_y.inverse_transform(price_std[:, np.newaxis]).flatten())\n",
    "else:\n",
    "    print(\"Price in $1000s: %.3f\" % sc_y.inverse_transform(price_std))"
   ]
  },
  {
   "cell_type": "markdown",
   "metadata": {},
   "source": [
    "## Estimating the coefficient of a regression model via scikit-learn"
   ]
  },
  {
   "cell_type": "code",
   "execution_count": 16,
   "metadata": {},
   "outputs": [],
   "source": [
    "from sklearn.linear_model import LinearRegression"
   ]
  },
  {
   "cell_type": "code",
   "execution_count": 17,
   "metadata": {},
   "outputs": [
    {
     "name": "stdout",
     "output_type": "stream",
     "text": [
      "Slope: 9.102\n",
      "Intercept: -34.671\n"
     ]
    }
   ],
   "source": [
    "slr = LinearRegression()\n",
    "slr.fit(X, y) # type: ignore\n",
    "y_pred = slr.predict(X)\n",
    "print('Slope: %.3f' % slr.coef_[0])\n",
    "print('Intercept: %.3f' % slr.intercept_)"
   ]
  },
  {
   "cell_type": "code",
   "execution_count": 18,
   "metadata": {},
   "outputs": [
    {
     "data": {
      "image/png": "[encoded data removed]",
      "text/plain": [
       "<Figure size 640x480 with 1 Axes>"
      ]
     },
     "metadata": {},
     "output_type": "display_data"
    }
   ],
   "source": [
    "lin_regplot(X, y, slr)\n",
    "plt.xlabel('Average number of rooms [RM]')\n",
    "plt.ylabel('Price in $1000s [MEDV]')\n",
    "\n",
    "#plt.savefig('images/10_07.png', dpi=300)\n",
    "plt.show()"
   ]
  },
  {
   "cell_type": "markdown",
   "metadata": {},
   "source": [
    "<div class=\"alert alert-success\">\n",
    "PLAYTIME: Why do you think that the LinearRegression library does not have any parameter as input for estimating the regression?\n",
    "</div>"
   ]
  },
  {
   "cell_type": "markdown",
   "metadata": {},
   "source": [
    "**Normal Equations** alternative:"
   ]
  },
  {
   "cell_type": "code",
   "execution_count": 19,
   "metadata": {},
   "outputs": [
    {
     "name": "stdout",
     "output_type": "stream",
     "text": [
      "Slope: 9.102\n",
      "Intercept: -34.671\n"
     ]
    }
   ],
   "source": [
    "# adding a column vector of \"ones\"\n",
    "Xb = np.hstack((np.ones((X.shape[0], 1)), X))\n",
    "w = np.zeros(X.shape[1])\n",
    "z = np.linalg.inv(np.dot(Xb.T, Xb))\n",
    "w = np.dot(z, np.dot(Xb.T, y))\n",
    "\n",
    "print('Slope: %.3f' % w[1])\n",
    "print('Intercept: %.3f' % w[0])"
   ]
  },
  {
   "cell_type": "markdown",
   "metadata": {},
   "source": [
    "# Evaluating the performance of linear regression models"
   ]
  },
  {
   "cell_type": "code",
   "execution_count": 20,
   "metadata": {},
   "outputs": [],
   "source": [
    "from sklearn.model_selection import train_test_split\n",
    "\n",
    "X = df.iloc[:, :-1].values\n",
    "y = df['MEDV'].values\n",
    "\n",
    "X_train, X_test, y_train, y_test = train_test_split(\n",
    "    X, y, test_size=0.3, random_state=0)"
   ]
  },
  {
   "cell_type": "code",
   "execution_count": 21,
   "metadata": {},
   "outputs": [],
   "source": [
    "slr = LinearRegression()\n",
    "\n",
    "slr.fit(X_train, y_train)\n",
    "y_train_pred = slr.predict(X_train)\n",
    "y_test_pred = slr.predict(X_test)"
   ]
  },
  {
   "cell_type": "code",
   "execution_count": 22,
   "metadata": {},
   "outputs": [
    {
     "data": {
      "image/png": "[encoded data removed]",
      "text/plain": [
       "<Figure size 640x480 with 1 Axes>"
      ]
     },
     "metadata": {},
     "output_type": "display_data"
    }
   ],
   "source": [
    "plt.scatter(y_train_pred,  y_train_pred - y_train,\n",
    "            c='steelblue', marker='o', edgecolor='white',\n",
    "            label='Training data')\n",
    "plt.scatter(y_test_pred,  y_test_pred - y_test,\n",
    "            c='limegreen', marker='s', edgecolor='white',\n",
    "            label='Test data')\n",
    "plt.xlabel('Predicted values')\n",
    "plt.ylabel('Residuals')\n",
    "plt.legend(loc='upper left')\n",
    "plt.hlines(y=0, xmin=-10, xmax=50, color='black', lw=2)\n",
    "plt.xlim([-10, 50])\n",
    "plt.tight_layout()\n",
    "\n",
    "# plt.savefig('images/10_09.png', dpi=300)\n",
    "plt.show()"
   ]
  },
  {
   "cell_type": "code",
   "execution_count": 23,
   "metadata": {},
   "outputs": [
    {
     "name": "stdout",
     "output_type": "stream",
     "text": [
      "MSE train: 19.958, test: 27.196\n",
      "R^2 train: 0.765, test: 0.673\n"
     ]
    }
   ],
   "source": [
    "from sklearn.metrics import r2_score\n",
    "from sklearn.metrics import mean_squared_error\n",
    "\n",
    "print('MSE train: %.3f, test: %.3f' % (\n",
    "        mean_squared_error(y_train, y_train_pred),\n",
    "        mean_squared_error(y_test, y_test_pred)))\n",
    "print('R^2 train: %.3f, test: %.3f' % (\n",
    "        r2_score(y_train, y_train_pred),\n",
    "        r2_score(y_test, y_test_pred)))"
   ]
  },
  {
   "cell_type": "markdown",
   "metadata": {},
   "source": [
    "# Estimating the coefficients of a regression model via statsmodels"
   ]
  },
  {
   "cell_type": "markdown",
   "metadata": {},
   "source": [
    "Once we have seen the magic, in fact, for the modeling step, we are going to use <code>statsmodel.OLS</code> to fit the linear regression model to the training data. This will also allow us to print a summary describing key metrics for a better understanding on how well the model fits the data.\n",
    "\n",
    "I am also going to use a testing set to predict the values for the dependent variable, and use the <b><i>Root Mean Squared Error</i></b> to evaluate performance. The RMSE is given by the following formula:\n",
    "\n",
    "\\begin{equation}\n",
    "\\text{RMSE} = \\sqrt{\\frac{\\sum_{i=1}^{n} (Y_i - \\hat{Y}_i)^2}{n}}\n",
    "\\end{equation}\n",
    "Where:</p>\n",
    "\n",
    "$Y_i$ is the true value for $Y$ in the $i^{th}$ sample.\n",
    "$\\hat{Y}_i$ is the predicted value for $Y$ in the $i^{th}$ sample.\n",
    "The RMSE is simply the square root of the average of the squared differences between the actual and predicted values. It is expressed in the same units as the target variable, making it very intuitive to comprehend. The closer to 0, the most accurate are the predictions."
   ]
  },
  {
   "cell_type": "code",
   "execution_count": 24,
   "metadata": {},
   "outputs": [],
   "source": [
    "data=df"
   ]
  },
  {
   "cell_type": "code",
   "execution_count": 25,
   "metadata": {},
   "outputs": [],
   "source": [
    "from sklearn.model_selection import train_test_split\n",
    "\n",
    "X = df.iloc[:, :-1]\n",
    "y = df['MEDV']\n",
    "\n",
    "X_train, X_test, y_train, y_test = train_test_split(\n",
    "    X, y, test_size=0.3, random_state=0)"
   ]
  },
  {
   "cell_type": "markdown",
   "metadata": {},
   "source": [
    "We are also going to add a constant to the $X$ dataframes. This is basically the first column of $1_s$ we have seen before, used for the intercept, which is the $\\beta_1$ in the $\\beta$ vector."
   ]
  },
  {
   "cell_type": "code",
   "execution_count": 26,
   "metadata": {},
   "outputs": [
    {
     "data": {
      "text/html": [
       "<div>\n",
       "<style scoped>\n",
       "    .dataframe tbody tr th:only-of-type {\n",
       "        vertical-align: middle;\n",
       "    }\n",
       "\n",
       "    .dataframe tbody tr th {\n",
       "        vertical-align: top;\n",
       "    }\n",
       "\n",
       "    .dataframe thead th {\n",
       "        text-align: right;\n",
       "    }\n",
       "</style>\n",
       "<table border=\"1\" class=\"dataframe\">\n",
       "  <thead>\n",
       "    <tr style=\"text-align: right;\">\n",
       "      <th></th>\n",
       "      <th>CRIM</th>\n",
       "      <th>ZN</th>\n",
       "      <th>INDUS</th>\n",
       "      <th>CHAS</th>\n",
       "      <th>NOX</th>\n",
       "      <th>RM</th>\n",
       "      <th>AGE</th>\n",
       "      <th>DIS</th>\n",
       "      <th>RAD</th>\n",
       "      <th>TAX</th>\n",
       "      <th>PTRATIO</th>\n",
       "      <th>B</th>\n",
       "      <th>LSTAT</th>\n",
       "    </tr>\n",
       "  </thead>\n",
       "  <tbody>\n",
       "    <tr>\n",
       "      <th>141</th>\n",
       "      <td>1.62864</td>\n",
       "      <td>0.0</td>\n",
       "      <td>21.89</td>\n",
       "      <td>0</td>\n",
       "      <td>0.624</td>\n",
       "      <td>5.019</td>\n",
       "      <td>100.0</td>\n",
       "      <td>1.4394</td>\n",
       "      <td>4</td>\n",
       "      <td>437.0</td>\n",
       "      <td>21.2</td>\n",
       "      <td>396.90</td>\n",
       "      <td>34.41</td>\n",
       "    </tr>\n",
       "    <tr>\n",
       "      <th>272</th>\n",
       "      <td>0.11460</td>\n",
       "      <td>20.0</td>\n",
       "      <td>6.96</td>\n",
       "      <td>0</td>\n",
       "      <td>0.464</td>\n",
       "      <td>6.538</td>\n",
       "      <td>58.7</td>\n",
       "      <td>3.9175</td>\n",
       "      <td>3</td>\n",
       "      <td>223.0</td>\n",
       "      <td>18.6</td>\n",
       "      <td>394.96</td>\n",
       "      <td>7.73</td>\n",
       "    </tr>\n",
       "    <tr>\n",
       "      <th>135</th>\n",
       "      <td>0.55778</td>\n",
       "      <td>0.0</td>\n",
       "      <td>21.89</td>\n",
       "      <td>0</td>\n",
       "      <td>0.624</td>\n",
       "      <td>6.335</td>\n",
       "      <td>98.2</td>\n",
       "      <td>2.1107</td>\n",
       "      <td>4</td>\n",
       "      <td>437.0</td>\n",
       "      <td>21.2</td>\n",
       "      <td>394.67</td>\n",
       "      <td>16.96</td>\n",
       "    </tr>\n",
       "    <tr>\n",
       "      <th>298</th>\n",
       "      <td>0.06466</td>\n",
       "      <td>70.0</td>\n",
       "      <td>2.24</td>\n",
       "      <td>0</td>\n",
       "      <td>0.400</td>\n",
       "      <td>6.345</td>\n",
       "      <td>20.1</td>\n",
       "      <td>7.8278</td>\n",
       "      <td>5</td>\n",
       "      <td>358.0</td>\n",
       "      <td>14.8</td>\n",
       "      <td>368.24</td>\n",
       "      <td>4.97</td>\n",
       "    </tr>\n",
       "    <tr>\n",
       "      <th>122</th>\n",
       "      <td>0.09299</td>\n",
       "      <td>0.0</td>\n",
       "      <td>25.65</td>\n",
       "      <td>0</td>\n",
       "      <td>0.581</td>\n",
       "      <td>5.961</td>\n",
       "      <td>92.9</td>\n",
       "      <td>2.0869</td>\n",
       "      <td>2</td>\n",
       "      <td>188.0</td>\n",
       "      <td>19.1</td>\n",
       "      <td>378.09</td>\n",
       "      <td>17.93</td>\n",
       "    </tr>\n",
       "    <tr>\n",
       "      <th>...</th>\n",
       "      <td>...</td>\n",
       "      <td>...</td>\n",
       "      <td>...</td>\n",
       "      <td>...</td>\n",
       "      <td>...</td>\n",
       "      <td>...</td>\n",
       "      <td>...</td>\n",
       "      <td>...</td>\n",
       "      <td>...</td>\n",
       "      <td>...</td>\n",
       "      <td>...</td>\n",
       "      <td>...</td>\n",
       "      <td>...</td>\n",
       "    </tr>\n",
       "    <tr>\n",
       "      <th>323</th>\n",
       "      <td>0.28392</td>\n",
       "      <td>0.0</td>\n",
       "      <td>7.38</td>\n",
       "      <td>0</td>\n",
       "      <td>0.493</td>\n",
       "      <td>5.708</td>\n",
       "      <td>74.3</td>\n",
       "      <td>4.7211</td>\n",
       "      <td>5</td>\n",
       "      <td>287.0</td>\n",
       "      <td>19.6</td>\n",
       "      <td>391.13</td>\n",
       "      <td>11.74</td>\n",
       "    </tr>\n",
       "    <tr>\n",
       "      <th>192</th>\n",
       "      <td>0.08664</td>\n",
       "      <td>45.0</td>\n",
       "      <td>3.44</td>\n",
       "      <td>0</td>\n",
       "      <td>0.437</td>\n",
       "      <td>7.178</td>\n",
       "      <td>26.3</td>\n",
       "      <td>6.4798</td>\n",
       "      <td>5</td>\n",
       "      <td>398.0</td>\n",
       "      <td>15.2</td>\n",
       "      <td>390.49</td>\n",
       "      <td>2.87</td>\n",
       "    </tr>\n",
       "    <tr>\n",
       "      <th>117</th>\n",
       "      <td>0.15098</td>\n",
       "      <td>0.0</td>\n",
       "      <td>10.01</td>\n",
       "      <td>0</td>\n",
       "      <td>0.547</td>\n",
       "      <td>6.021</td>\n",
       "      <td>82.6</td>\n",
       "      <td>2.7474</td>\n",
       "      <td>6</td>\n",
       "      <td>432.0</td>\n",
       "      <td>17.8</td>\n",
       "      <td>394.51</td>\n",
       "      <td>10.30</td>\n",
       "    </tr>\n",
       "    <tr>\n",
       "      <th>47</th>\n",
       "      <td>0.22927</td>\n",
       "      <td>0.0</td>\n",
       "      <td>6.91</td>\n",
       "      <td>0</td>\n",
       "      <td>0.448</td>\n",
       "      <td>6.030</td>\n",
       "      <td>85.5</td>\n",
       "      <td>5.6894</td>\n",
       "      <td>3</td>\n",
       "      <td>233.0</td>\n",
       "      <td>17.9</td>\n",
       "      <td>392.74</td>\n",
       "      <td>18.80</td>\n",
       "    </tr>\n",
       "    <tr>\n",
       "      <th>172</th>\n",
       "      <td>0.13914</td>\n",
       "      <td>0.0</td>\n",
       "      <td>4.05</td>\n",
       "      <td>0</td>\n",
       "      <td>0.510</td>\n",
       "      <td>5.572</td>\n",
       "      <td>88.5</td>\n",
       "      <td>2.5961</td>\n",
       "      <td>5</td>\n",
       "      <td>296.0</td>\n",
       "      <td>16.6</td>\n",
       "      <td>396.90</td>\n",
       "      <td>14.69</td>\n",
       "    </tr>\n",
       "  </tbody>\n",
       "</table>\n",
       "<p>354 rows × 13 columns</p>\n",
       "</div>"
      ],
      "text/plain": [
       "        CRIM    ZN  INDUS  CHAS    NOX     RM    AGE     DIS  RAD    TAX  \\\n",
       "141  1.62864   0.0  21.89     0  0.624  5.019  100.0  1.4394    4  437.0   \n",
       "272  0.11460  20.0   6.96     0  0.464  6.538   58.7  3.9175    3  223.0   \n",
       "135  0.55778   0.0  21.89     0  0.624  6.335   98.2  2.1107    4  437.0   \n",
       "298  0.06466  70.0   2.24     0  0.400  6.345   20.1  7.8278    5  358.0   \n",
       "122  0.09299   0.0  25.65     0  0.581  5.961   92.9  2.0869    2  188.0   \n",
       "..       ...   ...    ...   ...    ...    ...    ...     ...  ...    ...   \n",
       "323  0.28392   0.0   7.38     0  0.493  5.708   74.3  4.7211    5  287.0   \n",
       "192  0.08664  45.0   3.44     0  0.437  7.178   26.3  6.4798    5  398.0   \n",
       "117  0.15098   0.0  10.01     0  0.547  6.021   82.6  2.7474    6  432.0   \n",
       "47   0.22927   0.0   6.91     0  0.448  6.030   85.5  5.6894    3  233.0   \n",
       "172  0.13914   0.0   4.05     0  0.510  5.572   88.5  2.5961    5  296.0   \n",
       "\n",
       "     PTRATIO       B  LSTAT  \n",
       "141     21.2  396.90  34.41  \n",
       "272     18.6  394.96   7.73  \n",
       "135     21.2  394.67  16.96  \n",
       "298     14.8  368.24   4.97  \n",
       "122     19.1  378.09  17.93  \n",
       "..       ...     ...    ...  \n",
       "323     19.6  391.13  11.74  \n",
       "192     15.2  390.49   2.87  \n",
       "117     17.8  394.51  10.30  \n",
       "47      17.9  392.74  18.80  \n",
       "172     16.6  396.90  14.69  \n",
       "\n",
       "[354 rows x 13 columns]"
      ]
     },
     "execution_count": 26,
     "metadata": {},
     "output_type": "execute_result"
    }
   ],
   "source": [
    "X_train"
   ]
  },
  {
   "cell_type": "markdown",
   "metadata": {},
   "source": [
    "LSTAT: Proportion of population that is lower status = 1/2 * (proportion of adults without some high school education and proportion of male workers classified as laborers). (1970 US Census)\n",
    "\n",
    "Some ethics notes again https://medium.com/@docintangible/racist-data-destruction-113e3eff54a8"
   ]
  },
  {
   "cell_type": "code",
   "execution_count": 27,
   "metadata": {},
   "outputs": [
    {
     "data": {
      "text/plain": [
       "<Axes: xlabel='RM', ylabel='MEDV'>"
      ]
     },
     "execution_count": 27,
     "metadata": {},
     "output_type": "execute_result"
    },
    {
     "data": {
      "image/png": "[encoded data removed]",
      "text/plain": [
       "<Figure size 640x480 with 1 Axes>"
      ]
     },
     "metadata": {},
     "output_type": "display_data"
    }
   ],
   "source": [
    "#sns.regplot(x=data['LSTAT'],y=data['MEDV'])\n",
    "sns.regplot(x=X_train['RM'],y=y_train)\n"
   ]
  },
  {
   "cell_type": "markdown",
   "metadata": {},
   "source": [
    "## Simple Linear Regression"
   ]
  },
  {
   "cell_type": "code",
   "execution_count": 28,
   "metadata": {},
   "outputs": [
    {
     "name": "stdout",
     "output_type": "stream",
     "text": [
      "                            OLS Regression Results                            \n",
      "==============================================================================\n",
      "Dep. Variable:                   MEDV   R-squared:                       0.503\n",
      "Model:                            OLS   Adj. R-squared:                  0.501\n",
      "Method:                 Least Squares   F-statistic:                     355.8\n",
      "Date:                Sun, 15 Oct 2023   Prob (F-statistic):           2.45e-55\n",
      "Time:                        22:22:11   Log-Likelihood:                -1164.5\n",
      "No. Observations:                 354   AIC:                             2333.\n",
      "Df Residuals:                     352   BIC:                             2341.\n",
      "Df Model:                           1                                         \n",
      "Covariance Type:            nonrobust                                         \n",
      "==============================================================================\n",
      "                 coef    std err          t      P>|t|      [0.025      0.975]\n",
      "------------------------------------------------------------------------------\n",
      "Intercept    -35.9943      3.133    -11.487      0.000     -42.157     -29.832\n",
      "RM             9.3113      0.494     18.861      0.000       8.340      10.282\n",
      "==============================================================================\n",
      "Omnibus:                       75.533   Durbin-Watson:                   1.931\n",
      "Prob(Omnibus):                  0.000   Jarque-Bera (JB):              504.691\n",
      "Skew:                           0.685   Prob(JB):                    2.56e-110\n",
      "Kurtosis:                       8.687   Cond. No.                         58.9\n",
      "==============================================================================\n",
      "\n",
      "Notes:\n",
      "[1] Standard Errors assume that the covariance matrix of the errors is correctly specified.\n"
     ]
    }
   ],
   "source": [
    "data = X_train\n",
    "data['MEDV'] = y_train\n",
    "model = smf.ols('MEDV ~ RM',data = data).fit()\n",
    "print(model.summary())"
   ]
  },
  {
   "cell_type": "code",
   "execution_count": 29,
   "metadata": {},
   "outputs": [
    {
     "data": {
      "application/vnd.plotly.v1+json": {
       "config": {
        "plotlyServerURL": "https://plot.ly"
       },
       "data": [
        {
         "autobinx": false,
         "histnorm": "probability density",
         "legendgroup": "Residuals",
         "marker": {
          "color": "rgb(31, 119, 180)"
         },
         "name": "Residuals",
         "opacity": 0.7,
         "type": "histogram",
         "x": [
          3.660793428722478,
          -0.48311389935709315,
          -4.89291430251696,
          -0.5860275831494803,
          0.9895223931392287,
          -5.995827986309358,
          1.306779792352657,
          -2.2697483341292966,
          -12.588941266941877,
          -2.56750689539977,
          6.5130150334446135,
          -1.3212146266392075,
          2.8466744168423617,
          1.5535403694225032,
          0.14461614807907708,
          -1.7373314724804878,
          1.4204720294981747,
          -6.121439330180127,
          3.602338448468288,
          -1.3929350693043023,
          -5.6746787531102925,
          4.798548582859446,
          1.9275419188318956,
          -11.750045559432753,
          1.6395629939339589,
          5.506290717256043,
          0.8012790966855867,
          -0.4444221286015555,
          -7.776329148366402,
          -10.854507670104466,
          0.8461645749584044,
          4.1858344959071765,
          1.1534384010457117,
          0.7131982034108617,
          -1.9688513855255003,
          -1.2863127214925179,
          13.07733891485826,
          -9.6333584369054,
          -12.347518982360189,
          -1.2297517412628025,
          -1.2205423815763403,
          -0.9267776226682969,
          9.938728345692184,
          3.161690377326263,
          -3.367302958646185,
          2.2704106619161024,
          1.0903985749556853,
          10.809245934623114,
          -1.089226405284915,
          5.391743065081414,
          9.073161942529595,
          2.8637486460895474,
          -7.284092049550331,
          3.8118329464977876,
          0.49039857495568384,
          -0.008236168131247723,
          -1.5787537570621737,
          5.071673950452389,
          0.8602439188237412,
          -0.6490674092395139,
          -14.5661416384867,
          1.5096934761450527,
          -0.6877799467823813,
          -13.911924065363294,
          -7.493790484333417,
          -0.6457666187272864,
          -7.870705717535195,
          3.7924568437189663,
          4.294452812120225,
          0.29932279629910497,
          -2.280506120695076,
          -0.8098053617979044,
          2.180985278515635,
          -1.8515939863120714,
          -4.501268247174309,
          -3.73869672939356,
          -0.6523681997517343,
          -1.8492713459930918,
          -6.950147527809548,
          -0.7504326661525837,
          3.140154037407374,
          0.8154396421403867,
          -0.3124131404599204,
          0.9560669464950671,
          -6.55401859500784,
          3.3368532468951493,
          5.396918954390667,
          -0.26353385982468325,
          -23.859111417167746,
          -1.5782646819655461,
          -4.450330697775794,
          -1.9335623736589866,
          8.271307610519898,
          -1.1648783499504098,
          14.985549357564143,
          -0.5701354408491284,
          2.1956556658543924,
          -7.2675068953997695,
          10.801522701453951,
          -13.966813883549559,
          -4.123191693813039,
          0.06580691485282841,
          0.18379699393123516,
          -3.9895323104152833,
          -4.752938476437809,
          0.6838989623080316,
          -3.557034247177029,
          5.947835737001853,
          3.091661863491961,
          -0.3345197570648928,
          2.0826356737717546,
          1.2451052231757025,
          -0.34976042108971583,
          -7.714165504092822,
          -5.149454515959345,
          30.336709744943683,
          -2.5039779942131197,
          -5.7776944052794725,
          2.8485079820647137,
          -5.511251820300426,
          -0.801553385517348,
          2.413300171787654,
          0.005027428719756699,
          -0.7339494803788149,
          -4.253163179978726,
          -5.242099488282577,
          4.323466914880012,
          -1.3286111878906475,
          1.4642981559882813,
          -1.5361701523210023,
          1.3223055947205289,
          3.4317188911605676,
          -3.6004940337346483,
          3.992456843718962,
          9.301441499864499,
          11.187139318018126,
          2.3663564247515616,
          2.386242369414351,
          3.2623626223891335,
          -3.5659584685204546,
          4.469249341756619,
          4.4719798555827595,
          -2.1936073143671635,
          -3.731218966552664,
          12.164828764659575,
          4.203968076937066,
          -12.195542847966319,
          5.491580661902507,
          5.468393926727501,
          -2.31076274520381,
          1.5996079346421475,
          -1.2728451878879277,
          -0.3305467214897959,
          1.0012583298982527,
          1.3803130334527722,
          0.916457460348405,
          -3.3250252590353924,
          11.127481484029786,
          16.2618131124904,
          1.4713888121093497,
          -5.061475591061402,
          -0.6059135278122696,
          0.01067162633829355,
          -0.7211541918370958,
          4.625972725165246,
          3.831616922783784,
          -2.45430373335088,
          -2.6059135278122696,
          9.364073452447364,
          -3.4796299388786203,
          -1.0184029112236104,
          2.7248529385804225,
          6.867007903027092,
          1.9562501164613124,
          -2.995236942835941,
          -11.921928405276752,
          0.5945755472843572,
          -0.762270571288397,
          -2.1012682471743087,
          0.8683731599401625,
          0.6554759030216495,
          2.1144614919471394,
          1.5712868437325582,
          -1.2687286503613677,
          -10.11037563848398,
          4.233675191547054,
          3.4477337686250635,
          1.6567391915579357,
          8.579763523554028,
          -1.9152248558755218,
          -0.3772053301828464,
          10.213666511720142,
          -18.486984966555383,
          4.1424766777263535,
          4.174506432655324,
          1.7425786461031372,
          -3.512800247179751,
          7.271796685616511,
          -15.044299393437424,
          1.3570450966883065,
          0.42106307297158097,
          3.7143802903576812,
          -1.0574213538968635,
          -17.099393148377274,
          2.4867106777236323,
          1.3846939425350264,
          1.6068817607294505,
          -1.835110800538299,
          2.076238029500896,
          -0.44334201003151463,
          2.567211839780679,
          0.17089973701272498,
          6.2346118081656225,
          -11.535395938881342,
          -15.867404927022978,
          -5.729487369707105,
          -1.2327881602193216,
          -0.5582767689259676,
          -1.9195849981704427,
          -14.048293195799852,
          -4.938207654296942,
          4.844922053209459,
          -3.6324010534994926,
          2.861690377326262,
          -9.61076274520381,
          -1.2276330376974087,
          2.71794545242561,
          39.71704850382182,
          -7.730933828209626,
          6.979763523554027,
          -2.0169564527210824,
          4.7175791124931195,
          4.654599721205205,
          2.01863846427581,
          23.766743531471395,
          10.587709594704215,
          -1.5921400890772972,
          -2.4059135278122668,
          2.7068005591399995,
          -0.08458112464695233,
          -1.3167732827548377,
          2.0971833259463715,
          2.7906025117092668,
          0.12248876468677317,
          1.2710224721768633,
          4.112973499869941,
          -9.01785340132487,
          4.646938788398057,
          7.6655822113119,
          0.8973060611105019,
          5.505801642159421,
          0.6800071283223961,
          -2.0601311009356635,
          3.4918865670328856,
          -4.047620950736981,
          -3.3091123499476893,
          -11.752266231374938,
          -5.26681388354956,
          6.597815902994462,
          1.2621794524228882,
          11.372489697466726,
          0.4042739820674335,
          0.38913528641940687,
          0.41036572120792236,
          -7.67895769381575,
          -0.42667565429150045,
          -10.000860373667141,
          4.122467997899434,
          -1.6447072669445966,
          2.1143595235703536,
          8.738260037382894,
          1.9311278476871578,
          1.6438419346394255,
          6.736975982059278,
          4.128336899058898,
          -10.605241282749397,
          -0.27467875311029033,
          4.948549515639385,
          -12.016671314378046,
          -6.539083836113388,
          3.8527661559828488,
          1.0137684800969353,
          0.7550680295144865,
          -1.5286111878906503,
          -0.41907515628647474,
          -13.447804120703227,
          5.14296575282297,
          -2.6937092827439564,
          3.5450032547989103,
          -7.000575235324099,
          -8.989613512004743,
          -5.88680179658914,
          0.6093271362125634,
          -6.0827267926372635,
          7.384102899061617,
          20.666071286408524,
          8.011976448449253,
          5.275932124370517,
          1.5160911204159149,
          7.435142416836918,
          -6.044035021881726,
          -6.208052998165002,
          -0.815041685909268,
          8.301747404994881,
          -7.680302183941489,
          -10.756443203703615,
          -0.5066877412519268,
          -7.43268619184253,
          -9.780322950728829,
          -3.3253103973784306,
          4.726746938604899,
          -2.091651013980684,
          -3.3282448479581586,
          1.7933122587480739,
          0.14154006110778283,
          0.17701224294054896,
          -7.49621509302918,
          -13.529955678016387,
          0.8818614603320931,
          0.11874043265260426,
          0.16702866981443165,
          -0.4196869665472285,
          -0.9032037807734561,
          -7.006606539662469,
          7.023364946503229,
          2.3211442745610356,
          -0.6159990693151762,
          -2.239776847963599,
          4.185936464283973,
          -0.39592995468614234,
          -7.417181156262002,
          4.039277855590921,
          0.38467317574769666,
          5.386140401037558,
          3.777318148070929,
          -1.3531424131913923,
          -11.144707266944597,
          -5.650126761022204,
          -0.7426697649686567,
          0.44355679629638445,
          1.199709903018931,
          2.1602439188237383,
          -1.0070748479717544,
          5.535223618426382,
          4.975932124370516,
          -1.0108647135805953,
          1.6835118555882005,
          12.667640480075178,
          0.8480189069681003,
          1.3452883931419493,
          5.557636140161723,
          -0.8691572906558811,
          -3.5529592432251462,
          7.211629009744204
         ],
         "xaxis": "x",
         "xbins": {
          "end": 39.71704850382182,
          "size": 2,
          "start": -23.859111417167746
         },
         "yaxis": "y"
        },
        {
         "legendgroup": "Residuals",
         "marker": {
          "color": "rgb(31, 119, 180)"
         },
         "mode": "lines",
         "name": "Residuals",
         "showlegend": false,
         "type": "scatter",
         "x": [
          -23.859111417167746,
          -23.731959097325767,
          -23.604806777483788,
          -23.47765445764181,
          -23.35050213779983,
          -23.22334981795785,
          -23.09619749811587,
          -22.96904517827389,
          -22.841892858431912,
          -22.714740538589933,
          -22.587588218747953,
          -22.460435898905974,
          -22.333283579063995,
          -22.20613125922202,
          -22.078978939380036,
          -21.95182661953806,
          -21.82467429969608,
          -21.697521979854102,
          -21.570369660012123,
          -21.443217340170143,
          -21.316065020328164,
          -21.188912700486185,
          -21.061760380644206,
          -20.934608060802226,
          -20.807455740960247,
          -20.680303421118268,
          -20.55315110127629,
          -20.42599878143431,
          -20.29884646159233,
          -20.17169414175035,
          -20.04454182190837,
          -19.917389502066392,
          -19.790237182224413,
          -19.663084862382433,
          -19.535932542540458,
          -19.408780222698475,
          -19.2816279028565,
          -19.154475583014516,
          -19.02732326317254,
          -18.90017094333056,
          -18.773018623488582,
          -18.6458663036466,
          -18.518713983804624,
          -18.391561663962644,
          -18.264409344120665,
          -18.137257024278686,
          -18.010104704436706,
          -17.882952384594727,
          -17.755800064752748,
          -17.62864774491077,
          -17.50149542506879,
          -17.37434310522681,
          -17.24719078538483,
          -17.12003846554285,
          -16.992886145700872,
          -16.865733825858893,
          -16.738581506016914,
          -16.611429186174934,
          -16.484276866332955,
          -16.357124546490976,
          -16.229972226648997,
          -16.10281990680702,
          -15.97566758696504,
          -15.84851526712306,
          -15.721362947281081,
          -15.594210627439102,
          -15.467058307597123,
          -15.339905987755143,
          -15.212753667913166,
          -15.085601348071185,
          -14.958449028229207,
          -14.831296708387226,
          -14.704144388545249,
          -14.57699206870327,
          -14.44983974886129,
          -14.322687429019311,
          -14.195535109177332,
          -14.068382789335352,
          -13.941230469493375,
          -13.814078149651394,
          -13.686925829809416,
          -13.559773509967437,
          -13.432621190125456,
          -13.305468870283478,
          -13.178316550441497,
          -13.05116423059952,
          -12.92401191075754,
          -12.796859590915561,
          -12.669707271073582,
          -12.542554951231603,
          -12.415402631389624,
          -12.288250311547646,
          -12.161097991705665,
          -12.033945671863687,
          -11.906793352021706,
          -11.779641032179729,
          -11.65248871233775,
          -11.525336392495769,
          -11.398184072653791,
          -11.271031752811812,
          -11.143879432969833,
          -11.016727113127853,
          -10.889574793285874,
          -10.762422473443895,
          -10.635270153601917,
          -10.508117833759936,
          -10.380965513917959,
          -10.253813194075978,
          -10.126660874234,
          -9.99950855439202,
          -9.872356234550042,
          -9.745203914708062,
          -9.618051594866081,
          -9.490899275024104,
          -9.363746955182124,
          -9.236594635340145,
          -9.109442315498166,
          -8.982289995656188,
          -8.855137675814207,
          -8.72798535597223,
          -8.600833036130249,
          -8.473680716288271,
          -8.346528396446292,
          -8.219376076604313,
          -8.092223756762333,
          -7.965071436920354,
          -7.837919117078375,
          -7.710766797236396,
          -7.583614477394416,
          -7.456462157552437,
          -7.329309837710458,
          -7.2021575178684785,
          -7.075005198026499,
          -6.9478528781845235,
          -6.820700558342541,
          -6.693548238500561,
          -6.566395918658586,
          -6.439243598816606,
          -6.3120912789746235,
          -6.184938959132644,
          -6.0577866392906685,
          -5.930634319448689,
          -5.803481999606706,
          -5.676329679764731,
          -5.549177359922751,
          -5.422025040080769,
          -5.294872720238793,
          -5.167720400396814,
          -5.040568080554834,
          -4.913415760712855,
          -4.786263440870876,
          -4.6591111210288965,
          -4.531958801186917,
          -4.404806481344938,
          -4.277654161502959,
          -4.150501841660979,
          -4.023349521819004,
          -3.896197201977021,
          -3.7690448821350415,
          -3.641892562293066,
          -3.5147402424510865,
          -3.3875879226091037,
          -3.260435602767128,
          -3.1332832829251487,
          -3.006130963083166,
          -2.8789786432411866,
          -2.751826323399211,
          -2.6246740035572316,
          -2.4975216837152487,
          -2.370369363873273,
          -2.2432170440312937,
          -2.1160647241893145,
          -1.9889124043473352,
          -1.861760084505356,
          -1.7346077646633766,
          -1.6074554448213974,
          -1.480303124979418,
          -1.3531508051374388,
          -1.2259984852954595,
          -1.0988461654534802,
          -0.971693845611501,
          -0.8445415257695217,
          -0.717389205927546,
          -0.5902368860855631,
          -0.46308456624358385,
          -0.3359322464016081,
          -0.20877992655962885,
          -0.08162760671764602,
          0.04552471312433326,
          0.17267703296630899,
          0.29982935280828826,
          0.4269816726502711,
          0.5541339924922468,
          0.6812863123342261,
          0.8084386321762089,
          0.9355909520181847,
          1.062743271860164,
          1.1898955917021432,
          1.3170479115441225,
          1.4442002313861018,
          1.571352551228081,
          1.6985048710700603,
          1.8256571909120396,
          1.9528095107540189,
          2.079961830595998,
          2.207114150437974,
          2.3342664702799567,
          2.461418790121936,
          2.5885711099639117,
          2.7157234298058945,
          2.842875749647874,
          2.970028069489853,
          3.097180389331829,
          3.2243327091738117,
          3.351485029015791,
          3.4786373488577667,
          3.605789668699746,
          3.7329419885417288,
          3.8600943083837045,
          3.9872466282256838,
          4.114398948067663,
          4.241551267909642,
          4.368703587751622,
          4.495855907593601,
          4.623008227435584,
          4.750160547277559,
          4.877312867119539,
          5.004465186961518,
          5.131617506803497,
          5.2587698266454765,
          5.385922146487456,
          5.5130744663294315,
          5.640226786171414,
          5.767379106013394,
          5.894531425855369,
          6.021683745697349,
          6.1488360655393315,
          6.275988385381311,
          6.4031407052232865,
          6.530293025065266,
          6.657445344907249,
          6.784597664749224,
          6.911749984591204,
          7.038902304433186,
          7.166054624275162,
          7.293206944117141,
          7.420359263959121,
          7.5475115838011035,
          7.674663903643079,
          7.8018162234850585,
          7.928968543327038,
          8.056120863169017,
          8.183273183010996,
          8.310425502852972,
          8.437577822694955,
          8.564730142536938,
          8.691882462378913,
          8.81903478222089,
          8.946187102062872,
          9.073339421904848,
          9.20049174174683,
          9.327644061588806,
          9.45479638143079,
          9.581948701272765,
          9.709101021114748,
          9.83625334095673,
          9.9634056607987,
          10.090557980640682,
          10.217710300482665,
          10.34486262032464,
          10.472014940166623,
          10.599167260008599,
          10.726319579850575,
          10.853471899692558,
          10.980624219534533,
          11.107776539376516,
          11.234928859218499,
          11.362081179060475,
          11.489233498902458,
          11.616385818744433,
          11.743538138586409,
          11.870690458428392,
          11.997842778270368,
          12.12499509811235,
          12.252147417954333,
          12.379299737796302,
          12.506452057638285,
          12.633604377480268,
          12.760756697322243,
          12.887909017164226,
          13.015061337006209,
          13.142213656848185,
          13.26936597669016,
          13.396518296532136,
          13.523670616374119,
          13.650822936216102,
          13.777975256058077,
          13.90512757590006,
          14.032279895742036,
          14.159432215584012,
          14.286584535425995,
          14.41373685526797,
          14.540889175109953,
          14.668041494951936,
          14.795193814793912,
          14.922346134635887,
          15.04949845447787,
          15.176650774319846,
          15.303803094161829,
          15.430955414003812,
          15.558107733845787,
          15.685260053687763,
          15.812412373529739,
          15.939564693371722,
          16.066717013213704,
          16.19386933305568,
          16.321021652897663,
          16.448173972739646,
          16.575326292581614,
          16.702478612423597,
          16.829630932265573,
          16.956783252107556,
          17.08393557194954,
          17.211087891791514,
          17.33824021163349,
          17.465392531475473,
          17.59254485131745,
          17.71969717115943,
          17.846849491001414,
          17.97400181084339,
          18.101154130685373,
          18.22830645052734,
          18.355458770369324,
          18.482611090211307,
          18.609763410053283,
          18.736915729895266,
          18.86406804973725,
          18.991220369579217,
          19.1183726894212,
          19.245525009263183,
          19.37267732910516,
          19.49982964894714,
          19.626981968789117,
          19.7541342886311,
          19.881286608473076,
          20.00843892831505,
          20.135591248157034,
          20.262743567999017,
          20.389895887840993,
          20.517048207682976,
          20.64420052752495,
          20.771352847366927,
          20.89850516720891,
          21.025657487050886,
          21.15280980689287,
          21.27996212673485,
          21.407114446576827,
          21.534266766418803,
          21.661419086260786,
          21.78857140610276,
          21.915723725944744,
          22.04287604578672,
          22.170028365628703,
          22.297180685470686,
          22.424333005312654,
          22.551485325154637,
          22.67863764499662,
          22.805789964838596,
          22.93294228468058,
          23.06009460452256,
          23.18724692436453,
          23.314399244206513,
          23.44155156404849,
          23.56870388389047,
          23.695856203732454,
          23.82300852357443,
          23.950160843416413,
          24.07731316325839,
          24.204465483100364,
          24.331617802942347,
          24.458770122784323,
          24.585922442626305,
          24.71307476246829,
          24.840227082310257,
          24.96737940215224,
          25.094531721994223,
          25.2216840418362,
          25.34883636167818,
          25.475988681520164,
          25.60314100136214,
          25.730293321204115,
          25.85744564104609,
          25.984597960888074,
          26.111750280730057,
          26.238902600572032,
          26.366054920414015,
          26.49320724025599,
          26.620359560097967,
          26.74751187993995,
          26.874664199781925,
          27.001816519623908,
          27.12896883946589,
          27.256121159307867,
          27.383273479149842,
          27.510425798991825,
          27.6375781188338,
          27.764730438675784,
          27.891882758517767,
          28.019035078359742,
          28.146187398201725,
          28.273339718043694,
          28.400492037885677,
          28.52764435772766,
          28.654796677569635,
          28.781948997411618,
          28.9091013172536,
          29.03625363709557,
          29.163405956937552,
          29.290558276779535,
          29.41771059662151,
          29.544862916463494,
          29.67201523630547,
          29.799167556147452,
          29.926319875989428,
          30.053472195831404,
          30.180624515673387,
          30.30777683551537,
          30.434929155357345,
          30.562081475199328,
          30.689233795041297,
          30.81638611488328,
          30.943538434725262,
          31.070690754567238,
          31.19784307440922,
          31.324995394251204,
          31.45214771409318,
          31.579300033935155,
          31.706452353777138,
          31.833604673619114,
          31.960756993461096,
          32.08790931330307,
          32.215061633145055,
          32.34221395298703,
          32.46936627282901,
          32.59651859267099,
          32.72367091251297,
          32.85082323235495,
          32.97797555219693,
          33.10512787203891,
          33.23228019188088,
          33.359432511722865,
          33.48658483156484,
          33.61373715140682,
          33.740889471248806,
          33.86804179109078,
          33.99519411093276,
          34.12234643077474,
          34.249498750616716,
          34.3766510704587,
          34.503803390300675,
          34.63095571014266,
          34.75810802998464,
          34.88526034982661,
          35.01241266966859,
          35.139564989510575,
          35.26671730935255,
          35.39386962919453,
          35.521021949036516,
          35.648174268878485,
          35.77532658872047,
          35.90247890856244,
          36.029631228404426,
          36.15678354824641,
          36.283935868088385,
          36.41108818793037,
          36.53824050777234,
          36.66539282761432,
          36.7925451474563,
          36.91969746729828,
          37.04684978714026,
          37.17400210698224,
          37.30115442682421,
          37.428306746666195,
          37.55545906650818,
          37.68261138635015,
          37.809763706192136,
          37.93691602603412,
          38.064068345876095,
          38.19122066571807,
          38.318372985560046,
          38.44552530540203,
          38.57267762524401,
          38.69982994508599,
          38.82698226492797,
          38.95413458476995,
          39.08128690461192,
          39.208439224453905,
          39.33559154429589,
          39.46274386413786,
          39.589896183979846
         ],
         "xaxis": "x",
         "y": [
          0.0005786091229921467,
          0.0005808961579423268,
          0.000581507046337783,
          0.0005805523199128502,
          0.0005781740005915023,
          0.0005745442251484321,
          0.0005698633030353357,
          0.0005643572479271992,
          0.000558274836467807,
          0.0005518842590712175,
          0.0005454694371761471,
          0.0005393260888359035,
          0.0005337576298174972,
          0.000529071000415908,
          0.0005255725089714673,
          0.0005235637816832062,
          0.0005233379048673787,
          0.0005251758404909594,
          0.0005293431888196502,
          0.0005360873635843097,
          0.0005456352354239733,
          0.0005581912887436338,
          0.0005739363257601232,
          0.0005930267396182772,
          0.0006155943662472219,
          0.0006417469122852816,
          0.000671568944112619,
          0.0007051234109668554,
          0.0007424536634486995,
          0.0007835859176232762,
          0.0008285321045647982,
          0.0008772930357609889,
          0.0009298618064816917,
          0.000986227352222515,
          0.0010463780678621846,
          0.0011103053954216585,
          0.0011780072844738115,
          0.0012494914294938065,
          0.001324778190898917,
          0.0014039031112972119,
          0.0014869189455848258,
          0.0015738971329760311,
          0.0016649286507176818,
          0.0017601242029506997,
          0.0018596137136732045,
          0.001963545109691324,
          0.0020720823973960226,
          0.0021854030556963276,
          0.0023036947859369104,
          0.002427151677565556,
          0.002555969865115019,
          0.0026903427671570047,
          0.0028304560107429047,
          0.0029764821549952388,
          0.003128575334569514,
          0.0032868659473869292,
          0.003451455511185506,
          0.003622411810026633,
          0.003799764445043977,
          0.0039835008936907074,
          0.00417356316892327,
          0.004369845154667708,
          0.004572190677161038,
          0.004780392354027831,
          0.004994191244964652,
          0.005213277310387273,
          0.005437290668040453,
          0.005665823622996555,
          0.005898423434191707,
          0.006134595771042062,
          0.006373808806963924,
          0.006615497892827496,
          0.006859070752359683,
          0.007103913142953146,
          0.007349394928746817,
          0.007594876517591128,
          0.007839715618866977,
          0.008083274284297651,
          0.00832492619807182,
          0.008564064185015638,
          0.008800107905535301,
          0.009032511703063633,
          0.009260772563430586,
          0.009484438135809082,
          0.00970311475177407,
          0.009916475362927162,
          0.010124267299105715,
          0.010326319729281044,
          0.010522550686930423,
          0.010712973502183918,
          0.010897702465754189,
          0.011076957535954356,
          0.011251067891376093,
          0.011420474129317222,
          0.01158572891492805,
          0.011747495899162592,
          0.01190654674554731,
          0.012063756136739996,
          0.01222009467167778,
          0.012376619612231382,
          0.012534463493701289,
          0.012694820674822539,
          0.012858931968428355,
          0.013028067561489911,
          0.013203508500576007,
          0.01338652708337688,
          0.013578366556250549,
          0.013780220569248538,
          0.013993212881363432,
          0.014218377837660492,
          0.014456642154690877,
          0.014708808549752192,
          0.014975541732280547,
          0.015257357241610406,
          0.015554613564807371,
          0.0158675079021512,
          0.016196075867613513,
          0.016540195319373053,
          0.016899594413574484,
          0.017273863866094245,
          0.017662473295254458,
          0.018064791406619773,
          0.018480109672657362,
          0.018907669058480646,
          0.019346689253249165,
          0.019796399787834804,
          0.020256072355404886,
          0.020725053604414956,
          0.021202797644333502,
          0.021688897493827096,
          0.022183114709065307,
          0.022685406455627482,
          0.02319594933003726,
          0.023715159294582684,
          0.024243707159812614,
          0.024782529130692538,
          0.025332832022483143,
          0.025896092848572815,
          0.02647405258244742,
          0.027068703997581503,
          0.02768227359040074,
          0.028317197691018002,
          0.028976092962911534,
          0.029661721585162386,
          0.030376951498628398,
          0.03112471218009768,
          0.03190794648578558,
          0.03272955917735171,
          0.03359236280977005,
          0.034499021720647755,
          0.03545199491456245,
          0.03645347868307637,
          0.03750534984042583,
          0.03860911048536563,
          0.03976583521990514,
          0.04097612176415173,
          0.04224004590150442,
          0.04355712166831912,
          0.04492626766530648,
          0.04634578031296866,
          0.04781331479933896,
          0.049325874374673735,
          0.050879808534683976,
          0.05247082050221399,
          0.05409398426856713,
          0.05574377129232428,
          0.05741408677862311,
          0.0590983152792987,
          0.060789375168429347,
          0.0624797813635284,
          0.06416171548496652,
          0.06582710248033934,
          0.06746769259140457,
          0.06907514741349108,
          0.07064112869496988,
          0.07215738845073898,
          0.07361585892108832,
          0.0750087408971601,
          0.07632858895684669,
          0.07756839220965121,
          0.07872164923410203,
          0.07978243600414567,
          0.0807454657382144,
          0.08160613976242997,
          0.08236058865332273,
          0.08300570311095908,
          0.08353915420590666,
          0.08395940283856768,
          0.08426569844291772,
          0.08445806715483492,
          0.08453728984464598,
          0.08450487058144414,
          0.08436299625076926,
          0.0841144881854804,
          0.08376274679056563,
          0.08331169024498505,
          0.08276568844645522,
          0.08212949342751223,
          0.0814081675125171,
          0.08060701050486024,
          0.07973148719089318,
          0.07878715642164544,
          0.07777960298486156,
          0.07671437340830249,
          0.07559691674091455,
          0.07443253124216491,
          0.0732263177729117,
          0.07198314052562178,
          0.07070759556026107,
          0.06940398742819463,
          0.06807631397406622,
          0.06672825920963828,
          0.0653631939592312,
          0.0639841837892847,
          0.0625940035604132,
          0.061195157784726034,
          0.059789905839392116,
          0.05838029098403296,
          0.05696817205829025,
          0.05555525669949215,
          0.054143134920155635,
          0.05273331192117796,
          0.05132723908765769,
          0.049926342217627054,
          0.048532046165590405,
          0.047145795237537105,
          0.04576906884601718,
          0.04440339211631186,
          0.043050341320704226,
          0.041711544200394704,
          0.04038867540700777,
          0.039083447451818805,
          0.037797597685556066,
          0.036532871940755815,
          0.035291005549229405,
          0.03407370249765843,
          0.03288261350439538,
          0.03171931379127382,
          0.030585281287855672,
          0.02948187594533545,
          0.028410320757375204,
          0.02737168499012376,
          0.026366870018585096,
          0.025396598056404467,
          0.02446140395591704,
          0.02356163014943712,
          0.02269742470514632,
          0.021868742384708654,
          0.021075348517234926,
          0.020316825446862627,
          0.019592581269591347,
          0.01890186054884779,
          0.018243756687566663,
          0.017617225635755077,
          0.01702110062449211,
          0.01645410763773284,
          0.015914881359616148,
          0.015401981364724994,
          0.014913908349566777,
          0.014449120233369346,
          0.014006047983427899,
          0.013583111043436256,
          0.01317873226169638,
          0.01279135222951185,
          0.01241944294854932,
          0.012061520750020701,
          0.011716158389028545,
          0.011381996235405544,
          0.01105775247908142,
          0.01074223226469029,
          0.01043433566801949,
          0.010133064427092026,
          0.00983752734408535,
          0.009546944281585886,
          0.00926064868825256,
          0.008978088604912336,
          0.008698826122245925,
          0.008422535285077127,
          0.008148998465157256,
          0.007878101253339917,
          0.0076098259521379195,
          0.007344243779724763,
          0.007081505925343127,
          0.00682183362269858,
          0.006565507431217623,
          0.006312855934126403,
          0.0060642440764187835,
          0.0058200613743710486,
          0.005580710230973349,
          0.005346594588344998,
          0.005118109138946861,
          0.004895629302464261,
          0.004679502155055155,
          0.004470038472842958,
          0.004267506022816763,
          0.004072124202524827,
          0.003884060096017946,
          0.003703425978375148,
          0.0035302782657894052,
          0.0033646178735587417,
          0.0032063919113299593,
          0.0030554966144235893,
          0.002911781382792658,
          0.0027750537757934447,
          0.0026450852920152004,
          0.002521617749341994,
          0.0024043700714800748,
          0.0022930452835137113,
          0.002187337520645203,
          0.0020869388609828943,
          0.0019915458047824962,
          0.0019008652385149758,
          0.0018146197420071397,
          0.001732552120059547,
          0.0016544290656914787,
          0.001580043889733406,
          0.0015092182800853975,
          0.001441803082769301,
          0.0013776781251148042,
          0.0013167511282551577,
          0.0012589557808390657,
          0.0012042490678325403,
          0.0011526079669208007,
          0.001104025639858505,
          0.0010585072568086592,
          0.0010160655980302876,
          0.0009767165791264652,
          0.0009404748434829434,
          0.0009073495586762913,
          0.0008773405427962291,
          0.0008504348322104007,
          0.0008266037848043596,
          0.0008058007927458826,
          0.000787959657012478,
          0.0007729936529966677,
          0.0007607952932091211,
          0.0007512367701867838,
          0.0007441710409196224,
          0.000739433494136203,
          0.0007368441242757887,
          0.0007362101214826262,
          0.0007373287759455094,
          0.0007399905877131729,
          0.0007439824699526914,
          0.0007490909345509554,
          0.0007551051539090127,
          0.000761819801518879,
          0.0007690375860745571,
          0.0007765714089551887,
          0.0007842460923168556,
          0.0007918996440375283,
          0.000799384045608983,
          0.0008065655689575588,
          0.0008133246472977815,
          0.0008195553427062472,
          0.0008251644684399328,
          0.0008300704365017508,
          0.0008342019100889493,
          0.000837496346005414,
          0.000839898513697901,
          0.0008413590752803664,
          0.0008418333049030986,
          0.0008412800164315212,
          0.0008396607560986987,
          0.0008369393021868874,
          0.0008330814975741671,
          0.0008280554239123754,
          0.0008218319090677663,
          0.0008143853430296656,
          0.0008056947624991227,
          0.0007957451514501773,
          0.000784528894639234,
          0.0007720473137156413,
          0.0007583122114995781,
          0.0007433473492235506,
          0.0007271897840040987,
          0.0007098909992946607,
          0.0006915177692099798,
          0.0006721527079383055,
          0.0006518944674201137,
          0.0006308575594708374,
          0.0006091717919431132,
          0.0005869813217595725,
          0.0005644433401439466,
          0.0005417264166524852,
          0.0005190085382685454,
          0.0004964748875882992,
          0.00047431540982897664,
          0.0004527222219842693,
          0.00043188691899780313,
          0.0004119978314883803,
          0.00039323728758596947,
          0.00037577892813327776,
          0.000359785120220476,
          0.0003454045091101296,
          0.00033276974342534907,
          0.00032199540333369944,
          0.00031317615662848034,
          0.00030638516328789086,
          0.000301672745406275,
          0.0002990653363860796,
          0.00029856472092267905,
          0.0003001475755044664,
          0.0003037653177262657,
          0.00030934427147019287,
          0.0003167861537143779,
          0.0003259688871508676,
          0.00033674774070869027,
          0.0003489567972996364,
          0.00036241074449670704,
          0.0003769069793468351,
          0.0003922280131127315,
          0.00040814415551408326,
          0.00042441645115471867,
          0.00044079983351024717,
          0.0004570464544027019,
          0.00047290913964401335,
          0.0004881449148563322,
          0.0005025185397500056,
          0.0005158059847211196,
          0.0005277977808459457,
          0.0005383021734698882,
          0.000547148010810406,
          0.0005541873024263465,
          0.0005592973880629235,
          0.0005623826651735551,
          0.0005633758331585507,
          0.0005622386237640225,
          0.0005589619997882867,
          0.0005535658178172738,
          0.0005460979646782657,
          0.0005366329911612941,
          0.0005252702798068841,
          0.0005121317957164893,
          0.000497359479970495,
          0.0004811123539637136,
          0.00046356340949479176,
          0.000444896363569764,
          0.0004253023584951141,
          0.00040497668693663646,
          0.0003841156182990689,
          0.00036291339722012585,
          0.00034155947743259526,
          0.00032023604505505783,
          0.00029911587489899475,
          0.00027836055202986123,
          0.0002581190790059272,
          0.00023852687734765847,
          0.0002197051802460728,
          0.00020176080264732794,
          0.00018478626495205424,
          0.0001688602378849995,
          0.00015404826880683614,
          0.0001404037439784317,
          0.00012796903711174743,
          0.00011677679196003621,
          0.00010685128567423532,
          0.00009820982010336123,
          0.00009086409003416669,
          0.00008482148041653212,
          0.00008008624875889271,
          0.00007666055394865167,
          0.00007454529860072158,
          0.00007374075851132596,
          0.00007424697974771681,
          0.00007606393119792473,
          0.00007919140790447073,
          0.00008362868808266366,
          0.00008937395424999944,
          0.00009642349623936539,
          0.00010477072090260308,
          0.0001144049998941612,
          0.0001253103929119343,
          0.00013746428901298863,
          0.00015083601296044205,
          0.00016538544683930605,
          0.00018106171925394524,
          0.00019780201515076382,
          0.0002155305585805452,
          0.00023415781843844617,
          0.00025357998334725663,
          0.00027367874637928294,
          0.00029432143329520815,
          0.00031536149952491086,
          0.0003366394113969753,
          0.00035798391637284846,
          0.00037921369554887993,
          0.0004001393797954156,
          0.00042056589898835297,
          0.000440295122263897,
          0.00045912873651215183,
          0.00047687130083437057,
          0.0004933334068124088,
          0.0005083348685245089,
          0.0005217078625760661,
          0.0005332999372082139,
          0.0005429768109232114,
          0.0005506248850483371,
          0.000556153401171848,
          0.0005594961832461818
         ],
         "yaxis": "y"
        },
        {
         "legendgroup": "Residuals",
         "marker": {
          "color": "rgb(31, 119, 180)",
          "symbol": "line-ns-open"
         },
         "mode": "markers",
         "name": "Residuals",
         "showlegend": false,
         "type": "scatter",
         "x": [
          3.660793428722478,
          -0.48311389935709315,
          -4.89291430251696,
          -0.5860275831494803,
          0.9895223931392287,
          -5.995827986309358,
          1.306779792352657,
          -2.2697483341292966,
          -12.588941266941877,
          -2.56750689539977,
          6.5130150334446135,
          -1.3212146266392075,
          2.8466744168423617,
          1.5535403694225032,
          0.14461614807907708,
          -1.7373314724804878,
          1.4204720294981747,
          -6.121439330180127,
          3.602338448468288,
          -1.3929350693043023,
          -5.6746787531102925,
          4.798548582859446,
          1.9275419188318956,
          -11.750045559432753,
          1.6395629939339589,
          5.506290717256043,
          0.8012790966855867,
          -0.4444221286015555,
          -7.776329148366402,
          -10.854507670104466,
          0.8461645749584044,
          4.1858344959071765,
          1.1534384010457117,
          0.7131982034108617,
          -1.9688513855255003,
          -1.2863127214925179,
          13.07733891485826,
          -9.6333584369054,
          -12.347518982360189,
          -1.2297517412628025,
          -1.2205423815763403,
          -0.9267776226682969,
          9.938728345692184,
          3.161690377326263,
          -3.367302958646185,
          2.2704106619161024,
          1.0903985749556853,
          10.809245934623114,
          -1.089226405284915,
          5.391743065081414,
          9.073161942529595,
          2.8637486460895474,
          -7.284092049550331,
          3.8118329464977876,
          0.49039857495568384,
          -0.008236168131247723,
          -1.5787537570621737,
          5.071673950452389,
          0.8602439188237412,
          -0.6490674092395139,
          -14.5661416384867,
          1.5096934761450527,
          -0.6877799467823813,
          -13.911924065363294,
          -7.493790484333417,
          -0.6457666187272864,
          -7.870705717535195,
          3.7924568437189663,
          4.294452812120225,
          0.29932279629910497,
          -2.280506120695076,
          -0.8098053617979044,
          2.180985278515635,
          -1.8515939863120714,
          -4.501268247174309,
          -3.73869672939356,
          -0.6523681997517343,
          -1.8492713459930918,
          -6.950147527809548,
          -0.7504326661525837,
          3.140154037407374,
          0.8154396421403867,
          -0.3124131404599204,
          0.9560669464950671,
          -6.55401859500784,
          3.3368532468951493,
          5.396918954390667,
          -0.26353385982468325,
          -23.859111417167746,
          -1.5782646819655461,
          -4.450330697775794,
          -1.9335623736589866,
          8.271307610519898,
          -1.1648783499504098,
          14.985549357564143,
          -0.5701354408491284,
          2.1956556658543924,
          -7.2675068953997695,
          10.801522701453951,
          -13.966813883549559,
          -4.123191693813039,
          0.06580691485282841,
          0.18379699393123516,
          -3.9895323104152833,
          -4.752938476437809,
          0.6838989623080316,
          -3.557034247177029,
          5.947835737001853,
          3.091661863491961,
          -0.3345197570648928,
          2.0826356737717546,
          1.2451052231757025,
          -0.34976042108971583,
          -7.714165504092822,
          -5.149454515959345,
          30.336709744943683,
          -2.5039779942131197,
          -5.7776944052794725,
          2.8485079820647137,
          -5.511251820300426,
          -0.801553385517348,
          2.413300171787654,
          0.005027428719756699,
          -0.7339494803788149,
          -4.253163179978726,
          -5.242099488282577,
          4.323466914880012,
          -1.3286111878906475,
          1.4642981559882813,
          -1.5361701523210023,
          1.3223055947205289,
          3.4317188911605676,
          -3.6004940337346483,
          3.992456843718962,
          9.301441499864499,
          11.187139318018126,
          2.3663564247515616,
          2.386242369414351,
          3.2623626223891335,
          -3.5659584685204546,
          4.469249341756619,
          4.4719798555827595,
          -2.1936073143671635,
          -3.731218966552664,
          12.164828764659575,
          4.203968076937066,
          -12.195542847966319,
          5.491580661902507,
          5.468393926727501,
          -2.31076274520381,
          1.5996079346421475,
          -1.2728451878879277,
          -0.3305467214897959,
          1.0012583298982527,
          1.3803130334527722,
          0.916457460348405,
          -3.3250252590353924,
          11.127481484029786,
          16.2618131124904,
          1.4713888121093497,
          -5.061475591061402,
          -0.6059135278122696,
          0.01067162633829355,
          -0.7211541918370958,
          4.625972725165246,
          3.831616922783784,
          -2.45430373335088,
          -2.6059135278122696,
          9.364073452447364,
          -3.4796299388786203,
          -1.0184029112236104,
          2.7248529385804225,
          6.867007903027092,
          1.9562501164613124,
          -2.995236942835941,
          -11.921928405276752,
          0.5945755472843572,
          -0.762270571288397,
          -2.1012682471743087,
          0.8683731599401625,
          0.6554759030216495,
          2.1144614919471394,
          1.5712868437325582,
          -1.2687286503613677,
          -10.11037563848398,
          4.233675191547054,
          3.4477337686250635,
          1.6567391915579357,
          8.579763523554028,
          -1.9152248558755218,
          -0.3772053301828464,
          10.213666511720142,
          -18.486984966555383,
          4.1424766777263535,
          4.174506432655324,
          1.7425786461031372,
          -3.512800247179751,
          7.271796685616511,
          -15.044299393437424,
          1.3570450966883065,
          0.42106307297158097,
          3.7143802903576812,
          -1.0574213538968635,
          -17.099393148377274,
          2.4867106777236323,
          1.3846939425350264,
          1.6068817607294505,
          -1.835110800538299,
          2.076238029500896,
          -0.44334201003151463,
          2.567211839780679,
          0.17089973701272498,
          6.2346118081656225,
          -11.535395938881342,
          -15.867404927022978,
          -5.729487369707105,
          -1.2327881602193216,
          -0.5582767689259676,
          -1.9195849981704427,
          -14.048293195799852,
          -4.938207654296942,
          4.844922053209459,
          -3.6324010534994926,
          2.861690377326262,
          -9.61076274520381,
          -1.2276330376974087,
          2.71794545242561,
          39.71704850382182,
          -7.730933828209626,
          6.979763523554027,
          -2.0169564527210824,
          4.7175791124931195,
          4.654599721205205,
          2.01863846427581,
          23.766743531471395,
          10.587709594704215,
          -1.5921400890772972,
          -2.4059135278122668,
          2.7068005591399995,
          -0.08458112464695233,
          -1.3167732827548377,
          2.0971833259463715,
          2.7906025117092668,
          0.12248876468677317,
          1.2710224721768633,
          4.112973499869941,
          -9.01785340132487,
          4.646938788398057,
          7.6655822113119,
          0.8973060611105019,
          5.505801642159421,
          0.6800071283223961,
          -2.0601311009356635,
          3.4918865670328856,
          -4.047620950736981,
          -3.3091123499476893,
          -11.752266231374938,
          -5.26681388354956,
          6.597815902994462,
          1.2621794524228882,
          11.372489697466726,
          0.4042739820674335,
          0.38913528641940687,
          0.41036572120792236,
          -7.67895769381575,
          -0.42667565429150045,
          -10.000860373667141,
          4.122467997899434,
          -1.6447072669445966,
          2.1143595235703536,
          8.738260037382894,
          1.9311278476871578,
          1.6438419346394255,
          6.736975982059278,
          4.128336899058898,
          -10.605241282749397,
          -0.27467875311029033,
          4.948549515639385,
          -12.016671314378046,
          -6.539083836113388,
          3.8527661559828488,
          1.0137684800969353,
          0.7550680295144865,
          -1.5286111878906503,
          -0.41907515628647474,
          -13.447804120703227,
          5.14296575282297,
          -2.6937092827439564,
          3.5450032547989103,
          -7.000575235324099,
          -8.989613512004743,
          -5.88680179658914,
          0.6093271362125634,
          -6.0827267926372635,
          7.384102899061617,
          20.666071286408524,
          8.011976448449253,
          5.275932124370517,
          1.5160911204159149,
          7.435142416836918,
          -6.044035021881726,
          -6.208052998165002,
          -0.815041685909268,
          8.301747404994881,
          -7.680302183941489,
          -10.756443203703615,
          -0.5066877412519268,
          -7.43268619184253,
          -9.780322950728829,
          -3.3253103973784306,
          4.726746938604899,
          -2.091651013980684,
          -3.3282448479581586,
          1.7933122587480739,
          0.14154006110778283,
          0.17701224294054896,
          -7.49621509302918,
          -13.529955678016387,
          0.8818614603320931,
          0.11874043265260426,
          0.16702866981443165,
          -0.4196869665472285,
          -0.9032037807734561,
          -7.006606539662469,
          7.023364946503229,
          2.3211442745610356,
          -0.6159990693151762,
          -2.239776847963599,
          4.185936464283973,
          -0.39592995468614234,
          -7.417181156262002,
          4.039277855590921,
          0.38467317574769666,
          5.386140401037558,
          3.777318148070929,
          -1.3531424131913923,
          -11.144707266944597,
          -5.650126761022204,
          -0.7426697649686567,
          0.44355679629638445,
          1.199709903018931,
          2.1602439188237383,
          -1.0070748479717544,
          5.535223618426382,
          4.975932124370516,
          -1.0108647135805953,
          1.6835118555882005,
          12.667640480075178,
          0.8480189069681003,
          1.3452883931419493,
          5.557636140161723,
          -0.8691572906558811,
          -3.5529592432251462,
          7.211629009744204
         ],
         "xaxis": "x",
         "y": [
          "Residuals",
          "Residuals",
          "Residuals",
          "Residuals",
          "Residuals",
          "Residuals",
          "Residuals",
          "Residuals",
          "Residuals",
          "Residuals",
          "Residuals",
          "Residuals",
          "Residuals",
          "Residuals",
          "Residuals",
          "Residuals",
          "Residuals",
          "Residuals",
          "Residuals",
          "Residuals",
          "Residuals",
          "Residuals",
          "Residuals",
          "Residuals",
          "Residuals",
          "Residuals",
          "Residuals",
          "Residuals",
          "Residuals",
          "Residuals",
          "Residuals",
          "Residuals",
          "Residuals",
          "Residuals",
          "Residuals",
          "Residuals",
          "Residuals",
          "Residuals",
          "Residuals",
          "Residuals",
          "Residuals",
          "Residuals",
          "Residuals",
          "Residuals",
          "Residuals",
          "Residuals",
          "Residuals",
          "Residuals",
          "Residuals",
          "Residuals",
          "Residuals",
          "Residuals",
          "Residuals",
          "Residuals",
          "Residuals",
          "Residuals",
          "Residuals",
          "Residuals",
          "Residuals",
          "Residuals",
          "Residuals",
          "Residuals",
          "Residuals",
          "Residuals",
          "Residuals",
          "Residuals",
          "Residuals",
          "Residuals",
          "Residuals",
          "Residuals",
          "Residuals",
          "Residuals",
          "Residuals",
          "Residuals",
          "Residuals",
          "Residuals",
          "Residuals",
          "Residuals",
          "Residuals",
          "Residuals",
          "Residuals",
          "Residuals",
          "Residuals",
          "Residuals",
          "Residuals",
          "Residuals",
          "Residuals",
          "Residuals",
          "Residuals",
          "Residuals",
          "Residuals",
          "Residuals",
          "Residuals",
          "Residuals",
          "Residuals",
          "Residuals",
          "Residuals",
          "Residuals",
          "Residuals",
          "Residuals",
          "Residuals",
          "Residuals",
          "Residuals",
          "Residuals",
          "Residuals",
          "Residuals",
          "Residuals",
          "Residuals",
          "Residuals",
          "Residuals",
          "Residuals",
          "Residuals",
          "Residuals",
          "Residuals",
          "Residuals",
          "Residuals",
          "Residuals",
          "Residuals",
          "Residuals",
          "Residuals",
          "Residuals",
          "Residuals",
          "Residuals",
          "Residuals",
          "Residuals",
          "Residuals",
          "Residuals",
          "Residuals",
          "Residuals",
          "Residuals",
          "Residuals",
          "Residuals",
          "Residuals",
          "Residuals",
          "Residuals",
          "Residuals",
          "Residuals",
          "Residuals",
          "Residuals",
          "Residuals",
          "Residuals",
          "Residuals",
          "Residuals",
          "Residuals",
          "Residuals",
          "Residuals",
          "Residuals",
          "Residuals",
          "Residuals",
          "Residuals",
          "Residuals",
          "Residuals",
          "Residuals",
          "Residuals",
          "Residuals",
          "Residuals",
          "Residuals",
          "Residuals",
          "Residuals",
          "Residuals",
          "Residuals",
          "Residuals",
          "Residuals",
          "Residuals",
          "Residuals",
          "Residuals",
          "Residuals",
          "Residuals",
          "Residuals",
          "Residuals",
          "Residuals",
          "Residuals",
          "Residuals",
          "Residuals",
          "Residuals",
          "Residuals",
          "Residuals",
          "Residuals",
          "Residuals",
          "Residuals",
          "Residuals",
          "Residuals",
          "Residuals",
          "Residuals",
          "Residuals",
          "Residuals",
          "Residuals",
          "Residuals",
          "Residuals",
          "Residuals",
          "Residuals",
          "Residuals",
          "Residuals",
          "Residuals",
          "Residuals",
          "Residuals",
          "Residuals",
          "Residuals",
          "Residuals",
          "Residuals",
          "Residuals",
          "Residuals",
          "Residuals",
          "Residuals",
          "Residuals",
          "Residuals",
          "Residuals",
          "Residuals",
          "Residuals",
          "Residuals",
          "Residuals",
          "Residuals",
          "Residuals",
          "Residuals",
          "Residuals",
          "Residuals",
          "Residuals",
          "Residuals",
          "Residuals",
          "Residuals",
          "Residuals",
          "Residuals",
          "Residuals",
          "Residuals",
          "Residuals",
          "Residuals",
          "Residuals",
          "Residuals",
          "Residuals",
          "Residuals",
          "Residuals",
          "Residuals",
          "Residuals",
          "Residuals",
          "Residuals",
          "Residuals",
          "Residuals",
          "Residuals",
          "Residuals",
          "Residuals",
          "Residuals",
          "Residuals",
          "Residuals",
          "Residuals",
          "Residuals",
          "Residuals",
          "Residuals",
          "Residuals",
          "Residuals",
          "Residuals",
          "Residuals",
          "Residuals",
          "Residuals",
          "Residuals",
          "Residuals",
          "Residuals",
          "Residuals",
          "Residuals",
          "Residuals",
          "Residuals",
          "Residuals",
          "Residuals",
          "Residuals",
          "Residuals",
          "Residuals",
          "Residuals",
          "Residuals",
          "Residuals",
          "Residuals",
          "Residuals",
          "Residuals",
          "Residuals",
          "Residuals",
          "Residuals",
          "Residuals",
          "Residuals",
          "Residuals",
          "Residuals",
          "Residuals",
          "Residuals",
          "Residuals",
          "Residuals",
          "Residuals",
          "Residuals",
          "Residuals",
          "Residuals",
          "Residuals",
          "Residuals",
          "Residuals",
          "Residuals",
          "Residuals",
          "Residuals",
          "Residuals",
          "Residuals",
          "Residuals",
          "Residuals",
          "Residuals",
          "Residuals",
          "Residuals",
          "Residuals",
          "Residuals",
          "Residuals",
          "Residuals",
          "Residuals",
          "Residuals",
          "Residuals",
          "Residuals",
          "Residuals",
          "Residuals",
          "Residuals",
          "Residuals",
          "Residuals",
          "Residuals",
          "Residuals",
          "Residuals",
          "Residuals",
          "Residuals",
          "Residuals",
          "Residuals",
          "Residuals",
          "Residuals",
          "Residuals",
          "Residuals",
          "Residuals",
          "Residuals",
          "Residuals",
          "Residuals",
          "Residuals",
          "Residuals",
          "Residuals",
          "Residuals",
          "Residuals",
          "Residuals",
          "Residuals",
          "Residuals",
          "Residuals",
          "Residuals",
          "Residuals",
          "Residuals",
          "Residuals",
          "Residuals",
          "Residuals",
          "Residuals",
          "Residuals",
          "Residuals",
          "Residuals",
          "Residuals",
          "Residuals",
          "Residuals",
          "Residuals",
          "Residuals",
          "Residuals",
          "Residuals",
          "Residuals"
         ],
         "yaxis": "y2"
        }
       ],
       "layout": {
        "barmode": "overlay",
        "height": 750,
        "hovermode": "closest",
        "legend": {
         "traceorder": "reversed"
        },
        "paper_bgcolor": "#F6F5F5",
        "plot_bgcolor": "#F6F5F5",
        "showlegend": false,
        "template": {
         "data": {
          "bar": [
           {
            "error_x": {
             "color": "#2a3f5f"
            },
            "error_y": {
             "color": "#2a3f5f"
            },
            "marker": {
             "line": {
              "color": "#E5ECF6",
              "width": 0.5
             },
             "pattern": {
              "fillmode": "overlay",
              "size": 10,
              "solidity": 0.2
             }
            },
            "type": "bar"
           }
          ],
          "barpolar": [
           {
            "marker": {
             "line": {
              "color": "#E5ECF6",
              "width": 0.5
             },
             "pattern": {
              "fillmode": "overlay",
              "size": 10,
              "solidity": 0.2
             }
            },
            "type": "barpolar"
           }
          ],
          "carpet": [
           {
            "aaxis": {
             "endlinecolor": "#2a3f5f",
             "gridcolor": "white",
             "linecolor": "white",
             "minorgridcolor": "white",
             "startlinecolor": "#2a3f5f"
            },
            "baxis": {
             "endlinecolor": "#2a3f5f",
             "gridcolor": "white",
             "linecolor": "white",
             "minorgridcolor": "white",
             "startlinecolor": "#2a3f5f"
            },
            "type": "carpet"
           }
          ],
          "choropleth": [
           {
            "colorbar": {
             "outlinewidth": 0,
             "ticks": ""
            },
            "type": "choropleth"
           }
          ],
          "contour": [
           {
            "colorbar": {
             "outlinewidth": 0,
             "ticks": ""
            },
            "colorscale": [
             [
              0,
              "#0d0887"
             ],
             [
              0.1111111111111111,
              "#46039f"
             ],
             [
              0.2222222222222222,
              "#7201a8"
             ],
             [
              0.3333333333333333,
              "#9c179e"
             ],
             [
              0.4444444444444444,
              "#bd3786"
             ],
             [
              0.5555555555555556,
              "#d8576b"
             ],
             [
              0.6666666666666666,
              "#ed7953"
             ],
             [
              0.7777777777777778,
              "#fb9f3a"
             ],
             [
              0.8888888888888888,
              "#fdca26"
             ],
             [
              1,
              "#f0f921"
             ]
            ],
            "type": "contour"
           }
          ],
          "contourcarpet": [
           {
            "colorbar": {
             "outlinewidth": 0,
             "ticks": ""
            },
            "type": "contourcarpet"
           }
          ],
          "heatmap": [
           {
            "colorbar": {
             "outlinewidth": 0,
             "ticks": ""
            },
            "colorscale": [
             [
              0,
              "#0d0887"
             ],
             [
              0.1111111111111111,
              "#46039f"
             ],
             [
              0.2222222222222222,
              "#7201a8"
             ],
             [
              0.3333333333333333,
              "#9c179e"
             ],
             [
              0.4444444444444444,
              "#bd3786"
             ],
             [
              0.5555555555555556,
              "#d8576b"
             ],
             [
              0.6666666666666666,
              "#ed7953"
             ],
             [
              0.7777777777777778,
              "#fb9f3a"
             ],
             [
              0.8888888888888888,
              "#fdca26"
             ],
             [
              1,
              "#f0f921"
             ]
            ],
            "type": "heatmap"
           }
          ],
          "heatmapgl": [
           {
            "colorbar": {
             "outlinewidth": 0,
             "ticks": ""
            },
            "colorscale": [
             [
              0,
              "#0d0887"
             ],
             [
              0.1111111111111111,
              "#46039f"
             ],
             [
              0.2222222222222222,
              "#7201a8"
             ],
             [
              0.3333333333333333,
              "#9c179e"
             ],
             [
              0.4444444444444444,
              "#bd3786"
             ],
             [
              0.5555555555555556,
              "#d8576b"
             ],
             [
              0.6666666666666666,
              "#ed7953"
             ],
             [
              0.7777777777777778,
              "#fb9f3a"
             ],
             [
              0.8888888888888888,
              "#fdca26"
             ],
             [
              1,
              "#f0f921"
             ]
            ],
            "type": "heatmapgl"
           }
          ],
          "histogram": [
           {
            "marker": {
             "pattern": {
              "fillmode": "overlay",
              "size": 10,
              "solidity": 0.2
             }
            },
            "type": "histogram"
           }
          ],
          "histogram2d": [
           {
            "colorbar": {
             "outlinewidth": 0,
             "ticks": ""
            },
            "colorscale": [
             [
              0,
              "#0d0887"
             ],
             [
              0.1111111111111111,
              "#46039f"
             ],
             [
              0.2222222222222222,
              "#7201a8"
             ],
             [
              0.3333333333333333,
              "#9c179e"
             ],
             [
              0.4444444444444444,
              "#bd3786"
             ],
             [
              0.5555555555555556,
              "#d8576b"
             ],
             [
              0.6666666666666666,
              "#ed7953"
             ],
             [
              0.7777777777777778,
              "#fb9f3a"
             ],
             [
              0.8888888888888888,
              "#fdca26"
             ],
             [
              1,
              "#f0f921"
             ]
            ],
            "type": "histogram2d"
           }
          ],
          "histogram2dcontour": [
           {
            "colorbar": {
             "outlinewidth": 0,
             "ticks": ""
            },
            "colorscale": [
             [
              0,
              "#0d0887"
             ],
             [
              0.1111111111111111,
              "#46039f"
             ],
             [
              0.2222222222222222,
              "#7201a8"
             ],
             [
              0.3333333333333333,
              "#9c179e"
             ],
             [
              0.4444444444444444,
              "#bd3786"
             ],
             [
              0.5555555555555556,
              "#d8576b"
             ],
             [
              0.6666666666666666,
              "#ed7953"
             ],
             [
              0.7777777777777778,
              "#fb9f3a"
             ],
             [
              0.8888888888888888,
              "#fdca26"
             ],
             [
              1,
              "#f0f921"
             ]
            ],
            "type": "histogram2dcontour"
           }
          ],
          "mesh3d": [
           {
            "colorbar": {
             "outlinewidth": 0,
             "ticks": ""
            },
            "type": "mesh3d"
           }
          ],
          "parcoords": [
           {
            "line": {
             "colorbar": {
              "outlinewidth": 0,
              "ticks": ""
             }
            },
            "type": "parcoords"
           }
          ],
          "pie": [
           {
            "automargin": true,
            "type": "pie"
           }
          ],
          "scatter": [
           {
            "fillpattern": {
             "fillmode": "overlay",
             "size": 10,
             "solidity": 0.2
            },
            "type": "scatter"
           }
          ],
          "scatter3d": [
           {
            "line": {
             "colorbar": {
              "outlinewidth": 0,
              "ticks": ""
             }
            },
            "marker": {
             "colorbar": {
              "outlinewidth": 0,
              "ticks": ""
             }
            },
            "type": "scatter3d"
           }
          ],
          "scattercarpet": [
           {
            "marker": {
             "colorbar": {
              "outlinewidth": 0,
              "ticks": ""
             }
            },
            "type": "scattercarpet"
           }
          ],
          "scattergeo": [
           {
            "marker": {
             "colorbar": {
              "outlinewidth": 0,
              "ticks": ""
             }
            },
            "type": "scattergeo"
           }
          ],
          "scattergl": [
           {
            "marker": {
             "colorbar": {
              "outlinewidth": 0,
              "ticks": ""
             }
            },
            "type": "scattergl"
           }
          ],
          "scattermapbox": [
           {
            "marker": {
             "colorbar": {
              "outlinewidth": 0,
              "ticks": ""
             }
            },
            "type": "scattermapbox"
           }
          ],
          "scatterpolar": [
           {
            "marker": {
             "colorbar": {
              "outlinewidth": 0,
              "ticks": ""
             }
            },
            "type": "scatterpolar"
           }
          ],
          "scatterpolargl": [
           {
            "marker": {
             "colorbar": {
              "outlinewidth": 0,
              "ticks": ""
             }
            },
            "type": "scatterpolargl"
           }
          ],
          "scatterternary": [
           {
            "marker": {
             "colorbar": {
              "outlinewidth": 0,
              "ticks": ""
             }
            },
            "type": "scatterternary"
           }
          ],
          "surface": [
           {
            "colorbar": {
             "outlinewidth": 0,
             "ticks": ""
            },
            "colorscale": [
             [
              0,
              "#0d0887"
             ],
             [
              0.1111111111111111,
              "#46039f"
             ],
             [
              0.2222222222222222,
              "#7201a8"
             ],
             [
              0.3333333333333333,
              "#9c179e"
             ],
             [
              0.4444444444444444,
              "#bd3786"
             ],
             [
              0.5555555555555556,
              "#d8576b"
             ],
             [
              0.6666666666666666,
              "#ed7953"
             ],
             [
              0.7777777777777778,
              "#fb9f3a"
             ],
             [
              0.8888888888888888,
              "#fdca26"
             ],
             [
              1,
              "#f0f921"
             ]
            ],
            "type": "surface"
           }
          ],
          "table": [
           {
            "cells": {
             "fill": {
              "color": "#EBF0F8"
             },
             "line": {
              "color": "white"
             }
            },
            "header": {
             "fill": {
              "color": "#C8D4E3"
             },
             "line": {
              "color": "white"
             }
            },
            "type": "table"
           }
          ]
         },
         "layout": {
          "annotationdefaults": {
           "arrowcolor": "#2a3f5f",
           "arrowhead": 0,
           "arrowwidth": 1
          },
          "autotypenumbers": "strict",
          "coloraxis": {
           "colorbar": {
            "outlinewidth": 0,
            "ticks": ""
           }
          },
          "colorscale": {
           "diverging": [
            [
             0,
             "#8e0152"
            ],
            [
             0.1,
             "#c51b7d"
            ],
            [
             0.2,
             "#de77ae"
            ],
            [
             0.3,
             "#f1b6da"
            ],
            [
             0.4,
             "#fde0ef"
            ],
            [
             0.5,
             "#f7f7f7"
            ],
            [
             0.6,
             "#e6f5d0"
            ],
            [
             0.7,
             "#b8e186"
            ],
            [
             0.8,
             "#7fbc41"
            ],
            [
             0.9,
             "#4d9221"
            ],
            [
             1,
             "#276419"
            ]
           ],
           "sequential": [
            [
             0,
             "#0d0887"
            ],
            [
             0.1111111111111111,
             "#46039f"
            ],
            [
             0.2222222222222222,
             "#7201a8"
            ],
            [
             0.3333333333333333,
             "#9c179e"
            ],
            [
             0.4444444444444444,
             "#bd3786"
            ],
            [
             0.5555555555555556,
             "#d8576b"
            ],
            [
             0.6666666666666666,
             "#ed7953"
            ],
            [
             0.7777777777777778,
             "#fb9f3a"
            ],
            [
             0.8888888888888888,
             "#fdca26"
            ],
            [
             1,
             "#f0f921"
            ]
           ],
           "sequentialminus": [
            [
             0,
             "#0d0887"
            ],
            [
             0.1111111111111111,
             "#46039f"
            ],
            [
             0.2222222222222222,
             "#7201a8"
            ],
            [
             0.3333333333333333,
             "#9c179e"
            ],
            [
             0.4444444444444444,
             "#bd3786"
            ],
            [
             0.5555555555555556,
             "#d8576b"
            ],
            [
             0.6666666666666666,
             "#ed7953"
            ],
            [
             0.7777777777777778,
             "#fb9f3a"
            ],
            [
             0.8888888888888888,
             "#fdca26"
            ],
            [
             1,
             "#f0f921"
            ]
           ]
          },
          "colorway": [
           "#636efa",
           "#EF553B",
           "#00cc96",
           "#ab63fa",
           "#FFA15A",
           "#19d3f3",
           "#FF6692",
           "#B6E880",
           "#FF97FF",
           "#FECB52"
          ],
          "font": {
           "color": "#2a3f5f"
          },
          "geo": {
           "bgcolor": "white",
           "lakecolor": "white",
           "landcolor": "#E5ECF6",
           "showlakes": true,
           "showland": true,
           "subunitcolor": "white"
          },
          "hoverlabel": {
           "align": "left"
          },
          "hovermode": "closest",
          "mapbox": {
           "style": "light"
          },
          "paper_bgcolor": "white",
          "plot_bgcolor": "#E5ECF6",
          "polar": {
           "angularaxis": {
            "gridcolor": "white",
            "linecolor": "white",
            "ticks": ""
           },
           "bgcolor": "#E5ECF6",
           "radialaxis": {
            "gridcolor": "white",
            "linecolor": "white",
            "ticks": ""
           }
          },
          "scene": {
           "xaxis": {
            "backgroundcolor": "#E5ECF6",
            "gridcolor": "white",
            "gridwidth": 2,
            "linecolor": "white",
            "showbackground": true,
            "ticks": "",
            "zerolinecolor": "white"
           },
           "yaxis": {
            "backgroundcolor": "#E5ECF6",
            "gridcolor": "white",
            "gridwidth": 2,
            "linecolor": "white",
            "showbackground": true,
            "ticks": "",
            "zerolinecolor": "white"
           },
           "zaxis": {
            "backgroundcolor": "#E5ECF6",
            "gridcolor": "white",
            "gridwidth": 2,
            "linecolor": "white",
            "showbackground": true,
            "ticks": "",
            "zerolinecolor": "white"
           }
          },
          "shapedefaults": {
           "line": {
            "color": "#2a3f5f"
           }
          },
          "ternary": {
           "aaxis": {
            "gridcolor": "white",
            "linecolor": "white",
            "ticks": ""
           },
           "baxis": {
            "gridcolor": "white",
            "linecolor": "white",
            "ticks": ""
           },
           "bgcolor": "#E5ECF6",
           "caxis": {
            "gridcolor": "white",
            "linecolor": "white",
            "ticks": ""
           }
          },
          "title": {
           "x": 0.05
          },
          "xaxis": {
           "automargin": true,
           "gridcolor": "white",
           "linecolor": "white",
           "ticks": "",
           "title": {
            "standoff": 15
           },
           "zerolinecolor": "white",
           "zerolinewidth": 2
          },
          "yaxis": {
           "automargin": true,
           "gridcolor": "white",
           "linecolor": "white",
           "ticks": "",
           "title": {
            "standoff": 15
           },
           "zerolinecolor": "white",
           "zerolinewidth": 2
          }
         }
        },
        "title": {
         "text": "<b>Distribution Plot of Residuals</b>",
         "x": 0.05,
         "xanchor": "left"
        },
        "width": 950,
        "xaxis": {
         "anchor": "y2",
         "domain": [
          0,
          1
         ],
         "zeroline": false
        },
        "yaxis": {
         "anchor": "free",
         "domain": [
          0.35,
          1
         ],
         "position": 0
        },
        "yaxis2": {
         "anchor": "x",
         "domain": [
          0,
          0.25
         ],
         "dtick": 1,
         "showticklabels": false
        }
       }
      },
      "text/html": [
       "<div>                            <div id=\"2d9aa0fc-32fe-4ccb-87a4-2a83a7f20e61\" class=\"plotly-graph-div\" style=\"height:750px; width:950px;\"></div>            <script type=\"text/javascript\">                require([\"plotly\"], function(Plotly) {                    window.PLOTLYENV=window.PLOTLYENV || {};                                    if (document.getElementById(\"2d9aa0fc-32fe-4ccb-87a4-2a83a7f20e61\")) {                    Plotly.newPlot(                        \"2d9aa0fc-32fe-4ccb-87a4-2a83a7f20e61\",                        [{\"autobinx\":false,\"histnorm\":\"probability density\",\"legendgroup\":\"Residuals\",\"marker\":{\"color\":\"rgb(31, 119, 180)\"},\"name\":\"Residuals\",\"opacity\":0.7,\"x\":[3.660793428722478,-0.48311389935709315,-4.89291430251696,-0.5860275831494803,0.9895223931392287,-5.995827986309358,1.306779792352657,-2.2697483341292966,-12.588941266941877,-2.56750689539977,6.5130150334446135,-1.3212146266392075,2.8466744168423617,1.5535403694225032,0.14461614807907708,-1.7373314724804878,1.4204720294981747,-6.121439330180127,3.602338448468288,-1.3929350693043023,-5.6746787531102925,4.798548582859446,1.9275419188318956,-11.750045559432753,1.6395629939339589,5.506290717256043,0.8012790966855867,-0.4444221286015555,-7.776329148366402,-10.854507670104466,0.8461645749584044,4.1858344959071765,1.1534384010457117,0.7131982034108617,-1.9688513855255003,-1.2863127214925179,13.07733891485826,-9.6333584369054,-12.347518982360189,-1.2297517412628025,-1.2205423815763403,-0.9267776226682969,9.938728345692184,3.161690377326263,-3.367302958646185,2.2704106619161024,1.0903985749556853,10.809245934623114,-1.089226405284915,5.391743065081414,9.073161942529595,2.8637486460895474,-7.284092049550331,3.8118329464977876,0.49039857495568384,-0.008236168131247723,-1.5787537570621737,5.071673950452389,0.8602439188237412,-0.6490674092395139,-14.5661416384867,1.5096934761450527,-0.6877799467823813,-13.911924065363294,-7.493790484333417,-0.6457666187272864,-7.870705717535195,3.7924568437189663,4.294452812120225,0.29932279629910497,-2.280506120695076,-0.8098053617979044,2.180985278515635,-1.8515939863120714,-4.501268247174309,-3.73869672939356,-0.6523681997517343,-1.8492713459930918,-6.950147527809548,-0.7504326661525837,3.140154037407374,0.8154396421403867,-0.3124131404599204,0.9560669464950671,-6.55401859500784,3.3368532468951493,5.396918954390667,-0.26353385982468325,-23.859111417167746,-1.5782646819655461,-4.450330697775794,-1.9335623736589866,8.271307610519898,-1.1648783499504098,14.985549357564143,-0.5701354408491284,2.1956556658543924,-7.2675068953997695,10.801522701453951,-13.966813883549559,-4.123191693813039,0.06580691485282841,0.18379699393123516,-3.9895323104152833,-4.752938476437809,0.6838989623080316,-3.557034247177029,5.947835737001853,3.091661863491961,-0.3345197570648928,2.0826356737717546,1.2451052231757025,-0.34976042108971583,-7.714165504092822,-5.149454515959345,30.336709744943683,-2.5039779942131197,-5.7776944052794725,2.8485079820647137,-5.511251820300426,-0.801553385517348,2.413300171787654,0.005027428719756699,-0.7339494803788149,-4.253163179978726,-5.242099488282577,4.323466914880012,-1.3286111878906475,1.4642981559882813,-1.5361701523210023,1.3223055947205289,3.4317188911605676,-3.6004940337346483,3.992456843718962,9.301441499864499,11.187139318018126,2.3663564247515616,2.386242369414351,3.2623626223891335,-3.5659584685204546,4.469249341756619,4.4719798555827595,-2.1936073143671635,-3.731218966552664,12.164828764659575,4.203968076937066,-12.195542847966319,5.491580661902507,5.468393926727501,-2.31076274520381,1.5996079346421475,-1.2728451878879277,-0.3305467214897959,1.0012583298982527,1.3803130334527722,0.916457460348405,-3.3250252590353924,11.127481484029786,16.2618131124904,1.4713888121093497,-5.061475591061402,-0.6059135278122696,0.01067162633829355,-0.7211541918370958,4.625972725165246,3.831616922783784,-2.45430373335088,-2.6059135278122696,9.364073452447364,-3.4796299388786203,-1.0184029112236104,2.7248529385804225,6.867007903027092,1.9562501164613124,-2.995236942835941,-11.921928405276752,0.5945755472843572,-0.762270571288397,-2.1012682471743087,0.8683731599401625,0.6554759030216495,2.1144614919471394,1.5712868437325582,-1.2687286503613677,-10.11037563848398,4.233675191547054,3.4477337686250635,1.6567391915579357,8.579763523554028,-1.9152248558755218,-0.3772053301828464,10.213666511720142,-18.486984966555383,4.1424766777263535,4.174506432655324,1.7425786461031372,-3.512800247179751,7.271796685616511,-15.044299393437424,1.3570450966883065,0.42106307297158097,3.7143802903576812,-1.0574213538968635,-17.099393148377274,2.4867106777236323,1.3846939425350264,1.6068817607294505,-1.835110800538299,2.076238029500896,-0.44334201003151463,2.567211839780679,0.17089973701272498,6.2346118081656225,-11.535395938881342,-15.867404927022978,-5.729487369707105,-1.2327881602193216,-0.5582767689259676,-1.9195849981704427,-14.048293195799852,-4.938207654296942,4.844922053209459,-3.6324010534994926,2.861690377326262,-9.61076274520381,-1.2276330376974087,2.71794545242561,39.71704850382182,-7.730933828209626,6.979763523554027,-2.0169564527210824,4.7175791124931195,4.654599721205205,2.01863846427581,23.766743531471395,10.587709594704215,-1.5921400890772972,-2.4059135278122668,2.7068005591399995,-0.08458112464695233,-1.3167732827548377,2.0971833259463715,2.7906025117092668,0.12248876468677317,1.2710224721768633,4.112973499869941,-9.01785340132487,4.646938788398057,7.6655822113119,0.8973060611105019,5.505801642159421,0.6800071283223961,-2.0601311009356635,3.4918865670328856,-4.047620950736981,-3.3091123499476893,-11.752266231374938,-5.26681388354956,6.597815902994462,1.2621794524228882,11.372489697466726,0.4042739820674335,0.38913528641940687,0.41036572120792236,-7.67895769381575,-0.42667565429150045,-10.000860373667141,4.122467997899434,-1.6447072669445966,2.1143595235703536,8.738260037382894,1.9311278476871578,1.6438419346394255,6.736975982059278,4.128336899058898,-10.605241282749397,-0.27467875311029033,4.948549515639385,-12.016671314378046,-6.539083836113388,3.8527661559828488,1.0137684800969353,0.7550680295144865,-1.5286111878906503,-0.41907515628647474,-13.447804120703227,5.14296575282297,-2.6937092827439564,3.5450032547989103,-7.000575235324099,-8.989613512004743,-5.88680179658914,0.6093271362125634,-6.0827267926372635,7.384102899061617,20.666071286408524,8.011976448449253,5.275932124370517,1.5160911204159149,7.435142416836918,-6.044035021881726,-6.208052998165002,-0.815041685909268,8.301747404994881,-7.680302183941489,-10.756443203703615,-0.5066877412519268,-7.43268619184253,-9.780322950728829,-3.3253103973784306,4.726746938604899,-2.091651013980684,-3.3282448479581586,1.7933122587480739,0.14154006110778283,0.17701224294054896,-7.49621509302918,-13.529955678016387,0.8818614603320931,0.11874043265260426,0.16702866981443165,-0.4196869665472285,-0.9032037807734561,-7.006606539662469,7.023364946503229,2.3211442745610356,-0.6159990693151762,-2.239776847963599,4.185936464283973,-0.39592995468614234,-7.417181156262002,4.039277855590921,0.38467317574769666,5.386140401037558,3.777318148070929,-1.3531424131913923,-11.144707266944597,-5.650126761022204,-0.7426697649686567,0.44355679629638445,1.199709903018931,2.1602439188237383,-1.0070748479717544,5.535223618426382,4.975932124370516,-1.0108647135805953,1.6835118555882005,12.667640480075178,0.8480189069681003,1.3452883931419493,5.557636140161723,-0.8691572906558811,-3.5529592432251462,7.211629009744204],\"xaxis\":\"x\",\"xbins\":{\"end\":39.71704850382182,\"size\":2,\"start\":-23.859111417167746},\"yaxis\":\"y\",\"type\":\"histogram\"},{\"legendgroup\":\"Residuals\",\"marker\":{\"color\":\"rgb(31, 119, 180)\"},\"mode\":\"lines\",\"name\":\"Residuals\",\"showlegend\":false,\"x\":[-23.859111417167746,-23.731959097325767,-23.604806777483788,-23.47765445764181,-23.35050213779983,-23.22334981795785,-23.09619749811587,-22.96904517827389,-22.841892858431912,-22.714740538589933,-22.587588218747953,-22.460435898905974,-22.333283579063995,-22.20613125922202,-22.078978939380036,-21.95182661953806,-21.82467429969608,-21.697521979854102,-21.570369660012123,-21.443217340170143,-21.316065020328164,-21.188912700486185,-21.061760380644206,-20.934608060802226,-20.807455740960247,-20.680303421118268,-20.55315110127629,-20.42599878143431,-20.29884646159233,-20.17169414175035,-20.04454182190837,-19.917389502066392,-19.790237182224413,-19.663084862382433,-19.535932542540458,-19.408780222698475,-19.2816279028565,-19.154475583014516,-19.02732326317254,-18.90017094333056,-18.773018623488582,-18.6458663036466,-18.518713983804624,-18.391561663962644,-18.264409344120665,-18.137257024278686,-18.010104704436706,-17.882952384594727,-17.755800064752748,-17.62864774491077,-17.50149542506879,-17.37434310522681,-17.24719078538483,-17.12003846554285,-16.992886145700872,-16.865733825858893,-16.738581506016914,-16.611429186174934,-16.484276866332955,-16.357124546490976,-16.229972226648997,-16.10281990680702,-15.97566758696504,-15.84851526712306,-15.721362947281081,-15.594210627439102,-15.467058307597123,-15.339905987755143,-15.212753667913166,-15.085601348071185,-14.958449028229207,-14.831296708387226,-14.704144388545249,-14.57699206870327,-14.44983974886129,-14.322687429019311,-14.195535109177332,-14.068382789335352,-13.941230469493375,-13.814078149651394,-13.686925829809416,-13.559773509967437,-13.432621190125456,-13.305468870283478,-13.178316550441497,-13.05116423059952,-12.92401191075754,-12.796859590915561,-12.669707271073582,-12.542554951231603,-12.415402631389624,-12.288250311547646,-12.161097991705665,-12.033945671863687,-11.906793352021706,-11.779641032179729,-11.65248871233775,-11.525336392495769,-11.398184072653791,-11.271031752811812,-11.143879432969833,-11.016727113127853,-10.889574793285874,-10.762422473443895,-10.635270153601917,-10.508117833759936,-10.380965513917959,-10.253813194075978,-10.126660874234,-9.99950855439202,-9.872356234550042,-9.745203914708062,-9.618051594866081,-9.490899275024104,-9.363746955182124,-9.236594635340145,-9.109442315498166,-8.982289995656188,-8.855137675814207,-8.72798535597223,-8.600833036130249,-8.473680716288271,-8.346528396446292,-8.219376076604313,-8.092223756762333,-7.965071436920354,-7.837919117078375,-7.710766797236396,-7.583614477394416,-7.456462157552437,-7.329309837710458,-7.2021575178684785,-7.075005198026499,-6.9478528781845235,-6.820700558342541,-6.693548238500561,-6.566395918658586,-6.439243598816606,-6.3120912789746235,-6.184938959132644,-6.0577866392906685,-5.930634319448689,-5.803481999606706,-5.676329679764731,-5.549177359922751,-5.422025040080769,-5.294872720238793,-5.167720400396814,-5.040568080554834,-4.913415760712855,-4.786263440870876,-4.6591111210288965,-4.531958801186917,-4.404806481344938,-4.277654161502959,-4.150501841660979,-4.023349521819004,-3.896197201977021,-3.7690448821350415,-3.641892562293066,-3.5147402424510865,-3.3875879226091037,-3.260435602767128,-3.1332832829251487,-3.006130963083166,-2.8789786432411866,-2.751826323399211,-2.6246740035572316,-2.4975216837152487,-2.370369363873273,-2.2432170440312937,-2.1160647241893145,-1.9889124043473352,-1.861760084505356,-1.7346077646633766,-1.6074554448213974,-1.480303124979418,-1.3531508051374388,-1.2259984852954595,-1.0988461654534802,-0.971693845611501,-0.8445415257695217,-0.717389205927546,-0.5902368860855631,-0.46308456624358385,-0.3359322464016081,-0.20877992655962885,-0.08162760671764602,0.04552471312433326,0.17267703296630899,0.29982935280828826,0.4269816726502711,0.5541339924922468,0.6812863123342261,0.8084386321762089,0.9355909520181847,1.062743271860164,1.1898955917021432,1.3170479115441225,1.4442002313861018,1.571352551228081,1.6985048710700603,1.8256571909120396,1.9528095107540189,2.079961830595998,2.207114150437974,2.3342664702799567,2.461418790121936,2.5885711099639117,2.7157234298058945,2.842875749647874,2.970028069489853,3.097180389331829,3.2243327091738117,3.351485029015791,3.4786373488577667,3.605789668699746,3.7329419885417288,3.8600943083837045,3.9872466282256838,4.114398948067663,4.241551267909642,4.368703587751622,4.495855907593601,4.623008227435584,4.750160547277559,4.877312867119539,5.004465186961518,5.131617506803497,5.2587698266454765,5.385922146487456,5.5130744663294315,5.640226786171414,5.767379106013394,5.894531425855369,6.021683745697349,6.1488360655393315,6.275988385381311,6.4031407052232865,6.530293025065266,6.657445344907249,6.784597664749224,6.911749984591204,7.038902304433186,7.166054624275162,7.293206944117141,7.420359263959121,7.5475115838011035,7.674663903643079,7.8018162234850585,7.928968543327038,8.056120863169017,8.183273183010996,8.310425502852972,8.437577822694955,8.564730142536938,8.691882462378913,8.81903478222089,8.946187102062872,9.073339421904848,9.20049174174683,9.327644061588806,9.45479638143079,9.581948701272765,9.709101021114748,9.83625334095673,9.9634056607987,10.090557980640682,10.217710300482665,10.34486262032464,10.472014940166623,10.599167260008599,10.726319579850575,10.853471899692558,10.980624219534533,11.107776539376516,11.234928859218499,11.362081179060475,11.489233498902458,11.616385818744433,11.743538138586409,11.870690458428392,11.997842778270368,12.12499509811235,12.252147417954333,12.379299737796302,12.506452057638285,12.633604377480268,12.760756697322243,12.887909017164226,13.015061337006209,13.142213656848185,13.26936597669016,13.396518296532136,13.523670616374119,13.650822936216102,13.777975256058077,13.90512757590006,14.032279895742036,14.159432215584012,14.286584535425995,14.41373685526797,14.540889175109953,14.668041494951936,14.795193814793912,14.922346134635887,15.04949845447787,15.176650774319846,15.303803094161829,15.430955414003812,15.558107733845787,15.685260053687763,15.812412373529739,15.939564693371722,16.066717013213704,16.19386933305568,16.321021652897663,16.448173972739646,16.575326292581614,16.702478612423597,16.829630932265573,16.956783252107556,17.08393557194954,17.211087891791514,17.33824021163349,17.465392531475473,17.59254485131745,17.71969717115943,17.846849491001414,17.97400181084339,18.101154130685373,18.22830645052734,18.355458770369324,18.482611090211307,18.609763410053283,18.736915729895266,18.86406804973725,18.991220369579217,19.1183726894212,19.245525009263183,19.37267732910516,19.49982964894714,19.626981968789117,19.7541342886311,19.881286608473076,20.00843892831505,20.135591248157034,20.262743567999017,20.389895887840993,20.517048207682976,20.64420052752495,20.771352847366927,20.89850516720891,21.025657487050886,21.15280980689287,21.27996212673485,21.407114446576827,21.534266766418803,21.661419086260786,21.78857140610276,21.915723725944744,22.04287604578672,22.170028365628703,22.297180685470686,22.424333005312654,22.551485325154637,22.67863764499662,22.805789964838596,22.93294228468058,23.06009460452256,23.18724692436453,23.314399244206513,23.44155156404849,23.56870388389047,23.695856203732454,23.82300852357443,23.950160843416413,24.07731316325839,24.204465483100364,24.331617802942347,24.458770122784323,24.585922442626305,24.71307476246829,24.840227082310257,24.96737940215224,25.094531721994223,25.2216840418362,25.34883636167818,25.475988681520164,25.60314100136214,25.730293321204115,25.85744564104609,25.984597960888074,26.111750280730057,26.238902600572032,26.366054920414015,26.49320724025599,26.620359560097967,26.74751187993995,26.874664199781925,27.001816519623908,27.12896883946589,27.256121159307867,27.383273479149842,27.510425798991825,27.6375781188338,27.764730438675784,27.891882758517767,28.019035078359742,28.146187398201725,28.273339718043694,28.400492037885677,28.52764435772766,28.654796677569635,28.781948997411618,28.9091013172536,29.03625363709557,29.163405956937552,29.290558276779535,29.41771059662151,29.544862916463494,29.67201523630547,29.799167556147452,29.926319875989428,30.053472195831404,30.180624515673387,30.30777683551537,30.434929155357345,30.562081475199328,30.689233795041297,30.81638611488328,30.943538434725262,31.070690754567238,31.19784307440922,31.324995394251204,31.45214771409318,31.579300033935155,31.706452353777138,31.833604673619114,31.960756993461096,32.08790931330307,32.215061633145055,32.34221395298703,32.46936627282901,32.59651859267099,32.72367091251297,32.85082323235495,32.97797555219693,33.10512787203891,33.23228019188088,33.359432511722865,33.48658483156484,33.61373715140682,33.740889471248806,33.86804179109078,33.99519411093276,34.12234643077474,34.249498750616716,34.3766510704587,34.503803390300675,34.63095571014266,34.75810802998464,34.88526034982661,35.01241266966859,35.139564989510575,35.26671730935255,35.39386962919453,35.521021949036516,35.648174268878485,35.77532658872047,35.90247890856244,36.029631228404426,36.15678354824641,36.283935868088385,36.41108818793037,36.53824050777234,36.66539282761432,36.7925451474563,36.91969746729828,37.04684978714026,37.17400210698224,37.30115442682421,37.428306746666195,37.55545906650818,37.68261138635015,37.809763706192136,37.93691602603412,38.064068345876095,38.19122066571807,38.318372985560046,38.44552530540203,38.57267762524401,38.69982994508599,38.82698226492797,38.95413458476995,39.08128690461192,39.208439224453905,39.33559154429589,39.46274386413786,39.589896183979846],\"xaxis\":\"x\",\"y\":[0.0005786091229921467,0.0005808961579423268,0.000581507046337783,0.0005805523199128502,0.0005781740005915023,0.0005745442251484321,0.0005698633030353357,0.0005643572479271992,0.000558274836467807,0.0005518842590712175,0.0005454694371761471,0.0005393260888359035,0.0005337576298174972,0.000529071000415908,0.0005255725089714673,0.0005235637816832062,0.0005233379048673787,0.0005251758404909594,0.0005293431888196502,0.0005360873635843097,0.0005456352354239733,0.0005581912887436338,0.0005739363257601232,0.0005930267396182772,0.0006155943662472219,0.0006417469122852816,0.000671568944112619,0.0007051234109668554,0.0007424536634486995,0.0007835859176232762,0.0008285321045647982,0.0008772930357609889,0.0009298618064816917,0.000986227352222515,0.0010463780678621846,0.0011103053954216585,0.0011780072844738115,0.0012494914294938065,0.001324778190898917,0.0014039031112972119,0.0014869189455848258,0.0015738971329760311,0.0016649286507176818,0.0017601242029506997,0.0018596137136732045,0.001963545109691324,0.0020720823973960226,0.0021854030556963276,0.0023036947859369104,0.002427151677565556,0.002555969865115019,0.0026903427671570047,0.0028304560107429047,0.0029764821549952388,0.003128575334569514,0.0032868659473869292,0.003451455511185506,0.003622411810026633,0.003799764445043977,0.0039835008936907074,0.00417356316892327,0.004369845154667708,0.004572190677161038,0.004780392354027831,0.004994191244964652,0.005213277310387273,0.005437290668040453,0.005665823622996555,0.005898423434191707,0.006134595771042062,0.006373808806963924,0.006615497892827496,0.006859070752359683,0.007103913142953146,0.007349394928746817,0.007594876517591128,0.007839715618866977,0.008083274284297651,0.00832492619807182,0.008564064185015638,0.008800107905535301,0.009032511703063633,0.009260772563430586,0.009484438135809082,0.00970311475177407,0.009916475362927162,0.010124267299105715,0.010326319729281044,0.010522550686930423,0.010712973502183918,0.010897702465754189,0.011076957535954356,0.011251067891376093,0.011420474129317222,0.01158572891492805,0.011747495899162592,0.01190654674554731,0.012063756136739996,0.01222009467167778,0.012376619612231382,0.012534463493701289,0.012694820674822539,0.012858931968428355,0.013028067561489911,0.013203508500576007,0.01338652708337688,0.013578366556250549,0.013780220569248538,0.013993212881363432,0.014218377837660492,0.014456642154690877,0.014708808549752192,0.014975541732280547,0.015257357241610406,0.015554613564807371,0.0158675079021512,0.016196075867613513,0.016540195319373053,0.016899594413574484,0.017273863866094245,0.017662473295254458,0.018064791406619773,0.018480109672657362,0.018907669058480646,0.019346689253249165,0.019796399787834804,0.020256072355404886,0.020725053604414956,0.021202797644333502,0.021688897493827096,0.022183114709065307,0.022685406455627482,0.02319594933003726,0.023715159294582684,0.024243707159812614,0.024782529130692538,0.025332832022483143,0.025896092848572815,0.02647405258244742,0.027068703997581503,0.02768227359040074,0.028317197691018002,0.028976092962911534,0.029661721585162386,0.030376951498628398,0.03112471218009768,0.03190794648578558,0.03272955917735171,0.03359236280977005,0.034499021720647755,0.03545199491456245,0.03645347868307637,0.03750534984042583,0.03860911048536563,0.03976583521990514,0.04097612176415173,0.04224004590150442,0.04355712166831912,0.04492626766530648,0.04634578031296866,0.04781331479933896,0.049325874374673735,0.050879808534683976,0.05247082050221399,0.05409398426856713,0.05574377129232428,0.05741408677862311,0.0590983152792987,0.060789375168429347,0.0624797813635284,0.06416171548496652,0.06582710248033934,0.06746769259140457,0.06907514741349108,0.07064112869496988,0.07215738845073898,0.07361585892108832,0.0750087408971601,0.07632858895684669,0.07756839220965121,0.07872164923410203,0.07978243600414567,0.0807454657382144,0.08160613976242997,0.08236058865332273,0.08300570311095908,0.08353915420590666,0.08395940283856768,0.08426569844291772,0.08445806715483492,0.08453728984464598,0.08450487058144414,0.08436299625076926,0.0841144881854804,0.08376274679056563,0.08331169024498505,0.08276568844645522,0.08212949342751223,0.0814081675125171,0.08060701050486024,0.07973148719089318,0.07878715642164544,0.07777960298486156,0.07671437340830249,0.07559691674091455,0.07443253124216491,0.0732263177729117,0.07198314052562178,0.07070759556026107,0.06940398742819463,0.06807631397406622,0.06672825920963828,0.0653631939592312,0.0639841837892847,0.0625940035604132,0.061195157784726034,0.059789905839392116,0.05838029098403296,0.05696817205829025,0.05555525669949215,0.054143134920155635,0.05273331192117796,0.05132723908765769,0.049926342217627054,0.048532046165590405,0.047145795237537105,0.04576906884601718,0.04440339211631186,0.043050341320704226,0.041711544200394704,0.04038867540700777,0.039083447451818805,0.037797597685556066,0.036532871940755815,0.035291005549229405,0.03407370249765843,0.03288261350439538,0.03171931379127382,0.030585281287855672,0.02948187594533545,0.028410320757375204,0.02737168499012376,0.026366870018585096,0.025396598056404467,0.02446140395591704,0.02356163014943712,0.02269742470514632,0.021868742384708654,0.021075348517234926,0.020316825446862627,0.019592581269591347,0.01890186054884779,0.018243756687566663,0.017617225635755077,0.01702110062449211,0.01645410763773284,0.015914881359616148,0.015401981364724994,0.014913908349566777,0.014449120233369346,0.014006047983427899,0.013583111043436256,0.01317873226169638,0.01279135222951185,0.01241944294854932,0.012061520750020701,0.011716158389028545,0.011381996235405544,0.01105775247908142,0.01074223226469029,0.01043433566801949,0.010133064427092026,0.00983752734408535,0.009546944281585886,0.00926064868825256,0.008978088604912336,0.008698826122245925,0.008422535285077127,0.008148998465157256,0.007878101253339917,0.0076098259521379195,0.007344243779724763,0.007081505925343127,0.00682183362269858,0.006565507431217623,0.006312855934126403,0.0060642440764187835,0.0058200613743710486,0.005580710230973349,0.005346594588344998,0.005118109138946861,0.004895629302464261,0.004679502155055155,0.004470038472842958,0.004267506022816763,0.004072124202524827,0.003884060096017946,0.003703425978375148,0.0035302782657894052,0.0033646178735587417,0.0032063919113299593,0.0030554966144235893,0.002911781382792658,0.0027750537757934447,0.0026450852920152004,0.002521617749341994,0.0024043700714800748,0.0022930452835137113,0.002187337520645203,0.0020869388609828943,0.0019915458047824962,0.0019008652385149758,0.0018146197420071397,0.001732552120059547,0.0016544290656914787,0.001580043889733406,0.0015092182800853975,0.001441803082769301,0.0013776781251148042,0.0013167511282551577,0.0012589557808390657,0.0012042490678325403,0.0011526079669208007,0.001104025639858505,0.0010585072568086592,0.0010160655980302876,0.0009767165791264652,0.0009404748434829434,0.0009073495586762913,0.0008773405427962291,0.0008504348322104007,0.0008266037848043596,0.0008058007927458826,0.000787959657012478,0.0007729936529966677,0.0007607952932091211,0.0007512367701867838,0.0007441710409196224,0.000739433494136203,0.0007368441242757887,0.0007362101214826262,0.0007373287759455094,0.0007399905877131729,0.0007439824699526914,0.0007490909345509554,0.0007551051539090127,0.000761819801518879,0.0007690375860745571,0.0007765714089551887,0.0007842460923168556,0.0007918996440375283,0.000799384045608983,0.0008065655689575588,0.0008133246472977815,0.0008195553427062472,0.0008251644684399328,0.0008300704365017508,0.0008342019100889493,0.000837496346005414,0.000839898513697901,0.0008413590752803664,0.0008418333049030986,0.0008412800164315212,0.0008396607560986987,0.0008369393021868874,0.0008330814975741671,0.0008280554239123754,0.0008218319090677663,0.0008143853430296656,0.0008056947624991227,0.0007957451514501773,0.000784528894639234,0.0007720473137156413,0.0007583122114995781,0.0007433473492235506,0.0007271897840040987,0.0007098909992946607,0.0006915177692099798,0.0006721527079383055,0.0006518944674201137,0.0006308575594708374,0.0006091717919431132,0.0005869813217595725,0.0005644433401439466,0.0005417264166524852,0.0005190085382685454,0.0004964748875882992,0.00047431540982897664,0.0004527222219842693,0.00043188691899780313,0.0004119978314883803,0.00039323728758596947,0.00037577892813327776,0.000359785120220476,0.0003454045091101296,0.00033276974342534907,0.00032199540333369944,0.00031317615662848034,0.00030638516328789086,0.000301672745406275,0.0002990653363860796,0.00029856472092267905,0.0003001475755044664,0.0003037653177262657,0.00030934427147019287,0.0003167861537143779,0.0003259688871508676,0.00033674774070869027,0.0003489567972996364,0.00036241074449670704,0.0003769069793468351,0.0003922280131127315,0.00040814415551408326,0.00042441645115471867,0.00044079983351024717,0.0004570464544027019,0.00047290913964401335,0.0004881449148563322,0.0005025185397500056,0.0005158059847211196,0.0005277977808459457,0.0005383021734698882,0.000547148010810406,0.0005541873024263465,0.0005592973880629235,0.0005623826651735551,0.0005633758331585507,0.0005622386237640225,0.0005589619997882867,0.0005535658178172738,0.0005460979646782657,0.0005366329911612941,0.0005252702798068841,0.0005121317957164893,0.000497359479970495,0.0004811123539637136,0.00046356340949479176,0.000444896363569764,0.0004253023584951141,0.00040497668693663646,0.0003841156182990689,0.00036291339722012585,0.00034155947743259526,0.00032023604505505783,0.00029911587489899475,0.00027836055202986123,0.0002581190790059272,0.00023852687734765847,0.0002197051802460728,0.00020176080264732794,0.00018478626495205424,0.0001688602378849995,0.00015404826880683614,0.0001404037439784317,0.00012796903711174743,0.00011677679196003621,0.00010685128567423532,9.820982010336123e-05,9.086409003416669e-05,8.482148041653212e-05,8.008624875889271e-05,7.666055394865167e-05,7.454529860072158e-05,7.374075851132596e-05,7.424697974771681e-05,7.606393119792473e-05,7.919140790447073e-05,8.362868808266366e-05,8.937395424999944e-05,9.642349623936539e-05,0.00010477072090260308,0.0001144049998941612,0.0001253103929119343,0.00013746428901298863,0.00015083601296044205,0.00016538544683930605,0.00018106171925394524,0.00019780201515076382,0.0002155305585805452,0.00023415781843844617,0.00025357998334725663,0.00027367874637928294,0.00029432143329520815,0.00031536149952491086,0.0003366394113969753,0.00035798391637284846,0.00037921369554887993,0.0004001393797954156,0.00042056589898835297,0.000440295122263897,0.00045912873651215183,0.00047687130083437057,0.0004933334068124088,0.0005083348685245089,0.0005217078625760661,0.0005332999372082139,0.0005429768109232114,0.0005506248850483371,0.000556153401171848,0.0005594961832461818],\"yaxis\":\"y\",\"type\":\"scatter\"},{\"legendgroup\":\"Residuals\",\"marker\":{\"color\":\"rgb(31, 119, 180)\",\"symbol\":\"line-ns-open\"},\"mode\":\"markers\",\"name\":\"Residuals\",\"showlegend\":false,\"x\":[3.660793428722478,-0.48311389935709315,-4.89291430251696,-0.5860275831494803,0.9895223931392287,-5.995827986309358,1.306779792352657,-2.2697483341292966,-12.588941266941877,-2.56750689539977,6.5130150334446135,-1.3212146266392075,2.8466744168423617,1.5535403694225032,0.14461614807907708,-1.7373314724804878,1.4204720294981747,-6.121439330180127,3.602338448468288,-1.3929350693043023,-5.6746787531102925,4.798548582859446,1.9275419188318956,-11.750045559432753,1.6395629939339589,5.506290717256043,0.8012790966855867,-0.4444221286015555,-7.776329148366402,-10.854507670104466,0.8461645749584044,4.1858344959071765,1.1534384010457117,0.7131982034108617,-1.9688513855255003,-1.2863127214925179,13.07733891485826,-9.6333584369054,-12.347518982360189,-1.2297517412628025,-1.2205423815763403,-0.9267776226682969,9.938728345692184,3.161690377326263,-3.367302958646185,2.2704106619161024,1.0903985749556853,10.809245934623114,-1.089226405284915,5.391743065081414,9.073161942529595,2.8637486460895474,-7.284092049550331,3.8118329464977876,0.49039857495568384,-0.008236168131247723,-1.5787537570621737,5.071673950452389,0.8602439188237412,-0.6490674092395139,-14.5661416384867,1.5096934761450527,-0.6877799467823813,-13.911924065363294,-7.493790484333417,-0.6457666187272864,-7.870705717535195,3.7924568437189663,4.294452812120225,0.29932279629910497,-2.280506120695076,-0.8098053617979044,2.180985278515635,-1.8515939863120714,-4.501268247174309,-3.73869672939356,-0.6523681997517343,-1.8492713459930918,-6.950147527809548,-0.7504326661525837,3.140154037407374,0.8154396421403867,-0.3124131404599204,0.9560669464950671,-6.55401859500784,3.3368532468951493,5.396918954390667,-0.26353385982468325,-23.859111417167746,-1.5782646819655461,-4.450330697775794,-1.9335623736589866,8.271307610519898,-1.1648783499504098,14.985549357564143,-0.5701354408491284,2.1956556658543924,-7.2675068953997695,10.801522701453951,-13.966813883549559,-4.123191693813039,0.06580691485282841,0.18379699393123516,-3.9895323104152833,-4.752938476437809,0.6838989623080316,-3.557034247177029,5.947835737001853,3.091661863491961,-0.3345197570648928,2.0826356737717546,1.2451052231757025,-0.34976042108971583,-7.714165504092822,-5.149454515959345,30.336709744943683,-2.5039779942131197,-5.7776944052794725,2.8485079820647137,-5.511251820300426,-0.801553385517348,2.413300171787654,0.005027428719756699,-0.7339494803788149,-4.253163179978726,-5.242099488282577,4.323466914880012,-1.3286111878906475,1.4642981559882813,-1.5361701523210023,1.3223055947205289,3.4317188911605676,-3.6004940337346483,3.992456843718962,9.301441499864499,11.187139318018126,2.3663564247515616,2.386242369414351,3.2623626223891335,-3.5659584685204546,4.469249341756619,4.4719798555827595,-2.1936073143671635,-3.731218966552664,12.164828764659575,4.203968076937066,-12.195542847966319,5.491580661902507,5.468393926727501,-2.31076274520381,1.5996079346421475,-1.2728451878879277,-0.3305467214897959,1.0012583298982527,1.3803130334527722,0.916457460348405,-3.3250252590353924,11.127481484029786,16.2618131124904,1.4713888121093497,-5.061475591061402,-0.6059135278122696,0.01067162633829355,-0.7211541918370958,4.625972725165246,3.831616922783784,-2.45430373335088,-2.6059135278122696,9.364073452447364,-3.4796299388786203,-1.0184029112236104,2.7248529385804225,6.867007903027092,1.9562501164613124,-2.995236942835941,-11.921928405276752,0.5945755472843572,-0.762270571288397,-2.1012682471743087,0.8683731599401625,0.6554759030216495,2.1144614919471394,1.5712868437325582,-1.2687286503613677,-10.11037563848398,4.233675191547054,3.4477337686250635,1.6567391915579357,8.579763523554028,-1.9152248558755218,-0.3772053301828464,10.213666511720142,-18.486984966555383,4.1424766777263535,4.174506432655324,1.7425786461031372,-3.512800247179751,7.271796685616511,-15.044299393437424,1.3570450966883065,0.42106307297158097,3.7143802903576812,-1.0574213538968635,-17.099393148377274,2.4867106777236323,1.3846939425350264,1.6068817607294505,-1.835110800538299,2.076238029500896,-0.44334201003151463,2.567211839780679,0.17089973701272498,6.2346118081656225,-11.535395938881342,-15.867404927022978,-5.729487369707105,-1.2327881602193216,-0.5582767689259676,-1.9195849981704427,-14.048293195799852,-4.938207654296942,4.844922053209459,-3.6324010534994926,2.861690377326262,-9.61076274520381,-1.2276330376974087,2.71794545242561,39.71704850382182,-7.730933828209626,6.979763523554027,-2.0169564527210824,4.7175791124931195,4.654599721205205,2.01863846427581,23.766743531471395,10.587709594704215,-1.5921400890772972,-2.4059135278122668,2.7068005591399995,-0.08458112464695233,-1.3167732827548377,2.0971833259463715,2.7906025117092668,0.12248876468677317,1.2710224721768633,4.112973499869941,-9.01785340132487,4.646938788398057,7.6655822113119,0.8973060611105019,5.505801642159421,0.6800071283223961,-2.0601311009356635,3.4918865670328856,-4.047620950736981,-3.3091123499476893,-11.752266231374938,-5.26681388354956,6.597815902994462,1.2621794524228882,11.372489697466726,0.4042739820674335,0.38913528641940687,0.41036572120792236,-7.67895769381575,-0.42667565429150045,-10.000860373667141,4.122467997899434,-1.6447072669445966,2.1143595235703536,8.738260037382894,1.9311278476871578,1.6438419346394255,6.736975982059278,4.128336899058898,-10.605241282749397,-0.27467875311029033,4.948549515639385,-12.016671314378046,-6.539083836113388,3.8527661559828488,1.0137684800969353,0.7550680295144865,-1.5286111878906503,-0.41907515628647474,-13.447804120703227,5.14296575282297,-2.6937092827439564,3.5450032547989103,-7.000575235324099,-8.989613512004743,-5.88680179658914,0.6093271362125634,-6.0827267926372635,7.384102899061617,20.666071286408524,8.011976448449253,5.275932124370517,1.5160911204159149,7.435142416836918,-6.044035021881726,-6.208052998165002,-0.815041685909268,8.301747404994881,-7.680302183941489,-10.756443203703615,-0.5066877412519268,-7.43268619184253,-9.780322950728829,-3.3253103973784306,4.726746938604899,-2.091651013980684,-3.3282448479581586,1.7933122587480739,0.14154006110778283,0.17701224294054896,-7.49621509302918,-13.529955678016387,0.8818614603320931,0.11874043265260426,0.16702866981443165,-0.4196869665472285,-0.9032037807734561,-7.006606539662469,7.023364946503229,2.3211442745610356,-0.6159990693151762,-2.239776847963599,4.185936464283973,-0.39592995468614234,-7.417181156262002,4.039277855590921,0.38467317574769666,5.386140401037558,3.777318148070929,-1.3531424131913923,-11.144707266944597,-5.650126761022204,-0.7426697649686567,0.44355679629638445,1.199709903018931,2.1602439188237383,-1.0070748479717544,5.535223618426382,4.975932124370516,-1.0108647135805953,1.6835118555882005,12.667640480075178,0.8480189069681003,1.3452883931419493,5.557636140161723,-0.8691572906558811,-3.5529592432251462,7.211629009744204],\"xaxis\":\"x\",\"y\":[\"Residuals\",\"Residuals\",\"Residuals\",\"Residuals\",\"Residuals\",\"Residuals\",\"Residuals\",\"Residuals\",\"Residuals\",\"Residuals\",\"Residuals\",\"Residuals\",\"Residuals\",\"Residuals\",\"Residuals\",\"Residuals\",\"Residuals\",\"Residuals\",\"Residuals\",\"Residuals\",\"Residuals\",\"Residuals\",\"Residuals\",\"Residuals\",\"Residuals\",\"Residuals\",\"Residuals\",\"Residuals\",\"Residuals\",\"Residuals\",\"Residuals\",\"Residuals\",\"Residuals\",\"Residuals\",\"Residuals\",\"Residuals\",\"Residuals\",\"Residuals\",\"Residuals\",\"Residuals\",\"Residuals\",\"Residuals\",\"Residuals\",\"Residuals\",\"Residuals\",\"Residuals\",\"Residuals\",\"Residuals\",\"Residuals\",\"Residuals\",\"Residuals\",\"Residuals\",\"Residuals\",\"Residuals\",\"Residuals\",\"Residuals\",\"Residuals\",\"Residuals\",\"Residuals\",\"Residuals\",\"Residuals\",\"Residuals\",\"Residuals\",\"Residuals\",\"Residuals\",\"Residuals\",\"Residuals\",\"Residuals\",\"Residuals\",\"Residuals\",\"Residuals\",\"Residuals\",\"Residuals\",\"Residuals\",\"Residuals\",\"Residuals\",\"Residuals\",\"Residuals\",\"Residuals\",\"Residuals\",\"Residuals\",\"Residuals\",\"Residuals\",\"Residuals\",\"Residuals\",\"Residuals\",\"Residuals\",\"Residuals\",\"Residuals\",\"Residuals\",\"Residuals\",\"Residuals\",\"Residuals\",\"Residuals\",\"Residuals\",\"Residuals\",\"Residuals\",\"Residuals\",\"Residuals\",\"Residuals\",\"Residuals\",\"Residuals\",\"Residuals\",\"Residuals\",\"Residuals\",\"Residuals\",\"Residuals\",\"Residuals\",\"Residuals\",\"Residuals\",\"Residuals\",\"Residuals\",\"Residuals\",\"Residuals\",\"Residuals\",\"Residuals\",\"Residuals\",\"Residuals\",\"Residuals\",\"Residuals\",\"Residuals\",\"Residuals\",\"Residuals\",\"Residuals\",\"Residuals\",\"Residuals\",\"Residuals\",\"Residuals\",\"Residuals\",\"Residuals\",\"Residuals\",\"Residuals\",\"Residuals\",\"Residuals\",\"Residuals\",\"Residuals\",\"Residuals\",\"Residuals\",\"Residuals\",\"Residuals\",\"Residuals\",\"Residuals\",\"Residuals\",\"Residuals\",\"Residuals\",\"Residuals\",\"Residuals\",\"Residuals\",\"Residuals\",\"Residuals\",\"Residuals\",\"Residuals\",\"Residuals\",\"Residuals\",\"Residuals\",\"Residuals\",\"Residuals\",\"Residuals\",\"Residuals\",\"Residuals\",\"Residuals\",\"Residuals\",\"Residuals\",\"Residuals\",\"Residuals\",\"Residuals\",\"Residuals\",\"Residuals\",\"Residuals\",\"Residuals\",\"Residuals\",\"Residuals\",\"Residuals\",\"Residuals\",\"Residuals\",\"Residuals\",\"Residuals\",\"Residuals\",\"Residuals\",\"Residuals\",\"Residuals\",\"Residuals\",\"Residuals\",\"Residuals\",\"Residuals\",\"Residuals\",\"Residuals\",\"Residuals\",\"Residuals\",\"Residuals\",\"Residuals\",\"Residuals\",\"Residuals\",\"Residuals\",\"Residuals\",\"Residuals\",\"Residuals\",\"Residuals\",\"Residuals\",\"Residuals\",\"Residuals\",\"Residuals\",\"Residuals\",\"Residuals\",\"Residuals\",\"Residuals\",\"Residuals\",\"Residuals\",\"Residuals\",\"Residuals\",\"Residuals\",\"Residuals\",\"Residuals\",\"Residuals\",\"Residuals\",\"Residuals\",\"Residuals\",\"Residuals\",\"Residuals\",\"Residuals\",\"Residuals\",\"Residuals\",\"Residuals\",\"Residuals\",\"Residuals\",\"Residuals\",\"Residuals\",\"Residuals\",\"Residuals\",\"Residuals\",\"Residuals\",\"Residuals\",\"Residuals\",\"Residuals\",\"Residuals\",\"Residuals\",\"Residuals\",\"Residuals\",\"Residuals\",\"Residuals\",\"Residuals\",\"Residuals\",\"Residuals\",\"Residuals\",\"Residuals\",\"Residuals\",\"Residuals\",\"Residuals\",\"Residuals\",\"Residuals\",\"Residuals\",\"Residuals\",\"Residuals\",\"Residuals\",\"Residuals\",\"Residuals\",\"Residuals\",\"Residuals\",\"Residuals\",\"Residuals\",\"Residuals\",\"Residuals\",\"Residuals\",\"Residuals\",\"Residuals\",\"Residuals\",\"Residuals\",\"Residuals\",\"Residuals\",\"Residuals\",\"Residuals\",\"Residuals\",\"Residuals\",\"Residuals\",\"Residuals\",\"Residuals\",\"Residuals\",\"Residuals\",\"Residuals\",\"Residuals\",\"Residuals\",\"Residuals\",\"Residuals\",\"Residuals\",\"Residuals\",\"Residuals\",\"Residuals\",\"Residuals\",\"Residuals\",\"Residuals\",\"Residuals\",\"Residuals\",\"Residuals\",\"Residuals\",\"Residuals\",\"Residuals\",\"Residuals\",\"Residuals\",\"Residuals\",\"Residuals\",\"Residuals\",\"Residuals\",\"Residuals\",\"Residuals\",\"Residuals\",\"Residuals\",\"Residuals\",\"Residuals\",\"Residuals\",\"Residuals\",\"Residuals\",\"Residuals\",\"Residuals\",\"Residuals\",\"Residuals\",\"Residuals\",\"Residuals\",\"Residuals\",\"Residuals\",\"Residuals\",\"Residuals\",\"Residuals\",\"Residuals\",\"Residuals\",\"Residuals\",\"Residuals\",\"Residuals\",\"Residuals\",\"Residuals\",\"Residuals\",\"Residuals\",\"Residuals\",\"Residuals\",\"Residuals\",\"Residuals\",\"Residuals\",\"Residuals\",\"Residuals\",\"Residuals\",\"Residuals\",\"Residuals\",\"Residuals\",\"Residuals\",\"Residuals\",\"Residuals\",\"Residuals\",\"Residuals\",\"Residuals\",\"Residuals\",\"Residuals\",\"Residuals\",\"Residuals\",\"Residuals\",\"Residuals\"],\"yaxis\":\"y2\",\"type\":\"scatter\"}],                        {\"barmode\":\"overlay\",\"hovermode\":\"closest\",\"legend\":{\"traceorder\":\"reversed\"},\"xaxis\":{\"anchor\":\"y2\",\"domain\":[0.0,1.0],\"zeroline\":false},\"yaxis\":{\"anchor\":\"free\",\"domain\":[0.35,1],\"position\":0.0},\"yaxis2\":{\"anchor\":\"x\",\"domain\":[0,0.25],\"dtick\":1,\"showticklabels\":false},\"template\":{\"data\":{\"histogram2dcontour\":[{\"type\":\"histogram2dcontour\",\"colorbar\":{\"outlinewidth\":0,\"ticks\":\"\"},\"colorscale\":[[0.0,\"#0d0887\"],[0.1111111111111111,\"#46039f\"],[0.2222222222222222,\"#7201a8\"],[0.3333333333333333,\"#9c179e\"],[0.4444444444444444,\"#bd3786\"],[0.5555555555555556,\"#d8576b\"],[0.6666666666666666,\"#ed7953\"],[0.7777777777777778,\"#fb9f3a\"],[0.8888888888888888,\"#fdca26\"],[1.0,\"#f0f921\"]]}],\"choropleth\":[{\"type\":\"choropleth\",\"colorbar\":{\"outlinewidth\":0,\"ticks\":\"\"}}],\"histogram2d\":[{\"type\":\"histogram2d\",\"colorbar\":{\"outlinewidth\":0,\"ticks\":\"\"},\"colorscale\":[[0.0,\"#0d0887\"],[0.1111111111111111,\"#46039f\"],[0.2222222222222222,\"#7201a8\"],[0.3333333333333333,\"#9c179e\"],[0.4444444444444444,\"#bd3786\"],[0.5555555555555556,\"#d8576b\"],[0.6666666666666666,\"#ed7953\"],[0.7777777777777778,\"#fb9f3a\"],[0.8888888888888888,\"#fdca26\"],[1.0,\"#f0f921\"]]}],\"heatmap\":[{\"type\":\"heatmap\",\"colorbar\":{\"outlinewidth\":0,\"ticks\":\"\"},\"colorscale\":[[0.0,\"#0d0887\"],[0.1111111111111111,\"#46039f\"],[0.2222222222222222,\"#7201a8\"],[0.3333333333333333,\"#9c179e\"],[0.4444444444444444,\"#bd3786\"],[0.5555555555555556,\"#d8576b\"],[0.6666666666666666,\"#ed7953\"],[0.7777777777777778,\"#fb9f3a\"],[0.8888888888888888,\"#fdca26\"],[1.0,\"#f0f921\"]]}],\"heatmapgl\":[{\"type\":\"heatmapgl\",\"colorbar\":{\"outlinewidth\":0,\"ticks\":\"\"},\"colorscale\":[[0.0,\"#0d0887\"],[0.1111111111111111,\"#46039f\"],[0.2222222222222222,\"#7201a8\"],[0.3333333333333333,\"#9c179e\"],[0.4444444444444444,\"#bd3786\"],[0.5555555555555556,\"#d8576b\"],[0.6666666666666666,\"#ed7953\"],[0.7777777777777778,\"#fb9f3a\"],[0.8888888888888888,\"#fdca26\"],[1.0,\"#f0f921\"]]}],\"contourcarpet\":[{\"type\":\"contourcarpet\",\"colorbar\":{\"outlinewidth\":0,\"ticks\":\"\"}}],\"contour\":[{\"type\":\"contour\",\"colorbar\":{\"outlinewidth\":0,\"ticks\":\"\"},\"colorscale\":[[0.0,\"#0d0887\"],[0.1111111111111111,\"#46039f\"],[0.2222222222222222,\"#7201a8\"],[0.3333333333333333,\"#9c179e\"],[0.4444444444444444,\"#bd3786\"],[0.5555555555555556,\"#d8576b\"],[0.6666666666666666,\"#ed7953\"],[0.7777777777777778,\"#fb9f3a\"],[0.8888888888888888,\"#fdca26\"],[1.0,\"#f0f921\"]]}],\"surface\":[{\"type\":\"surface\",\"colorbar\":{\"outlinewidth\":0,\"ticks\":\"\"},\"colorscale\":[[0.0,\"#0d0887\"],[0.1111111111111111,\"#46039f\"],[0.2222222222222222,\"#7201a8\"],[0.3333333333333333,\"#9c179e\"],[0.4444444444444444,\"#bd3786\"],[0.5555555555555556,\"#d8576b\"],[0.6666666666666666,\"#ed7953\"],[0.7777777777777778,\"#fb9f3a\"],[0.8888888888888888,\"#fdca26\"],[1.0,\"#f0f921\"]]}],\"mesh3d\":[{\"type\":\"mesh3d\",\"colorbar\":{\"outlinewidth\":0,\"ticks\":\"\"}}],\"scatter\":[{\"fillpattern\":{\"fillmode\":\"overlay\",\"size\":10,\"solidity\":0.2},\"type\":\"scatter\"}],\"parcoords\":[{\"type\":\"parcoords\",\"line\":{\"colorbar\":{\"outlinewidth\":0,\"ticks\":\"\"}}}],\"scatterpolargl\":[{\"type\":\"scatterpolargl\",\"marker\":{\"colorbar\":{\"outlinewidth\":0,\"ticks\":\"\"}}}],\"bar\":[{\"error_x\":{\"color\":\"#2a3f5f\"},\"error_y\":{\"color\":\"#2a3f5f\"},\"marker\":{\"line\":{\"color\":\"#E5ECF6\",\"width\":0.5},\"pattern\":{\"fillmode\":\"overlay\",\"size\":10,\"solidity\":0.2}},\"type\":\"bar\"}],\"scattergeo\":[{\"type\":\"scattergeo\",\"marker\":{\"colorbar\":{\"outlinewidth\":0,\"ticks\":\"\"}}}],\"scatterpolar\":[{\"type\":\"scatterpolar\",\"marker\":{\"colorbar\":{\"outlinewidth\":0,\"ticks\":\"\"}}}],\"histogram\":[{\"marker\":{\"pattern\":{\"fillmode\":\"overlay\",\"size\":10,\"solidity\":0.2}},\"type\":\"histogram\"}],\"scattergl\":[{\"type\":\"scattergl\",\"marker\":{\"colorbar\":{\"outlinewidth\":0,\"ticks\":\"\"}}}],\"scatter3d\":[{\"type\":\"scatter3d\",\"line\":{\"colorbar\":{\"outlinewidth\":0,\"ticks\":\"\"}},\"marker\":{\"colorbar\":{\"outlinewidth\":0,\"ticks\":\"\"}}}],\"scattermapbox\":[{\"type\":\"scattermapbox\",\"marker\":{\"colorbar\":{\"outlinewidth\":0,\"ticks\":\"\"}}}],\"scatterternary\":[{\"type\":\"scatterternary\",\"marker\":{\"colorbar\":{\"outlinewidth\":0,\"ticks\":\"\"}}}],\"scattercarpet\":[{\"type\":\"scattercarpet\",\"marker\":{\"colorbar\":{\"outlinewidth\":0,\"ticks\":\"\"}}}],\"carpet\":[{\"aaxis\":{\"endlinecolor\":\"#2a3f5f\",\"gridcolor\":\"white\",\"linecolor\":\"white\",\"minorgridcolor\":\"white\",\"startlinecolor\":\"#2a3f5f\"},\"baxis\":{\"endlinecolor\":\"#2a3f5f\",\"gridcolor\":\"white\",\"linecolor\":\"white\",\"minorgridcolor\":\"white\",\"startlinecolor\":\"#2a3f5f\"},\"type\":\"carpet\"}],\"table\":[{\"cells\":{\"fill\":{\"color\":\"#EBF0F8\"},\"line\":{\"color\":\"white\"}},\"header\":{\"fill\":{\"color\":\"#C8D4E3\"},\"line\":{\"color\":\"white\"}},\"type\":\"table\"}],\"barpolar\":[{\"marker\":{\"line\":{\"color\":\"#E5ECF6\",\"width\":0.5},\"pattern\":{\"fillmode\":\"overlay\",\"size\":10,\"solidity\":0.2}},\"type\":\"barpolar\"}],\"pie\":[{\"automargin\":true,\"type\":\"pie\"}]},\"layout\":{\"autotypenumbers\":\"strict\",\"colorway\":[\"#636efa\",\"#EF553B\",\"#00cc96\",\"#ab63fa\",\"#FFA15A\",\"#19d3f3\",\"#FF6692\",\"#B6E880\",\"#FF97FF\",\"#FECB52\"],\"font\":{\"color\":\"#2a3f5f\"},\"hovermode\":\"closest\",\"hoverlabel\":{\"align\":\"left\"},\"paper_bgcolor\":\"white\",\"plot_bgcolor\":\"#E5ECF6\",\"polar\":{\"bgcolor\":\"#E5ECF6\",\"angularaxis\":{\"gridcolor\":\"white\",\"linecolor\":\"white\",\"ticks\":\"\"},\"radialaxis\":{\"gridcolor\":\"white\",\"linecolor\":\"white\",\"ticks\":\"\"}},\"ternary\":{\"bgcolor\":\"#E5ECF6\",\"aaxis\":{\"gridcolor\":\"white\",\"linecolor\":\"white\",\"ticks\":\"\"},\"baxis\":{\"gridcolor\":\"white\",\"linecolor\":\"white\",\"ticks\":\"\"},\"caxis\":{\"gridcolor\":\"white\",\"linecolor\":\"white\",\"ticks\":\"\"}},\"coloraxis\":{\"colorbar\":{\"outlinewidth\":0,\"ticks\":\"\"}},\"colorscale\":{\"sequential\":[[0.0,\"#0d0887\"],[0.1111111111111111,\"#46039f\"],[0.2222222222222222,\"#7201a8\"],[0.3333333333333333,\"#9c179e\"],[0.4444444444444444,\"#bd3786\"],[0.5555555555555556,\"#d8576b\"],[0.6666666666666666,\"#ed7953\"],[0.7777777777777778,\"#fb9f3a\"],[0.8888888888888888,\"#fdca26\"],[1.0,\"#f0f921\"]],\"sequentialminus\":[[0.0,\"#0d0887\"],[0.1111111111111111,\"#46039f\"],[0.2222222222222222,\"#7201a8\"],[0.3333333333333333,\"#9c179e\"],[0.4444444444444444,\"#bd3786\"],[0.5555555555555556,\"#d8576b\"],[0.6666666666666666,\"#ed7953\"],[0.7777777777777778,\"#fb9f3a\"],[0.8888888888888888,\"#fdca26\"],[1.0,\"#f0f921\"]],\"diverging\":[[0,\"#8e0152\"],[0.1,\"#c51b7d\"],[0.2,\"#de77ae\"],[0.3,\"#f1b6da\"],[0.4,\"#fde0ef\"],[0.5,\"#f7f7f7\"],[0.6,\"#e6f5d0\"],[0.7,\"#b8e186\"],[0.8,\"#7fbc41\"],[0.9,\"#4d9221\"],[1,\"#276419\"]]},\"xaxis\":{\"gridcolor\":\"white\",\"linecolor\":\"white\",\"ticks\":\"\",\"title\":{\"standoff\":15},\"zerolinecolor\":\"white\",\"automargin\":true,\"zerolinewidth\":2},\"yaxis\":{\"gridcolor\":\"white\",\"linecolor\":\"white\",\"ticks\":\"\",\"title\":{\"standoff\":15},\"zerolinecolor\":\"white\",\"automargin\":true,\"zerolinewidth\":2},\"scene\":{\"xaxis\":{\"backgroundcolor\":\"#E5ECF6\",\"gridcolor\":\"white\",\"linecolor\":\"white\",\"showbackground\":true,\"ticks\":\"\",\"zerolinecolor\":\"white\",\"gridwidth\":2},\"yaxis\":{\"backgroundcolor\":\"#E5ECF6\",\"gridcolor\":\"white\",\"linecolor\":\"white\",\"showbackground\":true,\"ticks\":\"\",\"zerolinecolor\":\"white\",\"gridwidth\":2},\"zaxis\":{\"backgroundcolor\":\"#E5ECF6\",\"gridcolor\":\"white\",\"linecolor\":\"white\",\"showbackground\":true,\"ticks\":\"\",\"zerolinecolor\":\"white\",\"gridwidth\":2}},\"shapedefaults\":{\"line\":{\"color\":\"#2a3f5f\"}},\"annotationdefaults\":{\"arrowcolor\":\"#2a3f5f\",\"arrowhead\":0,\"arrowwidth\":1},\"geo\":{\"bgcolor\":\"white\",\"landcolor\":\"#E5ECF6\",\"subunitcolor\":\"white\",\"showland\":true,\"showlakes\":true,\"lakecolor\":\"white\"},\"title\":{\"x\":0.05},\"mapbox\":{\"style\":\"light\"}}},\"title\":{\"text\":\"\\u003cb\\u003eDistribution Plot of Residuals\\u003c\\u002fb\\u003e\",\"x\":0.05,\"xanchor\":\"left\"},\"plot_bgcolor\":\"#F6F5F5\",\"paper_bgcolor\":\"#F6F5F5\",\"height\":750,\"width\":950,\"showlegend\":false},                        {\"responsive\": true}                    ).then(function(){\n",
       "                            \n",
       "var gd = document.getElementById('2d9aa0fc-32fe-4ccb-87a4-2a83a7f20e61');\n",
       "var x = new MutationObserver(function (mutations, observer) {{\n",
       "        var display = window.getComputedStyle(gd).display;\n",
       "        if (!display || display === 'none') {{\n",
       "            console.log([gd, 'removed!']);\n",
       "            Plotly.purge(gd);\n",
       "            observer.disconnect();\n",
       "        }}\n",
       "}});\n",
       "\n",
       "// Listen for the removal of the full notebook cells\n",
       "var notebookContainer = gd.closest('#notebook-container');\n",
       "if (notebookContainer) {{\n",
       "    x.observe(notebookContainer, {childList: true});\n",
       "}}\n",
       "\n",
       "// Listen for the clearing of the current output cell\n",
       "var outputEl = gd.closest('.output');\n",
       "if (outputEl) {{\n",
       "    x.observe(outputEl, {childList: true});\n",
       "}}\n",
       "\n",
       "                        })                };                });            </script>        </div>"
      ]
     },
     "metadata": {},
     "output_type": "display_data"
    }
   ],
   "source": [
    "residuals = model.resid # Obtaining residuals\n",
    "\n",
    "# Creating a distribution plot\n",
    "fig = ff.create_distplot([residuals], ['Residuals'], bin_size=2)\n",
    "fig.update_layout(title={'text': '<b>Distribution Plot of Residuals</b>',\n",
    "                         'x': 0.05, 'xanchor': 'left'},\n",
    "                  plot_bgcolor='#F6F5F5',\n",
    "                  paper_bgcolor='#F6F5F5',\n",
    "                  height=750, width=950,\n",
    "                  showlegend=False)\n",
    "\n",
    "fig.show()"
   ]
  },
  {
   "cell_type": "code",
   "execution_count": 30,
   "metadata": {},
   "outputs": [
    {
     "data": {
      "image/png": "[encoded data removed]",
      "text/plain": [
       "<Figure size 640x480 with 1 Axes>"
      ]
     },
     "metadata": {},
     "output_type": "display_data"
    }
   ],
   "source": [
    "# Q-Q plot\n",
    "ax = stats.probplot(model.resid, dist='norm', plot=plt)"
   ]
  },
  {
   "cell_type": "markdown",
   "metadata": {},
   "source": [
    "# Multiple Regression"
   ]
  },
  {
   "cell_type": "code",
   "execution_count": 31,
   "metadata": {},
   "outputs": [
    {
     "name": "stdout",
     "output_type": "stream",
     "text": [
      "                            OLS Regression Results                            \n",
      "==============================================================================\n",
      "Dep. Variable:                   MEDV   R-squared:                       0.765\n",
      "Model:                            OLS   Adj. R-squared:                  0.756\n",
      "Method:                 Least Squares   F-statistic:                     84.92\n",
      "Date:                Sun, 15 Oct 2023   Prob (F-statistic):           2.76e-98\n",
      "Time:                        22:22:12   Log-Likelihood:                -1032.2\n",
      "No. Observations:                 354   AIC:                             2092.\n",
      "Df Residuals:                     340   BIC:                             2147.\n",
      "Df Model:                          13                                         \n",
      "Covariance Type:            nonrobust                                         \n",
      "==============================================================================\n",
      "                 coef    std err          t      P>|t|      [0.025      0.975]\n",
      "------------------------------------------------------------------------------\n",
      "Intercept     37.9371      5.876      6.457      0.000      26.380      49.494\n",
      "CRIM          -0.1213      0.038     -3.185      0.002      -0.196      -0.046\n",
      "ZN             0.0445      0.016      2.834      0.005       0.014       0.075\n",
      "INDUS          0.0113      0.068      0.166      0.868      -0.123       0.146\n",
      "CHAS           2.5112      1.011      2.483      0.014       0.522       4.501\n",
      "NOX          -16.2313      4.487     -3.618      0.000     -25.056      -7.406\n",
      "RM             3.8591      0.491      7.867      0.000       2.894       4.824\n",
      "AGE           -0.0100      0.016     -0.634      0.527      -0.041       0.021\n",
      "DIS           -1.5003      0.234     -6.402      0.000      -1.961      -1.039\n",
      "RAD            0.2421      0.077      3.152      0.002       0.091       0.393\n",
      "TAX           -0.0111      0.004     -2.586      0.010      -0.019      -0.003\n",
      "PTRATIO       -1.0178      0.150     -6.803      0.000      -1.312      -0.723\n",
      "B              0.0068      0.003      2.099      0.037       0.000       0.013\n",
      "LSTAT         -0.4867      0.060     -8.068      0.000      -0.605      -0.368\n",
      "==============================================================================\n",
      "Omnibus:                      133.612   Durbin-Watson:                   2.019\n",
      "Prob(Omnibus):                  0.000   Jarque-Bera (JB):              634.086\n",
      "Skew:                           1.547   Prob(JB):                    2.04e-138\n",
      "Kurtosis:                       8.781   Cond. No.                     1.52e+04\n",
      "==============================================================================\n",
      "\n",
      "Notes:\n",
      "[1] Standard Errors assume that the covariance matrix of the errors is correctly specified.\n",
      "[2] The condition number is large, 1.52e+04. This might indicate that there are\n",
      "strong multicollinearity or other numerical problems.\n"
     ]
    }
   ],
   "source": [
    "string_cols = ' + '.join(data.columns[:-1])\n",
    "est = smf.ols('MEDV ~ {}'.format(string_cols),data = data).fit()\n",
    "print(est.summary())"
   ]
  },
  {
   "cell_type": "markdown",
   "metadata": {},
   "source": [
    "There are many insights that can be extracted from the summary above. Let's start by observing the features and their coefficients.\n",
    "Remember the linear regression equation:\n",
    "\n",
    "\\begin{equation}\n",
    "Y = \\beta_0 + \\beta_1X_1 + \\beta_2X_2 + \\ldots + \\epsilon\n",
    "\\end{equation}\n",
    "\n",
    "The $Intercept(\\beta_0)$ is equal to 37.9371. It means that the predicted value of $Y$ will be <mark>37.9371</mark> when <u>all the other features are equal to 0</u>.\n",
    "\n",
    "The $\\beta_1$ coefficient is the average change in $Y$ for a one-unit change in $X_6$, which is the <code>RM</code> variable. In this case, a one-unit increase in <code>RM</code> is going to represent an increase of about <mark>3.8591</mark> in the predicted value for $Y$ <u>when all other features are constant</u>.\n",
    "\n",
    "We can also see negative coefficients, which is the case of the coefficient of <code>NOX</code>. This suggests that for one-unit increase in this feature we may expect a decrease of about <mark>16.2313</mark> in the predicted value of $Y$, as long as all other features are held constant.\n",
    "\n",
    "We also have in the summary the standard errors $std$ $err$ values. When looking at this metric, we want values to be as low as possible, indicating a more reliable estimate for coefficient values. The $P>|t|$ tells us if the feature is statistically significant or not. We want these values to be <mark><b>below $0.05$</b></mark> to deem a feature statistically significant for predicting the outcome of $Y$.\n"
   ]
  },
  {
   "cell_type": "markdown",
   "metadata": {},
   "source": [
    "<div class=\"alert alert-success\">\n",
    "PLAYTIME: Which are the most reliable independent variables? \n",
    "</div>"
   ]
  },
  {
   "cell_type": "markdown",
   "metadata": {},
   "source": [
    "We also have other important metrics to look at. The R-Squared metric at 0.765 suggests that me model is able to explain approximately $76.5$% of the variance in the target variable.\n",
    "\n",
    "The <b><i>Durbin-Watson</i></b> statistic is used to detect autocorrelation between the residuals. Values for the $DW$ range between 0 to 4 and, as a rule of thumb, values between 1.5 to 2.5 suggest that there is no autocorrelation between the residuals and our samples are independent of each other. Considering our $DW$ value is equal to 2.019, this ticks one of the key assumptions of Linear Regression.\n",
    "\n",
    "Another relevant metric is the <b><i>Jarque-Bera</i></b> statistic, which tells us whether the residuals are normally-distributed or not. As a rule of thumb, if $JB$ is too far from zero, it indicates that the data is <mark>not-normally distributed</mark>. In this case, a $JB$ equal to 634.086 suggests that our residuals may be normally distributed. The values for the Kurtosis, around to 9.0, and Skew, close to 1, are also relevant metrics to suggest our residuals are indeed normally distributed. This is another positive sign when talking about the assumptions regarding Linear Regression models.\n",
    "\n",
    "To confirm if the residuals are normally-distributed or not, we can use a Histogram plot to visualize how they're distributed."
   ]
  },
  {
   "cell_type": "code",
   "execution_count": 32,
   "metadata": {},
   "outputs": [
    {
     "name": "stdout",
     "output_type": "stream",
     "text": [
      "\n",
      "Root Mean Squared Error for Baseline Model: 6.86\n"
     ]
    }
   ],
   "source": [
    "y_pred = model.predict(X_test) # Running predictions\n",
    "rmse = mean_squared_error(y_test, y_pred,squared = False) # Computing RMSE\n",
    "\n",
    "print(f'\\nRoot Mean Squared Error for Baseline Model: {rmse:.2f}')"
   ]
  },
  {
   "cell_type": "markdown",
   "metadata": {},
   "source": [
    "The RMSE shows us that, on average, our model is getting the value of $Y$ wrong by 6.86 units.\n",
    "          \n",
    "We can also plot a scatter plot between actual and predicted values to visualize how they relate to each other."
   ]
  },
  {
   "cell_type": "code",
   "execution_count": 33,
   "metadata": {},
   "outputs": [
    {
     "data": {
      "application/vnd.plotly.v1+json": {
       "config": {
        "plotlyServerURL": "https://plot.ly"
       },
       "data": [
        {
         "hovertemplate": "Actual=%{x}<br>Predicted=%{y}<extra></extra>",
         "legendgroup": "",
         "marker": {
          "color": "rgb(76,114,176)",
          "opacity": 0.825,
          "size": 8,
          "symbol": "circle"
         },
         "mode": "markers",
         "name": "",
         "orientation": "v",
         "showlegend": false,
         "type": "scatter",
         "x": [
          22.6,
          50,
          23,
          8.3,
          21.2,
          19.9,
          20.6,
          18.7,
          16.1,
          18.6,
          8.8,
          17.2,
          14.9,
          10.5,
          50,
          29,
          23,
          33.3,
          29.4,
          21,
          23.8,
          19.1,
          20.4,
          29.1,
          19.3,
          23.1,
          19.6,
          19.4,
          38.7,
          18.7,
          14.6,
          20,
          20.5,
          20.1,
          23.6,
          16.8,
          5.6,
          50,
          14.5,
          13.3,
          23.9,
          20,
          19.8,
          13.8,
          16.5,
          21.6,
          20.3,
          17,
          11.8,
          27.5,
          15.6,
          23.1,
          24.3,
          42.8,
          15.6,
          21.7,
          17.1,
          17.2,
          15,
          21.7,
          18.6,
          21,
          33.1,
          31.5,
          20.1,
          29.8,
          15.2,
          15,
          27.5,
          22.6,
          20,
          21.4,
          23.5,
          31.2,
          23.7,
          7.4,
          48.3,
          24.4,
          22.6,
          18.3,
          23.3,
          17.1,
          27.9,
          44.8,
          50,
          23,
          21.4,
          10.2,
          23.3,
          23.2,
          18.9,
          13.4,
          21.9,
          24.8,
          11.9,
          24.3,
          13.8,
          24.7,
          14.1,
          18.7,
          28.1,
          19.8,
          26.7,
          21.7,
          22,
          22.9,
          10.4,
          21.9,
          20.6,
          26.4,
          41.3,
          17.2,
          27.1,
          20.4,
          16.5,
          24.4,
          8.4,
          23,
          9.7,
          50,
          30.5,
          12.3,
          19.4,
          21.2,
          20.3,
          18.8,
          33.4,
          18.5,
          19.6,
          33.2,
          13.1,
          7.5,
          13.6,
          17.4,
          8.4,
          35.4,
          24,
          13.4,
          26.2,
          7.2,
          13.1,
          24.5,
          37.2,
          25,
          24.1,
          16.6,
          32.9,
          36.2,
          11,
          7.2,
          22.8,
          28.7
         ],
         "xaxis": "x",
         "y": [
          22.974291646390462,
          21.884866262989995,
          23.346744768920534,
          13.811944832150635,
          22.033847512002023,
          18.32793894282778,
          18.989043235318668,
          19.575656903303532,
          10.310885480367935,
          23.644707266944597,
          19.47323229460776,
          25.991161938884062,
          23.048782270896474,
          7.321949172064092,
          36.65263257130743,
          29.566711915172775,
          22.12696079263454,
          31.857298618732727,
          24.957604523863107,
          18.47692019183981,
          23.840245156272882,
          18.75626003373737,
          21.056158065360574,
          24.36167952781499,
          16.912617077213504,
          -0.024688669841622747,
          19.547722919113774,
          17.1640229349213,
          39.13875716419569,
          20.73026158314676,
          21.59621509302918,
          20.627836974450997,
          21.97797954362251,
          20.758195567336514,
          23.747131875640367,
          18.039287772866974,
          19.752572136505318,
          18.70970339342111,
          23.113961567339235,
          21.38205454757439,
          21.056158065360574,
          17.88099519579169,
          21.21445064243586,
          14.538228421084275,
          24.901736555483595,
          23.793688515956624,
          17.9182405080447,
          21.074780721487077,
          9.659092515940303,
          26.642954903311693,
          21.288941266941876,
          16.80088114045448,
          19.696704168125805,
          40.907909496213534,
          17.610966681957386,
          18.840061986306637,
          17.13608895073155,
          18.9238639388759,
          17.610966681957386,
          19.501166278797516,
          18.79350534599038,
          20.925799472475056,
          29.017343559440913,
          25.013472492242613,
          17.20126824717431,
          25.050717804495623,
          25.97253928275756,
          23.38399008117354,
          27.806870911218173,
          18.85868464243314,
          22.47147993097486,
          22.53665922741762,
          22.57390453967063,
          28.01172012860971,
          26.857115448766482,
          10.562291338075736,
          40.79617355945451,
          22.90911234994769,
          23.756443203703615,
          17.955485820297707,
          25.516284207658213,
          24.100962342043932,
          16.22357880053286,
          40.97308879265629,
          45.24698837368889,
          22.778753757062173,
          21.391365875637646,
          18.355872927017536,
          24.622396713586035,
          20.348497132553437,
          18.83075065824338,
          25.730444753113005,
          20.879242832158788,
          27.983786144419962,
          20.152959243225148,
          20.879242832158788,
          2.5359265475526365,
          23.439858049553052,
          24.76206663453482,
          17.461985432945358,
          23.365367425047037,
          24.287188903308973,
          28.728692389480102,
          19.51047760686077,
          28.22588067406451,
          19.98535533808661,
          13.392935069304302,
          10.217772199735418,
          20.990978768917813,
          24.482726792637262,
          28.654201764974086,
          16.30738075310213,
          21.475167828206907,
          18.681769409231354,
          16.43773934598766,
          20.46954439737571,
          19.268383077216217,
          23.33743344085728,
          10.8974991483528,
          37.77930326696091,
          26.75469084007071,
          15.404181930966697,
          16.167710832153357,
          20.050534634529377,
          19.61290221555654,
          18.746948705674114,
          33.095705251145226,
          16.195644816343112,
          19.1938924527102,
          31.671072057467693,
          24.259254919119215,
          27.15507794679054,
          19.715326824252305,
          18.70970339342111,
          27.54615372544712,
          31.503468152329155,
          20.674393614767254,
          14.31475654756623,
          26.559152950742423,
          23.914735780778898,
          23.411924065363294,
          19.184581124646954,
          28.998720903314414,
          24.63170804164929,
          22.415611962595346,
          18.132401053499493,
          30.441976753118446,
          30.55371268987747,
          21.670705717535196,
          13.141529211596502,
          25.786312721492518,
          23.877490468525885
         ],
         "yaxis": "y"
        },
        {
         "hovertemplate": "<b>OLS trendline</b><br>Predicted = 0.473345 * Actual + 11.5767<br>R<sup>2</sup>=0.438005<br><br>Actual=%{x}<br>Predicted=%{y} <b>(trend)</b><extra></extra>",
         "legendgroup": "",
         "marker": {
          "color": "#636efa",
          "size": 8,
          "symbol": "circle"
         },
         "mode": "lines",
         "name": "",
         "showlegend": false,
         "type": "scatter",
         "x": [
          5.6,
          7.2,
          7.2,
          7.4,
          7.5,
          8.3,
          8.4,
          8.4,
          8.8,
          9.7,
          10.2,
          10.4,
          10.5,
          11,
          11.8,
          11.9,
          12.3,
          13.1,
          13.1,
          13.3,
          13.4,
          13.4,
          13.6,
          13.8,
          13.8,
          14.1,
          14.5,
          14.6,
          14.9,
          15,
          15,
          15.2,
          15.6,
          15.6,
          16.1,
          16.5,
          16.5,
          16.6,
          16.8,
          17,
          17.1,
          17.1,
          17.2,
          17.2,
          17.2,
          17.4,
          18.3,
          18.5,
          18.6,
          18.6,
          18.7,
          18.7,
          18.7,
          18.8,
          18.9,
          19.1,
          19.3,
          19.4,
          19.4,
          19.6,
          19.6,
          19.8,
          19.8,
          19.9,
          20,
          20,
          20,
          20.1,
          20.1,
          20.3,
          20.3,
          20.4,
          20.4,
          20.5,
          20.6,
          20.6,
          21,
          21,
          21.2,
          21.2,
          21.4,
          21.4,
          21.6,
          21.7,
          21.7,
          21.7,
          21.9,
          21.9,
          22,
          22.6,
          22.6,
          22.6,
          22.8,
          22.9,
          23,
          23,
          23,
          23,
          23.1,
          23.1,
          23.2,
          23.3,
          23.3,
          23.5,
          23.6,
          23.7,
          23.8,
          23.9,
          24,
          24.1,
          24.3,
          24.3,
          24.4,
          24.4,
          24.5,
          24.7,
          24.8,
          25,
          26.2,
          26.4,
          26.7,
          27.1,
          27.5,
          27.5,
          27.9,
          28.1,
          28.7,
          29,
          29.1,
          29.4,
          29.8,
          30.5,
          31.2,
          31.5,
          32.9,
          33.1,
          33.2,
          33.3,
          33.4,
          35.4,
          36.2,
          37.2,
          38.7,
          41.3,
          42.8,
          44.8,
          48.3,
          50,
          50,
          50,
          50,
          50
         ],
         "xaxis": "x",
         "y": [
          14.227388972914172,
          14.984740867249915,
          14.984740867249915,
          15.079409854041884,
          15.126744347437867,
          15.50542029460574,
          15.552754788001723,
          15.552754788001723,
          15.74209276158566,
          16.168103202149513,
          16.404775669129435,
          16.499444655921405,
          16.546779149317388,
          16.783451616297306,
          17.16212756346518,
          17.209462056861163,
          17.3988000304451,
          17.77747597761297,
          17.77747597761297,
          17.87214496440494,
          17.91947945780092,
          17.91947945780092,
          18.01414844459289,
          18.10881743138486,
          18.10881743138486,
          18.25082091157281,
          18.440158885156748,
          18.48749337855273,
          18.629496858740684,
          18.676831352136666,
          18.676831352136666,
          18.771500338928636,
          18.96083831251257,
          18.96083831251257,
          19.19751077949249,
          19.386848753076425,
          19.386848753076425,
          19.43418324647241,
          19.528852233264377,
          19.623521220056347,
          19.67085571345233,
          19.67085571345233,
          19.718190206848313,
          19.718190206848313,
          19.718190206848313,
          19.812859193640282,
          20.23886963420414,
          20.333538620996105,
          20.38087311439209,
          20.38087311439209,
          20.428207607788075,
          20.428207607788075,
          20.428207607788075,
          20.475542101184057,
          20.52287659458004,
          20.61754558137201,
          20.71221456816398,
          20.759549061559962,
          20.759549061559962,
          20.85421804835193,
          20.85421804835193,
          20.948887035143898,
          20.948887035143898,
          20.99622152853988,
          21.043556021935867,
          21.043556021935867,
          21.043556021935867,
          21.09089051533185,
          21.09089051533185,
          21.18555950212382,
          21.18555950212382,
          21.232893995519802,
          21.232893995519802,
          21.280228488915785,
          21.327562982311772,
          21.327562982311772,
          21.516900955895707,
          21.516900955895707,
          21.611569942687673,
          21.611569942687673,
          21.706238929479643,
          21.706238929479643,
          21.800907916271612,
          21.848242409667595,
          21.848242409667595,
          21.848242409667595,
          21.94291139645956,
          21.94291139645956,
          21.990245889855547,
          22.274252850231452,
          22.274252850231452,
          22.274252850231452,
          22.368921837023418,
          22.4162563304194,
          22.463590823815387,
          22.463590823815387,
          22.463590823815387,
          22.463590823815387,
          22.51092531721137,
          22.51092531721137,
          22.558259810607353,
          22.60559430400334,
          22.60559430400334,
          22.700263290795306,
          22.747597784191292,
          22.794932277587275,
          22.842266770983258,
          22.88960126437924,
          22.936935757775224,
          22.98427025117121,
          23.078939237963176,
          23.078939237963176,
          23.12627373135916,
          23.12627373135916,
          23.173608224755146,
          23.26827721154711,
          23.315611704943098,
          23.410280691735064,
          23.978294612486874,
          24.07296359927884,
          24.214967079466792,
          24.40430505305073,
          24.593643026634666,
          24.593643026634666,
          24.7829810002186,
          24.87764998701057,
          25.161656947386472,
          25.303660427574425,
          25.35099492097041,
          25.49299840115836,
          25.6823363747423,
          26.013677828514187,
          26.345019282286074,
          26.487022762474027,
          27.1497056700178,
          27.244374656809768,
          27.291709150205754,
          27.339043643601734,
          27.38637813699772,
          28.3330680049174,
          28.711743952085275,
          29.185088886045115,
          29.895106286984873,
          31.125803115280455,
          31.835820516220213,
          32.7825103841399,
          34.43921765299933,
          35.24390404073106,
          35.24390404073106,
          35.24390404073106,
          35.24390404073106,
          35.24390404073106
         ],
         "yaxis": "y"
        }
       ],
       "layout": {
        "height": 650,
        "legend": {
         "tracegroupgap": 0
        },
        "margin": {
         "t": 60
        },
        "paper_bgcolor": "#F6F5F5",
        "plot_bgcolor": "#F6F5F5",
        "showlegend": true,
        "template": {
         "data": {
          "bar": [
           {
            "error_x": {
             "color": "rgb(36,36,36)"
            },
            "error_y": {
             "color": "rgb(36,36,36)"
            },
            "marker": {
             "line": {
              "color": "rgb(234,234,242)",
              "width": 0.5
             },
             "pattern": {
              "fillmode": "overlay",
              "size": 10,
              "solidity": 0.2
             }
            },
            "type": "bar"
           }
          ],
          "barpolar": [
           {
            "marker": {
             "line": {
              "color": "rgb(234,234,242)",
              "width": 0.5
             },
             "pattern": {
              "fillmode": "overlay",
              "size": 10,
              "solidity": 0.2
             }
            },
            "type": "barpolar"
           }
          ],
          "carpet": [
           {
            "aaxis": {
             "endlinecolor": "rgb(36,36,36)",
             "gridcolor": "white",
             "linecolor": "white",
             "minorgridcolor": "white",
             "startlinecolor": "rgb(36,36,36)"
            },
            "baxis": {
             "endlinecolor": "rgb(36,36,36)",
             "gridcolor": "white",
             "linecolor": "white",
             "minorgridcolor": "white",
             "startlinecolor": "rgb(36,36,36)"
            },
            "type": "carpet"
           }
          ],
          "choropleth": [
           {
            "colorbar": {
             "outlinewidth": 0,
             "tickcolor": "rgb(36,36,36)",
             "ticklen": 8,
             "ticks": "outside",
             "tickwidth": 2
            },
            "type": "choropleth"
           }
          ],
          "contour": [
           {
            "colorbar": {
             "outlinewidth": 0,
             "tickcolor": "rgb(36,36,36)",
             "ticklen": 8,
             "ticks": "outside",
             "tickwidth": 2
            },
            "colorscale": [
             [
              0,
              "rgb(2,4,25)"
             ],
             [
              0.06274509803921569,
              "rgb(24,15,41)"
             ],
             [
              0.12549019607843137,
              "rgb(47,23,57)"
             ],
             [
              0.18823529411764706,
              "rgb(71,28,72)"
             ],
             [
              0.25098039215686274,
              "rgb(97,30,82)"
             ],
             [
              0.3137254901960784,
              "rgb(123,30,89)"
             ],
             [
              0.3764705882352941,
              "rgb(150,27,91)"
             ],
             [
              0.4392156862745098,
              "rgb(177,22,88)"
             ],
             [
              0.5019607843137255,
              "rgb(203,26,79)"
             ],
             [
              0.5647058823529412,
              "rgb(223,47,67)"
             ],
             [
              0.6274509803921569,
              "rgb(236,76,61)"
             ],
             [
              0.6901960784313725,
              "rgb(242,107,73)"
             ],
             [
              0.7529411764705882,
              "rgb(244,135,95)"
             ],
             [
              0.8156862745098039,
              "rgb(245,162,122)"
             ],
             [
              0.8784313725490196,
              "rgb(246,188,153)"
             ],
             [
              0.9411764705882353,
              "rgb(247,212,187)"
             ],
             [
              1,
              "rgb(250,234,220)"
             ]
            ],
            "type": "contour"
           }
          ],
          "contourcarpet": [
           {
            "colorbar": {
             "outlinewidth": 0,
             "tickcolor": "rgb(36,36,36)",
             "ticklen": 8,
             "ticks": "outside",
             "tickwidth": 2
            },
            "type": "contourcarpet"
           }
          ],
          "heatmap": [
           {
            "colorbar": {
             "outlinewidth": 0,
             "tickcolor": "rgb(36,36,36)",
             "ticklen": 8,
             "ticks": "outside",
             "tickwidth": 2
            },
            "colorscale": [
             [
              0,
              "rgb(2,4,25)"
             ],
             [
              0.06274509803921569,
              "rgb(24,15,41)"
             ],
             [
              0.12549019607843137,
              "rgb(47,23,57)"
             ],
             [
              0.18823529411764706,
              "rgb(71,28,72)"
             ],
             [
              0.25098039215686274,
              "rgb(97,30,82)"
             ],
             [
              0.3137254901960784,
              "rgb(123,30,89)"
             ],
             [
              0.3764705882352941,
              "rgb(150,27,91)"
             ],
             [
              0.4392156862745098,
              "rgb(177,22,88)"
             ],
             [
              0.5019607843137255,
              "rgb(203,26,79)"
             ],
             [
              0.5647058823529412,
              "rgb(223,47,67)"
             ],
             [
              0.6274509803921569,
              "rgb(236,76,61)"
             ],
             [
              0.6901960784313725,
              "rgb(242,107,73)"
             ],
             [
              0.7529411764705882,
              "rgb(244,135,95)"
             ],
             [
              0.8156862745098039,
              "rgb(245,162,122)"
             ],
             [
              0.8784313725490196,
              "rgb(246,188,153)"
             ],
             [
              0.9411764705882353,
              "rgb(247,212,187)"
             ],
             [
              1,
              "rgb(250,234,220)"
             ]
            ],
            "type": "heatmap"
           }
          ],
          "heatmapgl": [
           {
            "colorbar": {
             "outlinewidth": 0,
             "tickcolor": "rgb(36,36,36)",
             "ticklen": 8,
             "ticks": "outside",
             "tickwidth": 2
            },
            "colorscale": [
             [
              0,
              "rgb(2,4,25)"
             ],
             [
              0.06274509803921569,
              "rgb(24,15,41)"
             ],
             [
              0.12549019607843137,
              "rgb(47,23,57)"
             ],
             [
              0.18823529411764706,
              "rgb(71,28,72)"
             ],
             [
              0.25098039215686274,
              "rgb(97,30,82)"
             ],
             [
              0.3137254901960784,
              "rgb(123,30,89)"
             ],
             [
              0.3764705882352941,
              "rgb(150,27,91)"
             ],
             [
              0.4392156862745098,
              "rgb(177,22,88)"
             ],
             [
              0.5019607843137255,
              "rgb(203,26,79)"
             ],
             [
              0.5647058823529412,
              "rgb(223,47,67)"
             ],
             [
              0.6274509803921569,
              "rgb(236,76,61)"
             ],
             [
              0.6901960784313725,
              "rgb(242,107,73)"
             ],
             [
              0.7529411764705882,
              "rgb(244,135,95)"
             ],
             [
              0.8156862745098039,
              "rgb(245,162,122)"
             ],
             [
              0.8784313725490196,
              "rgb(246,188,153)"
             ],
             [
              0.9411764705882353,
              "rgb(247,212,187)"
             ],
             [
              1,
              "rgb(250,234,220)"
             ]
            ],
            "type": "heatmapgl"
           }
          ],
          "histogram": [
           {
            "marker": {
             "pattern": {
              "fillmode": "overlay",
              "size": 10,
              "solidity": 0.2
             }
            },
            "type": "histogram"
           }
          ],
          "histogram2d": [
           {
            "colorbar": {
             "outlinewidth": 0,
             "tickcolor": "rgb(36,36,36)",
             "ticklen": 8,
             "ticks": "outside",
             "tickwidth": 2
            },
            "colorscale": [
             [
              0,
              "rgb(2,4,25)"
             ],
             [
              0.06274509803921569,
              "rgb(24,15,41)"
             ],
             [
              0.12549019607843137,
              "rgb(47,23,57)"
             ],
             [
              0.18823529411764706,
              "rgb(71,28,72)"
             ],
             [
              0.25098039215686274,
              "rgb(97,30,82)"
             ],
             [
              0.3137254901960784,
              "rgb(123,30,89)"
             ],
             [
              0.3764705882352941,
              "rgb(150,27,91)"
             ],
             [
              0.4392156862745098,
              "rgb(177,22,88)"
             ],
             [
              0.5019607843137255,
              "rgb(203,26,79)"
             ],
             [
              0.5647058823529412,
              "rgb(223,47,67)"
             ],
             [
              0.6274509803921569,
              "rgb(236,76,61)"
             ],
             [
              0.6901960784313725,
              "rgb(242,107,73)"
             ],
             [
              0.7529411764705882,
              "rgb(244,135,95)"
             ],
             [
              0.8156862745098039,
              "rgb(245,162,122)"
             ],
             [
              0.8784313725490196,
              "rgb(246,188,153)"
             ],
             [
              0.9411764705882353,
              "rgb(247,212,187)"
             ],
             [
              1,
              "rgb(250,234,220)"
             ]
            ],
            "type": "histogram2d"
           }
          ],
          "histogram2dcontour": [
           {
            "colorbar": {
             "outlinewidth": 0,
             "tickcolor": "rgb(36,36,36)",
             "ticklen": 8,
             "ticks": "outside",
             "tickwidth": 2
            },
            "colorscale": [
             [
              0,
              "rgb(2,4,25)"
             ],
             [
              0.06274509803921569,
              "rgb(24,15,41)"
             ],
             [
              0.12549019607843137,
              "rgb(47,23,57)"
             ],
             [
              0.18823529411764706,
              "rgb(71,28,72)"
             ],
             [
              0.25098039215686274,
              "rgb(97,30,82)"
             ],
             [
              0.3137254901960784,
              "rgb(123,30,89)"
             ],
             [
              0.3764705882352941,
              "rgb(150,27,91)"
             ],
             [
              0.4392156862745098,
              "rgb(177,22,88)"
             ],
             [
              0.5019607843137255,
              "rgb(203,26,79)"
             ],
             [
              0.5647058823529412,
              "rgb(223,47,67)"
             ],
             [
              0.6274509803921569,
              "rgb(236,76,61)"
             ],
             [
              0.6901960784313725,
              "rgb(242,107,73)"
             ],
             [
              0.7529411764705882,
              "rgb(244,135,95)"
             ],
             [
              0.8156862745098039,
              "rgb(245,162,122)"
             ],
             [
              0.8784313725490196,
              "rgb(246,188,153)"
             ],
             [
              0.9411764705882353,
              "rgb(247,212,187)"
             ],
             [
              1,
              "rgb(250,234,220)"
             ]
            ],
            "type": "histogram2dcontour"
           }
          ],
          "mesh3d": [
           {
            "colorbar": {
             "outlinewidth": 0,
             "tickcolor": "rgb(36,36,36)",
             "ticklen": 8,
             "ticks": "outside",
             "tickwidth": 2
            },
            "type": "mesh3d"
           }
          ],
          "parcoords": [
           {
            "line": {
             "colorbar": {
              "outlinewidth": 0,
              "tickcolor": "rgb(36,36,36)",
              "ticklen": 8,
              "ticks": "outside",
              "tickwidth": 2
             }
            },
            "type": "parcoords"
           }
          ],
          "pie": [
           {
            "automargin": true,
            "type": "pie"
           }
          ],
          "scatter": [
           {
            "fillpattern": {
             "fillmode": "overlay",
             "size": 10,
             "solidity": 0.2
            },
            "type": "scatter"
           }
          ],
          "scatter3d": [
           {
            "line": {
             "colorbar": {
              "outlinewidth": 0,
              "tickcolor": "rgb(36,36,36)",
              "ticklen": 8,
              "ticks": "outside",
              "tickwidth": 2
             }
            },
            "marker": {
             "colorbar": {
              "outlinewidth": 0,
              "tickcolor": "rgb(36,36,36)",
              "ticklen": 8,
              "ticks": "outside",
              "tickwidth": 2
             }
            },
            "type": "scatter3d"
           }
          ],
          "scattercarpet": [
           {
            "marker": {
             "colorbar": {
              "outlinewidth": 0,
              "tickcolor": "rgb(36,36,36)",
              "ticklen": 8,
              "ticks": "outside",
              "tickwidth": 2
             }
            },
            "type": "scattercarpet"
           }
          ],
          "scattergeo": [
           {
            "marker": {
             "colorbar": {
              "outlinewidth": 0,
              "tickcolor": "rgb(36,36,36)",
              "ticklen": 8,
              "ticks": "outside",
              "tickwidth": 2
             }
            },
            "type": "scattergeo"
           }
          ],
          "scattergl": [
           {
            "marker": {
             "colorbar": {
              "outlinewidth": 0,
              "tickcolor": "rgb(36,36,36)",
              "ticklen": 8,
              "ticks": "outside",
              "tickwidth": 2
             }
            },
            "type": "scattergl"
           }
          ],
          "scattermapbox": [
           {
            "marker": {
             "colorbar": {
              "outlinewidth": 0,
              "tickcolor": "rgb(36,36,36)",
              "ticklen": 8,
              "ticks": "outside",
              "tickwidth": 2
             }
            },
            "type": "scattermapbox"
           }
          ],
          "scatterpolar": [
           {
            "marker": {
             "colorbar": {
              "outlinewidth": 0,
              "tickcolor": "rgb(36,36,36)",
              "ticklen": 8,
              "ticks": "outside",
              "tickwidth": 2
             }
            },
            "type": "scatterpolar"
           }
          ],
          "scatterpolargl": [
           {
            "marker": {
             "colorbar": {
              "outlinewidth": 0,
              "tickcolor": "rgb(36,36,36)",
              "ticklen": 8,
              "ticks": "outside",
              "tickwidth": 2
             }
            },
            "type": "scatterpolargl"
           }
          ],
          "scatterternary": [
           {
            "marker": {
             "colorbar": {
              "outlinewidth": 0,
              "tickcolor": "rgb(36,36,36)",
              "ticklen": 8,
              "ticks": "outside",
              "tickwidth": 2
             }
            },
            "type": "scatterternary"
           }
          ],
          "surface": [
           {
            "colorbar": {
             "outlinewidth": 0,
             "tickcolor": "rgb(36,36,36)",
             "ticklen": 8,
             "ticks": "outside",
             "tickwidth": 2
            },
            "colorscale": [
             [
              0,
              "rgb(2,4,25)"
             ],
             [
              0.06274509803921569,
              "rgb(24,15,41)"
             ],
             [
              0.12549019607843137,
              "rgb(47,23,57)"
             ],
             [
              0.18823529411764706,
              "rgb(71,28,72)"
             ],
             [
              0.25098039215686274,
              "rgb(97,30,82)"
             ],
             [
              0.3137254901960784,
              "rgb(123,30,89)"
             ],
             [
              0.3764705882352941,
              "rgb(150,27,91)"
             ],
             [
              0.4392156862745098,
              "rgb(177,22,88)"
             ],
             [
              0.5019607843137255,
              "rgb(203,26,79)"
             ],
             [
              0.5647058823529412,
              "rgb(223,47,67)"
             ],
             [
              0.6274509803921569,
              "rgb(236,76,61)"
             ],
             [
              0.6901960784313725,
              "rgb(242,107,73)"
             ],
             [
              0.7529411764705882,
              "rgb(244,135,95)"
             ],
             [
              0.8156862745098039,
              "rgb(245,162,122)"
             ],
             [
              0.8784313725490196,
              "rgb(246,188,153)"
             ],
             [
              0.9411764705882353,
              "rgb(247,212,187)"
             ],
             [
              1,
              "rgb(250,234,220)"
             ]
            ],
            "type": "surface"
           }
          ],
          "table": [
           {
            "cells": {
             "fill": {
              "color": "rgb(231,231,240)"
             },
             "line": {
              "color": "white"
             }
            },
            "header": {
             "fill": {
              "color": "rgb(183,183,191)"
             },
             "line": {
              "color": "white"
             }
            },
            "type": "table"
           }
          ]
         },
         "layout": {
          "annotationdefaults": {
           "arrowcolor": "rgb(67,103,167)"
          },
          "autotypenumbers": "strict",
          "coloraxis": {
           "colorbar": {
            "outlinewidth": 0,
            "tickcolor": "rgb(36,36,36)",
            "ticklen": 8,
            "ticks": "outside",
            "tickwidth": 2
           }
          },
          "colorscale": {
           "sequential": [
            [
             0,
             "rgb(2,4,25)"
            ],
            [
             0.06274509803921569,
             "rgb(24,15,41)"
            ],
            [
             0.12549019607843137,
             "rgb(47,23,57)"
            ],
            [
             0.18823529411764706,
             "rgb(71,28,72)"
            ],
            [
             0.25098039215686274,
             "rgb(97,30,82)"
            ],
            [
             0.3137254901960784,
             "rgb(123,30,89)"
            ],
            [
             0.3764705882352941,
             "rgb(150,27,91)"
            ],
            [
             0.4392156862745098,
             "rgb(177,22,88)"
            ],
            [
             0.5019607843137255,
             "rgb(203,26,79)"
            ],
            [
             0.5647058823529412,
             "rgb(223,47,67)"
            ],
            [
             0.6274509803921569,
             "rgb(236,76,61)"
            ],
            [
             0.6901960784313725,
             "rgb(242,107,73)"
            ],
            [
             0.7529411764705882,
             "rgb(244,135,95)"
            ],
            [
             0.8156862745098039,
             "rgb(245,162,122)"
            ],
            [
             0.8784313725490196,
             "rgb(246,188,153)"
            ],
            [
             0.9411764705882353,
             "rgb(247,212,187)"
            ],
            [
             1,
             "rgb(250,234,220)"
            ]
           ],
           "sequentialminus": [
            [
             0,
             "rgb(2,4,25)"
            ],
            [
             0.06274509803921569,
             "rgb(24,15,41)"
            ],
            [
             0.12549019607843137,
             "rgb(47,23,57)"
            ],
            [
             0.18823529411764706,
             "rgb(71,28,72)"
            ],
            [
             0.25098039215686274,
             "rgb(97,30,82)"
            ],
            [
             0.3137254901960784,
             "rgb(123,30,89)"
            ],
            [
             0.3764705882352941,
             "rgb(150,27,91)"
            ],
            [
             0.4392156862745098,
             "rgb(177,22,88)"
            ],
            [
             0.5019607843137255,
             "rgb(203,26,79)"
            ],
            [
             0.5647058823529412,
             "rgb(223,47,67)"
            ],
            [
             0.6274509803921569,
             "rgb(236,76,61)"
            ],
            [
             0.6901960784313725,
             "rgb(242,107,73)"
            ],
            [
             0.7529411764705882,
             "rgb(244,135,95)"
            ],
            [
             0.8156862745098039,
             "rgb(245,162,122)"
            ],
            [
             0.8784313725490196,
             "rgb(246,188,153)"
            ],
            [
             0.9411764705882353,
             "rgb(247,212,187)"
            ],
            [
             1,
             "rgb(250,234,220)"
            ]
           ]
          },
          "colorway": [
           "rgb(76,114,176)",
           "rgb(221,132,82)",
           "rgb(85,168,104)",
           "rgb(196,78,82)",
           "rgb(129,114,179)",
           "rgb(147,120,96)",
           "rgb(218,139,195)",
           "rgb(140,140,140)",
           "rgb(204,185,116)",
           "rgb(100,181,205)"
          ],
          "font": {
           "color": "rgb(36,36,36)"
          },
          "geo": {
           "bgcolor": "white",
           "lakecolor": "white",
           "landcolor": "rgb(234,234,242)",
           "showlakes": true,
           "showland": true,
           "subunitcolor": "white"
          },
          "hoverlabel": {
           "align": "left"
          },
          "hovermode": "closest",
          "paper_bgcolor": "white",
          "plot_bgcolor": "rgb(234,234,242)",
          "polar": {
           "angularaxis": {
            "gridcolor": "white",
            "linecolor": "white",
            "showgrid": true,
            "ticks": ""
           },
           "bgcolor": "rgb(234,234,242)",
           "radialaxis": {
            "gridcolor": "white",
            "linecolor": "white",
            "showgrid": true,
            "ticks": ""
           }
          },
          "scene": {
           "xaxis": {
            "backgroundcolor": "rgb(234,234,242)",
            "gridcolor": "white",
            "gridwidth": 2,
            "linecolor": "white",
            "showbackground": true,
            "showgrid": true,
            "ticks": "",
            "zerolinecolor": "white"
           },
           "yaxis": {
            "backgroundcolor": "rgb(234,234,242)",
            "gridcolor": "white",
            "gridwidth": 2,
            "linecolor": "white",
            "showbackground": true,
            "showgrid": true,
            "ticks": "",
            "zerolinecolor": "white"
           },
           "zaxis": {
            "backgroundcolor": "rgb(234,234,242)",
            "gridcolor": "white",
            "gridwidth": 2,
            "linecolor": "white",
            "showbackground": true,
            "showgrid": true,
            "ticks": "",
            "zerolinecolor": "white"
           }
          },
          "shapedefaults": {
           "fillcolor": "rgb(67,103,167)",
           "line": {
            "width": 0
           },
           "opacity": 0.5
          },
          "ternary": {
           "aaxis": {
            "gridcolor": "white",
            "linecolor": "white",
            "showgrid": true,
            "ticks": ""
           },
           "baxis": {
            "gridcolor": "white",
            "linecolor": "white",
            "showgrid": true,
            "ticks": ""
           },
           "bgcolor": "rgb(234,234,242)",
           "caxis": {
            "gridcolor": "white",
            "linecolor": "white",
            "showgrid": true,
            "ticks": ""
           }
          },
          "xaxis": {
           "automargin": true,
           "gridcolor": "white",
           "linecolor": "white",
           "showgrid": true,
           "ticks": "",
           "title": {
            "standoff": 15
           },
           "zerolinecolor": "white"
          },
          "yaxis": {
           "automargin": true,
           "gridcolor": "white",
           "linecolor": "white",
           "showgrid": true,
           "ticks": "",
           "title": {
            "standoff": 15
           },
           "zerolinecolor": "white"
          }
         }
        },
        "title": {
         "text": "<b>Scatter Plot Between Actual and Predicted Values <br> <sub>First Model using all independent variables</sub></b>",
         "x": 0.05,
         "xanchor": "left",
         "y": 0.968
        },
        "width": 850,
        "xaxis": {
         "anchor": "y",
         "domain": [
          0,
          1
         ],
         "title": {
          "text": "Actual"
         }
        },
        "yaxis": {
         "anchor": "x",
         "domain": [
          0,
          1
         ],
         "title": {
          "text": "Predicted"
         }
        }
       }
      },
      "text/html": [
       "<div>                            <div id=\"b70be22e-aadd-4411-93e3-ab7f63f74533\" class=\"plotly-graph-div\" style=\"height:650px; width:850px;\"></div>            <script type=\"text/javascript\">                require([\"plotly\"], function(Plotly) {                    window.PLOTLYENV=window.PLOTLYENV || {};                                    if (document.getElementById(\"b70be22e-aadd-4411-93e3-ab7f63f74533\")) {                    Plotly.newPlot(                        \"b70be22e-aadd-4411-93e3-ab7f63f74533\",                        [{\"hovertemplate\":\"Actual=%{x}\\u003cbr\\u003ePredicted=%{y}\\u003cextra\\u003e\\u003c\\u002fextra\\u003e\",\"legendgroup\":\"\",\"marker\":{\"color\":\"rgb(76,114,176)\",\"opacity\":0.825,\"symbol\":\"circle\",\"size\":8},\"mode\":\"markers\",\"name\":\"\",\"orientation\":\"v\",\"showlegend\":false,\"x\":[22.6,50.0,23.0,8.3,21.2,19.9,20.6,18.7,16.1,18.6,8.8,17.2,14.9,10.5,50.0,29.0,23.0,33.3,29.4,21.0,23.8,19.1,20.4,29.1,19.3,23.1,19.6,19.4,38.7,18.7,14.6,20.0,20.5,20.1,23.6,16.8,5.6,50.0,14.5,13.3,23.9,20.0,19.8,13.8,16.5,21.6,20.3,17.0,11.8,27.5,15.6,23.1,24.3,42.8,15.6,21.7,17.1,17.2,15.0,21.7,18.6,21.0,33.1,31.5,20.1,29.8,15.2,15.0,27.5,22.6,20.0,21.4,23.5,31.2,23.7,7.4,48.3,24.4,22.6,18.3,23.3,17.1,27.9,44.8,50.0,23.0,21.4,10.2,23.3,23.2,18.9,13.4,21.9,24.8,11.9,24.3,13.8,24.7,14.1,18.7,28.1,19.8,26.7,21.7,22.0,22.9,10.4,21.9,20.6,26.4,41.3,17.2,27.1,20.4,16.5,24.4,8.4,23.0,9.7,50.0,30.5,12.3,19.4,21.2,20.3,18.8,33.4,18.5,19.6,33.2,13.1,7.5,13.6,17.4,8.4,35.4,24.0,13.4,26.2,7.2,13.1,24.5,37.2,25.0,24.1,16.6,32.9,36.2,11.0,7.2,22.8,28.7],\"xaxis\":\"x\",\"y\":[22.974291646390462,21.884866262989995,23.346744768920534,13.811944832150635,22.033847512002023,18.32793894282778,18.989043235318668,19.575656903303532,10.310885480367935,23.644707266944597,19.47323229460776,25.991161938884062,23.048782270896474,7.321949172064092,36.65263257130743,29.566711915172775,22.12696079263454,31.857298618732727,24.957604523863107,18.47692019183981,23.840245156272882,18.75626003373737,21.056158065360574,24.36167952781499,16.912617077213504,-0.024688669841622747,19.547722919113774,17.1640229349213,39.13875716419569,20.73026158314676,21.59621509302918,20.627836974450997,21.97797954362251,20.758195567336514,23.747131875640367,18.039287772866974,19.752572136505318,18.70970339342111,23.113961567339235,21.38205454757439,21.056158065360574,17.88099519579169,21.21445064243586,14.538228421084275,24.901736555483595,23.793688515956624,17.9182405080447,21.074780721487077,9.659092515940303,26.642954903311693,21.288941266941876,16.80088114045448,19.696704168125805,40.907909496213534,17.610966681957386,18.840061986306637,17.13608895073155,18.9238639388759,17.610966681957386,19.501166278797516,18.79350534599038,20.925799472475056,29.017343559440913,25.013472492242613,17.20126824717431,25.050717804495623,25.97253928275756,23.38399008117354,27.806870911218173,18.85868464243314,22.47147993097486,22.53665922741762,22.57390453967063,28.01172012860971,26.857115448766482,10.562291338075736,40.79617355945451,22.90911234994769,23.756443203703615,17.955485820297707,25.516284207658213,24.100962342043932,16.22357880053286,40.97308879265629,45.24698837368889,22.778753757062173,21.391365875637646,18.355872927017536,24.622396713586035,20.348497132553437,18.83075065824338,25.730444753113005,20.879242832158788,27.983786144419962,20.152959243225148,20.879242832158788,2.5359265475526365,23.439858049553052,24.76206663453482,17.461985432945358,23.365367425047037,24.287188903308973,28.728692389480102,19.51047760686077,28.22588067406451,19.98535533808661,13.392935069304302,10.217772199735418,20.990978768917813,24.482726792637262,28.654201764974086,16.30738075310213,21.475167828206907,18.681769409231354,16.43773934598766,20.46954439737571,19.268383077216217,23.33743344085728,10.8974991483528,37.77930326696091,26.75469084007071,15.404181930966697,16.167710832153357,20.050534634529377,19.61290221555654,18.746948705674114,33.095705251145226,16.195644816343112,19.1938924527102,31.671072057467693,24.259254919119215,27.15507794679054,19.715326824252305,18.70970339342111,27.54615372544712,31.503468152329155,20.674393614767254,14.31475654756623,26.559152950742423,23.914735780778898,23.411924065363294,19.184581124646954,28.998720903314414,24.63170804164929,22.415611962595346,18.132401053499493,30.441976753118446,30.55371268987747,21.670705717535196,13.141529211596502,25.786312721492518,23.877490468525885],\"yaxis\":\"y\",\"type\":\"scatter\"},{\"hovertemplate\":\"\\u003cb\\u003eOLS trendline\\u003c\\u002fb\\u003e\\u003cbr\\u003ePredicted = 0.473345 * Actual + 11.5767\\u003cbr\\u003eR\\u003csup\\u003e2\\u003c\\u002fsup\\u003e=0.438005\\u003cbr\\u003e\\u003cbr\\u003eActual=%{x}\\u003cbr\\u003ePredicted=%{y} \\u003cb\\u003e(trend)\\u003c\\u002fb\\u003e\\u003cextra\\u003e\\u003c\\u002fextra\\u003e\",\"legendgroup\":\"\",\"marker\":{\"color\":\"#636efa\",\"symbol\":\"circle\",\"size\":8},\"mode\":\"lines\",\"name\":\"\",\"showlegend\":false,\"x\":[5.6,7.2,7.2,7.4,7.5,8.3,8.4,8.4,8.8,9.7,10.2,10.4,10.5,11.0,11.8,11.9,12.3,13.1,13.1,13.3,13.4,13.4,13.6,13.8,13.8,14.1,14.5,14.6,14.9,15.0,15.0,15.2,15.6,15.6,16.1,16.5,16.5,16.6,16.8,17.0,17.1,17.1,17.2,17.2,17.2,17.4,18.3,18.5,18.6,18.6,18.7,18.7,18.7,18.8,18.9,19.1,19.3,19.4,19.4,19.6,19.6,19.8,19.8,19.9,20.0,20.0,20.0,20.1,20.1,20.3,20.3,20.4,20.4,20.5,20.6,20.6,21.0,21.0,21.2,21.2,21.4,21.4,21.6,21.7,21.7,21.7,21.9,21.9,22.0,22.6,22.6,22.6,22.8,22.9,23.0,23.0,23.0,23.0,23.1,23.1,23.2,23.3,23.3,23.5,23.6,23.7,23.8,23.9,24.0,24.1,24.3,24.3,24.4,24.4,24.5,24.7,24.8,25.0,26.2,26.4,26.7,27.1,27.5,27.5,27.9,28.1,28.7,29.0,29.1,29.4,29.8,30.5,31.2,31.5,32.9,33.1,33.2,33.3,33.4,35.4,36.2,37.2,38.7,41.3,42.8,44.8,48.3,50.0,50.0,50.0,50.0,50.0],\"xaxis\":\"x\",\"y\":[14.227388972914172,14.984740867249915,14.984740867249915,15.079409854041884,15.126744347437867,15.50542029460574,15.552754788001723,15.552754788001723,15.74209276158566,16.168103202149513,16.404775669129435,16.499444655921405,16.546779149317388,16.783451616297306,17.16212756346518,17.209462056861163,17.3988000304451,17.77747597761297,17.77747597761297,17.87214496440494,17.91947945780092,17.91947945780092,18.01414844459289,18.10881743138486,18.10881743138486,18.25082091157281,18.440158885156748,18.48749337855273,18.629496858740684,18.676831352136666,18.676831352136666,18.771500338928636,18.96083831251257,18.96083831251257,19.19751077949249,19.386848753076425,19.386848753076425,19.43418324647241,19.528852233264377,19.623521220056347,19.67085571345233,19.67085571345233,19.718190206848313,19.718190206848313,19.718190206848313,19.812859193640282,20.23886963420414,20.333538620996105,20.38087311439209,20.38087311439209,20.428207607788075,20.428207607788075,20.428207607788075,20.475542101184057,20.52287659458004,20.61754558137201,20.71221456816398,20.759549061559962,20.759549061559962,20.85421804835193,20.85421804835193,20.948887035143898,20.948887035143898,20.99622152853988,21.043556021935867,21.043556021935867,21.043556021935867,21.09089051533185,21.09089051533185,21.18555950212382,21.18555950212382,21.232893995519802,21.232893995519802,21.280228488915785,21.327562982311772,21.327562982311772,21.516900955895707,21.516900955895707,21.611569942687673,21.611569942687673,21.706238929479643,21.706238929479643,21.800907916271612,21.848242409667595,21.848242409667595,21.848242409667595,21.94291139645956,21.94291139645956,21.990245889855547,22.274252850231452,22.274252850231452,22.274252850231452,22.368921837023418,22.4162563304194,22.463590823815387,22.463590823815387,22.463590823815387,22.463590823815387,22.51092531721137,22.51092531721137,22.558259810607353,22.60559430400334,22.60559430400334,22.700263290795306,22.747597784191292,22.794932277587275,22.842266770983258,22.88960126437924,22.936935757775224,22.98427025117121,23.078939237963176,23.078939237963176,23.12627373135916,23.12627373135916,23.173608224755146,23.26827721154711,23.315611704943098,23.410280691735064,23.978294612486874,24.07296359927884,24.214967079466792,24.40430505305073,24.593643026634666,24.593643026634666,24.7829810002186,24.87764998701057,25.161656947386472,25.303660427574425,25.35099492097041,25.49299840115836,25.6823363747423,26.013677828514187,26.345019282286074,26.487022762474027,27.1497056700178,27.244374656809768,27.291709150205754,27.339043643601734,27.38637813699772,28.3330680049174,28.711743952085275,29.185088886045115,29.895106286984873,31.125803115280455,31.835820516220213,32.7825103841399,34.43921765299933,35.24390404073106,35.24390404073106,35.24390404073106,35.24390404073106,35.24390404073106],\"yaxis\":\"y\",\"type\":\"scatter\"}],                        {\"template\":{\"data\":{\"barpolar\":[{\"marker\":{\"line\":{\"color\":\"rgb(234,234,242)\",\"width\":0.5},\"pattern\":{\"fillmode\":\"overlay\",\"size\":10,\"solidity\":0.2}},\"type\":\"barpolar\"}],\"bar\":[{\"error_x\":{\"color\":\"rgb(36,36,36)\"},\"error_y\":{\"color\":\"rgb(36,36,36)\"},\"marker\":{\"line\":{\"color\":\"rgb(234,234,242)\",\"width\":0.5},\"pattern\":{\"fillmode\":\"overlay\",\"size\":10,\"solidity\":0.2}},\"type\":\"bar\"}],\"carpet\":[{\"aaxis\":{\"endlinecolor\":\"rgb(36,36,36)\",\"gridcolor\":\"white\",\"linecolor\":\"white\",\"minorgridcolor\":\"white\",\"startlinecolor\":\"rgb(36,36,36)\"},\"baxis\":{\"endlinecolor\":\"rgb(36,36,36)\",\"gridcolor\":\"white\",\"linecolor\":\"white\",\"minorgridcolor\":\"white\",\"startlinecolor\":\"rgb(36,36,36)\"},\"type\":\"carpet\"}],\"choropleth\":[{\"colorbar\":{\"outlinewidth\":0,\"tickcolor\":\"rgb(36,36,36)\",\"ticklen\":8,\"ticks\":\"outside\",\"tickwidth\":2},\"type\":\"choropleth\"}],\"contourcarpet\":[{\"colorbar\":{\"outlinewidth\":0,\"tickcolor\":\"rgb(36,36,36)\",\"ticklen\":8,\"ticks\":\"outside\",\"tickwidth\":2},\"type\":\"contourcarpet\"}],\"contour\":[{\"colorbar\":{\"outlinewidth\":0,\"tickcolor\":\"rgb(36,36,36)\",\"ticklen\":8,\"ticks\":\"outside\",\"tickwidth\":2},\"colorscale\":[[0.0,\"rgb(2,4,25)\"],[0.06274509803921569,\"rgb(24,15,41)\"],[0.12549019607843137,\"rgb(47,23,57)\"],[0.18823529411764706,\"rgb(71,28,72)\"],[0.25098039215686274,\"rgb(97,30,82)\"],[0.3137254901960784,\"rgb(123,30,89)\"],[0.3764705882352941,\"rgb(150,27,91)\"],[0.4392156862745098,\"rgb(177,22,88)\"],[0.5019607843137255,\"rgb(203,26,79)\"],[0.5647058823529412,\"rgb(223,47,67)\"],[0.6274509803921569,\"rgb(236,76,61)\"],[0.6901960784313725,\"rgb(242,107,73)\"],[0.7529411764705882,\"rgb(244,135,95)\"],[0.8156862745098039,\"rgb(245,162,122)\"],[0.8784313725490196,\"rgb(246,188,153)\"],[0.9411764705882353,\"rgb(247,212,187)\"],[1.0,\"rgb(250,234,220)\"]],\"type\":\"contour\"}],\"heatmapgl\":[{\"colorbar\":{\"outlinewidth\":0,\"tickcolor\":\"rgb(36,36,36)\",\"ticklen\":8,\"ticks\":\"outside\",\"tickwidth\":2},\"colorscale\":[[0.0,\"rgb(2,4,25)\"],[0.06274509803921569,\"rgb(24,15,41)\"],[0.12549019607843137,\"rgb(47,23,57)\"],[0.18823529411764706,\"rgb(71,28,72)\"],[0.25098039215686274,\"rgb(97,30,82)\"],[0.3137254901960784,\"rgb(123,30,89)\"],[0.3764705882352941,\"rgb(150,27,91)\"],[0.4392156862745098,\"rgb(177,22,88)\"],[0.5019607843137255,\"rgb(203,26,79)\"],[0.5647058823529412,\"rgb(223,47,67)\"],[0.6274509803921569,\"rgb(236,76,61)\"],[0.6901960784313725,\"rgb(242,107,73)\"],[0.7529411764705882,\"rgb(244,135,95)\"],[0.8156862745098039,\"rgb(245,162,122)\"],[0.8784313725490196,\"rgb(246,188,153)\"],[0.9411764705882353,\"rgb(247,212,187)\"],[1.0,\"rgb(250,234,220)\"]],\"type\":\"heatmapgl\"}],\"heatmap\":[{\"colorbar\":{\"outlinewidth\":0,\"tickcolor\":\"rgb(36,36,36)\",\"ticklen\":8,\"ticks\":\"outside\",\"tickwidth\":2},\"colorscale\":[[0.0,\"rgb(2,4,25)\"],[0.06274509803921569,\"rgb(24,15,41)\"],[0.12549019607843137,\"rgb(47,23,57)\"],[0.18823529411764706,\"rgb(71,28,72)\"],[0.25098039215686274,\"rgb(97,30,82)\"],[0.3137254901960784,\"rgb(123,30,89)\"],[0.3764705882352941,\"rgb(150,27,91)\"],[0.4392156862745098,\"rgb(177,22,88)\"],[0.5019607843137255,\"rgb(203,26,79)\"],[0.5647058823529412,\"rgb(223,47,67)\"],[0.6274509803921569,\"rgb(236,76,61)\"],[0.6901960784313725,\"rgb(242,107,73)\"],[0.7529411764705882,\"rgb(244,135,95)\"],[0.8156862745098039,\"rgb(245,162,122)\"],[0.8784313725490196,\"rgb(246,188,153)\"],[0.9411764705882353,\"rgb(247,212,187)\"],[1.0,\"rgb(250,234,220)\"]],\"type\":\"heatmap\"}],\"histogram2dcontour\":[{\"colorbar\":{\"outlinewidth\":0,\"tickcolor\":\"rgb(36,36,36)\",\"ticklen\":8,\"ticks\":\"outside\",\"tickwidth\":2},\"colorscale\":[[0.0,\"rgb(2,4,25)\"],[0.06274509803921569,\"rgb(24,15,41)\"],[0.12549019607843137,\"rgb(47,23,57)\"],[0.18823529411764706,\"rgb(71,28,72)\"],[0.25098039215686274,\"rgb(97,30,82)\"],[0.3137254901960784,\"rgb(123,30,89)\"],[0.3764705882352941,\"rgb(150,27,91)\"],[0.4392156862745098,\"rgb(177,22,88)\"],[0.5019607843137255,\"rgb(203,26,79)\"],[0.5647058823529412,\"rgb(223,47,67)\"],[0.6274509803921569,\"rgb(236,76,61)\"],[0.6901960784313725,\"rgb(242,107,73)\"],[0.7529411764705882,\"rgb(244,135,95)\"],[0.8156862745098039,\"rgb(245,162,122)\"],[0.8784313725490196,\"rgb(246,188,153)\"],[0.9411764705882353,\"rgb(247,212,187)\"],[1.0,\"rgb(250,234,220)\"]],\"type\":\"histogram2dcontour\"}],\"histogram2d\":[{\"colorbar\":{\"outlinewidth\":0,\"tickcolor\":\"rgb(36,36,36)\",\"ticklen\":8,\"ticks\":\"outside\",\"tickwidth\":2},\"colorscale\":[[0.0,\"rgb(2,4,25)\"],[0.06274509803921569,\"rgb(24,15,41)\"],[0.12549019607843137,\"rgb(47,23,57)\"],[0.18823529411764706,\"rgb(71,28,72)\"],[0.25098039215686274,\"rgb(97,30,82)\"],[0.3137254901960784,\"rgb(123,30,89)\"],[0.3764705882352941,\"rgb(150,27,91)\"],[0.4392156862745098,\"rgb(177,22,88)\"],[0.5019607843137255,\"rgb(203,26,79)\"],[0.5647058823529412,\"rgb(223,47,67)\"],[0.6274509803921569,\"rgb(236,76,61)\"],[0.6901960784313725,\"rgb(242,107,73)\"],[0.7529411764705882,\"rgb(244,135,95)\"],[0.8156862745098039,\"rgb(245,162,122)\"],[0.8784313725490196,\"rgb(246,188,153)\"],[0.9411764705882353,\"rgb(247,212,187)\"],[1.0,\"rgb(250,234,220)\"]],\"type\":\"histogram2d\"}],\"histogram\":[{\"marker\":{\"pattern\":{\"fillmode\":\"overlay\",\"size\":10,\"solidity\":0.2}},\"type\":\"histogram\"}],\"mesh3d\":[{\"colorbar\":{\"outlinewidth\":0,\"tickcolor\":\"rgb(36,36,36)\",\"ticklen\":8,\"ticks\":\"outside\",\"tickwidth\":2},\"type\":\"mesh3d\"}],\"parcoords\":[{\"line\":{\"colorbar\":{\"outlinewidth\":0,\"tickcolor\":\"rgb(36,36,36)\",\"ticklen\":8,\"ticks\":\"outside\",\"tickwidth\":2}},\"type\":\"parcoords\"}],\"pie\":[{\"automargin\":true,\"type\":\"pie\"}],\"scatter3d\":[{\"line\":{\"colorbar\":{\"outlinewidth\":0,\"tickcolor\":\"rgb(36,36,36)\",\"ticklen\":8,\"ticks\":\"outside\",\"tickwidth\":2}},\"marker\":{\"colorbar\":{\"outlinewidth\":0,\"tickcolor\":\"rgb(36,36,36)\",\"ticklen\":8,\"ticks\":\"outside\",\"tickwidth\":2}},\"type\":\"scatter3d\"}],\"scattercarpet\":[{\"marker\":{\"colorbar\":{\"outlinewidth\":0,\"tickcolor\":\"rgb(36,36,36)\",\"ticklen\":8,\"ticks\":\"outside\",\"tickwidth\":2}},\"type\":\"scattercarpet\"}],\"scattergeo\":[{\"marker\":{\"colorbar\":{\"outlinewidth\":0,\"tickcolor\":\"rgb(36,36,36)\",\"ticklen\":8,\"ticks\":\"outside\",\"tickwidth\":2}},\"type\":\"scattergeo\"}],\"scattergl\":[{\"marker\":{\"colorbar\":{\"outlinewidth\":0,\"tickcolor\":\"rgb(36,36,36)\",\"ticklen\":8,\"ticks\":\"outside\",\"tickwidth\":2}},\"type\":\"scattergl\"}],\"scattermapbox\":[{\"marker\":{\"colorbar\":{\"outlinewidth\":0,\"tickcolor\":\"rgb(36,36,36)\",\"ticklen\":8,\"ticks\":\"outside\",\"tickwidth\":2}},\"type\":\"scattermapbox\"}],\"scatterpolargl\":[{\"marker\":{\"colorbar\":{\"outlinewidth\":0,\"tickcolor\":\"rgb(36,36,36)\",\"ticklen\":8,\"ticks\":\"outside\",\"tickwidth\":2}},\"type\":\"scatterpolargl\"}],\"scatterpolar\":[{\"marker\":{\"colorbar\":{\"outlinewidth\":0,\"tickcolor\":\"rgb(36,36,36)\",\"ticklen\":8,\"ticks\":\"outside\",\"tickwidth\":2}},\"type\":\"scatterpolar\"}],\"scatter\":[{\"fillpattern\":{\"fillmode\":\"overlay\",\"size\":10,\"solidity\":0.2},\"type\":\"scatter\"}],\"scatterternary\":[{\"marker\":{\"colorbar\":{\"outlinewidth\":0,\"tickcolor\":\"rgb(36,36,36)\",\"ticklen\":8,\"ticks\":\"outside\",\"tickwidth\":2}},\"type\":\"scatterternary\"}],\"surface\":[{\"colorbar\":{\"outlinewidth\":0,\"tickcolor\":\"rgb(36,36,36)\",\"ticklen\":8,\"ticks\":\"outside\",\"tickwidth\":2},\"colorscale\":[[0.0,\"rgb(2,4,25)\"],[0.06274509803921569,\"rgb(24,15,41)\"],[0.12549019607843137,\"rgb(47,23,57)\"],[0.18823529411764706,\"rgb(71,28,72)\"],[0.25098039215686274,\"rgb(97,30,82)\"],[0.3137254901960784,\"rgb(123,30,89)\"],[0.3764705882352941,\"rgb(150,27,91)\"],[0.4392156862745098,\"rgb(177,22,88)\"],[0.5019607843137255,\"rgb(203,26,79)\"],[0.5647058823529412,\"rgb(223,47,67)\"],[0.6274509803921569,\"rgb(236,76,61)\"],[0.6901960784313725,\"rgb(242,107,73)\"],[0.7529411764705882,\"rgb(244,135,95)\"],[0.8156862745098039,\"rgb(245,162,122)\"],[0.8784313725490196,\"rgb(246,188,153)\"],[0.9411764705882353,\"rgb(247,212,187)\"],[1.0,\"rgb(250,234,220)\"]],\"type\":\"surface\"}],\"table\":[{\"cells\":{\"fill\":{\"color\":\"rgb(231,231,240)\"},\"line\":{\"color\":\"white\"}},\"header\":{\"fill\":{\"color\":\"rgb(183,183,191)\"},\"line\":{\"color\":\"white\"}},\"type\":\"table\"}]},\"layout\":{\"annotationdefaults\":{\"arrowcolor\":\"rgb(67,103,167)\"},\"autotypenumbers\":\"strict\",\"coloraxis\":{\"colorbar\":{\"outlinewidth\":0,\"tickcolor\":\"rgb(36,36,36)\",\"ticklen\":8,\"ticks\":\"outside\",\"tickwidth\":2}},\"colorscale\":{\"sequential\":[[0.0,\"rgb(2,4,25)\"],[0.06274509803921569,\"rgb(24,15,41)\"],[0.12549019607843137,\"rgb(47,23,57)\"],[0.18823529411764706,\"rgb(71,28,72)\"],[0.25098039215686274,\"rgb(97,30,82)\"],[0.3137254901960784,\"rgb(123,30,89)\"],[0.3764705882352941,\"rgb(150,27,91)\"],[0.4392156862745098,\"rgb(177,22,88)\"],[0.5019607843137255,\"rgb(203,26,79)\"],[0.5647058823529412,\"rgb(223,47,67)\"],[0.6274509803921569,\"rgb(236,76,61)\"],[0.6901960784313725,\"rgb(242,107,73)\"],[0.7529411764705882,\"rgb(244,135,95)\"],[0.8156862745098039,\"rgb(245,162,122)\"],[0.8784313725490196,\"rgb(246,188,153)\"],[0.9411764705882353,\"rgb(247,212,187)\"],[1.0,\"rgb(250,234,220)\"]],\"sequentialminus\":[[0.0,\"rgb(2,4,25)\"],[0.06274509803921569,\"rgb(24,15,41)\"],[0.12549019607843137,\"rgb(47,23,57)\"],[0.18823529411764706,\"rgb(71,28,72)\"],[0.25098039215686274,\"rgb(97,30,82)\"],[0.3137254901960784,\"rgb(123,30,89)\"],[0.3764705882352941,\"rgb(150,27,91)\"],[0.4392156862745098,\"rgb(177,22,88)\"],[0.5019607843137255,\"rgb(203,26,79)\"],[0.5647058823529412,\"rgb(223,47,67)\"],[0.6274509803921569,\"rgb(236,76,61)\"],[0.6901960784313725,\"rgb(242,107,73)\"],[0.7529411764705882,\"rgb(244,135,95)\"],[0.8156862745098039,\"rgb(245,162,122)\"],[0.8784313725490196,\"rgb(246,188,153)\"],[0.9411764705882353,\"rgb(247,212,187)\"],[1.0,\"rgb(250,234,220)\"]]},\"colorway\":[\"rgb(76,114,176)\",\"rgb(221,132,82)\",\"rgb(85,168,104)\",\"rgb(196,78,82)\",\"rgb(129,114,179)\",\"rgb(147,120,96)\",\"rgb(218,139,195)\",\"rgb(140,140,140)\",\"rgb(204,185,116)\",\"rgb(100,181,205)\"],\"font\":{\"color\":\"rgb(36,36,36)\"},\"geo\":{\"bgcolor\":\"white\",\"lakecolor\":\"white\",\"landcolor\":\"rgb(234,234,242)\",\"showlakes\":true,\"showland\":true,\"subunitcolor\":\"white\"},\"hoverlabel\":{\"align\":\"left\"},\"hovermode\":\"closest\",\"paper_bgcolor\":\"white\",\"plot_bgcolor\":\"rgb(234,234,242)\",\"polar\":{\"angularaxis\":{\"gridcolor\":\"white\",\"linecolor\":\"white\",\"showgrid\":true,\"ticks\":\"\"},\"bgcolor\":\"rgb(234,234,242)\",\"radialaxis\":{\"gridcolor\":\"white\",\"linecolor\":\"white\",\"showgrid\":true,\"ticks\":\"\"}},\"scene\":{\"xaxis\":{\"backgroundcolor\":\"rgb(234,234,242)\",\"gridcolor\":\"white\",\"gridwidth\":2,\"linecolor\":\"white\",\"showbackground\":true,\"showgrid\":true,\"ticks\":\"\",\"zerolinecolor\":\"white\"},\"yaxis\":{\"backgroundcolor\":\"rgb(234,234,242)\",\"gridcolor\":\"white\",\"gridwidth\":2,\"linecolor\":\"white\",\"showbackground\":true,\"showgrid\":true,\"ticks\":\"\",\"zerolinecolor\":\"white\"},\"zaxis\":{\"backgroundcolor\":\"rgb(234,234,242)\",\"gridcolor\":\"white\",\"gridwidth\":2,\"linecolor\":\"white\",\"showbackground\":true,\"showgrid\":true,\"ticks\":\"\",\"zerolinecolor\":\"white\"}},\"shapedefaults\":{\"fillcolor\":\"rgb(67,103,167)\",\"line\":{\"width\":0},\"opacity\":0.5},\"ternary\":{\"aaxis\":{\"gridcolor\":\"white\",\"linecolor\":\"white\",\"showgrid\":true,\"ticks\":\"\"},\"baxis\":{\"gridcolor\":\"white\",\"linecolor\":\"white\",\"showgrid\":true,\"ticks\":\"\"},\"bgcolor\":\"rgb(234,234,242)\",\"caxis\":{\"gridcolor\":\"white\",\"linecolor\":\"white\",\"showgrid\":true,\"ticks\":\"\"}},\"xaxis\":{\"automargin\":true,\"gridcolor\":\"white\",\"linecolor\":\"white\",\"showgrid\":true,\"ticks\":\"\",\"title\":{\"standoff\":15},\"zerolinecolor\":\"white\"},\"yaxis\":{\"automargin\":true,\"gridcolor\":\"white\",\"linecolor\":\"white\",\"showgrid\":true,\"ticks\":\"\",\"title\":{\"standoff\":15},\"zerolinecolor\":\"white\"}}},\"xaxis\":{\"anchor\":\"y\",\"domain\":[0.0,1.0],\"title\":{\"text\":\"Actual\"}},\"yaxis\":{\"anchor\":\"x\",\"domain\":[0.0,1.0],\"title\":{\"text\":\"Predicted\"}},\"legend\":{\"tracegroupgap\":0},\"margin\":{\"t\":60},\"title\":{\"text\":\"\\u003cb\\u003eScatter Plot Between Actual and Predicted Values \\u003cbr\\u003e \\u003csub\\u003eFirst Model using all independent variables\\u003c\\u002fsub\\u003e\\u003c\\u002fb\\u003e\",\"x\":0.05,\"xanchor\":\"left\",\"y\":0.968},\"showlegend\":true,\"plot_bgcolor\":\"#F6F5F5\",\"paper_bgcolor\":\"#F6F5F5\",\"height\":650,\"width\":850},                        {\"responsive\": true}                    ).then(function(){\n",
       "                            \n",
       "var gd = document.getElementById('b70be22e-aadd-4411-93e3-ab7f63f74533');\n",
       "var x = new MutationObserver(function (mutations, observer) {{\n",
       "        var display = window.getComputedStyle(gd).display;\n",
       "        if (!display || display === 'none') {{\n",
       "            console.log([gd, 'removed!']);\n",
       "            Plotly.purge(gd);\n",
       "            observer.disconnect();\n",
       "        }}\n",
       "}});\n",
       "\n",
       "// Listen for the removal of the full notebook cells\n",
       "var notebookContainer = gd.closest('#notebook-container');\n",
       "if (notebookContainer) {{\n",
       "    x.observe(notebookContainer, {childList: true});\n",
       "}}\n",
       "\n",
       "// Listen for the clearing of the current output cell\n",
       "var outputEl = gd.closest('.output');\n",
       "if (outputEl) {{\n",
       "    x.observe(outputEl, {childList: true});\n",
       "}}\n",
       "\n",
       "                        })                };                });            </script>        </div>"
      ]
     },
     "metadata": {},
     "output_type": "display_data"
    }
   ],
   "source": [
    "plot_df = pd.DataFrame({'Actual': y_test, 'Predicted': y_pred}) # Creating Dataframe containing actual and predicted values\n",
    "\n",
    "fig = px.scatter(plot_df, x='Actual', y='Predicted', opacity=0.825, template='seaborn') # Creating scatterplot\n",
    "fig.add_traces(px.scatter(plot_df, x='Actual', y='Predicted', trendline=\"ols\").data[1]) # Obtaining the fit line\n",
    "\n",
    "fig.update_traces(marker={'size': 8})\n",
    "\n",
    "fig.update_layout(title={'text': f'<b>Scatter Plot Between Actual and Predicted Values <br> <sub>First Model using all independent variables</sub></b>',\n",
    "                         'x': 0.05, 'xanchor': 'left', 'y': 0.968},\n",
    "                  showlegend=True,\n",
    "                  plot_bgcolor='#F6F5F5',\n",
    "                  paper_bgcolor='#F6F5F5',\n",
    "                  height=650, width=850)\n",
    "             "
   ]
  },
  {
   "cell_type": "markdown",
   "metadata": {},
   "source": [
    "<div class=\"alert alert-success\">\n",
    "PLAYTIME: Plot the residual distribution for previous model. It resembles a bell curve? are residuals normaly distributed also in this case? Compute the RMSE for the single independent variable model that uses only the RM independent variable. It improves to use all the features as independent variable? which model is more reliable for unseen data?\n",
    "</div>"
   ]
  },
  {
   "cell_type": "code",
   "execution_count": 34,
   "metadata": {},
   "outputs": [
    {
     "name": "stdout",
     "output_type": "stream",
     "text": [
      "                            OLS Regression Results                            \n",
      "==============================================================================\n",
      "Dep. Variable:                   MEDV   R-squared:                       0.764\n",
      "Model:                            OLS   Adj. R-squared:                  0.757\n",
      "Method:                 Least Squares   F-statistic:                     100.8\n",
      "Date:                Sun, 15 Oct 2023   Prob (F-statistic):          3.40e-100\n",
      "Time:                        22:22:12   Log-Likelihood:                -1032.4\n",
      "No. Observations:                 354   AIC:                             2089.\n",
      "Df Residuals:                     342   BIC:                             2135.\n",
      "Df Model:                          11                                         \n",
      "Covariance Type:            nonrobust                                         \n",
      "==============================================================================\n",
      "                 coef    std err          t      P>|t|      [0.025      0.975]\n",
      "------------------------------------------------------------------------------\n",
      "Intercept     38.1890      5.824      6.557      0.000      26.733      49.645\n",
      "B              0.0067      0.003      2.063      0.040       0.000       0.013\n",
      "CHAS           2.4975      1.003      2.489      0.013       0.524       4.471\n",
      "CRIM          -0.1208      0.038     -3.183      0.002      -0.195      -0.046\n",
      "DIS           -1.4634      0.217     -6.754      0.000      -1.890      -1.037\n",
      "LSTAT         -0.4991      0.056     -8.871      0.000      -0.610      -0.388\n",
      "NOX          -16.8564      4.119     -4.093      0.000     -24.958      -8.755\n",
      "PTRATIO       -1.0207      0.147     -6.950      0.000      -1.310      -0.732\n",
      "RAD            0.2420      0.073      3.322      0.001       0.099       0.385\n",
      "RM             3.7875      0.477      7.937      0.000       2.849       4.726\n",
      "TAX           -0.0108      0.004     -2.840      0.005      -0.018      -0.003\n",
      "ZN             0.0455      0.015      2.942      0.003       0.015       0.076\n",
      "==============================================================================\n",
      "Omnibus:                      129.802   Durbin-Watson:                   2.027\n",
      "Prob(Omnibus):                  0.000   Jarque-Bera (JB):              585.705\n",
      "Skew:                           1.516   Prob(JB):                    6.54e-128\n",
      "Kurtosis:                       8.524   Cond. No.                     1.47e+04\n",
      "==============================================================================\n",
      "\n",
      "Notes:\n",
      "[1] Standard Errors assume that the covariance matrix of the errors is correctly specified.\n",
      "[2] The condition number is large, 1.47e+04. This might indicate that there are\n",
      "strong multicollinearity or other numerical problems.\n"
     ]
    }
   ],
   "source": [
    "#removing AGE and INDUS\n",
    "string_cols = ' + '.join(data.columns[:-1].difference(['AGE','INDUS']))\n",
    "model = smf.ols('MEDV ~ {}'.format(string_cols),data = data).fit()\n",
    "print(model.summary())"
   ]
  },
  {
   "cell_type": "code",
   "execution_count": 35,
   "metadata": {},
   "outputs": [
    {
     "name": "stdout",
     "output_type": "stream",
     "text": [
      "\n",
      "Root Mean Squared Error for Baseline Model: 5.20\n"
     ]
    }
   ],
   "source": [
    "y_pred = model.predict(X_test) # Running predictions\n",
    "rmse = mean_squared_error(y_test, y_pred,squared = False) # Computing RMSE\n",
    "\n",
    "print(f'\\nRoot Mean Squared Error for Baseline Model: {rmse:.2f}')"
   ]
  },
  {
   "cell_type": "markdown",
   "metadata": {},
   "source": [
    "This model achieves a better RMSE score, by scoring a value lower than the previous model. We can also plot the scatter plot between actual and predicted values."
   ]
  },
  {
   "cell_type": "code",
   "execution_count": 36,
   "metadata": {},
   "outputs": [
    {
     "data": {
      "application/vnd.plotly.v1+json": {
       "config": {
        "plotlyServerURL": "https://plot.ly"
       },
       "data": [
        {
         "hovertemplate": "Actual=%{x}<br>Predicted=%{y}<extra></extra>",
         "legendgroup": "",
         "marker": {
          "color": "rgb(76,114,176)",
          "opacity": 0.825,
          "size": 8,
          "symbol": "circle"
         },
         "mode": "markers",
         "name": "",
         "orientation": "v",
         "showlegend": false,
         "type": "scatter",
         "x": [
          22.6,
          50,
          23,
          8.3,
          21.2,
          19.9,
          20.6,
          18.7,
          16.1,
          18.6,
          8.8,
          17.2,
          14.9,
          10.5,
          50,
          29,
          23,
          33.3,
          29.4,
          21,
          23.8,
          19.1,
          20.4,
          29.1,
          19.3,
          23.1,
          19.6,
          19.4,
          38.7,
          18.7,
          14.6,
          20,
          20.5,
          20.1,
          23.6,
          16.8,
          5.6,
          50,
          14.5,
          13.3,
          23.9,
          20,
          19.8,
          13.8,
          16.5,
          21.6,
          20.3,
          17,
          11.8,
          27.5,
          15.6,
          23.1,
          24.3,
          42.8,
          15.6,
          21.7,
          17.1,
          17.2,
          15,
          21.7,
          18.6,
          21,
          33.1,
          31.5,
          20.1,
          29.8,
          15.2,
          15,
          27.5,
          22.6,
          20,
          21.4,
          23.5,
          31.2,
          23.7,
          7.4,
          48.3,
          24.4,
          22.6,
          18.3,
          23.3,
          17.1,
          27.9,
          44.8,
          50,
          23,
          21.4,
          10.2,
          23.3,
          23.2,
          18.9,
          13.4,
          21.9,
          24.8,
          11.9,
          24.3,
          13.8,
          24.7,
          14.1,
          18.7,
          28.1,
          19.8,
          26.7,
          21.7,
          22,
          22.9,
          10.4,
          21.9,
          20.6,
          26.4,
          41.3,
          17.2,
          27.1,
          20.4,
          16.5,
          24.4,
          8.4,
          23,
          9.7,
          50,
          30.5,
          12.3,
          19.4,
          21.2,
          20.3,
          18.8,
          33.4,
          18.5,
          19.6,
          33.2,
          13.1,
          7.5,
          13.6,
          17.4,
          8.4,
          35.4,
          24,
          13.4,
          26.2,
          7.2,
          13.1,
          24.5,
          37.2,
          25,
          24.1,
          16.6,
          32.9,
          36.2,
          11,
          7.2,
          22.8,
          28.7
         ],
         "xaxis": "x",
         "y": [
          24.679080243923202,
          23.928806841126644,
          29.480928178023177,
          12.032702932687949,
          21.309195088155818,
          19.17352252456164,
          20.377585358223623,
          21.234890709273145,
          18.769349550731302,
          20.56617035849459,
          5.58105610350141,
          17.025262384802943,
          17.155819312694536,
          5.421478329002078,
          40.30857120488116,
          32.17527918902882,
          22.408583313356115,
          36.58777899549023,
          30.797807217730558,
          23.02488870320751,
          24.698610464446077,
          24.64198082872891,
          20.776200333560432,
          30.265317426773837,
          22.153104346703547,
          10.538561119372167,
          17.65838677497064,
          18.199797330544047,
          35.78435377177028,
          21.00519462191647,
          18.35954852670416,
          17.687482303928526,
          19.758479769738482,
          23.839071536519008,
          29.192161544931288,
          19.40985426285238,
          11.092663594992043,
          24.888152039125647,
          18.086079864332337,
          15.647715896256537,
          25.834405844100317,
          20.578473020037592,
          22.083842809321048,
          15.64223872488336,
          22.776459806124667,
          25.10718513370372,
          19.73144891825122,
          22.92013299060445,
          9.637918298963353,
          24.46540512909622,
          21.25423939960981,
          17.141230365009726,
          24.465052086850672,
          29.62936370436435,
          13.630831216283937,
          21.329126419078406,
          20.409075225315274,
          15.172131942483933,
          14.634267034870291,
          22.305138123725648,
          17.159667617595964,
          21.438561742493228,
          32.706444098176206,
          31.02414928668368,
          17.592549678639692,
          32.66348907783358,
          18.766389330698118,
          19.498375768732327,
          19.487931489057186,
          22.66953957645613,
          22.9891693240747,
          23.933407815912073,
          30.46432657593713,
          28.626662592961424,
          25.953768046648023,
          5.029888348838988,
          36.89749769063549,
          23.643134563739306,
          27.326099422785816,
          19.233303311684622,
          28.42833797586578,
          19.304662837200475,
          19.131200440102788,
          38.076294585311,
          39.52430180898078,
          23.493310176473752,
          24.97373742722399,
          16.3593216526145,
          25.986670208148357,
          16.629775554733087,
          15.646983313530843,
          13.459070267295875,
          24.288057785365506,
          30.997434901348818,
          22.258566136447413,
          19.881916828729466,
          0.372989828603977,
          25.07603075873289,
          16.011713032700207,
          17.664559499544502,
          25.17195734500547,
          22.595130274914897,
          32.849693523627025,
          21.69480165457089,
          27.362386598366452,
          23.306311879873643,
          6.816934403339683,
          14.966727034214017,
          22.31905142968046,
          28.915799719245378,
          33.36339260005509,
          13.27298412380555,
          19.98945825168686,
          20.756409874026513,
          12.291008715115924,
          23.396991675232062,
          5.3336233798136945,
          19.942943280796406,
          9.278190015846784,
          44.6928563929894,
          30.544749038032542,
          12.45000059045002,
          17.40982902864867,
          21.385649504303814,
          23.61351452285548,
          20.419289278498116,
          35.21721370680813,
          13.493281852512112,
          20.77735792310459,
          35.304336681840894,
          19.481133624058742,
          13.706885103992434,
          14.168675556181837,
          23.132337290174455,
          14.829117794113426,
          30.949450928732258,
          25.239445458080468,
          15.232143162646366,
          23.866784967533153,
          9.901739613428,
          14.954675072438368,
          20.7342251481278,
          32.848255810973455,
          27.62344023551558,
          25.409532386063855,
          15.53103095220026,
          30.90216858425358,
          27.87624639548908,
          14.356835836053799,
          7.501713146811095,
          28.507185260253344,
          25.206740809160948
         ],
         "yaxis": "y"
        },
        {
         "hovertemplate": "<b>OLS trendline</b><br>Predicted = 0.684143 * Actual + 6.69971<br>R<sup>2</sup>=0.676091<br><br>Actual=%{x}<br>Predicted=%{y} <b>(trend)</b><extra></extra>",
         "legendgroup": "",
         "marker": {
          "color": "#636efa",
          "size": 8,
          "symbol": "circle"
         },
         "mode": "lines",
         "name": "",
         "showlegend": false,
         "type": "scatter",
         "x": [
          5.6,
          7.2,
          7.2,
          7.4,
          7.5,
          8.3,
          8.4,
          8.4,
          8.8,
          9.7,
          10.2,
          10.4,
          10.5,
          11,
          11.8,
          11.9,
          12.3,
          13.1,
          13.1,
          13.3,
          13.4,
          13.4,
          13.6,
          13.8,
          13.8,
          14.1,
          14.5,
          14.6,
          14.9,
          15,
          15,
          15.2,
          15.6,
          15.6,
          16.1,
          16.5,
          16.5,
          16.6,
          16.8,
          17,
          17.1,
          17.1,
          17.2,
          17.2,
          17.2,
          17.4,
          18.3,
          18.5,
          18.6,
          18.6,
          18.7,
          18.7,
          18.7,
          18.8,
          18.9,
          19.1,
          19.3,
          19.4,
          19.4,
          19.6,
          19.6,
          19.8,
          19.8,
          19.9,
          20,
          20,
          20,
          20.1,
          20.1,
          20.3,
          20.3,
          20.4,
          20.4,
          20.5,
          20.6,
          20.6,
          21,
          21,
          21.2,
          21.2,
          21.4,
          21.4,
          21.6,
          21.7,
          21.7,
          21.7,
          21.9,
          21.9,
          22,
          22.6,
          22.6,
          22.6,
          22.8,
          22.9,
          23,
          23,
          23,
          23,
          23.1,
          23.1,
          23.2,
          23.3,
          23.3,
          23.5,
          23.6,
          23.7,
          23.8,
          23.9,
          24,
          24.1,
          24.3,
          24.3,
          24.4,
          24.4,
          24.5,
          24.7,
          24.8,
          25,
          26.2,
          26.4,
          26.7,
          27.1,
          27.5,
          27.5,
          27.9,
          28.1,
          28.7,
          29,
          29.1,
          29.4,
          29.8,
          30.5,
          31.2,
          31.5,
          32.9,
          33.1,
          33.2,
          33.3,
          33.4,
          35.4,
          36.2,
          37.2,
          38.7,
          41.3,
          42.8,
          44.8,
          48.3,
          50,
          50,
          50,
          50,
          50
         ],
         "xaxis": "x",
         "y": [
          10.53091035544297,
          11.62553960843572,
          11.62553960843572,
          11.762368265059813,
          11.83078259337186,
          12.378097219868236,
          12.446511548180283,
          12.446511548180283,
          12.72016886142847,
          13.33589781623689,
          13.677969457797124,
          13.814798114421219,
          13.883212442733265,
          14.225284084293499,
          14.772598710789875,
          14.841013039101922,
          15.114670352350108,
          15.661984978846483,
          15.661984978846483,
          15.798813635470577,
          15.867227963782623,
          15.867227963782623,
          16.00405662040672,
          16.14088527703081,
          16.14088527703081,
          16.34612826196695,
          16.61978557521514,
          16.688199903527185,
          16.893442888463326,
          16.96185721677537,
          16.96185721677537,
          17.098685873399464,
          17.372343186647655,
          17.372343186647655,
          17.71441482820789,
          17.988072141456076,
          17.988072141456076,
          18.056486469768124,
          18.193315126392218,
          18.33014378301631,
          18.398558111328356,
          18.398558111328356,
          18.466972439640404,
          18.466972439640404,
          18.466972439640404,
          18.603801096264498,
          19.21953005107292,
          19.356358707697012,
          19.42477303600906,
          19.42477303600906,
          19.493187364321106,
          19.493187364321106,
          19.493187364321106,
          19.561601692633154,
          19.6300160209452,
          19.766844677569296,
          19.903673334193385,
          19.972087662505434,
          19.972087662505434,
          20.108916319129527,
          20.108916319129527,
          20.24574497575362,
          20.24574497575362,
          20.314159304065665,
          20.382573632377714,
          20.382573632377714,
          20.382573632377714,
          20.450987960689762,
          20.450987960689762,
          20.587816617313855,
          20.587816617313855,
          20.6562309456259,
          20.6562309456259,
          20.72464527393795,
          20.793059602249997,
          20.793059602249997,
          21.066716915498183,
          21.066716915498183,
          21.203545572122277,
          21.203545572122277,
          21.34037422874637,
          21.34037422874637,
          21.477202885370463,
          21.54561721368251,
          21.54561721368251,
          21.54561721368251,
          21.682445870306605,
          21.682445870306605,
          21.75086019861865,
          22.161346168490933,
          22.161346168490933,
          22.161346168490933,
          22.298174825115026,
          22.36658915342707,
          22.43500348173912,
          22.43500348173912,
          22.43500348173912,
          22.43500348173912,
          22.503417810051168,
          22.503417810051168,
          22.571832138363213,
          22.64024646667526,
          22.64024646667526,
          22.777075123299355,
          22.845489451611403,
          22.913903779923448,
          22.982318108235496,
          23.05073243654754,
          23.119146764859586,
          23.187561093171634,
          23.324389749795728,
          23.324389749795728,
          23.392804078107773,
          23.392804078107773,
          23.46121840641982,
          23.598047063043914,
          23.666461391355963,
          23.803290047980056,
          24.62426198772462,
          24.761090644348712,
          24.96633362928485,
          25.23999094253304,
          25.513648255781227,
          25.513648255781227,
          25.787305569029414,
          25.92413422565351,
          26.33462019552579,
          26.53986318046193,
          26.608277508773977,
          26.813520493710115,
          27.087177806958305,
          27.566078105142633,
          28.044978403326958,
          28.2502213882631,
          29.208021984631756,
          29.34485064125585,
          29.413264969567898,
          29.481679297879943,
          29.55009362619199,
          30.918380192432927,
          31.465694818929304,
          32.14983810204977,
          33.17605302673047,
          34.95482556284369,
          35.98104048752439,
          37.34932705376533,
          39.74382854468697,
          40.90687212599177,
          40.90687212599177,
          40.90687212599177,
          40.90687212599177,
          40.90687212599177
         ],
         "yaxis": "y"
        }
       ],
       "layout": {
        "height": 650,
        "legend": {
         "tracegroupgap": 0
        },
        "margin": {
         "t": 60
        },
        "paper_bgcolor": "#F6F5F5",
        "plot_bgcolor": "#F6F5F5",
        "showlegend": true,
        "template": {
         "data": {
          "bar": [
           {
            "error_x": {
             "color": "rgb(36,36,36)"
            },
            "error_y": {
             "color": "rgb(36,36,36)"
            },
            "marker": {
             "line": {
              "color": "rgb(234,234,242)",
              "width": 0.5
             },
             "pattern": {
              "fillmode": "overlay",
              "size": 10,
              "solidity": 0.2
             }
            },
            "type": "bar"
           }
          ],
          "barpolar": [
           {
            "marker": {
             "line": {
              "color": "rgb(234,234,242)",
              "width": 0.5
             },
             "pattern": {
              "fillmode": "overlay",
              "size": 10,
              "solidity": 0.2
             }
            },
            "type": "barpolar"
           }
          ],
          "carpet": [
           {
            "aaxis": {
             "endlinecolor": "rgb(36,36,36)",
             "gridcolor": "white",
             "linecolor": "white",
             "minorgridcolor": "white",
             "startlinecolor": "rgb(36,36,36)"
            },
            "baxis": {
             "endlinecolor": "rgb(36,36,36)",
             "gridcolor": "white",
             "linecolor": "white",
             "minorgridcolor": "white",
             "startlinecolor": "rgb(36,36,36)"
            },
            "type": "carpet"
           }
          ],
          "choropleth": [
           {
            "colorbar": {
             "outlinewidth": 0,
             "tickcolor": "rgb(36,36,36)",
             "ticklen": 8,
             "ticks": "outside",
             "tickwidth": 2
            },
            "type": "choropleth"
           }
          ],
          "contour": [
           {
            "colorbar": {
             "outlinewidth": 0,
             "tickcolor": "rgb(36,36,36)",
             "ticklen": 8,
             "ticks": "outside",
             "tickwidth": 2
            },
            "colorscale": [
             [
              0,
              "rgb(2,4,25)"
             ],
             [
              0.06274509803921569,
              "rgb(24,15,41)"
             ],
             [
              0.12549019607843137,
              "rgb(47,23,57)"
             ],
             [
              0.18823529411764706,
              "rgb(71,28,72)"
             ],
             [
              0.25098039215686274,
              "rgb(97,30,82)"
             ],
             [
              0.3137254901960784,
              "rgb(123,30,89)"
             ],
             [
              0.3764705882352941,
              "rgb(150,27,91)"
             ],
             [
              0.4392156862745098,
              "rgb(177,22,88)"
             ],
             [
              0.5019607843137255,
              "rgb(203,26,79)"
             ],
             [
              0.5647058823529412,
              "rgb(223,47,67)"
             ],
             [
              0.6274509803921569,
              "rgb(236,76,61)"
             ],
             [
              0.6901960784313725,
              "rgb(242,107,73)"
             ],
             [
              0.7529411764705882,
              "rgb(244,135,95)"
             ],
             [
              0.8156862745098039,
              "rgb(245,162,122)"
             ],
             [
              0.8784313725490196,
              "rgb(246,188,153)"
             ],
             [
              0.9411764705882353,
              "rgb(247,212,187)"
             ],
             [
              1,
              "rgb(250,234,220)"
             ]
            ],
            "type": "contour"
           }
          ],
          "contourcarpet": [
           {
            "colorbar": {
             "outlinewidth": 0,
             "tickcolor": "rgb(36,36,36)",
             "ticklen": 8,
             "ticks": "outside",
             "tickwidth": 2
            },
            "type": "contourcarpet"
           }
          ],
          "heatmap": [
           {
            "colorbar": {
             "outlinewidth": 0,
             "tickcolor": "rgb(36,36,36)",
             "ticklen": 8,
             "ticks": "outside",
             "tickwidth": 2
            },
            "colorscale": [
             [
              0,
              "rgb(2,4,25)"
             ],
             [
              0.06274509803921569,
              "rgb(24,15,41)"
             ],
             [
              0.12549019607843137,
              "rgb(47,23,57)"
             ],
             [
              0.18823529411764706,
              "rgb(71,28,72)"
             ],
             [
              0.25098039215686274,
              "rgb(97,30,82)"
             ],
             [
              0.3137254901960784,
              "rgb(123,30,89)"
             ],
             [
              0.3764705882352941,
              "rgb(150,27,91)"
             ],
             [
              0.4392156862745098,
              "rgb(177,22,88)"
             ],
             [
              0.5019607843137255,
              "rgb(203,26,79)"
             ],
             [
              0.5647058823529412,
              "rgb(223,47,67)"
             ],
             [
              0.6274509803921569,
              "rgb(236,76,61)"
             ],
             [
              0.6901960784313725,
              "rgb(242,107,73)"
             ],
             [
              0.7529411764705882,
              "rgb(244,135,95)"
             ],
             [
              0.8156862745098039,
              "rgb(245,162,122)"
             ],
             [
              0.8784313725490196,
              "rgb(246,188,153)"
             ],
             [
              0.9411764705882353,
              "rgb(247,212,187)"
             ],
             [
              1,
              "rgb(250,234,220)"
             ]
            ],
            "type": "heatmap"
           }
          ],
          "heatmapgl": [
           {
            "colorbar": {
             "outlinewidth": 0,
             "tickcolor": "rgb(36,36,36)",
             "ticklen": 8,
             "ticks": "outside",
             "tickwidth": 2
            },
            "colorscale": [
             [
              0,
              "rgb(2,4,25)"
             ],
             [
              0.06274509803921569,
              "rgb(24,15,41)"
             ],
             [
              0.12549019607843137,
              "rgb(47,23,57)"
             ],
             [
              0.18823529411764706,
              "rgb(71,28,72)"
             ],
             [
              0.25098039215686274,
              "rgb(97,30,82)"
             ],
             [
              0.3137254901960784,
              "rgb(123,30,89)"
             ],
             [
              0.3764705882352941,
              "rgb(150,27,91)"
             ],
             [
              0.4392156862745098,
              "rgb(177,22,88)"
             ],
             [
              0.5019607843137255,
              "rgb(203,26,79)"
             ],
             [
              0.5647058823529412,
              "rgb(223,47,67)"
             ],
             [
              0.6274509803921569,
              "rgb(236,76,61)"
             ],
             [
              0.6901960784313725,
              "rgb(242,107,73)"
             ],
             [
              0.7529411764705882,
              "rgb(244,135,95)"
             ],
             [
              0.8156862745098039,
              "rgb(245,162,122)"
             ],
             [
              0.8784313725490196,
              "rgb(246,188,153)"
             ],
             [
              0.9411764705882353,
              "rgb(247,212,187)"
             ],
             [
              1,
              "rgb(250,234,220)"
             ]
            ],
            "type": "heatmapgl"
           }
          ],
          "histogram": [
           {
            "marker": {
             "pattern": {
              "fillmode": "overlay",
              "size": 10,
              "solidity": 0.2
             }
            },
            "type": "histogram"
           }
          ],
          "histogram2d": [
           {
            "colorbar": {
             "outlinewidth": 0,
             "tickcolor": "rgb(36,36,36)",
             "ticklen": 8,
             "ticks": "outside",
             "tickwidth": 2
            },
            "colorscale": [
             [
              0,
              "rgb(2,4,25)"
             ],
             [
              0.06274509803921569,
              "rgb(24,15,41)"
             ],
             [
              0.12549019607843137,
              "rgb(47,23,57)"
             ],
             [
              0.18823529411764706,
              "rgb(71,28,72)"
             ],
             [
              0.25098039215686274,
              "rgb(97,30,82)"
             ],
             [
              0.3137254901960784,
              "rgb(123,30,89)"
             ],
             [
              0.3764705882352941,
              "rgb(150,27,91)"
             ],
             [
              0.4392156862745098,
              "rgb(177,22,88)"
             ],
             [
              0.5019607843137255,
              "rgb(203,26,79)"
             ],
             [
              0.5647058823529412,
              "rgb(223,47,67)"
             ],
             [
              0.6274509803921569,
              "rgb(236,76,61)"
             ],
             [
              0.6901960784313725,
              "rgb(242,107,73)"
             ],
             [
              0.7529411764705882,
              "rgb(244,135,95)"
             ],
             [
              0.8156862745098039,
              "rgb(245,162,122)"
             ],
             [
              0.8784313725490196,
              "rgb(246,188,153)"
             ],
             [
              0.9411764705882353,
              "rgb(247,212,187)"
             ],
             [
              1,
              "rgb(250,234,220)"
             ]
            ],
            "type": "histogram2d"
           }
          ],
          "histogram2dcontour": [
           {
            "colorbar": {
             "outlinewidth": 0,
             "tickcolor": "rgb(36,36,36)",
             "ticklen": 8,
             "ticks": "outside",
             "tickwidth": 2
            },
            "colorscale": [
             [
              0,
              "rgb(2,4,25)"
             ],
             [
              0.06274509803921569,
              "rgb(24,15,41)"
             ],
             [
              0.12549019607843137,
              "rgb(47,23,57)"
             ],
             [
              0.18823529411764706,
              "rgb(71,28,72)"
             ],
             [
              0.25098039215686274,
              "rgb(97,30,82)"
             ],
             [
              0.3137254901960784,
              "rgb(123,30,89)"
             ],
             [
              0.3764705882352941,
              "rgb(150,27,91)"
             ],
             [
              0.4392156862745098,
              "rgb(177,22,88)"
             ],
             [
              0.5019607843137255,
              "rgb(203,26,79)"
             ],
             [
              0.5647058823529412,
              "rgb(223,47,67)"
             ],
             [
              0.6274509803921569,
              "rgb(236,76,61)"
             ],
             [
              0.6901960784313725,
              "rgb(242,107,73)"
             ],
             [
              0.7529411764705882,
              "rgb(244,135,95)"
             ],
             [
              0.8156862745098039,
              "rgb(245,162,122)"
             ],
             [
              0.8784313725490196,
              "rgb(246,188,153)"
             ],
             [
              0.9411764705882353,
              "rgb(247,212,187)"
             ],
             [
              1,
              "rgb(250,234,220)"
             ]
            ],
            "type": "histogram2dcontour"
           }
          ],
          "mesh3d": [
           {
            "colorbar": {
             "outlinewidth": 0,
             "tickcolor": "rgb(36,36,36)",
             "ticklen": 8,
             "ticks": "outside",
             "tickwidth": 2
            },
            "type": "mesh3d"
           }
          ],
          "parcoords": [
           {
            "line": {
             "colorbar": {
              "outlinewidth": 0,
              "tickcolor": "rgb(36,36,36)",
              "ticklen": 8,
              "ticks": "outside",
              "tickwidth": 2
             }
            },
            "type": "parcoords"
           }
          ],
          "pie": [
           {
            "automargin": true,
            "type": "pie"
           }
          ],
          "scatter": [
           {
            "fillpattern": {
             "fillmode": "overlay",
             "size": 10,
             "solidity": 0.2
            },
            "type": "scatter"
           }
          ],
          "scatter3d": [
           {
            "line": {
             "colorbar": {
              "outlinewidth": 0,
              "tickcolor": "rgb(36,36,36)",
              "ticklen": 8,
              "ticks": "outside",
              "tickwidth": 2
             }
            },
            "marker": {
             "colorbar": {
              "outlinewidth": 0,
              "tickcolor": "rgb(36,36,36)",
              "ticklen": 8,
              "ticks": "outside",
              "tickwidth": 2
             }
            },
            "type": "scatter3d"
           }
          ],
          "scattercarpet": [
           {
            "marker": {
             "colorbar": {
              "outlinewidth": 0,
              "tickcolor": "rgb(36,36,36)",
              "ticklen": 8,
              "ticks": "outside",
              "tickwidth": 2
             }
            },
            "type": "scattercarpet"
           }
          ],
          "scattergeo": [
           {
            "marker": {
             "colorbar": {
              "outlinewidth": 0,
              "tickcolor": "rgb(36,36,36)",
              "ticklen": 8,
              "ticks": "outside",
              "tickwidth": 2
             }
            },
            "type": "scattergeo"
           }
          ],
          "scattergl": [
           {
            "marker": {
             "colorbar": {
              "outlinewidth": 0,
              "tickcolor": "rgb(36,36,36)",
              "ticklen": 8,
              "ticks": "outside",
              "tickwidth": 2
             }
            },
            "type": "scattergl"
           }
          ],
          "scattermapbox": [
           {
            "marker": {
             "colorbar": {
              "outlinewidth": 0,
              "tickcolor": "rgb(36,36,36)",
              "ticklen": 8,
              "ticks": "outside",
              "tickwidth": 2
             }
            },
            "type": "scattermapbox"
           }
          ],
          "scatterpolar": [
           {
            "marker": {
             "colorbar": {
              "outlinewidth": 0,
              "tickcolor": "rgb(36,36,36)",
              "ticklen": 8,
              "ticks": "outside",
              "tickwidth": 2
             }
            },
            "type": "scatterpolar"
           }
          ],
          "scatterpolargl": [
           {
            "marker": {
             "colorbar": {
              "outlinewidth": 0,
              "tickcolor": "rgb(36,36,36)",
              "ticklen": 8,
              "ticks": "outside",
              "tickwidth": 2
             }
            },
            "type": "scatterpolargl"
           }
          ],
          "scatterternary": [
           {
            "marker": {
             "colorbar": {
              "outlinewidth": 0,
              "tickcolor": "rgb(36,36,36)",
              "ticklen": 8,
              "ticks": "outside",
              "tickwidth": 2
             }
            },
            "type": "scatterternary"
           }
          ],
          "surface": [
           {
            "colorbar": {
             "outlinewidth": 0,
             "tickcolor": "rgb(36,36,36)",
             "ticklen": 8,
             "ticks": "outside",
             "tickwidth": 2
            },
            "colorscale": [
             [
              0,
              "rgb(2,4,25)"
             ],
             [
              0.06274509803921569,
              "rgb(24,15,41)"
             ],
             [
              0.12549019607843137,
              "rgb(47,23,57)"
             ],
             [
              0.18823529411764706,
              "rgb(71,28,72)"
             ],
             [
              0.25098039215686274,
              "rgb(97,30,82)"
             ],
             [
              0.3137254901960784,
              "rgb(123,30,89)"
             ],
             [
              0.3764705882352941,
              "rgb(150,27,91)"
             ],
             [
              0.4392156862745098,
              "rgb(177,22,88)"
             ],
             [
              0.5019607843137255,
              "rgb(203,26,79)"
             ],
             [
              0.5647058823529412,
              "rgb(223,47,67)"
             ],
             [
              0.6274509803921569,
              "rgb(236,76,61)"
             ],
             [
              0.6901960784313725,
              "rgb(242,107,73)"
             ],
             [
              0.7529411764705882,
              "rgb(244,135,95)"
             ],
             [
              0.8156862745098039,
              "rgb(245,162,122)"
             ],
             [
              0.8784313725490196,
              "rgb(246,188,153)"
             ],
             [
              0.9411764705882353,
              "rgb(247,212,187)"
             ],
             [
              1,
              "rgb(250,234,220)"
             ]
            ],
            "type": "surface"
           }
          ],
          "table": [
           {
            "cells": {
             "fill": {
              "color": "rgb(231,231,240)"
             },
             "line": {
              "color": "white"
             }
            },
            "header": {
             "fill": {
              "color": "rgb(183,183,191)"
             },
             "line": {
              "color": "white"
             }
            },
            "type": "table"
           }
          ]
         },
         "layout": {
          "annotationdefaults": {
           "arrowcolor": "rgb(67,103,167)"
          },
          "autotypenumbers": "strict",
          "coloraxis": {
           "colorbar": {
            "outlinewidth": 0,
            "tickcolor": "rgb(36,36,36)",
            "ticklen": 8,
            "ticks": "outside",
            "tickwidth": 2
           }
          },
          "colorscale": {
           "sequential": [
            [
             0,
             "rgb(2,4,25)"
            ],
            [
             0.06274509803921569,
             "rgb(24,15,41)"
            ],
            [
             0.12549019607843137,
             "rgb(47,23,57)"
            ],
            [
             0.18823529411764706,
             "rgb(71,28,72)"
            ],
            [
             0.25098039215686274,
             "rgb(97,30,82)"
            ],
            [
             0.3137254901960784,
             "rgb(123,30,89)"
            ],
            [
             0.3764705882352941,
             "rgb(150,27,91)"
            ],
            [
             0.4392156862745098,
             "rgb(177,22,88)"
            ],
            [
             0.5019607843137255,
             "rgb(203,26,79)"
            ],
            [
             0.5647058823529412,
             "rgb(223,47,67)"
            ],
            [
             0.6274509803921569,
             "rgb(236,76,61)"
            ],
            [
             0.6901960784313725,
             "rgb(242,107,73)"
            ],
            [
             0.7529411764705882,
             "rgb(244,135,95)"
            ],
            [
             0.8156862745098039,
             "rgb(245,162,122)"
            ],
            [
             0.8784313725490196,
             "rgb(246,188,153)"
            ],
            [
             0.9411764705882353,
             "rgb(247,212,187)"
            ],
            [
             1,
             "rgb(250,234,220)"
            ]
           ],
           "sequentialminus": [
            [
             0,
             "rgb(2,4,25)"
            ],
            [
             0.06274509803921569,
             "rgb(24,15,41)"
            ],
            [
             0.12549019607843137,
             "rgb(47,23,57)"
            ],
            [
             0.18823529411764706,
             "rgb(71,28,72)"
            ],
            [
             0.25098039215686274,
             "rgb(97,30,82)"
            ],
            [
             0.3137254901960784,
             "rgb(123,30,89)"
            ],
            [
             0.3764705882352941,
             "rgb(150,27,91)"
            ],
            [
             0.4392156862745098,
             "rgb(177,22,88)"
            ],
            [
             0.5019607843137255,
             "rgb(203,26,79)"
            ],
            [
             0.5647058823529412,
             "rgb(223,47,67)"
            ],
            [
             0.6274509803921569,
             "rgb(236,76,61)"
            ],
            [
             0.6901960784313725,
             "rgb(242,107,73)"
            ],
            [
             0.7529411764705882,
             "rgb(244,135,95)"
            ],
            [
             0.8156862745098039,
             "rgb(245,162,122)"
            ],
            [
             0.8784313725490196,
             "rgb(246,188,153)"
            ],
            [
             0.9411764705882353,
             "rgb(247,212,187)"
            ],
            [
             1,
             "rgb(250,234,220)"
            ]
           ]
          },
          "colorway": [
           "rgb(76,114,176)",
           "rgb(221,132,82)",
           "rgb(85,168,104)",
           "rgb(196,78,82)",
           "rgb(129,114,179)",
           "rgb(147,120,96)",
           "rgb(218,139,195)",
           "rgb(140,140,140)",
           "rgb(204,185,116)",
           "rgb(100,181,205)"
          ],
          "font": {
           "color": "rgb(36,36,36)"
          },
          "geo": {
           "bgcolor": "white",
           "lakecolor": "white",
           "landcolor": "rgb(234,234,242)",
           "showlakes": true,
           "showland": true,
           "subunitcolor": "white"
          },
          "hoverlabel": {
           "align": "left"
          },
          "hovermode": "closest",
          "paper_bgcolor": "white",
          "plot_bgcolor": "rgb(234,234,242)",
          "polar": {
           "angularaxis": {
            "gridcolor": "white",
            "linecolor": "white",
            "showgrid": true,
            "ticks": ""
           },
           "bgcolor": "rgb(234,234,242)",
           "radialaxis": {
            "gridcolor": "white",
            "linecolor": "white",
            "showgrid": true,
            "ticks": ""
           }
          },
          "scene": {
           "xaxis": {
            "backgroundcolor": "rgb(234,234,242)",
            "gridcolor": "white",
            "gridwidth": 2,
            "linecolor": "white",
            "showbackground": true,
            "showgrid": true,
            "ticks": "",
            "zerolinecolor": "white"
           },
           "yaxis": {
            "backgroundcolor": "rgb(234,234,242)",
            "gridcolor": "white",
            "gridwidth": 2,
            "linecolor": "white",
            "showbackground": true,
            "showgrid": true,
            "ticks": "",
            "zerolinecolor": "white"
           },
           "zaxis": {
            "backgroundcolor": "rgb(234,234,242)",
            "gridcolor": "white",
            "gridwidth": 2,
            "linecolor": "white",
            "showbackground": true,
            "showgrid": true,
            "ticks": "",
            "zerolinecolor": "white"
           }
          },
          "shapedefaults": {
           "fillcolor": "rgb(67,103,167)",
           "line": {
            "width": 0
           },
           "opacity": 0.5
          },
          "ternary": {
           "aaxis": {
            "gridcolor": "white",
            "linecolor": "white",
            "showgrid": true,
            "ticks": ""
           },
           "baxis": {
            "gridcolor": "white",
            "linecolor": "white",
            "showgrid": true,
            "ticks": ""
           },
           "bgcolor": "rgb(234,234,242)",
           "caxis": {
            "gridcolor": "white",
            "linecolor": "white",
            "showgrid": true,
            "ticks": ""
           }
          },
          "xaxis": {
           "automargin": true,
           "gridcolor": "white",
           "linecolor": "white",
           "showgrid": true,
           "ticks": "",
           "title": {
            "standoff": 15
           },
           "zerolinecolor": "white"
          },
          "yaxis": {
           "automargin": true,
           "gridcolor": "white",
           "linecolor": "white",
           "showgrid": true,
           "ticks": "",
           "title": {
            "standoff": 15
           },
           "zerolinecolor": "white"
          }
         }
        },
        "title": {
         "text": "<b>Scatter Plot Between Actual and Predicted Values <br> <sub>Second Model droping AGE and INDUS independent variables</sub></b>",
         "x": 0.05,
         "xanchor": "left",
         "y": 0.968
        },
        "width": 850,
        "xaxis": {
         "anchor": "y",
         "domain": [
          0,
          1
         ],
         "title": {
          "text": "Actual"
         }
        },
        "yaxis": {
         "anchor": "x",
         "domain": [
          0,
          1
         ],
         "title": {
          "text": "Predicted"
         }
        }
       }
      },
      "text/html": [
       "<div>                            <div id=\"53c27f05-7edb-4a54-8afe-4c28d265b2ce\" class=\"plotly-graph-div\" style=\"height:650px; width:850px;\"></div>            <script type=\"text/javascript\">                require([\"plotly\"], function(Plotly) {                    window.PLOTLYENV=window.PLOTLYENV || {};                                    if (document.getElementById(\"53c27f05-7edb-4a54-8afe-4c28d265b2ce\")) {                    Plotly.newPlot(                        \"53c27f05-7edb-4a54-8afe-4c28d265b2ce\",                        [{\"hovertemplate\":\"Actual=%{x}\\u003cbr\\u003ePredicted=%{y}\\u003cextra\\u003e\\u003c\\u002fextra\\u003e\",\"legendgroup\":\"\",\"marker\":{\"color\":\"rgb(76,114,176)\",\"opacity\":0.825,\"symbol\":\"circle\",\"size\":8},\"mode\":\"markers\",\"name\":\"\",\"orientation\":\"v\",\"showlegend\":false,\"x\":[22.6,50.0,23.0,8.3,21.2,19.9,20.6,18.7,16.1,18.6,8.8,17.2,14.9,10.5,50.0,29.0,23.0,33.3,29.4,21.0,23.8,19.1,20.4,29.1,19.3,23.1,19.6,19.4,38.7,18.7,14.6,20.0,20.5,20.1,23.6,16.8,5.6,50.0,14.5,13.3,23.9,20.0,19.8,13.8,16.5,21.6,20.3,17.0,11.8,27.5,15.6,23.1,24.3,42.8,15.6,21.7,17.1,17.2,15.0,21.7,18.6,21.0,33.1,31.5,20.1,29.8,15.2,15.0,27.5,22.6,20.0,21.4,23.5,31.2,23.7,7.4,48.3,24.4,22.6,18.3,23.3,17.1,27.9,44.8,50.0,23.0,21.4,10.2,23.3,23.2,18.9,13.4,21.9,24.8,11.9,24.3,13.8,24.7,14.1,18.7,28.1,19.8,26.7,21.7,22.0,22.9,10.4,21.9,20.6,26.4,41.3,17.2,27.1,20.4,16.5,24.4,8.4,23.0,9.7,50.0,30.5,12.3,19.4,21.2,20.3,18.8,33.4,18.5,19.6,33.2,13.1,7.5,13.6,17.4,8.4,35.4,24.0,13.4,26.2,7.2,13.1,24.5,37.2,25.0,24.1,16.6,32.9,36.2,11.0,7.2,22.8,28.7],\"xaxis\":\"x\",\"y\":[24.679080243923202,23.928806841126644,29.480928178023177,12.032702932687949,21.309195088155818,19.17352252456164,20.377585358223623,21.234890709273145,18.769349550731302,20.56617035849459,5.58105610350141,17.025262384802943,17.155819312694536,5.421478329002078,40.30857120488116,32.17527918902882,22.408583313356115,36.58777899549023,30.797807217730558,23.02488870320751,24.698610464446077,24.64198082872891,20.776200333560432,30.265317426773837,22.153104346703547,10.538561119372167,17.65838677497064,18.199797330544047,35.78435377177028,21.00519462191647,18.35954852670416,17.687482303928526,19.758479769738482,23.839071536519008,29.192161544931288,19.40985426285238,11.092663594992043,24.888152039125647,18.086079864332337,15.647715896256537,25.834405844100317,20.578473020037592,22.083842809321048,15.64223872488336,22.776459806124667,25.10718513370372,19.73144891825122,22.92013299060445,9.637918298963353,24.46540512909622,21.25423939960981,17.141230365009726,24.465052086850672,29.62936370436435,13.630831216283937,21.329126419078406,20.409075225315274,15.172131942483933,14.634267034870291,22.305138123725648,17.159667617595964,21.438561742493228,32.706444098176206,31.02414928668368,17.592549678639692,32.66348907783358,18.766389330698118,19.498375768732327,19.487931489057186,22.66953957645613,22.9891693240747,23.933407815912073,30.46432657593713,28.626662592961424,25.953768046648023,5.029888348838988,36.89749769063549,23.643134563739306,27.326099422785816,19.233303311684622,28.42833797586578,19.304662837200475,19.131200440102788,38.076294585311,39.52430180898078,23.493310176473752,24.97373742722399,16.3593216526145,25.986670208148357,16.629775554733087,15.646983313530843,13.459070267295875,24.288057785365506,30.997434901348818,22.258566136447413,19.881916828729466,0.372989828603977,25.07603075873289,16.011713032700207,17.664559499544502,25.17195734500547,22.595130274914897,32.849693523627025,21.69480165457089,27.362386598366452,23.306311879873643,6.816934403339683,14.966727034214017,22.31905142968046,28.915799719245378,33.36339260005509,13.27298412380555,19.98945825168686,20.756409874026513,12.291008715115924,23.396991675232062,5.3336233798136945,19.942943280796406,9.278190015846784,44.6928563929894,30.544749038032542,12.45000059045002,17.40982902864867,21.385649504303814,23.61351452285548,20.419289278498116,35.21721370680813,13.493281852512112,20.77735792310459,35.304336681840894,19.481133624058742,13.706885103992434,14.168675556181837,23.132337290174455,14.829117794113426,30.949450928732258,25.239445458080468,15.232143162646366,23.866784967533153,9.901739613428,14.954675072438368,20.7342251481278,32.848255810973455,27.62344023551558,25.409532386063855,15.53103095220026,30.90216858425358,27.87624639548908,14.356835836053799,7.501713146811095,28.507185260253344,25.206740809160948],\"yaxis\":\"y\",\"type\":\"scatter\"},{\"hovertemplate\":\"\\u003cb\\u003eOLS trendline\\u003c\\u002fb\\u003e\\u003cbr\\u003ePredicted = 0.684143 * Actual + 6.69971\\u003cbr\\u003eR\\u003csup\\u003e2\\u003c\\u002fsup\\u003e=0.676091\\u003cbr\\u003e\\u003cbr\\u003eActual=%{x}\\u003cbr\\u003ePredicted=%{y} \\u003cb\\u003e(trend)\\u003c\\u002fb\\u003e\\u003cextra\\u003e\\u003c\\u002fextra\\u003e\",\"legendgroup\":\"\",\"marker\":{\"color\":\"#636efa\",\"symbol\":\"circle\",\"size\":8},\"mode\":\"lines\",\"name\":\"\",\"showlegend\":false,\"x\":[5.6,7.2,7.2,7.4,7.5,8.3,8.4,8.4,8.8,9.7,10.2,10.4,10.5,11.0,11.8,11.9,12.3,13.1,13.1,13.3,13.4,13.4,13.6,13.8,13.8,14.1,14.5,14.6,14.9,15.0,15.0,15.2,15.6,15.6,16.1,16.5,16.5,16.6,16.8,17.0,17.1,17.1,17.2,17.2,17.2,17.4,18.3,18.5,18.6,18.6,18.7,18.7,18.7,18.8,18.9,19.1,19.3,19.4,19.4,19.6,19.6,19.8,19.8,19.9,20.0,20.0,20.0,20.1,20.1,20.3,20.3,20.4,20.4,20.5,20.6,20.6,21.0,21.0,21.2,21.2,21.4,21.4,21.6,21.7,21.7,21.7,21.9,21.9,22.0,22.6,22.6,22.6,22.8,22.9,23.0,23.0,23.0,23.0,23.1,23.1,23.2,23.3,23.3,23.5,23.6,23.7,23.8,23.9,24.0,24.1,24.3,24.3,24.4,24.4,24.5,24.7,24.8,25.0,26.2,26.4,26.7,27.1,27.5,27.5,27.9,28.1,28.7,29.0,29.1,29.4,29.8,30.5,31.2,31.5,32.9,33.1,33.2,33.3,33.4,35.4,36.2,37.2,38.7,41.3,42.8,44.8,48.3,50.0,50.0,50.0,50.0,50.0],\"xaxis\":\"x\",\"y\":[10.53091035544297,11.62553960843572,11.62553960843572,11.762368265059813,11.83078259337186,12.378097219868236,12.446511548180283,12.446511548180283,12.72016886142847,13.33589781623689,13.677969457797124,13.814798114421219,13.883212442733265,14.225284084293499,14.772598710789875,14.841013039101922,15.114670352350108,15.661984978846483,15.661984978846483,15.798813635470577,15.867227963782623,15.867227963782623,16.00405662040672,16.14088527703081,16.14088527703081,16.34612826196695,16.61978557521514,16.688199903527185,16.893442888463326,16.96185721677537,16.96185721677537,17.098685873399464,17.372343186647655,17.372343186647655,17.71441482820789,17.988072141456076,17.988072141456076,18.056486469768124,18.193315126392218,18.33014378301631,18.398558111328356,18.398558111328356,18.466972439640404,18.466972439640404,18.466972439640404,18.603801096264498,19.21953005107292,19.356358707697012,19.42477303600906,19.42477303600906,19.493187364321106,19.493187364321106,19.493187364321106,19.561601692633154,19.6300160209452,19.766844677569296,19.903673334193385,19.972087662505434,19.972087662505434,20.108916319129527,20.108916319129527,20.24574497575362,20.24574497575362,20.314159304065665,20.382573632377714,20.382573632377714,20.382573632377714,20.450987960689762,20.450987960689762,20.587816617313855,20.587816617313855,20.6562309456259,20.6562309456259,20.72464527393795,20.793059602249997,20.793059602249997,21.066716915498183,21.066716915498183,21.203545572122277,21.203545572122277,21.34037422874637,21.34037422874637,21.477202885370463,21.54561721368251,21.54561721368251,21.54561721368251,21.682445870306605,21.682445870306605,21.75086019861865,22.161346168490933,22.161346168490933,22.161346168490933,22.298174825115026,22.36658915342707,22.43500348173912,22.43500348173912,22.43500348173912,22.43500348173912,22.503417810051168,22.503417810051168,22.571832138363213,22.64024646667526,22.64024646667526,22.777075123299355,22.845489451611403,22.913903779923448,22.982318108235496,23.05073243654754,23.119146764859586,23.187561093171634,23.324389749795728,23.324389749795728,23.392804078107773,23.392804078107773,23.46121840641982,23.598047063043914,23.666461391355963,23.803290047980056,24.62426198772462,24.761090644348712,24.96633362928485,25.23999094253304,25.513648255781227,25.513648255781227,25.787305569029414,25.92413422565351,26.33462019552579,26.53986318046193,26.608277508773977,26.813520493710115,27.087177806958305,27.566078105142633,28.044978403326958,28.2502213882631,29.208021984631756,29.34485064125585,29.413264969567898,29.481679297879943,29.55009362619199,30.918380192432927,31.465694818929304,32.14983810204977,33.17605302673047,34.95482556284369,35.98104048752439,37.34932705376533,39.74382854468697,40.90687212599177,40.90687212599177,40.90687212599177,40.90687212599177,40.90687212599177],\"yaxis\":\"y\",\"type\":\"scatter\"}],                        {\"template\":{\"data\":{\"barpolar\":[{\"marker\":{\"line\":{\"color\":\"rgb(234,234,242)\",\"width\":0.5},\"pattern\":{\"fillmode\":\"overlay\",\"size\":10,\"solidity\":0.2}},\"type\":\"barpolar\"}],\"bar\":[{\"error_x\":{\"color\":\"rgb(36,36,36)\"},\"error_y\":{\"color\":\"rgb(36,36,36)\"},\"marker\":{\"line\":{\"color\":\"rgb(234,234,242)\",\"width\":0.5},\"pattern\":{\"fillmode\":\"overlay\",\"size\":10,\"solidity\":0.2}},\"type\":\"bar\"}],\"carpet\":[{\"aaxis\":{\"endlinecolor\":\"rgb(36,36,36)\",\"gridcolor\":\"white\",\"linecolor\":\"white\",\"minorgridcolor\":\"white\",\"startlinecolor\":\"rgb(36,36,36)\"},\"baxis\":{\"endlinecolor\":\"rgb(36,36,36)\",\"gridcolor\":\"white\",\"linecolor\":\"white\",\"minorgridcolor\":\"white\",\"startlinecolor\":\"rgb(36,36,36)\"},\"type\":\"carpet\"}],\"choropleth\":[{\"colorbar\":{\"outlinewidth\":0,\"tickcolor\":\"rgb(36,36,36)\",\"ticklen\":8,\"ticks\":\"outside\",\"tickwidth\":2},\"type\":\"choropleth\"}],\"contourcarpet\":[{\"colorbar\":{\"outlinewidth\":0,\"tickcolor\":\"rgb(36,36,36)\",\"ticklen\":8,\"ticks\":\"outside\",\"tickwidth\":2},\"type\":\"contourcarpet\"}],\"contour\":[{\"colorbar\":{\"outlinewidth\":0,\"tickcolor\":\"rgb(36,36,36)\",\"ticklen\":8,\"ticks\":\"outside\",\"tickwidth\":2},\"colorscale\":[[0.0,\"rgb(2,4,25)\"],[0.06274509803921569,\"rgb(24,15,41)\"],[0.12549019607843137,\"rgb(47,23,57)\"],[0.18823529411764706,\"rgb(71,28,72)\"],[0.25098039215686274,\"rgb(97,30,82)\"],[0.3137254901960784,\"rgb(123,30,89)\"],[0.3764705882352941,\"rgb(150,27,91)\"],[0.4392156862745098,\"rgb(177,22,88)\"],[0.5019607843137255,\"rgb(203,26,79)\"],[0.5647058823529412,\"rgb(223,47,67)\"],[0.6274509803921569,\"rgb(236,76,61)\"],[0.6901960784313725,\"rgb(242,107,73)\"],[0.7529411764705882,\"rgb(244,135,95)\"],[0.8156862745098039,\"rgb(245,162,122)\"],[0.8784313725490196,\"rgb(246,188,153)\"],[0.9411764705882353,\"rgb(247,212,187)\"],[1.0,\"rgb(250,234,220)\"]],\"type\":\"contour\"}],\"heatmapgl\":[{\"colorbar\":{\"outlinewidth\":0,\"tickcolor\":\"rgb(36,36,36)\",\"ticklen\":8,\"ticks\":\"outside\",\"tickwidth\":2},\"colorscale\":[[0.0,\"rgb(2,4,25)\"],[0.06274509803921569,\"rgb(24,15,41)\"],[0.12549019607843137,\"rgb(47,23,57)\"],[0.18823529411764706,\"rgb(71,28,72)\"],[0.25098039215686274,\"rgb(97,30,82)\"],[0.3137254901960784,\"rgb(123,30,89)\"],[0.3764705882352941,\"rgb(150,27,91)\"],[0.4392156862745098,\"rgb(177,22,88)\"],[0.5019607843137255,\"rgb(203,26,79)\"],[0.5647058823529412,\"rgb(223,47,67)\"],[0.6274509803921569,\"rgb(236,76,61)\"],[0.6901960784313725,\"rgb(242,107,73)\"],[0.7529411764705882,\"rgb(244,135,95)\"],[0.8156862745098039,\"rgb(245,162,122)\"],[0.8784313725490196,\"rgb(246,188,153)\"],[0.9411764705882353,\"rgb(247,212,187)\"],[1.0,\"rgb(250,234,220)\"]],\"type\":\"heatmapgl\"}],\"heatmap\":[{\"colorbar\":{\"outlinewidth\":0,\"tickcolor\":\"rgb(36,36,36)\",\"ticklen\":8,\"ticks\":\"outside\",\"tickwidth\":2},\"colorscale\":[[0.0,\"rgb(2,4,25)\"],[0.06274509803921569,\"rgb(24,15,41)\"],[0.12549019607843137,\"rgb(47,23,57)\"],[0.18823529411764706,\"rgb(71,28,72)\"],[0.25098039215686274,\"rgb(97,30,82)\"],[0.3137254901960784,\"rgb(123,30,89)\"],[0.3764705882352941,\"rgb(150,27,91)\"],[0.4392156862745098,\"rgb(177,22,88)\"],[0.5019607843137255,\"rgb(203,26,79)\"],[0.5647058823529412,\"rgb(223,47,67)\"],[0.6274509803921569,\"rgb(236,76,61)\"],[0.6901960784313725,\"rgb(242,107,73)\"],[0.7529411764705882,\"rgb(244,135,95)\"],[0.8156862745098039,\"rgb(245,162,122)\"],[0.8784313725490196,\"rgb(246,188,153)\"],[0.9411764705882353,\"rgb(247,212,187)\"],[1.0,\"rgb(250,234,220)\"]],\"type\":\"heatmap\"}],\"histogram2dcontour\":[{\"colorbar\":{\"outlinewidth\":0,\"tickcolor\":\"rgb(36,36,36)\",\"ticklen\":8,\"ticks\":\"outside\",\"tickwidth\":2},\"colorscale\":[[0.0,\"rgb(2,4,25)\"],[0.06274509803921569,\"rgb(24,15,41)\"],[0.12549019607843137,\"rgb(47,23,57)\"],[0.18823529411764706,\"rgb(71,28,72)\"],[0.25098039215686274,\"rgb(97,30,82)\"],[0.3137254901960784,\"rgb(123,30,89)\"],[0.3764705882352941,\"rgb(150,27,91)\"],[0.4392156862745098,\"rgb(177,22,88)\"],[0.5019607843137255,\"rgb(203,26,79)\"],[0.5647058823529412,\"rgb(223,47,67)\"],[0.6274509803921569,\"rgb(236,76,61)\"],[0.6901960784313725,\"rgb(242,107,73)\"],[0.7529411764705882,\"rgb(244,135,95)\"],[0.8156862745098039,\"rgb(245,162,122)\"],[0.8784313725490196,\"rgb(246,188,153)\"],[0.9411764705882353,\"rgb(247,212,187)\"],[1.0,\"rgb(250,234,220)\"]],\"type\":\"histogram2dcontour\"}],\"histogram2d\":[{\"colorbar\":{\"outlinewidth\":0,\"tickcolor\":\"rgb(36,36,36)\",\"ticklen\":8,\"ticks\":\"outside\",\"tickwidth\":2},\"colorscale\":[[0.0,\"rgb(2,4,25)\"],[0.06274509803921569,\"rgb(24,15,41)\"],[0.12549019607843137,\"rgb(47,23,57)\"],[0.18823529411764706,\"rgb(71,28,72)\"],[0.25098039215686274,\"rgb(97,30,82)\"],[0.3137254901960784,\"rgb(123,30,89)\"],[0.3764705882352941,\"rgb(150,27,91)\"],[0.4392156862745098,\"rgb(177,22,88)\"],[0.5019607843137255,\"rgb(203,26,79)\"],[0.5647058823529412,\"rgb(223,47,67)\"],[0.6274509803921569,\"rgb(236,76,61)\"],[0.6901960784313725,\"rgb(242,107,73)\"],[0.7529411764705882,\"rgb(244,135,95)\"],[0.8156862745098039,\"rgb(245,162,122)\"],[0.8784313725490196,\"rgb(246,188,153)\"],[0.9411764705882353,\"rgb(247,212,187)\"],[1.0,\"rgb(250,234,220)\"]],\"type\":\"histogram2d\"}],\"histogram\":[{\"marker\":{\"pattern\":{\"fillmode\":\"overlay\",\"size\":10,\"solidity\":0.2}},\"type\":\"histogram\"}],\"mesh3d\":[{\"colorbar\":{\"outlinewidth\":0,\"tickcolor\":\"rgb(36,36,36)\",\"ticklen\":8,\"ticks\":\"outside\",\"tickwidth\":2},\"type\":\"mesh3d\"}],\"parcoords\":[{\"line\":{\"colorbar\":{\"outlinewidth\":0,\"tickcolor\":\"rgb(36,36,36)\",\"ticklen\":8,\"ticks\":\"outside\",\"tickwidth\":2}},\"type\":\"parcoords\"}],\"pie\":[{\"automargin\":true,\"type\":\"pie\"}],\"scatter3d\":[{\"line\":{\"colorbar\":{\"outlinewidth\":0,\"tickcolor\":\"rgb(36,36,36)\",\"ticklen\":8,\"ticks\":\"outside\",\"tickwidth\":2}},\"marker\":{\"colorbar\":{\"outlinewidth\":0,\"tickcolor\":\"rgb(36,36,36)\",\"ticklen\":8,\"ticks\":\"outside\",\"tickwidth\":2}},\"type\":\"scatter3d\"}],\"scattercarpet\":[{\"marker\":{\"colorbar\":{\"outlinewidth\":0,\"tickcolor\":\"rgb(36,36,36)\",\"ticklen\":8,\"ticks\":\"outside\",\"tickwidth\":2}},\"type\":\"scattercarpet\"}],\"scattergeo\":[{\"marker\":{\"colorbar\":{\"outlinewidth\":0,\"tickcolor\":\"rgb(36,36,36)\",\"ticklen\":8,\"ticks\":\"outside\",\"tickwidth\":2}},\"type\":\"scattergeo\"}],\"scattergl\":[{\"marker\":{\"colorbar\":{\"outlinewidth\":0,\"tickcolor\":\"rgb(36,36,36)\",\"ticklen\":8,\"ticks\":\"outside\",\"tickwidth\":2}},\"type\":\"scattergl\"}],\"scattermapbox\":[{\"marker\":{\"colorbar\":{\"outlinewidth\":0,\"tickcolor\":\"rgb(36,36,36)\",\"ticklen\":8,\"ticks\":\"outside\",\"tickwidth\":2}},\"type\":\"scattermapbox\"}],\"scatterpolargl\":[{\"marker\":{\"colorbar\":{\"outlinewidth\":0,\"tickcolor\":\"rgb(36,36,36)\",\"ticklen\":8,\"ticks\":\"outside\",\"tickwidth\":2}},\"type\":\"scatterpolargl\"}],\"scatterpolar\":[{\"marker\":{\"colorbar\":{\"outlinewidth\":0,\"tickcolor\":\"rgb(36,36,36)\",\"ticklen\":8,\"ticks\":\"outside\",\"tickwidth\":2}},\"type\":\"scatterpolar\"}],\"scatter\":[{\"fillpattern\":{\"fillmode\":\"overlay\",\"size\":10,\"solidity\":0.2},\"type\":\"scatter\"}],\"scatterternary\":[{\"marker\":{\"colorbar\":{\"outlinewidth\":0,\"tickcolor\":\"rgb(36,36,36)\",\"ticklen\":8,\"ticks\":\"outside\",\"tickwidth\":2}},\"type\":\"scatterternary\"}],\"surface\":[{\"colorbar\":{\"outlinewidth\":0,\"tickcolor\":\"rgb(36,36,36)\",\"ticklen\":8,\"ticks\":\"outside\",\"tickwidth\":2},\"colorscale\":[[0.0,\"rgb(2,4,25)\"],[0.06274509803921569,\"rgb(24,15,41)\"],[0.12549019607843137,\"rgb(47,23,57)\"],[0.18823529411764706,\"rgb(71,28,72)\"],[0.25098039215686274,\"rgb(97,30,82)\"],[0.3137254901960784,\"rgb(123,30,89)\"],[0.3764705882352941,\"rgb(150,27,91)\"],[0.4392156862745098,\"rgb(177,22,88)\"],[0.5019607843137255,\"rgb(203,26,79)\"],[0.5647058823529412,\"rgb(223,47,67)\"],[0.6274509803921569,\"rgb(236,76,61)\"],[0.6901960784313725,\"rgb(242,107,73)\"],[0.7529411764705882,\"rgb(244,135,95)\"],[0.8156862745098039,\"rgb(245,162,122)\"],[0.8784313725490196,\"rgb(246,188,153)\"],[0.9411764705882353,\"rgb(247,212,187)\"],[1.0,\"rgb(250,234,220)\"]],\"type\":\"surface\"}],\"table\":[{\"cells\":{\"fill\":{\"color\":\"rgb(231,231,240)\"},\"line\":{\"color\":\"white\"}},\"header\":{\"fill\":{\"color\":\"rgb(183,183,191)\"},\"line\":{\"color\":\"white\"}},\"type\":\"table\"}]},\"layout\":{\"annotationdefaults\":{\"arrowcolor\":\"rgb(67,103,167)\"},\"autotypenumbers\":\"strict\",\"coloraxis\":{\"colorbar\":{\"outlinewidth\":0,\"tickcolor\":\"rgb(36,36,36)\",\"ticklen\":8,\"ticks\":\"outside\",\"tickwidth\":2}},\"colorscale\":{\"sequential\":[[0.0,\"rgb(2,4,25)\"],[0.06274509803921569,\"rgb(24,15,41)\"],[0.12549019607843137,\"rgb(47,23,57)\"],[0.18823529411764706,\"rgb(71,28,72)\"],[0.25098039215686274,\"rgb(97,30,82)\"],[0.3137254901960784,\"rgb(123,30,89)\"],[0.3764705882352941,\"rgb(150,27,91)\"],[0.4392156862745098,\"rgb(177,22,88)\"],[0.5019607843137255,\"rgb(203,26,79)\"],[0.5647058823529412,\"rgb(223,47,67)\"],[0.6274509803921569,\"rgb(236,76,61)\"],[0.6901960784313725,\"rgb(242,107,73)\"],[0.7529411764705882,\"rgb(244,135,95)\"],[0.8156862745098039,\"rgb(245,162,122)\"],[0.8784313725490196,\"rgb(246,188,153)\"],[0.9411764705882353,\"rgb(247,212,187)\"],[1.0,\"rgb(250,234,220)\"]],\"sequentialminus\":[[0.0,\"rgb(2,4,25)\"],[0.06274509803921569,\"rgb(24,15,41)\"],[0.12549019607843137,\"rgb(47,23,57)\"],[0.18823529411764706,\"rgb(71,28,72)\"],[0.25098039215686274,\"rgb(97,30,82)\"],[0.3137254901960784,\"rgb(123,30,89)\"],[0.3764705882352941,\"rgb(150,27,91)\"],[0.4392156862745098,\"rgb(177,22,88)\"],[0.5019607843137255,\"rgb(203,26,79)\"],[0.5647058823529412,\"rgb(223,47,67)\"],[0.6274509803921569,\"rgb(236,76,61)\"],[0.6901960784313725,\"rgb(242,107,73)\"],[0.7529411764705882,\"rgb(244,135,95)\"],[0.8156862745098039,\"rgb(245,162,122)\"],[0.8784313725490196,\"rgb(246,188,153)\"],[0.9411764705882353,\"rgb(247,212,187)\"],[1.0,\"rgb(250,234,220)\"]]},\"colorway\":[\"rgb(76,114,176)\",\"rgb(221,132,82)\",\"rgb(85,168,104)\",\"rgb(196,78,82)\",\"rgb(129,114,179)\",\"rgb(147,120,96)\",\"rgb(218,139,195)\",\"rgb(140,140,140)\",\"rgb(204,185,116)\",\"rgb(100,181,205)\"],\"font\":{\"color\":\"rgb(36,36,36)\"},\"geo\":{\"bgcolor\":\"white\",\"lakecolor\":\"white\",\"landcolor\":\"rgb(234,234,242)\",\"showlakes\":true,\"showland\":true,\"subunitcolor\":\"white\"},\"hoverlabel\":{\"align\":\"left\"},\"hovermode\":\"closest\",\"paper_bgcolor\":\"white\",\"plot_bgcolor\":\"rgb(234,234,242)\",\"polar\":{\"angularaxis\":{\"gridcolor\":\"white\",\"linecolor\":\"white\",\"showgrid\":true,\"ticks\":\"\"},\"bgcolor\":\"rgb(234,234,242)\",\"radialaxis\":{\"gridcolor\":\"white\",\"linecolor\":\"white\",\"showgrid\":true,\"ticks\":\"\"}},\"scene\":{\"xaxis\":{\"backgroundcolor\":\"rgb(234,234,242)\",\"gridcolor\":\"white\",\"gridwidth\":2,\"linecolor\":\"white\",\"showbackground\":true,\"showgrid\":true,\"ticks\":\"\",\"zerolinecolor\":\"white\"},\"yaxis\":{\"backgroundcolor\":\"rgb(234,234,242)\",\"gridcolor\":\"white\",\"gridwidth\":2,\"linecolor\":\"white\",\"showbackground\":true,\"showgrid\":true,\"ticks\":\"\",\"zerolinecolor\":\"white\"},\"zaxis\":{\"backgroundcolor\":\"rgb(234,234,242)\",\"gridcolor\":\"white\",\"gridwidth\":2,\"linecolor\":\"white\",\"showbackground\":true,\"showgrid\":true,\"ticks\":\"\",\"zerolinecolor\":\"white\"}},\"shapedefaults\":{\"fillcolor\":\"rgb(67,103,167)\",\"line\":{\"width\":0},\"opacity\":0.5},\"ternary\":{\"aaxis\":{\"gridcolor\":\"white\",\"linecolor\":\"white\",\"showgrid\":true,\"ticks\":\"\"},\"baxis\":{\"gridcolor\":\"white\",\"linecolor\":\"white\",\"showgrid\":true,\"ticks\":\"\"},\"bgcolor\":\"rgb(234,234,242)\",\"caxis\":{\"gridcolor\":\"white\",\"linecolor\":\"white\",\"showgrid\":true,\"ticks\":\"\"}},\"xaxis\":{\"automargin\":true,\"gridcolor\":\"white\",\"linecolor\":\"white\",\"showgrid\":true,\"ticks\":\"\",\"title\":{\"standoff\":15},\"zerolinecolor\":\"white\"},\"yaxis\":{\"automargin\":true,\"gridcolor\":\"white\",\"linecolor\":\"white\",\"showgrid\":true,\"ticks\":\"\",\"title\":{\"standoff\":15},\"zerolinecolor\":\"white\"}}},\"xaxis\":{\"anchor\":\"y\",\"domain\":[0.0,1.0],\"title\":{\"text\":\"Actual\"}},\"yaxis\":{\"anchor\":\"x\",\"domain\":[0.0,1.0],\"title\":{\"text\":\"Predicted\"}},\"legend\":{\"tracegroupgap\":0},\"margin\":{\"t\":60},\"title\":{\"text\":\"\\u003cb\\u003eScatter Plot Between Actual and Predicted Values \\u003cbr\\u003e \\u003csub\\u003eSecond Model droping AGE and INDUS independent variables\\u003c\\u002fsub\\u003e\\u003c\\u002fb\\u003e\",\"x\":0.05,\"xanchor\":\"left\",\"y\":0.968},\"showlegend\":true,\"plot_bgcolor\":\"#F6F5F5\",\"paper_bgcolor\":\"#F6F5F5\",\"height\":650,\"width\":850},                        {\"responsive\": true}                    ).then(function(){\n",
       "                            \n",
       "var gd = document.getElementById('53c27f05-7edb-4a54-8afe-4c28d265b2ce');\n",
       "var x = new MutationObserver(function (mutations, observer) {{\n",
       "        var display = window.getComputedStyle(gd).display;\n",
       "        if (!display || display === 'none') {{\n",
       "            console.log([gd, 'removed!']);\n",
       "            Plotly.purge(gd);\n",
       "            observer.disconnect();\n",
       "        }}\n",
       "}});\n",
       "\n",
       "// Listen for the removal of the full notebook cells\n",
       "var notebookContainer = gd.closest('#notebook-container');\n",
       "if (notebookContainer) {{\n",
       "    x.observe(notebookContainer, {childList: true});\n",
       "}}\n",
       "\n",
       "// Listen for the clearing of the current output cell\n",
       "var outputEl = gd.closest('.output');\n",
       "if (outputEl) {{\n",
       "    x.observe(outputEl, {childList: true});\n",
       "}}\n",
       "\n",
       "                        })                };                });            </script>        </div>"
      ]
     },
     "metadata": {},
     "output_type": "display_data"
    }
   ],
   "source": [
    "plot_df = pd.DataFrame({'Actual': y_test, 'Predicted': y_pred}) # Creating Dataframe containing actual and predicted values\n",
    "\n",
    "fig = px.scatter(plot_df, x='Actual', y='Predicted', opacity=0.825, template='seaborn') # Creating scatterplot\n",
    "fig.add_traces(px.scatter(plot_df, x='Actual', y='Predicted', trendline=\"ols\").data[1]) # Obtaining the fit line\n",
    "\n",
    "fig.update_traces(marker={'size': 8})\n",
    "\n",
    "fig.update_layout(title={'text': f'<b>Scatter Plot Between Actual and Predicted Values <br> <sub>Second Model droping AGE and INDUS independent variables</sub></b>',\n",
    "                         'x': 0.05, 'xanchor': 'left', 'y': 0.968},\n",
    "                  showlegend=True,\n",
    "                  plot_bgcolor='#F6F5F5',\n",
    "                  paper_bgcolor='#F6F5F5',\n",
    "                  height=650, width=850)"
   ]
  },
  {
   "cell_type": "markdown",
   "metadata": {},
   "source": [
    "<div class=\"alert alert-success\">\n",
    "PLAYTIME: Build a model with the most reliable independent variables. Compare the values of RMSE, R-squared and F-stat. It is a best model for predicting values of the target variable?\n",
    "</div>"
   ]
  },
  {
   "cell_type": "markdown",
   "metadata": {},
   "source": [
    "#  EXTRA track: Interaction term"
   ]
  },
  {
   "cell_type": "code",
   "execution_count": 37,
   "metadata": {},
   "outputs": [
    {
     "name": "stdout",
     "output_type": "stream",
     "text": [
      "                            OLS Regression Results                            \n",
      "==============================================================================\n",
      "Dep. Variable:                   MEDV   R-squared:                       0.560\n",
      "Model:                            OLS   Adj. R-squared:                  0.556\n",
      "Method:                 Least Squares   F-statistic:                     148.2\n",
      "Date:                Sun, 15 Oct 2023   Prob (F-statistic):           5.41e-62\n",
      "Time:                        22:22:12   Log-Likelihood:                -1143.0\n",
      "No. Observations:                 354   AIC:                             2294.\n",
      "Df Residuals:                     350   BIC:                             2310.\n",
      "Df Model:                           3                                         \n",
      "Covariance Type:            nonrobust                                         \n",
      "==============================================================================\n",
      "                 coef    std err          t      P>|t|      [0.025      0.975]\n",
      "------------------------------------------------------------------------------\n",
      "Intercept     35.1156      1.709     20.543      0.000      31.754      38.477\n",
      "LSTAT         -1.2419      0.198     -6.275      0.000      -1.631      -0.853\n",
      "AGE            0.0119      0.023      0.509      0.611      -0.034       0.058\n",
      "LSTAT:AGE      0.0023      0.002      1.052      0.294      -0.002       0.007\n",
      "==============================================================================\n",
      "Omnibus:                       92.134   Durbin-Watson:                   1.941\n",
      "Prob(Omnibus):                  0.000   Jarque-Bera (JB):              176.503\n",
      "Skew:                           1.410   Prob(JB):                     4.71e-39\n",
      "Kurtosis:                       5.003   Cond. No.                     6.62e+03\n",
      "==============================================================================\n",
      "\n",
      "Notes:\n",
      "[1] Standard Errors assume that the covariance matrix of the errors is correctly specified.\n",
      "[2] The condition number is large, 6.62e+03. This might indicate that there are\n",
      "strong multicollinearity or other numerical problems.\n"
     ]
    }
   ],
   "source": [
    "est = smf.ols('MEDV ~ LSTAT*AGE',data = data).fit()\n",
    "print(est.summary())"
   ]
  },
  {
   "cell_type": "code",
   "execution_count": 38,
   "metadata": {},
   "outputs": [
    {
     "name": "stdout",
     "output_type": "stream",
     "text": [
      "                            OLS Regression Results                            \n",
      "==============================================================================\n",
      "Dep. Variable:                   MEDV   R-squared:                       0.658\n",
      "Model:                            OLS   Adj. R-squared:                  0.656\n",
      "Method:                 Least Squares   F-statistic:                     337.5\n",
      "Date:                Sun, 15 Oct 2023   Prob (F-statistic):           1.78e-82\n",
      "Time:                        22:22:12   Log-Likelihood:                -1098.3\n",
      "No. Observations:                 354   AIC:                             2203.\n",
      "Df Residuals:                     351   BIC:                             2214.\n",
      "Df Model:                           2                                         \n",
      "Covariance Type:            nonrobust                                         \n",
      "==============================================================================\n",
      "                 coef    std err          t      P>|t|      [0.025      0.975]\n",
      "------------------------------------------------------------------------------\n",
      "Intercept     43.3195      1.006     43.073      0.000      41.342      45.298\n",
      "LSTAT         -2.4237      0.146    -16.627      0.000      -2.710      -2.137\n",
      "LSTAT_2        0.0468      0.004     10.398      0.000       0.038       0.056\n",
      "==============================================================================\n",
      "Omnibus:                       54.976   Durbin-Watson:                   1.976\n",
      "Prob(Omnibus):                  0.000   Jarque-Bera (JB):               84.187\n",
      "Skew:                           0.961   Prob(JB):                     5.24e-19\n",
      "Kurtosis:                       4.419   Cond. No.                     1.09e+03\n",
      "==============================================================================\n",
      "\n",
      "Notes:\n",
      "[1] Standard Errors assume that the covariance matrix of the errors is correctly specified.\n",
      "[2] The condition number is large, 1.09e+03. This might indicate that there are\n",
      "strong multicollinearity or other numerical problems.\n"
     ]
    }
   ],
   "source": [
    "#adding power term\n",
    "tmp = data.copy()\n",
    "tmp['LSTAT_2'] = tmp['LSTAT']**2\n",
    "est = smf.ols('MEDV ~ LSTAT + LSTAT_2',data = tmp).fit()\n",
    "print(est.summary())"
   ]
  },
  {
   "cell_type": "code",
   "execution_count": 39,
   "metadata": {},
   "outputs": [
    {
     "name": "stdout",
     "output_type": "stream",
     "text": [
      "                            OLS Regression Results                            \n",
      "==============================================================================\n",
      "Dep. Variable:                   MEDV   R-squared:                       0.728\n",
      "Model:                            OLS   Adj. R-squared:                  0.726\n",
      "Method:                 Least Squares   F-statistic:                     312.3\n",
      "Date:                Sun, 15 Oct 2023   Prob (F-statistic):           1.42e-98\n",
      "Time:                        22:22:12   Log-Likelihood:                -1057.7\n",
      "No. Observations:                 354   AIC:                             2123.\n",
      "Df Residuals:                     350   BIC:                             2139.\n",
      "Df Model:                           3                                         \n",
      "Covariance Type:            nonrobust                                         \n",
      "==============================================================================\n",
      "                 coef    std err          t      P>|t|      [0.025      0.975]\n",
      "------------------------------------------------------------------------------\n",
      "Intercept     10.2572      3.594      2.854      0.005       3.189      17.326\n",
      "LSTAT         -1.9503      0.139    -13.994      0.000      -2.224      -1.676\n",
      "LSTAT_2        0.0405      0.004      9.959      0.000       0.033       0.049\n",
      "RM             4.5101      0.475      9.501      0.000       3.576       5.444\n",
      "==============================================================================\n",
      "Omnibus:                       46.260   Durbin-Watson:                   1.975\n",
      "Prob(Omnibus):                  0.000   Jarque-Bera (JB):               93.606\n",
      "Skew:                           0.709   Prob(JB):                     4.72e-21\n",
      "Kurtosis:                       5.082   Cond. No.                     4.34e+03\n",
      "==============================================================================\n",
      "\n",
      "Notes:\n",
      "[1] Standard Errors assume that the covariance matrix of the errors is correctly specified.\n",
      "[2] The condition number is large, 4.34e+03. This might indicate that there are\n",
      "strong multicollinearity or other numerical problems.\n"
     ]
    }
   ],
   "source": [
    "#adding power term\n",
    "tmp = data.copy()\n",
    "tmp['LSTAT_2'] = tmp['LSTAT']**2\n",
    "est = smf.ols('MEDV ~  LSTAT + LSTAT_2 + RM',data = tmp).fit()\n",
    "print(est.summary())"
   ]
  },
  {
   "cell_type": "markdown",
   "metadata": {},
   "source": [
    "# Loading the diabetes and playing with it"
   ]
  },
  {
   "cell_type": "code",
   "execution_count": 40,
   "metadata": {},
   "outputs": [],
   "source": [
    "# Loading dataset\n",
    "X, y = load_diabetes(return_X_y=True)"
   ]
  },
  {
   "cell_type": "code",
   "execution_count": 41,
   "metadata": {},
   "outputs": [
    {
     "data": {
      "text/html": [
       "<div>\n",
       "<style scoped>\n",
       "    .dataframe tbody tr th:only-of-type {\n",
       "        vertical-align: middle;\n",
       "    }\n",
       "\n",
       "    .dataframe tbody tr th {\n",
       "        vertical-align: top;\n",
       "    }\n",
       "\n",
       "    .dataframe thead th {\n",
       "        text-align: right;\n",
       "    }\n",
       "</style>\n",
       "<table border=\"1\" class=\"dataframe\">\n",
       "  <thead>\n",
       "    <tr style=\"text-align: right;\">\n",
       "      <th></th>\n",
       "      <th>Feature_1</th>\n",
       "      <th>Feature_2</th>\n",
       "      <th>Feature_3</th>\n",
       "      <th>Feature_4</th>\n",
       "      <th>Feature_5</th>\n",
       "      <th>Feature_6</th>\n",
       "      <th>Feature_7</th>\n",
       "      <th>Feature_8</th>\n",
       "      <th>Feature_9</th>\n",
       "      <th>Feature_10</th>\n",
       "    </tr>\n",
       "  </thead>\n",
       "  <tbody>\n",
       "    <tr>\n",
       "      <th>0</th>\n",
       "      <td>0.038076</td>\n",
       "      <td>0.050680</td>\n",
       "      <td>0.061696</td>\n",
       "      <td>0.021872</td>\n",
       "      <td>-0.044223</td>\n",
       "      <td>-0.034821</td>\n",
       "      <td>-0.043401</td>\n",
       "      <td>-0.002592</td>\n",
       "      <td>0.019907</td>\n",
       "      <td>-0.017646</td>\n",
       "    </tr>\n",
       "    <tr>\n",
       "      <th>1</th>\n",
       "      <td>-0.001882</td>\n",
       "      <td>-0.044642</td>\n",
       "      <td>-0.051474</td>\n",
       "      <td>-0.026328</td>\n",
       "      <td>-0.008449</td>\n",
       "      <td>-0.019163</td>\n",
       "      <td>0.074412</td>\n",
       "      <td>-0.039493</td>\n",
       "      <td>-0.068332</td>\n",
       "      <td>-0.092204</td>\n",
       "    </tr>\n",
       "    <tr>\n",
       "      <th>2</th>\n",
       "      <td>0.085299</td>\n",
       "      <td>0.050680</td>\n",
       "      <td>0.044451</td>\n",
       "      <td>-0.005670</td>\n",
       "      <td>-0.045599</td>\n",
       "      <td>-0.034194</td>\n",
       "      <td>-0.032356</td>\n",
       "      <td>-0.002592</td>\n",
       "      <td>0.002861</td>\n",
       "      <td>-0.025930</td>\n",
       "    </tr>\n",
       "    <tr>\n",
       "      <th>3</th>\n",
       "      <td>-0.089063</td>\n",
       "      <td>-0.044642</td>\n",
       "      <td>-0.011595</td>\n",
       "      <td>-0.036656</td>\n",
       "      <td>0.012191</td>\n",
       "      <td>0.024991</td>\n",
       "      <td>-0.036038</td>\n",
       "      <td>0.034309</td>\n",
       "      <td>0.022688</td>\n",
       "      <td>-0.009362</td>\n",
       "    </tr>\n",
       "    <tr>\n",
       "      <th>4</th>\n",
       "      <td>0.005383</td>\n",
       "      <td>-0.044642</td>\n",
       "      <td>-0.036385</td>\n",
       "      <td>0.021872</td>\n",
       "      <td>0.003935</td>\n",
       "      <td>0.015596</td>\n",
       "      <td>0.008142</td>\n",
       "      <td>-0.002592</td>\n",
       "      <td>-0.031988</td>\n",
       "      <td>-0.046641</td>\n",
       "    </tr>\n",
       "    <tr>\n",
       "      <th>...</th>\n",
       "      <td>...</td>\n",
       "      <td>...</td>\n",
       "      <td>...</td>\n",
       "      <td>...</td>\n",
       "      <td>...</td>\n",
       "      <td>...</td>\n",
       "      <td>...</td>\n",
       "      <td>...</td>\n",
       "      <td>...</td>\n",
       "      <td>...</td>\n",
       "    </tr>\n",
       "    <tr>\n",
       "      <th>437</th>\n",
       "      <td>0.041708</td>\n",
       "      <td>0.050680</td>\n",
       "      <td>0.019662</td>\n",
       "      <td>0.059744</td>\n",
       "      <td>-0.005697</td>\n",
       "      <td>-0.002566</td>\n",
       "      <td>-0.028674</td>\n",
       "      <td>-0.002592</td>\n",
       "      <td>0.031193</td>\n",
       "      <td>0.007207</td>\n",
       "    </tr>\n",
       "    <tr>\n",
       "      <th>438</th>\n",
       "      <td>-0.005515</td>\n",
       "      <td>0.050680</td>\n",
       "      <td>-0.015906</td>\n",
       "      <td>-0.067642</td>\n",
       "      <td>0.049341</td>\n",
       "      <td>0.079165</td>\n",
       "      <td>-0.028674</td>\n",
       "      <td>0.034309</td>\n",
       "      <td>-0.018114</td>\n",
       "      <td>0.044485</td>\n",
       "    </tr>\n",
       "    <tr>\n",
       "      <th>439</th>\n",
       "      <td>0.041708</td>\n",
       "      <td>0.050680</td>\n",
       "      <td>-0.015906</td>\n",
       "      <td>0.017293</td>\n",
       "      <td>-0.037344</td>\n",
       "      <td>-0.013840</td>\n",
       "      <td>-0.024993</td>\n",
       "      <td>-0.011080</td>\n",
       "      <td>-0.046883</td>\n",
       "      <td>0.015491</td>\n",
       "    </tr>\n",
       "    <tr>\n",
       "      <th>440</th>\n",
       "      <td>-0.045472</td>\n",
       "      <td>-0.044642</td>\n",
       "      <td>0.039062</td>\n",
       "      <td>0.001215</td>\n",
       "      <td>0.016318</td>\n",
       "      <td>0.015283</td>\n",
       "      <td>-0.028674</td>\n",
       "      <td>0.026560</td>\n",
       "      <td>0.044529</td>\n",
       "      <td>-0.025930</td>\n",
       "    </tr>\n",
       "    <tr>\n",
       "      <th>441</th>\n",
       "      <td>-0.045472</td>\n",
       "      <td>-0.044642</td>\n",
       "      <td>-0.073030</td>\n",
       "      <td>-0.081413</td>\n",
       "      <td>0.083740</td>\n",
       "      <td>0.027809</td>\n",
       "      <td>0.173816</td>\n",
       "      <td>-0.039493</td>\n",
       "      <td>-0.004222</td>\n",
       "      <td>0.003064</td>\n",
       "    </tr>\n",
       "  </tbody>\n",
       "</table>\n",
       "<p>442 rows × 10 columns</p>\n",
       "</div>"
      ],
      "text/plain": [
       "     Feature_1  Feature_2  Feature_3  Feature_4  Feature_5  Feature_6  \\\n",
       "0     0.038076   0.050680   0.061696   0.021872  -0.044223  -0.034821   \n",
       "1    -0.001882  -0.044642  -0.051474  -0.026328  -0.008449  -0.019163   \n",
       "2     0.085299   0.050680   0.044451  -0.005670  -0.045599  -0.034194   \n",
       "3    -0.089063  -0.044642  -0.011595  -0.036656   0.012191   0.024991   \n",
       "4     0.005383  -0.044642  -0.036385   0.021872   0.003935   0.015596   \n",
       "..         ...        ...        ...        ...        ...        ...   \n",
       "437   0.041708   0.050680   0.019662   0.059744  -0.005697  -0.002566   \n",
       "438  -0.005515   0.050680  -0.015906  -0.067642   0.049341   0.079165   \n",
       "439   0.041708   0.050680  -0.015906   0.017293  -0.037344  -0.013840   \n",
       "440  -0.045472  -0.044642   0.039062   0.001215   0.016318   0.015283   \n",
       "441  -0.045472  -0.044642  -0.073030  -0.081413   0.083740   0.027809   \n",
       "\n",
       "     Feature_7  Feature_8  Feature_9  Feature_10  \n",
       "0    -0.043401  -0.002592   0.019907   -0.017646  \n",
       "1     0.074412  -0.039493  -0.068332   -0.092204  \n",
       "2    -0.032356  -0.002592   0.002861   -0.025930  \n",
       "3    -0.036038   0.034309   0.022688   -0.009362  \n",
       "4     0.008142  -0.002592  -0.031988   -0.046641  \n",
       "..         ...        ...        ...         ...  \n",
       "437  -0.028674  -0.002592   0.031193    0.007207  \n",
       "438  -0.028674   0.034309  -0.018114    0.044485  \n",
       "439  -0.024993  -0.011080  -0.046883    0.015491  \n",
       "440  -0.028674   0.026560   0.044529   -0.025930  \n",
       "441   0.173816  -0.039493  -0.004222    0.003064  \n",
       "\n",
       "[442 rows x 10 columns]"
      ]
     },
     "execution_count": 41,
     "metadata": {},
     "output_type": "execute_result"
    }
   ],
   "source": [
    "# Creating a DataFrame for the Independent variables\n",
    "X_df = pd.DataFrame(X, columns = [f'Feature_{i+1}' for i in range(X.shape[1])])\n",
    "X_df"
   ]
  },
  {
   "cell_type": "code",
   "execution_count": 116,
   "metadata": {},
   "outputs": [
    {
     "data": {
      "text/html": [
       "<div>\n",
       "<style scoped>\n",
       "    .dataframe tbody tr th:only-of-type {\n",
       "        vertical-align: middle;\n",
       "    }\n",
       "\n",
       "    .dataframe tbody tr th {\n",
       "        vertical-align: top;\n",
       "    }\n",
       "\n",
       "    .dataframe thead th {\n",
       "        text-align: right;\n",
       "    }\n",
       "</style>\n",
       "<table border=\"1\" class=\"dataframe\">\n",
       "  <thead>\n",
       "    <tr style=\"text-align: right;\">\n",
       "      <th></th>\n",
       "      <th>Target</th>\n",
       "    </tr>\n",
       "  </thead>\n",
       "  <tbody>\n",
       "    <tr>\n",
       "      <th>0</th>\n",
       "      <td>151.0</td>\n",
       "    </tr>\n",
       "    <tr>\n",
       "      <th>1</th>\n",
       "      <td>75.0</td>\n",
       "    </tr>\n",
       "    <tr>\n",
       "      <th>2</th>\n",
       "      <td>141.0</td>\n",
       "    </tr>\n",
       "    <tr>\n",
       "      <th>3</th>\n",
       "      <td>206.0</td>\n",
       "    </tr>\n",
       "    <tr>\n",
       "      <th>4</th>\n",
       "      <td>135.0</td>\n",
       "    </tr>\n",
       "    <tr>\n",
       "      <th>...</th>\n",
       "      <td>...</td>\n",
       "    </tr>\n",
       "    <tr>\n",
       "      <th>437</th>\n",
       "      <td>178.0</td>\n",
       "    </tr>\n",
       "    <tr>\n",
       "      <th>438</th>\n",
       "      <td>104.0</td>\n",
       "    </tr>\n",
       "    <tr>\n",
       "      <th>439</th>\n",
       "      <td>132.0</td>\n",
       "    </tr>\n",
       "    <tr>\n",
       "      <th>440</th>\n",
       "      <td>220.0</td>\n",
       "    </tr>\n",
       "    <tr>\n",
       "      <th>441</th>\n",
       "      <td>57.0</td>\n",
       "    </tr>\n",
       "  </tbody>\n",
       "</table>\n",
       "<p>442 rows × 1 columns</p>\n",
       "</div>"
      ],
      "text/plain": [
       "     Target\n",
       "0     151.0\n",
       "1      75.0\n",
       "2     141.0\n",
       "3     206.0\n",
       "4     135.0\n",
       "..      ...\n",
       "437   178.0\n",
       "438   104.0\n",
       "439   132.0\n",
       "440   220.0\n",
       "441    57.0\n",
       "\n",
       "[442 rows x 1 columns]"
      ]
     },
     "execution_count": 116,
     "metadata": {},
     "output_type": "execute_result"
    }
   ],
   "source": [
    "# Creating a DataFrame for the Dependent variable\n",
    "y_df = pd.DataFrame(y, columns = ['Target'])\n",
    "y_df"
   ]
  },
  {
   "cell_type": "markdown",
   "metadata": {},
   "source": [
    "<div class=\"alert alert-success\">\n",
    "PLAYTIME: Let's study the diabetes dataset. Look for correlations among independent variables and create a similar study for the target variable as the one from the Housing dataset\n",
    "</div>"
   ]
  },
  {
   "cell_type": "markdown",
   "metadata": {},
   "source": [
    "## 📚 Further Reading..."
   ]
  },
  {
   "cell_type": "markdown",
   "metadata": {},
   "source": [
    "During the analyses of the different models. I am leaving below a number of sources where you can read more about them.\n",
    "          \n",
    "- <b>F-Statistic:</b>\n",
    "    \n",
    "    - <a href = \"https://www.statisticshowto.com/probability-and-statistics/f-statistic-value-test/\">F Statistic / F Value: Simple Definition and Interpretation</a>\n",
    "    - <a href = \"https://www.statology.org/a-simple-guide-to-understanding-the-f-test-of-overall-significance-in-regression/\">A Simple Guide to Understanding the F-Test of Overall Significance in Regression</a>\n",
    "\n",
    "<br>\n",
    "\n",
    "- <b>Log-Likelihood:</b>\n",
    "    \n",
    "    - <a href = \"https://www.statisticshowto.com/log-likelihood-function/\">Log Likelihood Function</a>\n",
    "    - <a href = \"https://www.statology.org/interpret-log-likelihood/\">How to Interpret Log-Likelihood Values (With Examples)</a>\n",
    "\n",
    "<br>\n",
    "\n",
    "    \n",
    "- <b>Durbin Watson Test:</b>\n",
    "    \n",
    "    - <a href = \"https://www.investopedia.com/terms/d/durbin-watson-statistic.asp\">Durbin Watson Test: What It Is in Statistics, With Examples</a>\n",
    "    - <a href = \"https://medium.com/@analyttica/durbin-watson-test-fde429f79203\">Understanding Durbin-Watson Test</a>\n",
    "\n",
    "<br>\n",
    "\n",
    "- <b>Jarque-Bera Test:</b></p>\n",
    "    \n",
    "    - <a href = \"https://www.statisticshowto.com/jarque-bera-test/\">Jarque-Bera Test</a>\n",
    "    - <a href = \"https://en.wikipedia.org/wiki/Jarque%E2%80%93Bera_test\">Wikipedia: Jarque–Bera test</a>\n",
    "    \n",
    "<br>\n",
    "\n",
    "- <b>AIC (Akaike Information Criterion):</b></p>\n",
    "    \n",
    "    - <a href = \"https://www.statisticshowto.com/akaikes-information-criterion/\">Akaike’s Information Criterion: Definition, Formulas</a></p>\n",
    "    \n",
    "<br>\n",
    "    \n",
    "- <b>BIC (Bayesian Information Criterion):</b></p>\n",
    "    \n",
    "    - <a href = \"https://www.statisticshowto.com/bayesian-information-criterion/\">Bayesian Information Criterion (BIC) / Schwarz Criterion</a></p>\n",
    "    \n",
    "<br>\n",
    "    \n",
    "- <b>R-Squared:</b></p>\n",
    "    \n",
    "    - <a href = \"https://www.statisticshowto.com/probability-and-statistics/coefficient-of-determination-r-squared/\">Coefficient of Determination (R Squared): Definition, Calculation\n",
    "        </a></p>\n",
    "\n",
    "<br><br><br>\n",
    "\n",
    "<p style=\"font-size: 20px;\n",
    "          font-family: Monaco\">\n",
    "    <i>Stay curious!</i></p>"
   ]
  }
 ],
 "metadata": {
  "anaconda-cloud": {},
  "kernelspec": {
   "display_name": "Python 3",
   "language": "python",
   "name": "python3"
  },
  "language_info": {
   "codemirror_mode": {
    "name": "ipython",
    "version": 3
   },
   "file_extension": ".py",
   "mimetype": "text/x-python",
   "name": "python",
   "nbconvert_exporter": "python",
   "pygments_lexer": "ipython3",
   "version": "3.11.4"
  },
  "toc": {
   "nav_menu": {},
   "number_sections": true,
   "sideBar": true,
   "skip_h1_title": false,
   "title_cell": "Table of Contents",
   "title_sidebar": "Contents",
   "toc_cell": false,
   "toc_position": {},
   "toc_section_display": true,
   "toc_window_display": false
  }
 },
 "nbformat": 4,
 "nbformat_minor": 4
}
